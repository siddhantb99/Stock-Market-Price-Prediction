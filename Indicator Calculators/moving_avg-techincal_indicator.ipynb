{
  "nbformat": 4,
  "nbformat_minor": 0,
  "metadata": {
    "colab": {
      "name": "DM Project Part.ipynb",
      "provenance": []
    },
    "kernelspec": {
      "name": "python3",
      "display_name": "Python 3"
    }
  },
  "cells": [
    {
      "cell_type": "code",
      "metadata": {
        "id": "wO_3513e9Hur",
        "colab_type": "code",
        "outputId": "a0b20f06-b3ca-4f75-dc1e-e8557c2577c8",
        "colab": {
          "base_uri": "https://localhost:8080/",
          "height": 272
        }
      },
      "source": [
        " !pip install --upgrade ta\n",
        "\n"
      ],
      "execution_count": 1,
      "outputs": [
        {
          "output_type": "stream",
          "text": [
            "Collecting ta\n",
            "  Downloading https://files.pythonhosted.org/packages/3d/2a/2809eb8aab2c568893f2febdcce79b524498710d4c5c37a49ab544186a7b/ta-0.5.17.tar.gz\n",
            "Requirement already satisfied, skipping upgrade: numpy in /usr/local/lib/python3.6/dist-packages (from ta) (1.18.2)\n",
            "Requirement already satisfied, skipping upgrade: pandas in /usr/local/lib/python3.6/dist-packages (from ta) (1.0.3)\n",
            "Requirement already satisfied, skipping upgrade: python-dateutil>=2.6.1 in /usr/local/lib/python3.6/dist-packages (from pandas->ta) (2.8.1)\n",
            "Requirement already satisfied, skipping upgrade: pytz>=2017.2 in /usr/local/lib/python3.6/dist-packages (from pandas->ta) (2018.9)\n",
            "Requirement already satisfied, skipping upgrade: six>=1.5 in /usr/local/lib/python3.6/dist-packages (from python-dateutil>=2.6.1->pandas->ta) (1.12.0)\n",
            "Building wheels for collected packages: ta\n",
            "  Building wheel for ta (setup.py) ... \u001b[?25l\u001b[?25hdone\n",
            "  Created wheel for ta: filename=ta-0.5.17-cp36-none-any.whl size=23658 sha256=f2c8ef28fada9a515a83e3860465fdf7ce26e98d2efb830550e6a1cdf76cb870\n",
            "  Stored in directory: /root/.cache/pip/wheels/35/cf/3d/f2311e48805ddb99143597f0b38df4196fcbbfdf0c61eae3e8\n",
            "Successfully built ta\n",
            "Installing collected packages: ta\n",
            "Successfully installed ta-0.5.17\n"
          ],
          "name": "stdout"
        }
      ]
    },
    {
      "cell_type": "code",
      "metadata": {
        "id": "LuzAU-_09T5D",
        "colab_type": "code",
        "colab": {}
      },
      "source": [
        "import pandas as pd\n",
        "import ta\n",
        "\n",
        "# Load datas\n",
        "df = pd.read_csv('stock_data_with_wr.csv', sep=',')\n"
      ],
      "execution_count": 0,
      "outputs": []
    },
    {
      "cell_type": "code",
      "metadata": {
        "id": "PwJfHY-oiXMe",
        "colab_type": "code",
        "outputId": "7384a7f1-819f-4542-87f9-ee72d8c1bf2b",
        "colab": {
          "base_uri": "https://localhost:8080/",
          "height": 195
        }
      },
      "source": [
        "df.head()"
      ],
      "execution_count": 4,
      "outputs": [
        {
          "output_type": "execute_result",
          "data": {
            "text/html": [
              "<div>\n",
              "<style scoped>\n",
              "    .dataframe tbody tr th:only-of-type {\n",
              "        vertical-align: middle;\n",
              "    }\n",
              "\n",
              "    .dataframe tbody tr th {\n",
              "        vertical-align: top;\n",
              "    }\n",
              "\n",
              "    .dataframe thead th {\n",
              "        text-align: right;\n",
              "    }\n",
              "</style>\n",
              "<table border=\"1\" class=\"dataframe\">\n",
              "  <thead>\n",
              "    <tr style=\"text-align: right;\">\n",
              "      <th></th>\n",
              "      <th>Unnamed: 0</th>\n",
              "      <th>date</th>\n",
              "      <th>high</th>\n",
              "      <th>low</th>\n",
              "      <th>open</th>\n",
              "      <th>close</th>\n",
              "      <th>volume</th>\n",
              "      <th>adj_close</th>\n",
              "      <th>comp</th>\n",
              "      <th>wr</th>\n",
              "    </tr>\n",
              "  </thead>\n",
              "  <tbody>\n",
              "    <tr>\n",
              "      <th>0</th>\n",
              "      <td>0</td>\n",
              "      <td>01-07-2015</td>\n",
              "      <td>312.700012</td>\n",
              "      <td>306.500000</td>\n",
              "      <td>308.799988</td>\n",
              "      <td>311.299988</td>\n",
              "      <td>2854143</td>\n",
              "      <td>303.809296</td>\n",
              "      <td>Adani Ports &amp; SEZ</td>\n",
              "      <td>-22.580994</td>\n",
              "    </tr>\n",
              "    <tr>\n",
              "      <th>1</th>\n",
              "      <td>1</td>\n",
              "      <td>02-07-2015</td>\n",
              "      <td>319.000000</td>\n",
              "      <td>311.899994</td>\n",
              "      <td>312.450012</td>\n",
              "      <td>316.049988</td>\n",
              "      <td>8669541</td>\n",
              "      <td>308.445007</td>\n",
              "      <td>Adani Ports &amp; SEZ</td>\n",
              "      <td>-23.600098</td>\n",
              "    </tr>\n",
              "    <tr>\n",
              "      <th>2</th>\n",
              "      <td>2</td>\n",
              "      <td>03-07-2015</td>\n",
              "      <td>325.750000</td>\n",
              "      <td>319.000000</td>\n",
              "      <td>319.950012</td>\n",
              "      <td>320.799988</td>\n",
              "      <td>5189498</td>\n",
              "      <td>313.080688</td>\n",
              "      <td>Adani Ports &amp; SEZ</td>\n",
              "      <td>-25.714349</td>\n",
              "    </tr>\n",
              "    <tr>\n",
              "      <th>3</th>\n",
              "      <td>3</td>\n",
              "      <td>06-07-2015</td>\n",
              "      <td>321.100006</td>\n",
              "      <td>316.250000</td>\n",
              "      <td>316.950012</td>\n",
              "      <td>320.100006</td>\n",
              "      <td>2853145</td>\n",
              "      <td>312.397553</td>\n",
              "      <td>Adani Ports &amp; SEZ</td>\n",
              "      <td>-29.350618</td>\n",
              "    </tr>\n",
              "    <tr>\n",
              "      <th>4</th>\n",
              "      <td>4</td>\n",
              "      <td>07-07-2015</td>\n",
              "      <td>334.700012</td>\n",
              "      <td>321.600006</td>\n",
              "      <td>321.799988</td>\n",
              "      <td>333.049988</td>\n",
              "      <td>7877450</td>\n",
              "      <td>325.035919</td>\n",
              "      <td>Adani Ports &amp; SEZ</td>\n",
              "      <td>-5.851148</td>\n",
              "    </tr>\n",
              "  </tbody>\n",
              "</table>\n",
              "</div>"
            ],
            "text/plain": [
              "   Unnamed: 0        date        high  ...   adj_close               comp         wr\n",
              "0           0  01-07-2015  312.700012  ...  303.809296  Adani Ports & SEZ -22.580994\n",
              "1           1  02-07-2015  319.000000  ...  308.445007  Adani Ports & SEZ -23.600098\n",
              "2           2  03-07-2015  325.750000  ...  313.080688  Adani Ports & SEZ -25.714349\n",
              "3           3  06-07-2015  321.100006  ...  312.397553  Adani Ports & SEZ -29.350618\n",
              "4           4  07-07-2015  334.700012  ...  325.035919  Adani Ports & SEZ  -5.851148\n",
              "\n",
              "[5 rows x 10 columns]"
            ]
          },
          "metadata": {
            "tags": []
          },
          "execution_count": 4
        }
      ]
    },
    {
      "cell_type": "code",
      "metadata": {
        "id": "UKn_8ogA-csu",
        "colab_type": "code",
        "colab": {}
      },
      "source": [
        "# Initialize Bollinger Bands Indicator\n",
        "indicator_bb = ta.volatility.BollingerBands(close=df[\"close\"], n=15, ndev=2)\n",
        "\n",
        "# Add Bollinger Bands features\n",
        "df['moving_avg'] = indicator_bb.bollinger_mavg()\n"
      ],
      "execution_count": 0,
      "outputs": []
    },
    {
      "cell_type": "code",
      "metadata": {
        "id": "QnNG7LLU-xeX",
        "colab_type": "code",
        "colab": {}
      },
      "source": [
        "df.to_csv('stock_data_with_ma.csv')"
      ],
      "execution_count": 0,
      "outputs": []
    },
    {
      "cell_type": "code",
      "metadata": {
        "id": "j1Iux9YY-2MU",
        "colab_type": "code",
        "outputId": "f59cf3b8-4f69-4486-f917-668b63b2f137",
        "colab": {
          "base_uri": "https://localhost:8080/",
          "height": 218
        }
      },
      "source": [
        "print(df[\"moving_avg\"])"
      ],
      "execution_count": 7,
      "outputs": [
        {
          "output_type": "stream",
          "text": [
            "0        311.299988\n",
            "1        313.674988\n",
            "2        316.049988\n",
            "3        317.062492\n",
            "4        320.259991\n",
            "            ...    \n",
            "58695    141.136667\n",
            "58696    136.716668\n",
            "58697    133.923334\n",
            "58698    132.376666\n",
            "58699    133.493333\n",
            "Name: moving_avg, Length: 58700, dtype: float64\n"
          ],
          "name": "stdout"
        }
      ]
    },
    {
      "cell_type": "code",
      "metadata": {
        "id": "HWwdltpF_tVn",
        "colab_type": "code",
        "colab": {}
      },
      "source": [
        ""
      ],
      "execution_count": 0,
      "outputs": []
    }
  ]
}