{
  "nbformat": 4,
  "nbformat_minor": 0,
  "metadata": {
    "kernelspec": {
      "display_name": "Python 3",
      "language": "python",
      "name": "python3"
    },
    "language_info": {
      "codemirror_mode": {
        "name": "ipython",
        "version": 3
      },
      "file_extension": ".py",
      "mimetype": "text/x-python",
      "name": "python",
      "nbconvert_exporter": "python",
      "pygments_lexer": "ipython3",
      "version": "3.6.2"
    },
    "colab": {
      "name": "StockPricePrediction_v1c_xgboost.ipynb",
      "provenance": [],
      "toc_visible": true
    },
    "widgets": {
      "application/vnd.jupyter.widget-state+json": {
        "c8a5759f6b944e868c884b5ec6d11b88": {
          "model_module": "@jupyter-widgets/controls",
          "model_name": "HBoxModel",
          "state": {
            "_view_name": "HBoxView",
            "_dom_classes": [],
            "_model_name": "HBoxModel",
            "_view_module": "@jupyter-widgets/controls",
            "_model_module_version": "1.5.0",
            "_view_count": null,
            "_view_module_version": "1.5.0",
            "box_style": "",
            "layout": "IPY_MODEL_3358dcdb5e934eeea8a9639eec8eba3e",
            "_model_module": "@jupyter-widgets/controls",
            "children": [
              "IPY_MODEL_5bd0cb4375a043539903dfdf92aa40b9",
              "IPY_MODEL_a9d370b7e6b148068a1c8640bb9814c1"
            ]
          }
        },
        "3358dcdb5e934eeea8a9639eec8eba3e": {
          "model_module": "@jupyter-widgets/base",
          "model_name": "LayoutModel",
          "state": {
            "_view_name": "LayoutView",
            "grid_template_rows": null,
            "right": null,
            "justify_content": null,
            "_view_module": "@jupyter-widgets/base",
            "overflow": null,
            "_model_module_version": "1.2.0",
            "_view_count": null,
            "flex_flow": null,
            "width": null,
            "min_width": null,
            "border": null,
            "align_items": null,
            "bottom": null,
            "_model_module": "@jupyter-widgets/base",
            "top": null,
            "grid_column": null,
            "overflow_y": null,
            "overflow_x": null,
            "grid_auto_flow": null,
            "grid_area": null,
            "grid_template_columns": null,
            "flex": null,
            "_model_name": "LayoutModel",
            "justify_items": null,
            "grid_row": null,
            "max_height": null,
            "align_content": null,
            "visibility": null,
            "align_self": null,
            "height": null,
            "min_height": null,
            "padding": null,
            "grid_auto_rows": null,
            "grid_gap": null,
            "max_width": null,
            "order": null,
            "_view_module_version": "1.2.0",
            "grid_template_areas": null,
            "object_position": null,
            "object_fit": null,
            "grid_auto_columns": null,
            "margin": null,
            "display": null,
            "left": null
          }
        },
        "5bd0cb4375a043539903dfdf92aa40b9": {
          "model_module": "@jupyter-widgets/controls",
          "model_name": "IntProgressModel",
          "state": {
            "_view_name": "ProgressView",
            "style": "IPY_MODEL_21a9b869a4a645f699816359b96bfa74",
            "_dom_classes": [],
            "description": "100%",
            "_model_name": "IntProgressModel",
            "bar_style": "success",
            "max": 3,
            "_view_module": "@jupyter-widgets/controls",
            "_model_module_version": "1.5.0",
            "value": 3,
            "_view_count": null,
            "_view_module_version": "1.5.0",
            "orientation": "horizontal",
            "min": 0,
            "description_tooltip": null,
            "_model_module": "@jupyter-widgets/controls",
            "layout": "IPY_MODEL_9642677a1d8a4edfa483c71c146249e0"
          }
        },
        "a9d370b7e6b148068a1c8640bb9814c1": {
          "model_module": "@jupyter-widgets/controls",
          "model_name": "HTMLModel",
          "state": {
            "_view_name": "HTMLView",
            "style": "IPY_MODEL_808755ac83494bde848acdc95a767d99",
            "_dom_classes": [],
            "description": "",
            "_model_name": "HTMLModel",
            "placeholder": "​",
            "_view_module": "@jupyter-widgets/controls",
            "_model_module_version": "1.5.0",
            "value": " 3/3 [00:01&lt;00:00,  2.80it/s]",
            "_view_count": null,
            "_view_module_version": "1.5.0",
            "description_tooltip": null,
            "_model_module": "@jupyter-widgets/controls",
            "layout": "IPY_MODEL_295fc5d9c33a4a6bb935a933852a8614"
          }
        },
        "21a9b869a4a645f699816359b96bfa74": {
          "model_module": "@jupyter-widgets/controls",
          "model_name": "ProgressStyleModel",
          "state": {
            "_view_name": "StyleView",
            "_model_name": "ProgressStyleModel",
            "description_width": "initial",
            "_view_module": "@jupyter-widgets/base",
            "_model_module_version": "1.5.0",
            "_view_count": null,
            "_view_module_version": "1.2.0",
            "bar_color": null,
            "_model_module": "@jupyter-widgets/controls"
          }
        },
        "9642677a1d8a4edfa483c71c146249e0": {
          "model_module": "@jupyter-widgets/base",
          "model_name": "LayoutModel",
          "state": {
            "_view_name": "LayoutView",
            "grid_template_rows": null,
            "right": null,
            "justify_content": null,
            "_view_module": "@jupyter-widgets/base",
            "overflow": null,
            "_model_module_version": "1.2.0",
            "_view_count": null,
            "flex_flow": null,
            "width": null,
            "min_width": null,
            "border": null,
            "align_items": null,
            "bottom": null,
            "_model_module": "@jupyter-widgets/base",
            "top": null,
            "grid_column": null,
            "overflow_y": null,
            "overflow_x": null,
            "grid_auto_flow": null,
            "grid_area": null,
            "grid_template_columns": null,
            "flex": null,
            "_model_name": "LayoutModel",
            "justify_items": null,
            "grid_row": null,
            "max_height": null,
            "align_content": null,
            "visibility": null,
            "align_self": null,
            "height": null,
            "min_height": null,
            "padding": null,
            "grid_auto_rows": null,
            "grid_gap": null,
            "max_width": null,
            "order": null,
            "_view_module_version": "1.2.0",
            "grid_template_areas": null,
            "object_position": null,
            "object_fit": null,
            "grid_auto_columns": null,
            "margin": null,
            "display": null,
            "left": null
          }
        },
        "808755ac83494bde848acdc95a767d99": {
          "model_module": "@jupyter-widgets/controls",
          "model_name": "DescriptionStyleModel",
          "state": {
            "_view_name": "StyleView",
            "_model_name": "DescriptionStyleModel",
            "description_width": "",
            "_view_module": "@jupyter-widgets/base",
            "_model_module_version": "1.5.0",
            "_view_count": null,
            "_view_module_version": "1.2.0",
            "_model_module": "@jupyter-widgets/controls"
          }
        },
        "295fc5d9c33a4a6bb935a933852a8614": {
          "model_module": "@jupyter-widgets/base",
          "model_name": "LayoutModel",
          "state": {
            "_view_name": "LayoutView",
            "grid_template_rows": null,
            "right": null,
            "justify_content": null,
            "_view_module": "@jupyter-widgets/base",
            "overflow": null,
            "_model_module_version": "1.2.0",
            "_view_count": null,
            "flex_flow": null,
            "width": null,
            "min_width": null,
            "border": null,
            "align_items": null,
            "bottom": null,
            "_model_module": "@jupyter-widgets/base",
            "top": null,
            "grid_column": null,
            "overflow_y": null,
            "overflow_x": null,
            "grid_auto_flow": null,
            "grid_area": null,
            "grid_template_columns": null,
            "flex": null,
            "_model_name": "LayoutModel",
            "justify_items": null,
            "grid_row": null,
            "max_height": null,
            "align_content": null,
            "visibility": null,
            "align_self": null,
            "height": null,
            "min_height": null,
            "padding": null,
            "grid_auto_rows": null,
            "grid_gap": null,
            "max_width": null,
            "order": null,
            "_view_module_version": "1.2.0",
            "grid_template_areas": null,
            "object_position": null,
            "object_fit": null,
            "grid_auto_columns": null,
            "margin": null,
            "display": null,
            "left": null
          }
        },
        "75938ae4b1fc4ff7b1f3775e41a16191": {
          "model_module": "@jupyter-widgets/controls",
          "model_name": "HBoxModel",
          "state": {
            "_view_name": "HBoxView",
            "_dom_classes": [],
            "_model_name": "HBoxModel",
            "_view_module": "@jupyter-widgets/controls",
            "_model_module_version": "1.5.0",
            "_view_count": null,
            "_view_module_version": "1.5.0",
            "box_style": "",
            "layout": "IPY_MODEL_8ed64cefe42042fc806b0a1a1debd277",
            "_model_module": "@jupyter-widgets/controls",
            "children": [
              "IPY_MODEL_37c0e69662cb4dd3bd8b3fbd0433c039",
              "IPY_MODEL_c864b46061ce42aca5a3ad49696acb92"
            ]
          }
        },
        "8ed64cefe42042fc806b0a1a1debd277": {
          "model_module": "@jupyter-widgets/base",
          "model_name": "LayoutModel",
          "state": {
            "_view_name": "LayoutView",
            "grid_template_rows": null,
            "right": null,
            "justify_content": null,
            "_view_module": "@jupyter-widgets/base",
            "overflow": null,
            "_model_module_version": "1.2.0",
            "_view_count": null,
            "flex_flow": null,
            "width": null,
            "min_width": null,
            "border": null,
            "align_items": null,
            "bottom": null,
            "_model_module": "@jupyter-widgets/base",
            "top": null,
            "grid_column": null,
            "overflow_y": null,
            "overflow_x": null,
            "grid_auto_flow": null,
            "grid_area": null,
            "grid_template_columns": null,
            "flex": null,
            "_model_name": "LayoutModel",
            "justify_items": null,
            "grid_row": null,
            "max_height": null,
            "align_content": null,
            "visibility": null,
            "align_self": null,
            "height": null,
            "min_height": null,
            "padding": null,
            "grid_auto_rows": null,
            "grid_gap": null,
            "max_width": null,
            "order": null,
            "_view_module_version": "1.2.0",
            "grid_template_areas": null,
            "object_position": null,
            "object_fit": null,
            "grid_auto_columns": null,
            "margin": null,
            "display": null,
            "left": null
          }
        },
        "37c0e69662cb4dd3bd8b3fbd0433c039": {
          "model_module": "@jupyter-widgets/controls",
          "model_name": "IntProgressModel",
          "state": {
            "_view_name": "ProgressView",
            "style": "IPY_MODEL_d43909379bd344eeb264c3978664db8b",
            "_dom_classes": [],
            "description": "100%",
            "_model_name": "IntProgressModel",
            "bar_style": "success",
            "max": 4,
            "_view_module": "@jupyter-widgets/controls",
            "_model_module_version": "1.5.0",
            "value": 4,
            "_view_count": null,
            "_view_module_version": "1.5.0",
            "orientation": "horizontal",
            "min": 0,
            "description_tooltip": null,
            "_model_module": "@jupyter-widgets/controls",
            "layout": "IPY_MODEL_0ced13b3f3d8416c926739ee09500773"
          }
        },
        "c864b46061ce42aca5a3ad49696acb92": {
          "model_module": "@jupyter-widgets/controls",
          "model_name": "HTMLModel",
          "state": {
            "_view_name": "HTMLView",
            "style": "IPY_MODEL_0f0cd7fbf10d4136ba27abc37330cab2",
            "_dom_classes": [],
            "description": "",
            "_model_name": "HTMLModel",
            "placeholder": "​",
            "_view_module": "@jupyter-widgets/controls",
            "_model_module_version": "1.5.0",
            "value": " 4/4 [00:03&lt;00:00,  1.28it/s]",
            "_view_count": null,
            "_view_module_version": "1.5.0",
            "description_tooltip": null,
            "_model_module": "@jupyter-widgets/controls",
            "layout": "IPY_MODEL_531642e0b1264100a68e98d3f542f1d3"
          }
        },
        "d43909379bd344eeb264c3978664db8b": {
          "model_module": "@jupyter-widgets/controls",
          "model_name": "ProgressStyleModel",
          "state": {
            "_view_name": "StyleView",
            "_model_name": "ProgressStyleModel",
            "description_width": "initial",
            "_view_module": "@jupyter-widgets/base",
            "_model_module_version": "1.5.0",
            "_view_count": null,
            "_view_module_version": "1.2.0",
            "bar_color": null,
            "_model_module": "@jupyter-widgets/controls"
          }
        },
        "0ced13b3f3d8416c926739ee09500773": {
          "model_module": "@jupyter-widgets/base",
          "model_name": "LayoutModel",
          "state": {
            "_view_name": "LayoutView",
            "grid_template_rows": null,
            "right": null,
            "justify_content": null,
            "_view_module": "@jupyter-widgets/base",
            "overflow": null,
            "_model_module_version": "1.2.0",
            "_view_count": null,
            "flex_flow": null,
            "width": null,
            "min_width": null,
            "border": null,
            "align_items": null,
            "bottom": null,
            "_model_module": "@jupyter-widgets/base",
            "top": null,
            "grid_column": null,
            "overflow_y": null,
            "overflow_x": null,
            "grid_auto_flow": null,
            "grid_area": null,
            "grid_template_columns": null,
            "flex": null,
            "_model_name": "LayoutModel",
            "justify_items": null,
            "grid_row": null,
            "max_height": null,
            "align_content": null,
            "visibility": null,
            "align_self": null,
            "height": null,
            "min_height": null,
            "padding": null,
            "grid_auto_rows": null,
            "grid_gap": null,
            "max_width": null,
            "order": null,
            "_view_module_version": "1.2.0",
            "grid_template_areas": null,
            "object_position": null,
            "object_fit": null,
            "grid_auto_columns": null,
            "margin": null,
            "display": null,
            "left": null
          }
        },
        "0f0cd7fbf10d4136ba27abc37330cab2": {
          "model_module": "@jupyter-widgets/controls",
          "model_name": "DescriptionStyleModel",
          "state": {
            "_view_name": "StyleView",
            "_model_name": "DescriptionStyleModel",
            "description_width": "",
            "_view_module": "@jupyter-widgets/base",
            "_model_module_version": "1.5.0",
            "_view_count": null,
            "_view_module_version": "1.2.0",
            "_model_module": "@jupyter-widgets/controls"
          }
        },
        "531642e0b1264100a68e98d3f542f1d3": {
          "model_module": "@jupyter-widgets/base",
          "model_name": "LayoutModel",
          "state": {
            "_view_name": "LayoutView",
            "grid_template_rows": null,
            "right": null,
            "justify_content": null,
            "_view_module": "@jupyter-widgets/base",
            "overflow": null,
            "_model_module_version": "1.2.0",
            "_view_count": null,
            "flex_flow": null,
            "width": null,
            "min_width": null,
            "border": null,
            "align_items": null,
            "bottom": null,
            "_model_module": "@jupyter-widgets/base",
            "top": null,
            "grid_column": null,
            "overflow_y": null,
            "overflow_x": null,
            "grid_auto_flow": null,
            "grid_area": null,
            "grid_template_columns": null,
            "flex": null,
            "_model_name": "LayoutModel",
            "justify_items": null,
            "grid_row": null,
            "max_height": null,
            "align_content": null,
            "visibility": null,
            "align_self": null,
            "height": null,
            "min_height": null,
            "padding": null,
            "grid_auto_rows": null,
            "grid_gap": null,
            "max_width": null,
            "order": null,
            "_view_module_version": "1.2.0",
            "grid_template_areas": null,
            "object_position": null,
            "object_fit": null,
            "grid_auto_columns": null,
            "margin": null,
            "display": null,
            "left": null
          }
        },
        "be76b9d1d6cc463f82077c6f4c1b26ed": {
          "model_module": "@jupyter-widgets/controls",
          "model_name": "HBoxModel",
          "state": {
            "_view_name": "HBoxView",
            "_dom_classes": [],
            "_model_name": "HBoxModel",
            "_view_module": "@jupyter-widgets/controls",
            "_model_module_version": "1.5.0",
            "_view_count": null,
            "_view_module_version": "1.5.0",
            "box_style": "",
            "layout": "IPY_MODEL_2dfe23cbd8084e1f897843a9c4e25ca9",
            "_model_module": "@jupyter-widgets/controls",
            "children": [
              "IPY_MODEL_161f6513a92a43f59661782461914539",
              "IPY_MODEL_14ee5f46718a42ee990871b28483da0f"
            ]
          }
        },
        "2dfe23cbd8084e1f897843a9c4e25ca9": {
          "model_module": "@jupyter-widgets/base",
          "model_name": "LayoutModel",
          "state": {
            "_view_name": "LayoutView",
            "grid_template_rows": null,
            "right": null,
            "justify_content": null,
            "_view_module": "@jupyter-widgets/base",
            "overflow": null,
            "_model_module_version": "1.2.0",
            "_view_count": null,
            "flex_flow": null,
            "width": null,
            "min_width": null,
            "border": null,
            "align_items": null,
            "bottom": null,
            "_model_module": "@jupyter-widgets/base",
            "top": null,
            "grid_column": null,
            "overflow_y": null,
            "overflow_x": null,
            "grid_auto_flow": null,
            "grid_area": null,
            "grid_template_columns": null,
            "flex": null,
            "_model_name": "LayoutModel",
            "justify_items": null,
            "grid_row": null,
            "max_height": null,
            "align_content": null,
            "visibility": null,
            "align_self": null,
            "height": null,
            "min_height": null,
            "padding": null,
            "grid_auto_rows": null,
            "grid_gap": null,
            "max_width": null,
            "order": null,
            "_view_module_version": "1.2.0",
            "grid_template_areas": null,
            "object_position": null,
            "object_fit": null,
            "grid_auto_columns": null,
            "margin": null,
            "display": null,
            "left": null
          }
        },
        "161f6513a92a43f59661782461914539": {
          "model_module": "@jupyter-widgets/controls",
          "model_name": "IntProgressModel",
          "state": {
            "_view_name": "ProgressView",
            "style": "IPY_MODEL_b394cce409504db6890dd4a870e5c0b2",
            "_dom_classes": [],
            "description": "100%",
            "_model_name": "IntProgressModel",
            "bar_style": "success",
            "max": 4,
            "_view_module": "@jupyter-widgets/controls",
            "_model_module_version": "1.5.0",
            "value": 4,
            "_view_count": null,
            "_view_module_version": "1.5.0",
            "orientation": "horizontal",
            "min": 0,
            "description_tooltip": null,
            "_model_module": "@jupyter-widgets/controls",
            "layout": "IPY_MODEL_20e9c59cb1db47a09e34af3cf4e695e8"
          }
        },
        "14ee5f46718a42ee990871b28483da0f": {
          "model_module": "@jupyter-widgets/controls",
          "model_name": "HTMLModel",
          "state": {
            "_view_name": "HTMLView",
            "style": "IPY_MODEL_95a95a470ef446bf801264bdad7ef6a9",
            "_dom_classes": [],
            "description": "",
            "_model_name": "HTMLModel",
            "placeholder": "​",
            "_view_module": "@jupyter-widgets/controls",
            "_model_module_version": "1.5.0",
            "value": " 4/4 [00:01&lt;00:00,  2.29it/s]",
            "_view_count": null,
            "_view_module_version": "1.5.0",
            "description_tooltip": null,
            "_model_module": "@jupyter-widgets/controls",
            "layout": "IPY_MODEL_1f1d41828d98472390d4a008d34361a1"
          }
        },
        "b394cce409504db6890dd4a870e5c0b2": {
          "model_module": "@jupyter-widgets/controls",
          "model_name": "ProgressStyleModel",
          "state": {
            "_view_name": "StyleView",
            "_model_name": "ProgressStyleModel",
            "description_width": "initial",
            "_view_module": "@jupyter-widgets/base",
            "_model_module_version": "1.5.0",
            "_view_count": null,
            "_view_module_version": "1.2.0",
            "bar_color": null,
            "_model_module": "@jupyter-widgets/controls"
          }
        },
        "20e9c59cb1db47a09e34af3cf4e695e8": {
          "model_module": "@jupyter-widgets/base",
          "model_name": "LayoutModel",
          "state": {
            "_view_name": "LayoutView",
            "grid_template_rows": null,
            "right": null,
            "justify_content": null,
            "_view_module": "@jupyter-widgets/base",
            "overflow": null,
            "_model_module_version": "1.2.0",
            "_view_count": null,
            "flex_flow": null,
            "width": null,
            "min_width": null,
            "border": null,
            "align_items": null,
            "bottom": null,
            "_model_module": "@jupyter-widgets/base",
            "top": null,
            "grid_column": null,
            "overflow_y": null,
            "overflow_x": null,
            "grid_auto_flow": null,
            "grid_area": null,
            "grid_template_columns": null,
            "flex": null,
            "_model_name": "LayoutModel",
            "justify_items": null,
            "grid_row": null,
            "max_height": null,
            "align_content": null,
            "visibility": null,
            "align_self": null,
            "height": null,
            "min_height": null,
            "padding": null,
            "grid_auto_rows": null,
            "grid_gap": null,
            "max_width": null,
            "order": null,
            "_view_module_version": "1.2.0",
            "grid_template_areas": null,
            "object_position": null,
            "object_fit": null,
            "grid_auto_columns": null,
            "margin": null,
            "display": null,
            "left": null
          }
        },
        "95a95a470ef446bf801264bdad7ef6a9": {
          "model_module": "@jupyter-widgets/controls",
          "model_name": "DescriptionStyleModel",
          "state": {
            "_view_name": "StyleView",
            "_model_name": "DescriptionStyleModel",
            "description_width": "",
            "_view_module": "@jupyter-widgets/base",
            "_model_module_version": "1.5.0",
            "_view_count": null,
            "_view_module_version": "1.2.0",
            "_model_module": "@jupyter-widgets/controls"
          }
        },
        "1f1d41828d98472390d4a008d34361a1": {
          "model_module": "@jupyter-widgets/base",
          "model_name": "LayoutModel",
          "state": {
            "_view_name": "LayoutView",
            "grid_template_rows": null,
            "right": null,
            "justify_content": null,
            "_view_module": "@jupyter-widgets/base",
            "overflow": null,
            "_model_module_version": "1.2.0",
            "_view_count": null,
            "flex_flow": null,
            "width": null,
            "min_width": null,
            "border": null,
            "align_items": null,
            "bottom": null,
            "_model_module": "@jupyter-widgets/base",
            "top": null,
            "grid_column": null,
            "overflow_y": null,
            "overflow_x": null,
            "grid_auto_flow": null,
            "grid_area": null,
            "grid_template_columns": null,
            "flex": null,
            "_model_name": "LayoutModel",
            "justify_items": null,
            "grid_row": null,
            "max_height": null,
            "align_content": null,
            "visibility": null,
            "align_self": null,
            "height": null,
            "min_height": null,
            "padding": null,
            "grid_auto_rows": null,
            "grid_gap": null,
            "max_width": null,
            "order": null,
            "_view_module_version": "1.2.0",
            "grid_template_areas": null,
            "object_position": null,
            "object_fit": null,
            "grid_auto_columns": null,
            "margin": null,
            "display": null,
            "left": null
          }
        },
        "374569feb5934848ae364b7018100ddb": {
          "model_module": "@jupyter-widgets/controls",
          "model_name": "HBoxModel",
          "state": {
            "_view_name": "HBoxView",
            "_dom_classes": [],
            "_model_name": "HBoxModel",
            "_view_module": "@jupyter-widgets/controls",
            "_model_module_version": "1.5.0",
            "_view_count": null,
            "_view_module_version": "1.5.0",
            "box_style": "",
            "layout": "IPY_MODEL_306a2960efd740b5a88886c51e13de7c",
            "_model_module": "@jupyter-widgets/controls",
            "children": [
              "IPY_MODEL_c9cedf85a8b44a4eaf83e35bf1c5887a",
              "IPY_MODEL_0863209652334dce897dfbaee487b35c"
            ]
          }
        },
        "306a2960efd740b5a88886c51e13de7c": {
          "model_module": "@jupyter-widgets/base",
          "model_name": "LayoutModel",
          "state": {
            "_view_name": "LayoutView",
            "grid_template_rows": null,
            "right": null,
            "justify_content": null,
            "_view_module": "@jupyter-widgets/base",
            "overflow": null,
            "_model_module_version": "1.2.0",
            "_view_count": null,
            "flex_flow": null,
            "width": null,
            "min_width": null,
            "border": null,
            "align_items": null,
            "bottom": null,
            "_model_module": "@jupyter-widgets/base",
            "top": null,
            "grid_column": null,
            "overflow_y": null,
            "overflow_x": null,
            "grid_auto_flow": null,
            "grid_area": null,
            "grid_template_columns": null,
            "flex": null,
            "_model_name": "LayoutModel",
            "justify_items": null,
            "grid_row": null,
            "max_height": null,
            "align_content": null,
            "visibility": null,
            "align_self": null,
            "height": null,
            "min_height": null,
            "padding": null,
            "grid_auto_rows": null,
            "grid_gap": null,
            "max_width": null,
            "order": null,
            "_view_module_version": "1.2.0",
            "grid_template_areas": null,
            "object_position": null,
            "object_fit": null,
            "grid_auto_columns": null,
            "margin": null,
            "display": null,
            "left": null
          }
        },
        "c9cedf85a8b44a4eaf83e35bf1c5887a": {
          "model_module": "@jupyter-widgets/controls",
          "model_name": "IntProgressModel",
          "state": {
            "_view_name": "ProgressView",
            "style": "IPY_MODEL_5291de7340d44f34b2b325a3356d447a",
            "_dom_classes": [],
            "description": "100%",
            "_model_name": "IntProgressModel",
            "bar_style": "success",
            "max": 30,
            "_view_module": "@jupyter-widgets/controls",
            "_model_module_version": "1.5.0",
            "value": 30,
            "_view_count": null,
            "_view_module_version": "1.5.0",
            "orientation": "horizontal",
            "min": 0,
            "description_tooltip": null,
            "_model_module": "@jupyter-widgets/controls",
            "layout": "IPY_MODEL_1e0ac5a15ed54f7db6b486556b51aa3d"
          }
        },
        "0863209652334dce897dfbaee487b35c": {
          "model_module": "@jupyter-widgets/controls",
          "model_name": "HTMLModel",
          "state": {
            "_view_name": "HTMLView",
            "style": "IPY_MODEL_b5e0d353313e4db783f4afa7552d42e5",
            "_dom_classes": [],
            "description": "",
            "_model_name": "HTMLModel",
            "placeholder": "​",
            "_view_module": "@jupyter-widgets/controls",
            "_model_module_version": "1.5.0",
            "value": " 30/30 [00:40&lt;00:00,  1.35s/it]",
            "_view_count": null,
            "_view_module_version": "1.5.0",
            "description_tooltip": null,
            "_model_module": "@jupyter-widgets/controls",
            "layout": "IPY_MODEL_0258fdf4340847f48f0a6581a6cb367c"
          }
        },
        "5291de7340d44f34b2b325a3356d447a": {
          "model_module": "@jupyter-widgets/controls",
          "model_name": "ProgressStyleModel",
          "state": {
            "_view_name": "StyleView",
            "_model_name": "ProgressStyleModel",
            "description_width": "initial",
            "_view_module": "@jupyter-widgets/base",
            "_model_module_version": "1.5.0",
            "_view_count": null,
            "_view_module_version": "1.2.0",
            "bar_color": null,
            "_model_module": "@jupyter-widgets/controls"
          }
        },
        "1e0ac5a15ed54f7db6b486556b51aa3d": {
          "model_module": "@jupyter-widgets/base",
          "model_name": "LayoutModel",
          "state": {
            "_view_name": "LayoutView",
            "grid_template_rows": null,
            "right": null,
            "justify_content": null,
            "_view_module": "@jupyter-widgets/base",
            "overflow": null,
            "_model_module_version": "1.2.0",
            "_view_count": null,
            "flex_flow": null,
            "width": null,
            "min_width": null,
            "border": null,
            "align_items": null,
            "bottom": null,
            "_model_module": "@jupyter-widgets/base",
            "top": null,
            "grid_column": null,
            "overflow_y": null,
            "overflow_x": null,
            "grid_auto_flow": null,
            "grid_area": null,
            "grid_template_columns": null,
            "flex": null,
            "_model_name": "LayoutModel",
            "justify_items": null,
            "grid_row": null,
            "max_height": null,
            "align_content": null,
            "visibility": null,
            "align_self": null,
            "height": null,
            "min_height": null,
            "padding": null,
            "grid_auto_rows": null,
            "grid_gap": null,
            "max_width": null,
            "order": null,
            "_view_module_version": "1.2.0",
            "grid_template_areas": null,
            "object_position": null,
            "object_fit": null,
            "grid_auto_columns": null,
            "margin": null,
            "display": null,
            "left": null
          }
        },
        "b5e0d353313e4db783f4afa7552d42e5": {
          "model_module": "@jupyter-widgets/controls",
          "model_name": "DescriptionStyleModel",
          "state": {
            "_view_name": "StyleView",
            "_model_name": "DescriptionStyleModel",
            "description_width": "",
            "_view_module": "@jupyter-widgets/base",
            "_model_module_version": "1.5.0",
            "_view_count": null,
            "_view_module_version": "1.2.0",
            "_model_module": "@jupyter-widgets/controls"
          }
        },
        "0258fdf4340847f48f0a6581a6cb367c": {
          "model_module": "@jupyter-widgets/base",
          "model_name": "LayoutModel",
          "state": {
            "_view_name": "LayoutView",
            "grid_template_rows": null,
            "right": null,
            "justify_content": null,
            "_view_module": "@jupyter-widgets/base",
            "overflow": null,
            "_model_module_version": "1.2.0",
            "_view_count": null,
            "flex_flow": null,
            "width": null,
            "min_width": null,
            "border": null,
            "align_items": null,
            "bottom": null,
            "_model_module": "@jupyter-widgets/base",
            "top": null,
            "grid_column": null,
            "overflow_y": null,
            "overflow_x": null,
            "grid_auto_flow": null,
            "grid_area": null,
            "grid_template_columns": null,
            "flex": null,
            "_model_name": "LayoutModel",
            "justify_items": null,
            "grid_row": null,
            "max_height": null,
            "align_content": null,
            "visibility": null,
            "align_self": null,
            "height": null,
            "min_height": null,
            "padding": null,
            "grid_auto_rows": null,
            "grid_gap": null,
            "max_width": null,
            "order": null,
            "_view_module_version": "1.2.0",
            "grid_template_areas": null,
            "object_position": null,
            "object_fit": null,
            "grid_auto_columns": null,
            "margin": null,
            "display": null,
            "left": null
          }
        },
        "ec16f9f8be3940da8374e4b9a49f194a": {
          "model_module": "@jupyter-widgets/controls",
          "model_name": "HBoxModel",
          "state": {
            "_view_name": "HBoxView",
            "_dom_classes": [],
            "_model_name": "HBoxModel",
            "_view_module": "@jupyter-widgets/controls",
            "_model_module_version": "1.5.0",
            "_view_count": null,
            "_view_module_version": "1.5.0",
            "box_style": "",
            "layout": "IPY_MODEL_bf57db58d5ae4ed996635c012ff115de",
            "_model_module": "@jupyter-widgets/controls",
            "children": [
              "IPY_MODEL_33fbe66c28e443bda341b19c4457c23b",
              "IPY_MODEL_1a65db15def34a19a4bd12d81b132d4b"
            ]
          }
        },
        "bf57db58d5ae4ed996635c012ff115de": {
          "model_module": "@jupyter-widgets/base",
          "model_name": "LayoutModel",
          "state": {
            "_view_name": "LayoutView",
            "grid_template_rows": null,
            "right": null,
            "justify_content": null,
            "_view_module": "@jupyter-widgets/base",
            "overflow": null,
            "_model_module_version": "1.2.0",
            "_view_count": null,
            "flex_flow": null,
            "width": null,
            "min_width": null,
            "border": null,
            "align_items": null,
            "bottom": null,
            "_model_module": "@jupyter-widgets/base",
            "top": null,
            "grid_column": null,
            "overflow_y": null,
            "overflow_x": null,
            "grid_auto_flow": null,
            "grid_area": null,
            "grid_template_columns": null,
            "flex": null,
            "_model_name": "LayoutModel",
            "justify_items": null,
            "grid_row": null,
            "max_height": null,
            "align_content": null,
            "visibility": null,
            "align_self": null,
            "height": null,
            "min_height": null,
            "padding": null,
            "grid_auto_rows": null,
            "grid_gap": null,
            "max_width": null,
            "order": null,
            "_view_module_version": "1.2.0",
            "grid_template_areas": null,
            "object_position": null,
            "object_fit": null,
            "grid_auto_columns": null,
            "margin": null,
            "display": null,
            "left": null
          }
        },
        "33fbe66c28e443bda341b19c4457c23b": {
          "model_module": "@jupyter-widgets/controls",
          "model_name": "IntProgressModel",
          "state": {
            "_view_name": "ProgressView",
            "style": "IPY_MODEL_e3dfbb1764a243699798b53cfab74851",
            "_dom_classes": [],
            "description": "100%",
            "_model_name": "IntProgressModel",
            "bar_style": "success",
            "max": 7,
            "_view_module": "@jupyter-widgets/controls",
            "_model_module_version": "1.5.0",
            "value": 7,
            "_view_count": null,
            "_view_module_version": "1.5.0",
            "orientation": "horizontal",
            "min": 0,
            "description_tooltip": null,
            "_model_module": "@jupyter-widgets/controls",
            "layout": "IPY_MODEL_c1954c74f12d4bb286264aa2dc10ece7"
          }
        },
        "1a65db15def34a19a4bd12d81b132d4b": {
          "model_module": "@jupyter-widgets/controls",
          "model_name": "HTMLModel",
          "state": {
            "_view_name": "HTMLView",
            "style": "IPY_MODEL_c78dc6d28bcc4bc78bdd8ec46614a76a",
            "_dom_classes": [],
            "description": "",
            "_model_name": "HTMLModel",
            "placeholder": "​",
            "_view_module": "@jupyter-widgets/controls",
            "_model_module_version": "1.5.0",
            "value": " 7/7 [00:20&lt;00:00,  2.92s/it]",
            "_view_count": null,
            "_view_module_version": "1.5.0",
            "description_tooltip": null,
            "_model_module": "@jupyter-widgets/controls",
            "layout": "IPY_MODEL_d7857ffd0201436eb541b937a759fc7e"
          }
        },
        "e3dfbb1764a243699798b53cfab74851": {
          "model_module": "@jupyter-widgets/controls",
          "model_name": "ProgressStyleModel",
          "state": {
            "_view_name": "StyleView",
            "_model_name": "ProgressStyleModel",
            "description_width": "initial",
            "_view_module": "@jupyter-widgets/base",
            "_model_module_version": "1.5.0",
            "_view_count": null,
            "_view_module_version": "1.2.0",
            "bar_color": null,
            "_model_module": "@jupyter-widgets/controls"
          }
        },
        "c1954c74f12d4bb286264aa2dc10ece7": {
          "model_module": "@jupyter-widgets/base",
          "model_name": "LayoutModel",
          "state": {
            "_view_name": "LayoutView",
            "grid_template_rows": null,
            "right": null,
            "justify_content": null,
            "_view_module": "@jupyter-widgets/base",
            "overflow": null,
            "_model_module_version": "1.2.0",
            "_view_count": null,
            "flex_flow": null,
            "width": null,
            "min_width": null,
            "border": null,
            "align_items": null,
            "bottom": null,
            "_model_module": "@jupyter-widgets/base",
            "top": null,
            "grid_column": null,
            "overflow_y": null,
            "overflow_x": null,
            "grid_auto_flow": null,
            "grid_area": null,
            "grid_template_columns": null,
            "flex": null,
            "_model_name": "LayoutModel",
            "justify_items": null,
            "grid_row": null,
            "max_height": null,
            "align_content": null,
            "visibility": null,
            "align_self": null,
            "height": null,
            "min_height": null,
            "padding": null,
            "grid_auto_rows": null,
            "grid_gap": null,
            "max_width": null,
            "order": null,
            "_view_module_version": "1.2.0",
            "grid_template_areas": null,
            "object_position": null,
            "object_fit": null,
            "grid_auto_columns": null,
            "margin": null,
            "display": null,
            "left": null
          }
        },
        "c78dc6d28bcc4bc78bdd8ec46614a76a": {
          "model_module": "@jupyter-widgets/controls",
          "model_name": "DescriptionStyleModel",
          "state": {
            "_view_name": "StyleView",
            "_model_name": "DescriptionStyleModel",
            "description_width": "",
            "_view_module": "@jupyter-widgets/base",
            "_model_module_version": "1.5.0",
            "_view_count": null,
            "_view_module_version": "1.2.0",
            "_model_module": "@jupyter-widgets/controls"
          }
        },
        "d7857ffd0201436eb541b937a759fc7e": {
          "model_module": "@jupyter-widgets/base",
          "model_name": "LayoutModel",
          "state": {
            "_view_name": "LayoutView",
            "grid_template_rows": null,
            "right": null,
            "justify_content": null,
            "_view_module": "@jupyter-widgets/base",
            "overflow": null,
            "_model_module_version": "1.2.0",
            "_view_count": null,
            "flex_flow": null,
            "width": null,
            "min_width": null,
            "border": null,
            "align_items": null,
            "bottom": null,
            "_model_module": "@jupyter-widgets/base",
            "top": null,
            "grid_column": null,
            "overflow_y": null,
            "overflow_x": null,
            "grid_auto_flow": null,
            "grid_area": null,
            "grid_template_columns": null,
            "flex": null,
            "_model_name": "LayoutModel",
            "justify_items": null,
            "grid_row": null,
            "max_height": null,
            "align_content": null,
            "visibility": null,
            "align_self": null,
            "height": null,
            "min_height": null,
            "padding": null,
            "grid_auto_rows": null,
            "grid_gap": null,
            "max_width": null,
            "order": null,
            "_view_module_version": "1.2.0",
            "grid_template_areas": null,
            "object_position": null,
            "object_fit": null,
            "grid_auto_columns": null,
            "margin": null,
            "display": null,
            "left": null
          }
        },
        "f8772193fb5444ef92780697dbab75a4": {
          "model_module": "@jupyter-widgets/controls",
          "model_name": "HBoxModel",
          "state": {
            "_view_name": "HBoxView",
            "_dom_classes": [],
            "_model_name": "HBoxModel",
            "_view_module": "@jupyter-widgets/controls",
            "_model_module_version": "1.5.0",
            "_view_count": null,
            "_view_module_version": "1.5.0",
            "box_style": "",
            "layout": "IPY_MODEL_f0d8aec5dfe74cd0a2d2b9deaaf1a26f",
            "_model_module": "@jupyter-widgets/controls",
            "children": [
              "IPY_MODEL_d129f6be6eaa40b0b4d4da7e1abcb40f",
              "IPY_MODEL_250333dd8e4d43bba7a124d5aba37485"
            ]
          }
        },
        "f0d8aec5dfe74cd0a2d2b9deaaf1a26f": {
          "model_module": "@jupyter-widgets/base",
          "model_name": "LayoutModel",
          "state": {
            "_view_name": "LayoutView",
            "grid_template_rows": null,
            "right": null,
            "justify_content": null,
            "_view_module": "@jupyter-widgets/base",
            "overflow": null,
            "_model_module_version": "1.2.0",
            "_view_count": null,
            "flex_flow": null,
            "width": null,
            "min_width": null,
            "border": null,
            "align_items": null,
            "bottom": null,
            "_model_module": "@jupyter-widgets/base",
            "top": null,
            "grid_column": null,
            "overflow_y": null,
            "overflow_x": null,
            "grid_auto_flow": null,
            "grid_area": null,
            "grid_template_columns": null,
            "flex": null,
            "_model_name": "LayoutModel",
            "justify_items": null,
            "grid_row": null,
            "max_height": null,
            "align_content": null,
            "visibility": null,
            "align_self": null,
            "height": null,
            "min_height": null,
            "padding": null,
            "grid_auto_rows": null,
            "grid_gap": null,
            "max_width": null,
            "order": null,
            "_view_module_version": "1.2.0",
            "grid_template_areas": null,
            "object_position": null,
            "object_fit": null,
            "grid_auto_columns": null,
            "margin": null,
            "display": null,
            "left": null
          }
        },
        "d129f6be6eaa40b0b4d4da7e1abcb40f": {
          "model_module": "@jupyter-widgets/controls",
          "model_name": "IntProgressModel",
          "state": {
            "_view_name": "ProgressView",
            "style": "IPY_MODEL_6beaca6925414ad7b1f9d49ed2383f83",
            "_dom_classes": [],
            "description": "100%",
            "_model_name": "IntProgressModel",
            "bar_style": "success",
            "max": 10,
            "_view_module": "@jupyter-widgets/controls",
            "_model_module_version": "1.5.0",
            "value": 10,
            "_view_count": null,
            "_view_module_version": "1.5.0",
            "orientation": "horizontal",
            "min": 0,
            "description_tooltip": null,
            "_model_module": "@jupyter-widgets/controls",
            "layout": "IPY_MODEL_36300280182b43268dc0bdfc858f6ed9"
          }
        },
        "250333dd8e4d43bba7a124d5aba37485": {
          "model_module": "@jupyter-widgets/controls",
          "model_name": "HTMLModel",
          "state": {
            "_view_name": "HTMLView",
            "style": "IPY_MODEL_8b1b4708387c43358833fd93823b8611",
            "_dom_classes": [],
            "description": "",
            "_model_name": "HTMLModel",
            "placeholder": "​",
            "_view_module": "@jupyter-widgets/controls",
            "_model_module_version": "1.5.0",
            "value": " 10/10 [00:15&lt;00:00,  1.56s/it]",
            "_view_count": null,
            "_view_module_version": "1.5.0",
            "description_tooltip": null,
            "_model_module": "@jupyter-widgets/controls",
            "layout": "IPY_MODEL_c99807fa67c749a8b21fb7b0242df5fd"
          }
        },
        "6beaca6925414ad7b1f9d49ed2383f83": {
          "model_module": "@jupyter-widgets/controls",
          "model_name": "ProgressStyleModel",
          "state": {
            "_view_name": "StyleView",
            "_model_name": "ProgressStyleModel",
            "description_width": "initial",
            "_view_module": "@jupyter-widgets/base",
            "_model_module_version": "1.5.0",
            "_view_count": null,
            "_view_module_version": "1.2.0",
            "bar_color": null,
            "_model_module": "@jupyter-widgets/controls"
          }
        },
        "36300280182b43268dc0bdfc858f6ed9": {
          "model_module": "@jupyter-widgets/base",
          "model_name": "LayoutModel",
          "state": {
            "_view_name": "LayoutView",
            "grid_template_rows": null,
            "right": null,
            "justify_content": null,
            "_view_module": "@jupyter-widgets/base",
            "overflow": null,
            "_model_module_version": "1.2.0",
            "_view_count": null,
            "flex_flow": null,
            "width": null,
            "min_width": null,
            "border": null,
            "align_items": null,
            "bottom": null,
            "_model_module": "@jupyter-widgets/base",
            "top": null,
            "grid_column": null,
            "overflow_y": null,
            "overflow_x": null,
            "grid_auto_flow": null,
            "grid_area": null,
            "grid_template_columns": null,
            "flex": null,
            "_model_name": "LayoutModel",
            "justify_items": null,
            "grid_row": null,
            "max_height": null,
            "align_content": null,
            "visibility": null,
            "align_self": null,
            "height": null,
            "min_height": null,
            "padding": null,
            "grid_auto_rows": null,
            "grid_gap": null,
            "max_width": null,
            "order": null,
            "_view_module_version": "1.2.0",
            "grid_template_areas": null,
            "object_position": null,
            "object_fit": null,
            "grid_auto_columns": null,
            "margin": null,
            "display": null,
            "left": null
          }
        },
        "8b1b4708387c43358833fd93823b8611": {
          "model_module": "@jupyter-widgets/controls",
          "model_name": "DescriptionStyleModel",
          "state": {
            "_view_name": "StyleView",
            "_model_name": "DescriptionStyleModel",
            "description_width": "",
            "_view_module": "@jupyter-widgets/base",
            "_model_module_version": "1.5.0",
            "_view_count": null,
            "_view_module_version": "1.2.0",
            "_model_module": "@jupyter-widgets/controls"
          }
        },
        "c99807fa67c749a8b21fb7b0242df5fd": {
          "model_module": "@jupyter-widgets/base",
          "model_name": "LayoutModel",
          "state": {
            "_view_name": "LayoutView",
            "grid_template_rows": null,
            "right": null,
            "justify_content": null,
            "_view_module": "@jupyter-widgets/base",
            "overflow": null,
            "_model_module_version": "1.2.0",
            "_view_count": null,
            "flex_flow": null,
            "width": null,
            "min_width": null,
            "border": null,
            "align_items": null,
            "bottom": null,
            "_model_module": "@jupyter-widgets/base",
            "top": null,
            "grid_column": null,
            "overflow_y": null,
            "overflow_x": null,
            "grid_auto_flow": null,
            "grid_area": null,
            "grid_template_columns": null,
            "flex": null,
            "_model_name": "LayoutModel",
            "justify_items": null,
            "grid_row": null,
            "max_height": null,
            "align_content": null,
            "visibility": null,
            "align_self": null,
            "height": null,
            "min_height": null,
            "padding": null,
            "grid_auto_rows": null,
            "grid_gap": null,
            "max_width": null,
            "order": null,
            "_view_module_version": "1.2.0",
            "grid_template_areas": null,
            "object_position": null,
            "object_fit": null,
            "grid_auto_columns": null,
            "margin": null,
            "display": null,
            "left": null
          }
        },
        "094a0d2d29844babbf4f2a89ecec97fd": {
          "model_module": "@jupyter-widgets/controls",
          "model_name": "HBoxModel",
          "state": {
            "_view_name": "HBoxView",
            "_dom_classes": [],
            "_model_name": "HBoxModel",
            "_view_module": "@jupyter-widgets/controls",
            "_model_module_version": "1.5.0",
            "_view_count": null,
            "_view_module_version": "1.5.0",
            "box_style": "",
            "layout": "IPY_MODEL_7dd5b5aa6a074ae495b52b5cc01e28a8",
            "_model_module": "@jupyter-widgets/controls",
            "children": [
              "IPY_MODEL_983a3b203bb1464f9efe744319b138b3",
              "IPY_MODEL_6c864bc5c6fe4392becdf9599894fc56"
            ]
          }
        },
        "7dd5b5aa6a074ae495b52b5cc01e28a8": {
          "model_module": "@jupyter-widgets/base",
          "model_name": "LayoutModel",
          "state": {
            "_view_name": "LayoutView",
            "grid_template_rows": null,
            "right": null,
            "justify_content": null,
            "_view_module": "@jupyter-widgets/base",
            "overflow": null,
            "_model_module_version": "1.2.0",
            "_view_count": null,
            "flex_flow": null,
            "width": null,
            "min_width": null,
            "border": null,
            "align_items": null,
            "bottom": null,
            "_model_module": "@jupyter-widgets/base",
            "top": null,
            "grid_column": null,
            "overflow_y": null,
            "overflow_x": null,
            "grid_auto_flow": null,
            "grid_area": null,
            "grid_template_columns": null,
            "flex": null,
            "_model_name": "LayoutModel",
            "justify_items": null,
            "grid_row": null,
            "max_height": null,
            "align_content": null,
            "visibility": null,
            "align_self": null,
            "height": null,
            "min_height": null,
            "padding": null,
            "grid_auto_rows": null,
            "grid_gap": null,
            "max_width": null,
            "order": null,
            "_view_module_version": "1.2.0",
            "grid_template_areas": null,
            "object_position": null,
            "object_fit": null,
            "grid_auto_columns": null,
            "margin": null,
            "display": null,
            "left": null
          }
        },
        "983a3b203bb1464f9efe744319b138b3": {
          "model_module": "@jupyter-widgets/controls",
          "model_name": "IntProgressModel",
          "state": {
            "_view_name": "ProgressView",
            "style": "IPY_MODEL_04d9317788bd4b4dbc63033729acf375",
            "_dom_classes": [],
            "description": "100%",
            "_model_name": "IntProgressModel",
            "bar_style": "success",
            "max": 6,
            "_view_module": "@jupyter-widgets/controls",
            "_model_module_version": "1.5.0",
            "value": 6,
            "_view_count": null,
            "_view_module_version": "1.5.0",
            "orientation": "horizontal",
            "min": 0,
            "description_tooltip": null,
            "_model_module": "@jupyter-widgets/controls",
            "layout": "IPY_MODEL_1d4561c769fc441f9fc198e51a895c92"
          }
        },
        "6c864bc5c6fe4392becdf9599894fc56": {
          "model_module": "@jupyter-widgets/controls",
          "model_name": "HTMLModel",
          "state": {
            "_view_name": "HTMLView",
            "style": "IPY_MODEL_2d9f10d2aa6a4ec4b5744cbf903ba4d9",
            "_dom_classes": [],
            "description": "",
            "_model_name": "HTMLModel",
            "placeholder": "​",
            "_view_module": "@jupyter-widgets/controls",
            "_model_module_version": "1.5.0",
            "value": " 6/6 [00:03&lt;00:00,  1.65it/s]",
            "_view_count": null,
            "_view_module_version": "1.5.0",
            "description_tooltip": null,
            "_model_module": "@jupyter-widgets/controls",
            "layout": "IPY_MODEL_2446d7f1deba48a3b8ebcddf6ff194c2"
          }
        },
        "04d9317788bd4b4dbc63033729acf375": {
          "model_module": "@jupyter-widgets/controls",
          "model_name": "ProgressStyleModel",
          "state": {
            "_view_name": "StyleView",
            "_model_name": "ProgressStyleModel",
            "description_width": "initial",
            "_view_module": "@jupyter-widgets/base",
            "_model_module_version": "1.5.0",
            "_view_count": null,
            "_view_module_version": "1.2.0",
            "bar_color": null,
            "_model_module": "@jupyter-widgets/controls"
          }
        },
        "1d4561c769fc441f9fc198e51a895c92": {
          "model_module": "@jupyter-widgets/base",
          "model_name": "LayoutModel",
          "state": {
            "_view_name": "LayoutView",
            "grid_template_rows": null,
            "right": null,
            "justify_content": null,
            "_view_module": "@jupyter-widgets/base",
            "overflow": null,
            "_model_module_version": "1.2.0",
            "_view_count": null,
            "flex_flow": null,
            "width": null,
            "min_width": null,
            "border": null,
            "align_items": null,
            "bottom": null,
            "_model_module": "@jupyter-widgets/base",
            "top": null,
            "grid_column": null,
            "overflow_y": null,
            "overflow_x": null,
            "grid_auto_flow": null,
            "grid_area": null,
            "grid_template_columns": null,
            "flex": null,
            "_model_name": "LayoutModel",
            "justify_items": null,
            "grid_row": null,
            "max_height": null,
            "align_content": null,
            "visibility": null,
            "align_self": null,
            "height": null,
            "min_height": null,
            "padding": null,
            "grid_auto_rows": null,
            "grid_gap": null,
            "max_width": null,
            "order": null,
            "_view_module_version": "1.2.0",
            "grid_template_areas": null,
            "object_position": null,
            "object_fit": null,
            "grid_auto_columns": null,
            "margin": null,
            "display": null,
            "left": null
          }
        },
        "2d9f10d2aa6a4ec4b5744cbf903ba4d9": {
          "model_module": "@jupyter-widgets/controls",
          "model_name": "DescriptionStyleModel",
          "state": {
            "_view_name": "StyleView",
            "_model_name": "DescriptionStyleModel",
            "description_width": "",
            "_view_module": "@jupyter-widgets/base",
            "_model_module_version": "1.5.0",
            "_view_count": null,
            "_view_module_version": "1.2.0",
            "_model_module": "@jupyter-widgets/controls"
          }
        },
        "2446d7f1deba48a3b8ebcddf6ff194c2": {
          "model_module": "@jupyter-widgets/base",
          "model_name": "LayoutModel",
          "state": {
            "_view_name": "LayoutView",
            "grid_template_rows": null,
            "right": null,
            "justify_content": null,
            "_view_module": "@jupyter-widgets/base",
            "overflow": null,
            "_model_module_version": "1.2.0",
            "_view_count": null,
            "flex_flow": null,
            "width": null,
            "min_width": null,
            "border": null,
            "align_items": null,
            "bottom": null,
            "_model_module": "@jupyter-widgets/base",
            "top": null,
            "grid_column": null,
            "overflow_y": null,
            "overflow_x": null,
            "grid_auto_flow": null,
            "grid_area": null,
            "grid_template_columns": null,
            "flex": null,
            "_model_name": "LayoutModel",
            "justify_items": null,
            "grid_row": null,
            "max_height": null,
            "align_content": null,
            "visibility": null,
            "align_self": null,
            "height": null,
            "min_height": null,
            "padding": null,
            "grid_auto_rows": null,
            "grid_gap": null,
            "max_width": null,
            "order": null,
            "_view_module_version": "1.2.0",
            "grid_template_areas": null,
            "object_position": null,
            "object_fit": null,
            "grid_auto_columns": null,
            "margin": null,
            "display": null,
            "left": null
          }
        }
      }
    }
  },
  "cells": [
    {
      "cell_type": "code",
      "metadata": {
        "id": "d6xU3HbsTJZ9",
        "colab_type": "code",
        "colab": {}
      },
      "source": [
        "import math\n",
        "import matplotlib\n",
        "import numpy as np\n",
        "import pandas as pd\n",
        "import seaborn as sns\n",
        "import time\n",
        "\n",
        "from datetime import date\n",
        "from matplotlib import pyplot as plt\n",
        "from pylab import rcParams\n",
        "from sklearn.metrics import mean_squared_error\n",
        "from sklearn.preprocessing import StandardScaler\n",
        "from tqdm import tqdm_notebook\n",
        "from xgboost import XGBRegressor\n",
        "\n",
        "%matplotlib inline\n",
        "\n",
        "#### Input params ##################\n",
        "stk_path = \"/content/hdfc5.csv\"\n",
        "test_size = 0.2                # proportion of dataset to be used as test set\n",
        "cv_size = 0.2                  # proportion of dataset to be used as cross-validation set\n",
        "N = 3                         # for feature at day t, we use lags from t-1, t-2, ..., t-N as features\n",
        "\n",
        "n_estimators = 100             # Number of boosted trees to fit. default = 100\n",
        "max_depth = 3                  # Maximum tree depth for base learners. default = 3\n",
        "learning_rate = 0.1            # Boosting learning rate (xgb’s “eta”). default = 0.1\n",
        "min_child_weight = 1           # Minimum sum of instance weight(hessian) needed in a child. default = 1\n",
        "subsample = 1                  # Subsample ratio of the training instance. default = 1\n",
        "colsample_bytree = 1           # Subsample ratio of columns when constructing each tree. default = 1\n",
        "colsample_bylevel = 1          # Subsample ratio of columns for each split, in each level. default = 1\n",
        "gamma = 0                      # Minimum loss reduction required to make a further partition on a leaf node of the tree. default=0\n",
        "\n",
        "model_seed = 100\n",
        "\n",
        "fontsize = 14\n",
        "ticklabelsize = 14\n",
        "####################################"
      ],
      "execution_count": 0,
      "outputs": []
    },
    {
      "cell_type": "markdown",
      "metadata": {
        "id": "EbdXj-P9TJaU",
        "colab_type": "text"
      },
      "source": [
        "# Common functions"
      ]
    },
    {
      "cell_type": "code",
      "metadata": {
        "id": "dJl_YppDTJaX",
        "colab_type": "code",
        "colab": {}
      },
      "source": [
        "def get_mov_avg_std(df, col, N):\n",
        "    \"\"\"\n",
        "    Given a dataframe, get mean and std dev at timestep t using values from t-1, t-2, ..., t-N.\n",
        "    Inputs\n",
        "        df         : dataframe. Can be of any length.\n",
        "        col        : name of the column you want to calculate mean and std dev\n",
        "        N          : get mean and std dev at timestep t using values from t-1, t-2, ..., t-N\n",
        "    Outputs\n",
        "        df_out     : same as df but with additional column containing mean and std dev\n",
        "    \"\"\"\n",
        "    mean_list = df[col].rolling(window = N, min_periods=1).mean() # len(mean_list) = len(df)\n",
        "    std_list = df[col].rolling(window = N, min_periods=1).std()   # first value will be NaN, because normalized by N-1\n",
        "    \n",
        "    # Add one timestep to the predictions\n",
        "    mean_list = np.concatenate((np.array([np.nan]), np.array(mean_list[:-1])))\n",
        "    std_list = np.concatenate((np.array([np.nan]), np.array(std_list[:-1])))\n",
        "    \n",
        "    # Append mean_list to df\n",
        "    df_out = df.copy()\n",
        "    df_out[col + '_mean'] = mean_list\n",
        "    df_out[col + '_std'] = std_list\n",
        "    \n",
        "    return df_out\n",
        "\n",
        "def scale_row(row, feat_mean, feat_std):\n",
        "    \"\"\"\n",
        "    Given a pandas series in row, scale it to have 0 mean and var 1 using feat_mean and feat_std\n",
        "    Inputs\n",
        "        row      : pandas series. Need to scale this.\n",
        "        feat_mean: mean  \n",
        "        feat_std : standard deviation\n",
        "    Outputs\n",
        "        row_scaled : pandas series with same length as row, but scaled\n",
        "    \"\"\"\n",
        "    # If feat_std = 0 (this happens if adj_close doesn't change over N days), \n",
        "    # set it to a small number to avoid division by zero\n",
        "    feat_std = 0.001 if feat_std == 0 else feat_std\n",
        "    \n",
        "    row_scaled = (row-feat_mean) / feat_std\n",
        "    \n",
        "    return row_scaled\n",
        "\n",
        "def get_mape(y_true, y_pred): \n",
        "    \"\"\"\n",
        "    Compute mean absolute percentage error (MAPE)\n",
        "    \"\"\"\n",
        "    y_true, y_pred = np.array(y_true), np.array(y_pred)\n",
        "    return np.mean(np.abs((y_true - y_pred) / y_true)) * 100\n",
        "\n",
        "def train_pred_eval_model(X_train_scaled, \\\n",
        "                          y_train_scaled, \\\n",
        "                          X_test_scaled, \\\n",
        "                          y_test, \\\n",
        "                          col_mean, \\\n",
        "                          col_std, \\\n",
        "                          seed=100, \\\n",
        "                          n_estimators=100, \\\n",
        "                          max_depth=3, \\\n",
        "                          learning_rate=0.1, \\\n",
        "                          min_child_weight=1, \\\n",
        "                          subsample=1, \\\n",
        "                          colsample_bytree=1, \\\n",
        "                          colsample_bylevel=1, \\\n",
        "                          gamma=0):\n",
        "    '''\n",
        "    Train model, do prediction, scale back to original range and do evaluation\n",
        "    Use XGBoost here.\n",
        "    Inputs\n",
        "        X_train_scaled     : features for training. Scaled to have mean 0 and variance 1\n",
        "        y_train_scaled     : target for training. Scaled to have mean 0 and variance 1\n",
        "        X_test_scaled      : features for test. Each sample is scaled to mean 0 and variance 1\n",
        "        y_test             : target for test. Actual values, not scaled.\n",
        "        col_mean           : means used to scale each sample of X_test_scaled. Same length as X_test_scaled and y_test\n",
        "        col_std            : standard deviations used to scale each sample of X_test_scaled. Same length as X_test_scaled and y_test\n",
        "        seed               : model seed\n",
        "        n_estimators       : number of boosted trees to fit\n",
        "        max_depth          : maximum tree depth for base learners\n",
        "        learning_rate      : boosting learning rate (xgb’s “eta”)\n",
        "        min_child_weight   : minimum sum of instance weight(hessian) needed in a child\n",
        "        subsample          : subsample ratio of the training instance\n",
        "        colsample_bytree   : subsample ratio of columns when constructing each tree\n",
        "        colsample_bylevel  : subsample ratio of columns for each split, in each level\n",
        "        gamma              : \n",
        "    Outputs\n",
        "        rmse               : root mean square error of y_test and est\n",
        "        mape               : mean absolute percentage error of y_test and est\n",
        "        est                : predicted values. Same length as y_test\n",
        "    '''\n",
        "\n",
        "    model = XGBRegressor(seed=model_seed,\n",
        "                         n_estimators=n_estimators,\n",
        "                         max_depth=max_depth,\n",
        "                         learning_rate=learning_rate,\n",
        "                         min_child_weight=min_child_weight,\n",
        "                         subsample=subsample,\n",
        "                         colsample_bytree=colsample_bytree,\n",
        "                         colsample_bylevel=colsample_bylevel,\n",
        "                         gamma=gamma)\n",
        "    \n",
        "    # Train the model\n",
        "    model.fit(X_train_scaled, y_train_scaled)\n",
        "    \n",
        "    # Get predicted labels and scale back to original range\n",
        "    est_scaled = model.predict(X_test_scaled)\n",
        "    est = est_scaled * col_std + col_mean\n",
        "\n",
        "    # Calculate RMSE\n",
        "    rmse = math.sqrt(mean_squared_error(y_test, est))\n",
        "    mape = get_mape(y_test, est)\n",
        "    \n",
        "    return rmse, mape, est"
      ],
      "execution_count": 0,
      "outputs": []
    },
    {
      "cell_type": "markdown",
      "metadata": {
        "id": "hyE-4hOnTJao",
        "colab_type": "text"
      },
      "source": [
        "# Load data"
      ]
    },
    {
      "cell_type": "code",
      "metadata": {
        "id": "WpSZIhUpTJaq",
        "colab_type": "code",
        "colab": {
          "base_uri": "https://localhost:8080/",
          "height": 204
        },
        "outputId": "addc06f9-e703-45b1-a42d-2f9d3ec415aa"
      },
      "source": [
        "df = pd.read_csv(stk_path, sep = \",\")\n",
        "df.dropna(axis=0,inplace = True)\n",
        "\n",
        "# Convert Date column to datetime\n",
        "df.loc[:, 'Date'] = pd.to_datetime(df['Date'],format='%Y-%m-%d')\n",
        "\n",
        "# Change all column headings to be lower case, and remove spacing\n",
        "df.columns = [str(x).lower().replace(' ', '_') for x in df.columns]\n",
        "\n",
        "# Get month of each sample\n",
        "df['month'] = df['date'].dt.month\n",
        "\n",
        "# Sort by datetime\n",
        "df.sort_values(by='date', inplace=True, ascending=True)\n",
        "\n",
        "df.head()"
      ],
      "execution_count": 542,
      "outputs": [
        {
          "output_type": "execute_result",
          "data": {
            "text/html": [
              "<div>\n",
              "<style scoped>\n",
              "    .dataframe tbody tr th:only-of-type {\n",
              "        vertical-align: middle;\n",
              "    }\n",
              "\n",
              "    .dataframe tbody tr th {\n",
              "        vertical-align: top;\n",
              "    }\n",
              "\n",
              "    .dataframe thead th {\n",
              "        text-align: right;\n",
              "    }\n",
              "</style>\n",
              "<table border=\"1\" class=\"dataframe\">\n",
              "  <thead>\n",
              "    <tr style=\"text-align: right;\">\n",
              "      <th></th>\n",
              "      <th>date</th>\n",
              "      <th>open</th>\n",
              "      <th>high</th>\n",
              "      <th>low</th>\n",
              "      <th>close</th>\n",
              "      <th>adj_close</th>\n",
              "      <th>volume</th>\n",
              "      <th>month</th>\n",
              "    </tr>\n",
              "  </thead>\n",
              "  <tbody>\n",
              "    <tr>\n",
              "      <th>0</th>\n",
              "      <td>2015-01-01</td>\n",
              "      <td>818.200012</td>\n",
              "      <td>818.200012</td>\n",
              "      <td>818.200012</td>\n",
              "      <td>818.200012</td>\n",
              "      <td>762.863708</td>\n",
              "      <td>0.0</td>\n",
              "      <td>1</td>\n",
              "    </tr>\n",
              "    <tr>\n",
              "      <th>1</th>\n",
              "      <td>2015-01-02</td>\n",
              "      <td>818.200012</td>\n",
              "      <td>818.200012</td>\n",
              "      <td>818.200012</td>\n",
              "      <td>818.200012</td>\n",
              "      <td>762.863708</td>\n",
              "      <td>0.0</td>\n",
              "      <td>1</td>\n",
              "    </tr>\n",
              "    <tr>\n",
              "      <th>2</th>\n",
              "      <td>2015-01-05</td>\n",
              "      <td>818.200012</td>\n",
              "      <td>818.200012</td>\n",
              "      <td>818.200012</td>\n",
              "      <td>818.200012</td>\n",
              "      <td>762.863708</td>\n",
              "      <td>0.0</td>\n",
              "      <td>1</td>\n",
              "    </tr>\n",
              "    <tr>\n",
              "      <th>3</th>\n",
              "      <td>2015-01-06</td>\n",
              "      <td>818.200012</td>\n",
              "      <td>818.200012</td>\n",
              "      <td>818.200012</td>\n",
              "      <td>818.200012</td>\n",
              "      <td>762.863708</td>\n",
              "      <td>0.0</td>\n",
              "      <td>1</td>\n",
              "    </tr>\n",
              "    <tr>\n",
              "      <th>4</th>\n",
              "      <td>2015-01-07</td>\n",
              "      <td>818.200012</td>\n",
              "      <td>818.200012</td>\n",
              "      <td>818.200012</td>\n",
              "      <td>818.200012</td>\n",
              "      <td>762.863708</td>\n",
              "      <td>0.0</td>\n",
              "      <td>1</td>\n",
              "    </tr>\n",
              "  </tbody>\n",
              "</table>\n",
              "</div>"
            ],
            "text/plain": [
              "        date        open        high  ...   adj_close  volume  month\n",
              "0 2015-01-01  818.200012  818.200012  ...  762.863708     0.0      1\n",
              "1 2015-01-02  818.200012  818.200012  ...  762.863708     0.0      1\n",
              "2 2015-01-05  818.200012  818.200012  ...  762.863708     0.0      1\n",
              "3 2015-01-06  818.200012  818.200012  ...  762.863708     0.0      1\n",
              "4 2015-01-07  818.200012  818.200012  ...  762.863708     0.0      1\n",
              "\n",
              "[5 rows x 8 columns]"
            ]
          },
          "metadata": {
            "tags": []
          },
          "execution_count": 542
        }
      ]
    },
    {
      "cell_type": "code",
      "metadata": {
        "id": "lhJL7WRcTJbI",
        "colab_type": "code",
        "colab": {
          "base_uri": "https://localhost:8080/",
          "height": 465
        },
        "outputId": "3c1fc2aa-4672-44e3-b7a3-8d6121d76f3d"
      },
      "source": [
        "# Plot adjusted close over time\n",
        "rcParams['figure.figsize'] = 10, 8 # width 10, height 8\n",
        "\n",
        "ax = df.plot(x='date', y='adj_close', style='b-', grid=True)\n",
        "ax.set_xlabel(\"date\")\n",
        "ax.set_ylabel(\"INR\")\n",
        "fig = ax.get_figure()\n",
        "fig.savefig(\"/content/ouput/AdjClose.pdf\",bbox_inches='tight')"
      ],
      "execution_count": 543,
      "outputs": [
        {
          "output_type": "display_data",
          "data": {
            "image/png": "[encoded data removed]",
            "text/plain": [
              "<Figure size 720x576 with 1 Axes>"
            ]
          },
          "metadata": {
            "tags": [],
            "needs_background": "light"
          }
        }
      ]
    },
    {
      "cell_type": "markdown",
      "metadata": {
        "id": "zCewQS20TJbY",
        "colab_type": "text"
      },
      "source": [
        "# Feature Engineering"
      ]
    },
    {
      "cell_type": "markdown",
      "metadata": {
        "collapsed": true,
        "id": "hKqyUIRgTJba",
        "colab_type": "text"
      },
      "source": [
        "We will generate the following features:\n",
        "* Mean 'adj_close' of each month\n",
        "* Difference between high and low of each day\n",
        "* Difference between open and close of each day\n",
        "* Mean volume of each month"
      ]
    },
    {
      "cell_type": "code",
      "metadata": {
        "scrolled": true,
        "id": "1gsgEeoNTJbc",
        "colab_type": "code",
        "colab": {
          "base_uri": "https://localhost:8080/",
          "height": 204
        },
        "outputId": "d0404972-ad4e-4ffa-8ab8-8d6d9721190d"
      },
      "source": [
        "# Get difference between high and low of each day\n",
        "df['range_hl'] = df['high'] - df['low']\n",
        "df.drop(['high', 'low'], axis=1, inplace=True)\n",
        "\n",
        "# Get difference between open and close of each day\n",
        "df['range_oc'] = df['open'] - df['close']\n",
        "df.drop(['open', 'close'], axis=1, inplace=True)\n",
        "\n",
        "df.head()"
      ],
      "execution_count": 544,
      "outputs": [
        {
          "output_type": "execute_result",
          "data": {
            "text/html": [
              "<div>\n",
              "<style scoped>\n",
              "    .dataframe tbody tr th:only-of-type {\n",
              "        vertical-align: middle;\n",
              "    }\n",
              "\n",
              "    .dataframe tbody tr th {\n",
              "        vertical-align: top;\n",
              "    }\n",
              "\n",
              "    .dataframe thead th {\n",
              "        text-align: right;\n",
              "    }\n",
              "</style>\n",
              "<table border=\"1\" class=\"dataframe\">\n",
              "  <thead>\n",
              "    <tr style=\"text-align: right;\">\n",
              "      <th></th>\n",
              "      <th>date</th>\n",
              "      <th>adj_close</th>\n",
              "      <th>volume</th>\n",
              "      <th>month</th>\n",
              "      <th>range_hl</th>\n",
              "      <th>range_oc</th>\n",
              "    </tr>\n",
              "  </thead>\n",
              "  <tbody>\n",
              "    <tr>\n",
              "      <th>0</th>\n",
              "      <td>2015-01-01</td>\n",
              "      <td>762.863708</td>\n",
              "      <td>0.0</td>\n",
              "      <td>1</td>\n",
              "      <td>0.0</td>\n",
              "      <td>0.0</td>\n",
              "    </tr>\n",
              "    <tr>\n",
              "      <th>1</th>\n",
              "      <td>2015-01-02</td>\n",
              "      <td>762.863708</td>\n",
              "      <td>0.0</td>\n",
              "      <td>1</td>\n",
              "      <td>0.0</td>\n",
              "      <td>0.0</td>\n",
              "    </tr>\n",
              "    <tr>\n",
              "      <th>2</th>\n",
              "      <td>2015-01-05</td>\n",
              "      <td>762.863708</td>\n",
              "      <td>0.0</td>\n",
              "      <td>1</td>\n",
              "      <td>0.0</td>\n",
              "      <td>0.0</td>\n",
              "    </tr>\n",
              "    <tr>\n",
              "      <th>3</th>\n",
              "      <td>2015-01-06</td>\n",
              "      <td>762.863708</td>\n",
              "      <td>0.0</td>\n",
              "      <td>1</td>\n",
              "      <td>0.0</td>\n",
              "      <td>0.0</td>\n",
              "    </tr>\n",
              "    <tr>\n",
              "      <th>4</th>\n",
              "      <td>2015-01-07</td>\n",
              "      <td>762.863708</td>\n",
              "      <td>0.0</td>\n",
              "      <td>1</td>\n",
              "      <td>0.0</td>\n",
              "      <td>0.0</td>\n",
              "    </tr>\n",
              "  </tbody>\n",
              "</table>\n",
              "</div>"
            ],
            "text/plain": [
              "        date   adj_close  volume  month  range_hl  range_oc\n",
              "0 2015-01-01  762.863708     0.0      1       0.0       0.0\n",
              "1 2015-01-02  762.863708     0.0      1       0.0       0.0\n",
              "2 2015-01-05  762.863708     0.0      1       0.0       0.0\n",
              "3 2015-01-06  762.863708     0.0      1       0.0       0.0\n",
              "4 2015-01-07  762.863708     0.0      1       0.0       0.0"
            ]
          },
          "metadata": {
            "tags": []
          },
          "execution_count": 544
        }
      ]
    },
    {
      "cell_type": "markdown",
      "metadata": {
        "id": "Ctx1tqqRTJbq",
        "colab_type": "text"
      },
      "source": [
        "Now we use lags up to N number of days to use as features."
      ]
    },
    {
      "cell_type": "code",
      "metadata": {
        "id": "muMFvsMKTJbs",
        "colab_type": "code",
        "colab": {
          "base_uri": "https://localhost:8080/",
          "height": 35
        },
        "outputId": "b5dc89fb-6584-4d53-83a2-14807200bd3e"
      },
      "source": [
        "# Add a column 'order_day' to indicate the order of the rows by date\n",
        "df['order_day'] = [x for x in list(range(len(df)))]\n",
        "\n",
        "# merging_keys\n",
        "merging_keys = ['order_day']\n",
        "\n",
        "# List of columns that we will use to create lags\n",
        "lag_cols = ['adj_close', 'range_hl', 'range_oc', 'volume']\n",
        "lag_cols"
      ],
      "execution_count": 545,
      "outputs": [
        {
          "output_type": "execute_result",
          "data": {
            "text/plain": [
              "['adj_close', 'range_hl', 'range_oc', 'volume']"
            ]
          },
          "metadata": {
            "tags": []
          },
          "execution_count": 545
        }
      ]
    },
    {
      "cell_type": "code",
      "metadata": {
        "id": "Vol_I1T3TJfC",
        "colab_type": "code",
        "colab": {
          "base_uri": "https://localhost:8080/",
          "height": 413,
          "referenced_widgets": [
            "c8a5759f6b944e868c884b5ec6d11b88",
            "3358dcdb5e934eeea8a9639eec8eba3e",
            "5bd0cb4375a043539903dfdf92aa40b9",
            "a9d370b7e6b148068a1c8640bb9814c1",
            "21a9b869a4a645f699816359b96bfa74",
            "9642677a1d8a4edfa483c71c146249e0",
            "808755ac83494bde848acdc95a767d99",
            "295fc5d9c33a4a6bb935a933852a8614"
          ]
        },
        "outputId": "88a96219-c0a7-42d3-c394-24080820f731"
      },
      "source": [
        "shift_range = [x+1 for x in range(N)]\n",
        "\n",
        "for shift in tqdm_notebook(shift_range):\n",
        "    train_shift = df[merging_keys + lag_cols].copy()\n",
        "    \n",
        "    # E.g. order_day of 0 becomes 1, for shift = 1.\n",
        "    # So when this is merged with order_day of 1 in df, this will represent lag of 1.\n",
        "    train_shift['order_day'] = train_shift['order_day'] + shift\n",
        "    \n",
        "    foo = lambda x: '{}_lag_{}'.format(x, shift) if x in lag_cols else x\n",
        "    train_shift = train_shift.rename(columns=foo)\n",
        "\n",
        "    df = pd.merge(df, train_shift, on=merging_keys, how='left') #.fillna(0)\n",
        "    \n",
        "del train_shift\n",
        "\n",
        "# Remove the first N rows which contain NaNs\n",
        "df = df[N:]\n",
        "    \n",
        "df.head()"
      ],
      "execution_count": 546,
      "outputs": [
        {
          "output_type": "stream",
          "text": [
            "/usr/local/lib/python3.6/dist-packages/ipykernel_launcher.py:3: TqdmDeprecationWarning: This function will be removed in tqdm==5.0.0\n",
            "Please use `tqdm.notebook.tqdm` instead of `tqdm.tqdm_notebook`\n",
            "  This is separate from the ipykernel package so we can avoid doing imports until\n"
          ],
          "name": "stderr"
        },
        {
          "output_type": "display_data",
          "data": {
            "application/vnd.jupyter.widget-view+json": {
              "model_id": "c8a5759f6b944e868c884b5ec6d11b88",
              "version_minor": 0,
              "version_major": 2
            },
            "text/plain": [
              "HBox(children=(IntProgress(value=0, max=3), HTML(value='')))"
            ]
          },
          "metadata": {
            "tags": []
          }
        },
        {
          "output_type": "stream",
          "text": [
            "\n"
          ],
          "name": "stdout"
        },
        {
          "output_type": "execute_result",
          "data": {
            "text/html": [
              "<div>\n",
              "<style scoped>\n",
              "    .dataframe tbody tr th:only-of-type {\n",
              "        vertical-align: middle;\n",
              "    }\n",
              "\n",
              "    .dataframe tbody tr th {\n",
              "        vertical-align: top;\n",
              "    }\n",
              "\n",
              "    .dataframe thead th {\n",
              "        text-align: right;\n",
              "    }\n",
              "</style>\n",
              "<table border=\"1\" class=\"dataframe\">\n",
              "  <thead>\n",
              "    <tr style=\"text-align: right;\">\n",
              "      <th></th>\n",
              "      <th>date</th>\n",
              "      <th>adj_close</th>\n",
              "      <th>volume</th>\n",
              "      <th>month</th>\n",
              "      <th>range_hl</th>\n",
              "      <th>range_oc</th>\n",
              "      <th>order_day</th>\n",
              "      <th>adj_close_lag_1</th>\n",
              "      <th>range_hl_lag_1</th>\n",
              "      <th>range_oc_lag_1</th>\n",
              "      <th>volume_lag_1</th>\n",
              "      <th>adj_close_lag_2</th>\n",
              "      <th>range_hl_lag_2</th>\n",
              "      <th>range_oc_lag_2</th>\n",
              "      <th>volume_lag_2</th>\n",
              "      <th>adj_close_lag_3</th>\n",
              "      <th>range_hl_lag_3</th>\n",
              "      <th>range_oc_lag_3</th>\n",
              "      <th>volume_lag_3</th>\n",
              "    </tr>\n",
              "  </thead>\n",
              "  <tbody>\n",
              "    <tr>\n",
              "      <th>3</th>\n",
              "      <td>2015-01-06</td>\n",
              "      <td>762.863708</td>\n",
              "      <td>0.0</td>\n",
              "      <td>1</td>\n",
              "      <td>0.0</td>\n",
              "      <td>0.0</td>\n",
              "      <td>3</td>\n",
              "      <td>762.863708</td>\n",
              "      <td>0.0</td>\n",
              "      <td>0.0</td>\n",
              "      <td>0.0</td>\n",
              "      <td>762.863708</td>\n",
              "      <td>0.0</td>\n",
              "      <td>0.0</td>\n",
              "      <td>0.0</td>\n",
              "      <td>762.863708</td>\n",
              "      <td>0.0</td>\n",
              "      <td>0.0</td>\n",
              "      <td>0.0</td>\n",
              "    </tr>\n",
              "    <tr>\n",
              "      <th>4</th>\n",
              "      <td>2015-01-07</td>\n",
              "      <td>762.863708</td>\n",
              "      <td>0.0</td>\n",
              "      <td>1</td>\n",
              "      <td>0.0</td>\n",
              "      <td>0.0</td>\n",
              "      <td>4</td>\n",
              "      <td>762.863708</td>\n",
              "      <td>0.0</td>\n",
              "      <td>0.0</td>\n",
              "      <td>0.0</td>\n",
              "      <td>762.863708</td>\n",
              "      <td>0.0</td>\n",
              "      <td>0.0</td>\n",
              "      <td>0.0</td>\n",
              "      <td>762.863708</td>\n",
              "      <td>0.0</td>\n",
              "      <td>0.0</td>\n",
              "      <td>0.0</td>\n",
              "    </tr>\n",
              "    <tr>\n",
              "      <th>5</th>\n",
              "      <td>2015-01-08</td>\n",
              "      <td>762.863708</td>\n",
              "      <td>0.0</td>\n",
              "      <td>1</td>\n",
              "      <td>0.0</td>\n",
              "      <td>0.0</td>\n",
              "      <td>5</td>\n",
              "      <td>762.863708</td>\n",
              "      <td>0.0</td>\n",
              "      <td>0.0</td>\n",
              "      <td>0.0</td>\n",
              "      <td>762.863708</td>\n",
              "      <td>0.0</td>\n",
              "      <td>0.0</td>\n",
              "      <td>0.0</td>\n",
              "      <td>762.863708</td>\n",
              "      <td>0.0</td>\n",
              "      <td>0.0</td>\n",
              "      <td>0.0</td>\n",
              "    </tr>\n",
              "    <tr>\n",
              "      <th>6</th>\n",
              "      <td>2015-01-09</td>\n",
              "      <td>762.863708</td>\n",
              "      <td>0.0</td>\n",
              "      <td>1</td>\n",
              "      <td>0.0</td>\n",
              "      <td>0.0</td>\n",
              "      <td>6</td>\n",
              "      <td>762.863708</td>\n",
              "      <td>0.0</td>\n",
              "      <td>0.0</td>\n",
              "      <td>0.0</td>\n",
              "      <td>762.863708</td>\n",
              "      <td>0.0</td>\n",
              "      <td>0.0</td>\n",
              "      <td>0.0</td>\n",
              "      <td>762.863708</td>\n",
              "      <td>0.0</td>\n",
              "      <td>0.0</td>\n",
              "      <td>0.0</td>\n",
              "    </tr>\n",
              "    <tr>\n",
              "      <th>7</th>\n",
              "      <td>2015-01-12</td>\n",
              "      <td>762.863708</td>\n",
              "      <td>0.0</td>\n",
              "      <td>1</td>\n",
              "      <td>0.0</td>\n",
              "      <td>0.0</td>\n",
              "      <td>7</td>\n",
              "      <td>762.863708</td>\n",
              "      <td>0.0</td>\n",
              "      <td>0.0</td>\n",
              "      <td>0.0</td>\n",
              "      <td>762.863708</td>\n",
              "      <td>0.0</td>\n",
              "      <td>0.0</td>\n",
              "      <td>0.0</td>\n",
              "      <td>762.863708</td>\n",
              "      <td>0.0</td>\n",
              "      <td>0.0</td>\n",
              "      <td>0.0</td>\n",
              "    </tr>\n",
              "  </tbody>\n",
              "</table>\n",
              "</div>"
            ],
            "text/plain": [
              "        date   adj_close  volume  ...  range_hl_lag_3  range_oc_lag_3  volume_lag_3\n",
              "3 2015-01-06  762.863708     0.0  ...             0.0             0.0           0.0\n",
              "4 2015-01-07  762.863708     0.0  ...             0.0             0.0           0.0\n",
              "5 2015-01-08  762.863708     0.0  ...             0.0             0.0           0.0\n",
              "6 2015-01-09  762.863708     0.0  ...             0.0             0.0           0.0\n",
              "7 2015-01-12  762.863708     0.0  ...             0.0             0.0           0.0\n",
              "\n",
              "[5 rows x 19 columns]"
            ]
          },
          "metadata": {
            "tags": []
          },
          "execution_count": 546
        }
      ]
    },
    {
      "cell_type": "code",
      "metadata": {
        "id": "bb9rcI7yTJfP",
        "colab_type": "code",
        "colab": {
          "base_uri": "https://localhost:8080/",
          "height": 485
        },
        "outputId": "834b65b9-d104-409d-919c-24314217d7f8"
      },
      "source": [
        "df.info()"
      ],
      "execution_count": 547,
      "outputs": [
        {
          "output_type": "stream",
          "text": [
            "<class 'pandas.core.frame.DataFrame'>\n",
            "Int64Index: 1224 entries, 3 to 1226\n",
            "Data columns (total 19 columns):\n",
            " #   Column           Non-Null Count  Dtype         \n",
            "---  ------           --------------  -----         \n",
            " 0   date             1224 non-null   datetime64[ns]\n",
            " 1   adj_close        1224 non-null   float64       \n",
            " 2   volume           1224 non-null   float64       \n",
            " 3   month            1224 non-null   int64         \n",
            " 4   range_hl         1224 non-null   float64       \n",
            " 5   range_oc         1224 non-null   float64       \n",
            " 6   order_day        1224 non-null   int64         \n",
            " 7   adj_close_lag_1  1224 non-null   float64       \n",
            " 8   range_hl_lag_1   1224 non-null   float64       \n",
            " 9   range_oc_lag_1   1224 non-null   float64       \n",
            " 10  volume_lag_1     1224 non-null   float64       \n",
            " 11  adj_close_lag_2  1224 non-null   float64       \n",
            " 12  range_hl_lag_2   1224 non-null   float64       \n",
            " 13  range_oc_lag_2   1224 non-null   float64       \n",
            " 14  volume_lag_2     1224 non-null   float64       \n",
            " 15  adj_close_lag_3  1224 non-null   float64       \n",
            " 16  range_hl_lag_3   1224 non-null   float64       \n",
            " 17  range_oc_lag_3   1224 non-null   float64       \n",
            " 18  volume_lag_3     1224 non-null   float64       \n",
            "dtypes: datetime64[ns](1), float64(16), int64(2)\n",
            "memory usage: 191.2 KB\n"
          ],
          "name": "stdout"
        }
      ]
    },
    {
      "cell_type": "code",
      "metadata": {
        "id": "64WrP3oyTJfV",
        "colab_type": "code",
        "colab": {}
      },
      "source": [
        "# # Get mean of adj_close of each month\n",
        "# df_gb = df.groupby(['month'], as_index=False).agg({'adj_close':'mean'})\n",
        "# df_gb = df_gb.rename(columns={'adj_close':'adj_close_mean'})\n",
        "# df_gb\n",
        "\n",
        "# # Merge to main df\n",
        "# df = df.merge(df_gb, \n",
        "#               left_on=['month'], \n",
        "#               right_on=['month'],\n",
        "#               how='left').fillna(0)\n",
        "\n",
        "# # Merge to main df\n",
        "# shift_range = [x+1 for x in range(2)]\n",
        "\n",
        "# for shift in tqdm_notebook(shift_range):\n",
        "#     train_shift = df[merging_keys + lag_cols].copy()\n",
        "    \n",
        "#     # E.g. order_day of 0 becomes 1, for shift = 1.\n",
        "#     # So when this is merged with order_day of 1 in df, this will represent lag of 1.\n",
        "#     train_shift['order_day'] = train_shift['order_day'] + shift\n",
        "    \n",
        "#     foo = lambda x: '{}_lag_{}'.format(x, shift) if x in lag_cols else x\n",
        "#     train_shift = train_shift.rename(columns=foo)\n",
        "\n",
        "#     df = pd.merge(df, train_shift, on=merging_keys, how='left') #.fillna(0)\n",
        "    \n",
        "# del train_shift\n",
        "    \n",
        "# df"
      ],
      "execution_count": 0,
      "outputs": []
    },
    {
      "cell_type": "code",
      "metadata": {
        "id": "OWFPONc6TJfe",
        "colab_type": "code",
        "colab": {}
      },
      "source": [
        "# # Get mean of volume of each month\n",
        "# df_gb = df.groupby(['month'], as_index=False).agg({'volume':'mean'})\n",
        "# df_gb = df_gb.rename(columns={'volume':'volume_mean'})\n",
        "# df_gb\n",
        "\n",
        "# # Merge to main df\n",
        "# df = df.merge(df_gb, \n",
        "#               left_on=['month'], \n",
        "#               right_on=['month'],\n",
        "#               how='left').fillna(0)\n",
        "\n",
        "# df.head()"
      ],
      "execution_count": 0,
      "outputs": []
    },
    {
      "cell_type": "markdown",
      "metadata": {
        "id": "-dej37btTJfm",
        "colab_type": "text"
      },
      "source": [
        "# Get mean and std dev at timestamp t using values from t-1, ..., t-N"
      ]
    },
    {
      "cell_type": "code",
      "metadata": {
        "id": "s2caW6v9TJfq",
        "colab_type": "code",
        "colab": {
          "base_uri": "https://localhost:8080/",
          "height": 309
        },
        "outputId": "4ba1f564-7a01-4050-e03a-07d487a3055f"
      },
      "source": [
        "cols_list = [\n",
        "\"adj_close\",\n",
        "\"range_hl\",\n",
        "\"range_oc\",\n",
        "\"volume\"\n",
        "]\n",
        "\n",
        "for col in cols_list:\n",
        "    df = get_mov_avg_std(df, col, N)\n",
        "df.head()"
      ],
      "execution_count": 550,
      "outputs": [
        {
          "output_type": "execute_result",
          "data": {
            "text/html": [
              "<div>\n",
              "<style scoped>\n",
              "    .dataframe tbody tr th:only-of-type {\n",
              "        vertical-align: middle;\n",
              "    }\n",
              "\n",
              "    .dataframe tbody tr th {\n",
              "        vertical-align: top;\n",
              "    }\n",
              "\n",
              "    .dataframe thead th {\n",
              "        text-align: right;\n",
              "    }\n",
              "</style>\n",
              "<table border=\"1\" class=\"dataframe\">\n",
              "  <thead>\n",
              "    <tr style=\"text-align: right;\">\n",
              "      <th></th>\n",
              "      <th>date</th>\n",
              "      <th>adj_close</th>\n",
              "      <th>volume</th>\n",
              "      <th>month</th>\n",
              "      <th>range_hl</th>\n",
              "      <th>range_oc</th>\n",
              "      <th>order_day</th>\n",
              "      <th>adj_close_lag_1</th>\n",
              "      <th>range_hl_lag_1</th>\n",
              "      <th>range_oc_lag_1</th>\n",
              "      <th>volume_lag_1</th>\n",
              "      <th>adj_close_lag_2</th>\n",
              "      <th>range_hl_lag_2</th>\n",
              "      <th>range_oc_lag_2</th>\n",
              "      <th>volume_lag_2</th>\n",
              "      <th>adj_close_lag_3</th>\n",
              "      <th>range_hl_lag_3</th>\n",
              "      <th>range_oc_lag_3</th>\n",
              "      <th>volume_lag_3</th>\n",
              "      <th>adj_close_mean</th>\n",
              "      <th>adj_close_std</th>\n",
              "      <th>range_hl_mean</th>\n",
              "      <th>range_hl_std</th>\n",
              "      <th>range_oc_mean</th>\n",
              "      <th>range_oc_std</th>\n",
              "      <th>volume_mean</th>\n",
              "      <th>volume_std</th>\n",
              "    </tr>\n",
              "  </thead>\n",
              "  <tbody>\n",
              "    <tr>\n",
              "      <th>3</th>\n",
              "      <td>2015-01-06</td>\n",
              "      <td>762.863708</td>\n",
              "      <td>0.0</td>\n",
              "      <td>1</td>\n",
              "      <td>0.0</td>\n",
              "      <td>0.0</td>\n",
              "      <td>3</td>\n",
              "      <td>762.863708</td>\n",
              "      <td>0.0</td>\n",
              "      <td>0.0</td>\n",
              "      <td>0.0</td>\n",
              "      <td>762.863708</td>\n",
              "      <td>0.0</td>\n",
              "      <td>0.0</td>\n",
              "      <td>0.0</td>\n",
              "      <td>762.863708</td>\n",
              "      <td>0.0</td>\n",
              "      <td>0.0</td>\n",
              "      <td>0.0</td>\n",
              "      <td>NaN</td>\n",
              "      <td>NaN</td>\n",
              "      <td>NaN</td>\n",
              "      <td>NaN</td>\n",
              "      <td>NaN</td>\n",
              "      <td>NaN</td>\n",
              "      <td>NaN</td>\n",
              "      <td>NaN</td>\n",
              "    </tr>\n",
              "    <tr>\n",
              "      <th>4</th>\n",
              "      <td>2015-01-07</td>\n",
              "      <td>762.863708</td>\n",
              "      <td>0.0</td>\n",
              "      <td>1</td>\n",
              "      <td>0.0</td>\n",
              "      <td>0.0</td>\n",
              "      <td>4</td>\n",
              "      <td>762.863708</td>\n",
              "      <td>0.0</td>\n",
              "      <td>0.0</td>\n",
              "      <td>0.0</td>\n",
              "      <td>762.863708</td>\n",
              "      <td>0.0</td>\n",
              "      <td>0.0</td>\n",
              "      <td>0.0</td>\n",
              "      <td>762.863708</td>\n",
              "      <td>0.0</td>\n",
              "      <td>0.0</td>\n",
              "      <td>0.0</td>\n",
              "      <td>762.863708</td>\n",
              "      <td>NaN</td>\n",
              "      <td>0.0</td>\n",
              "      <td>NaN</td>\n",
              "      <td>0.0</td>\n",
              "      <td>NaN</td>\n",
              "      <td>0.0</td>\n",
              "      <td>NaN</td>\n",
              "    </tr>\n",
              "    <tr>\n",
              "      <th>5</th>\n",
              "      <td>2015-01-08</td>\n",
              "      <td>762.863708</td>\n",
              "      <td>0.0</td>\n",
              "      <td>1</td>\n",
              "      <td>0.0</td>\n",
              "      <td>0.0</td>\n",
              "      <td>5</td>\n",
              "      <td>762.863708</td>\n",
              "      <td>0.0</td>\n",
              "      <td>0.0</td>\n",
              "      <td>0.0</td>\n",
              "      <td>762.863708</td>\n",
              "      <td>0.0</td>\n",
              "      <td>0.0</td>\n",
              "      <td>0.0</td>\n",
              "      <td>762.863708</td>\n",
              "      <td>0.0</td>\n",
              "      <td>0.0</td>\n",
              "      <td>0.0</td>\n",
              "      <td>762.863708</td>\n",
              "      <td>0.0</td>\n",
              "      <td>0.0</td>\n",
              "      <td>0.0</td>\n",
              "      <td>0.0</td>\n",
              "      <td>0.0</td>\n",
              "      <td>0.0</td>\n",
              "      <td>0.0</td>\n",
              "    </tr>\n",
              "    <tr>\n",
              "      <th>6</th>\n",
              "      <td>2015-01-09</td>\n",
              "      <td>762.863708</td>\n",
              "      <td>0.0</td>\n",
              "      <td>1</td>\n",
              "      <td>0.0</td>\n",
              "      <td>0.0</td>\n",
              "      <td>6</td>\n",
              "      <td>762.863708</td>\n",
              "      <td>0.0</td>\n",
              "      <td>0.0</td>\n",
              "      <td>0.0</td>\n",
              "      <td>762.863708</td>\n",
              "      <td>0.0</td>\n",
              "      <td>0.0</td>\n",
              "      <td>0.0</td>\n",
              "      <td>762.863708</td>\n",
              "      <td>0.0</td>\n",
              "      <td>0.0</td>\n",
              "      <td>0.0</td>\n",
              "      <td>762.863708</td>\n",
              "      <td>0.0</td>\n",
              "      <td>0.0</td>\n",
              "      <td>0.0</td>\n",
              "      <td>0.0</td>\n",
              "      <td>0.0</td>\n",
              "      <td>0.0</td>\n",
              "      <td>0.0</td>\n",
              "    </tr>\n",
              "    <tr>\n",
              "      <th>7</th>\n",
              "      <td>2015-01-12</td>\n",
              "      <td>762.863708</td>\n",
              "      <td>0.0</td>\n",
              "      <td>1</td>\n",
              "      <td>0.0</td>\n",
              "      <td>0.0</td>\n",
              "      <td>7</td>\n",
              "      <td>762.863708</td>\n",
              "      <td>0.0</td>\n",
              "      <td>0.0</td>\n",
              "      <td>0.0</td>\n",
              "      <td>762.863708</td>\n",
              "      <td>0.0</td>\n",
              "      <td>0.0</td>\n",
              "      <td>0.0</td>\n",
              "      <td>762.863708</td>\n",
              "      <td>0.0</td>\n",
              "      <td>0.0</td>\n",
              "      <td>0.0</td>\n",
              "      <td>762.863708</td>\n",
              "      <td>0.0</td>\n",
              "      <td>0.0</td>\n",
              "      <td>0.0</td>\n",
              "      <td>0.0</td>\n",
              "      <td>0.0</td>\n",
              "      <td>0.0</td>\n",
              "      <td>0.0</td>\n",
              "    </tr>\n",
              "  </tbody>\n",
              "</table>\n",
              "</div>"
            ],
            "text/plain": [
              "        date   adj_close  volume  ...  range_oc_std  volume_mean  volume_std\n",
              "3 2015-01-06  762.863708     0.0  ...           NaN          NaN         NaN\n",
              "4 2015-01-07  762.863708     0.0  ...           NaN          0.0         NaN\n",
              "5 2015-01-08  762.863708     0.0  ...           0.0          0.0         0.0\n",
              "6 2015-01-09  762.863708     0.0  ...           0.0          0.0         0.0\n",
              "7 2015-01-12  762.863708     0.0  ...           0.0          0.0         0.0\n",
              "\n",
              "[5 rows x 27 columns]"
            ]
          },
          "metadata": {
            "tags": []
          },
          "execution_count": 550
        }
      ]
    },
    {
      "cell_type": "markdown",
      "metadata": {
        "id": "rt8i0amlTJf0",
        "colab_type": "text"
      },
      "source": [
        "# Split into train, dev and test set"
      ]
    },
    {
      "cell_type": "code",
      "metadata": {
        "id": "NjJDj1FVTJf2",
        "colab_type": "code",
        "colab": {
          "base_uri": "https://localhost:8080/",
          "height": 143
        },
        "outputId": "9680c83a-0f56-4632-8110-7f6ec80a5ef0"
      },
      "source": [
        "# Get sizes of each of the datasets\n",
        "num_cv = int(cv_size*len(df))\n",
        "num_test = int(test_size*len(df))\n",
        "num_train = len(df) - num_cv - num_test\n",
        "print(\"num_train = \" + str(num_train))\n",
        "print(\"num_cv = \" + str(num_cv))\n",
        "print(\"num_test = \" + str(num_test))\n",
        "\n",
        "# Split into train, cv, and test\n",
        "train = df[:num_train]\n",
        "cv = df[num_train:num_train+num_cv]\n",
        "train_cv = df[:num_train+num_cv]\n",
        "test = df[num_train+num_cv:]\n",
        "print(\"train.shape = \" + str(train.shape))\n",
        "print(\"cv.shape = \" + str(cv.shape))\n",
        "print(\"train_cv.shape = \" + str(train_cv.shape))\n",
        "print(\"test.shape = \" + str(test.shape))"
      ],
      "execution_count": 551,
      "outputs": [
        {
          "output_type": "stream",
          "text": [
            "num_train = 736\n",
            "num_cv = 244\n",
            "num_test = 244\n",
            "train.shape = (736, 27)\n",
            "cv.shape = (244, 27)\n",
            "train_cv.shape = (980, 27)\n",
            "test.shape = (244, 27)\n"
          ],
          "name": "stdout"
        }
      ]
    },
    {
      "cell_type": "markdown",
      "metadata": {
        "id": "YdXIZQqKTJgB",
        "colab_type": "text"
      },
      "source": [
        "# Scale the train, dev and test set"
      ]
    },
    {
      "cell_type": "code",
      "metadata": {
        "id": "V4SedQkoTJgC",
        "colab_type": "code",
        "colab": {
          "base_uri": "https://localhost:8080/",
          "height": 489
        },
        "outputId": "c084212b-9ecb-48ac-c3eb-fbcd65692c84"
      },
      "source": [
        "cols_to_scale = [\n",
        "\"adj_close\"\n",
        "]\n",
        "\n",
        "for i in range(1,N+1):\n",
        "    cols_to_scale.append(\"adj_close_lag_\"+str(i))\n",
        "    cols_to_scale.append(\"range_hl_lag_\"+str(i))\n",
        "    cols_to_scale.append(\"range_oc_lag_\"+str(i))\n",
        "    cols_to_scale.append(\"volume_lag_\"+str(i))\n",
        "\n",
        "# Do scaling for train set\n",
        "# Here we only scale the train dataset, and not the entire dataset to prevent information leak\n",
        "scaler = StandardScaler()\n",
        "train_scaled = scaler.fit_transform(train[cols_to_scale])\n",
        "print(\"scaler.mean_ = \" + str(scaler.mean_))\n",
        "print(\"scaler.var_ = \" + str(scaler.var_))\n",
        "print(\"train_scaled.shape = \" + str(train_scaled.shape))\n",
        "\n",
        "# Convert the numpy array back into pandas dataframe\n",
        "train_scaled = pd.DataFrame(train_scaled, columns=cols_to_scale)\n",
        "train_scaled[['date', 'month']] = train.reset_index()[['date', 'month']]\n",
        "print(\"train_scaled.shape = \" + str(train_scaled.shape))\n",
        "train_scaled.head()"
      ],
      "execution_count": 552,
      "outputs": [
        {
          "output_type": "stream",
          "text": [
            "scaler.mean_ = [1.17250140e+03 1.17129492e+03 1.89727548e+01 1.05502416e-01\n",
            " 1.82283267e+06 1.17007290e+03 1.89591679e+01 1.02649188e-01\n",
            " 1.82149104e+06 1.16884386e+03 1.89361380e+01 1.00203469e-01\n",
            " 1.81963297e+06]\n",
            "scaler.var_ = [1.11222118e+05 1.11137779e+05 2.67277167e+02 2.11218496e+02\n",
            " 2.67884178e+12 1.11035411e+05 2.67656677e+02 2.11213098e+02\n",
            " 2.68240634e+12 1.10923104e+05 2.68139045e+02 2.11209192e+02\n",
            " 2.68663082e+12]\n",
            "train_scaled.shape = (736, 13)\n",
            "train_scaled.shape = (736, 15)\n"
          ],
          "name": "stdout"
        },
        {
          "output_type": "execute_result",
          "data": {
            "text/html": [
              "<div>\n",
              "<style scoped>\n",
              "    .dataframe tbody tr th:only-of-type {\n",
              "        vertical-align: middle;\n",
              "    }\n",
              "\n",
              "    .dataframe tbody tr th {\n",
              "        vertical-align: top;\n",
              "    }\n",
              "\n",
              "    .dataframe thead th {\n",
              "        text-align: right;\n",
              "    }\n",
              "</style>\n",
              "<table border=\"1\" class=\"dataframe\">\n",
              "  <thead>\n",
              "    <tr style=\"text-align: right;\">\n",
              "      <th></th>\n",
              "      <th>adj_close</th>\n",
              "      <th>adj_close_lag_1</th>\n",
              "      <th>range_hl_lag_1</th>\n",
              "      <th>range_oc_lag_1</th>\n",
              "      <th>volume_lag_1</th>\n",
              "      <th>adj_close_lag_2</th>\n",
              "      <th>range_hl_lag_2</th>\n",
              "      <th>range_oc_lag_2</th>\n",
              "      <th>volume_lag_2</th>\n",
              "      <th>adj_close_lag_3</th>\n",
              "      <th>range_hl_lag_3</th>\n",
              "      <th>range_oc_lag_3</th>\n",
              "      <th>volume_lag_3</th>\n",
              "      <th>date</th>\n",
              "      <th>month</th>\n",
              "    </tr>\n",
              "  </thead>\n",
              "  <tbody>\n",
              "    <tr>\n",
              "      <th>0</th>\n",
              "      <td>-1.2283</td>\n",
              "      <td>-1.225147</td>\n",
              "      <td>-1.160512</td>\n",
              "      <td>-0.007259</td>\n",
              "      <td>-1.113713</td>\n",
              "      <td>-1.222044</td>\n",
              "      <td>-1.158858</td>\n",
              "      <td>-0.007063</td>\n",
              "      <td>-1.112154</td>\n",
              "      <td>-1.218972</td>\n",
              "      <td>-1.156409</td>\n",
              "      <td>-0.006895</td>\n",
              "      <td>-1.110145</td>\n",
              "      <td>2015-01-06</td>\n",
              "      <td>1</td>\n",
              "    </tr>\n",
              "    <tr>\n",
              "      <th>1</th>\n",
              "      <td>-1.2283</td>\n",
              "      <td>-1.225147</td>\n",
              "      <td>-1.160512</td>\n",
              "      <td>-0.007259</td>\n",
              "      <td>-1.113713</td>\n",
              "      <td>-1.222044</td>\n",
              "      <td>-1.158858</td>\n",
              "      <td>-0.007063</td>\n",
              "      <td>-1.112154</td>\n",
              "      <td>-1.218972</td>\n",
              "      <td>-1.156409</td>\n",
              "      <td>-0.006895</td>\n",
              "      <td>-1.110145</td>\n",
              "      <td>2015-01-07</td>\n",
              "      <td>1</td>\n",
              "    </tr>\n",
              "    <tr>\n",
              "      <th>2</th>\n",
              "      <td>-1.2283</td>\n",
              "      <td>-1.225147</td>\n",
              "      <td>-1.160512</td>\n",
              "      <td>-0.007259</td>\n",
              "      <td>-1.113713</td>\n",
              "      <td>-1.222044</td>\n",
              "      <td>-1.158858</td>\n",
              "      <td>-0.007063</td>\n",
              "      <td>-1.112154</td>\n",
              "      <td>-1.218972</td>\n",
              "      <td>-1.156409</td>\n",
              "      <td>-0.006895</td>\n",
              "      <td>-1.110145</td>\n",
              "      <td>2015-01-08</td>\n",
              "      <td>1</td>\n",
              "    </tr>\n",
              "    <tr>\n",
              "      <th>3</th>\n",
              "      <td>-1.2283</td>\n",
              "      <td>-1.225147</td>\n",
              "      <td>-1.160512</td>\n",
              "      <td>-0.007259</td>\n",
              "      <td>-1.113713</td>\n",
              "      <td>-1.222044</td>\n",
              "      <td>-1.158858</td>\n",
              "      <td>-0.007063</td>\n",
              "      <td>-1.112154</td>\n",
              "      <td>-1.218972</td>\n",
              "      <td>-1.156409</td>\n",
              "      <td>-0.006895</td>\n",
              "      <td>-1.110145</td>\n",
              "      <td>2015-01-09</td>\n",
              "      <td>1</td>\n",
              "    </tr>\n",
              "    <tr>\n",
              "      <th>4</th>\n",
              "      <td>-1.2283</td>\n",
              "      <td>-1.225147</td>\n",
              "      <td>-1.160512</td>\n",
              "      <td>-0.007259</td>\n",
              "      <td>-1.113713</td>\n",
              "      <td>-1.222044</td>\n",
              "      <td>-1.158858</td>\n",
              "      <td>-0.007063</td>\n",
              "      <td>-1.112154</td>\n",
              "      <td>-1.218972</td>\n",
              "      <td>-1.156409</td>\n",
              "      <td>-0.006895</td>\n",
              "      <td>-1.110145</td>\n",
              "      <td>2015-01-12</td>\n",
              "      <td>1</td>\n",
              "    </tr>\n",
              "  </tbody>\n",
              "</table>\n",
              "</div>"
            ],
            "text/plain": [
              "   adj_close  adj_close_lag_1  range_hl_lag_1  ...  volume_lag_3       date  month\n",
              "0    -1.2283        -1.225147       -1.160512  ...     -1.110145 2015-01-06      1\n",
              "1    -1.2283        -1.225147       -1.160512  ...     -1.110145 2015-01-07      1\n",
              "2    -1.2283        -1.225147       -1.160512  ...     -1.110145 2015-01-08      1\n",
              "3    -1.2283        -1.225147       -1.160512  ...     -1.110145 2015-01-09      1\n",
              "4    -1.2283        -1.225147       -1.160512  ...     -1.110145 2015-01-12      1\n",
              "\n",
              "[5 rows x 15 columns]"
            ]
          },
          "metadata": {
            "tags": []
          },
          "execution_count": 552
        }
      ]
    },
    {
      "cell_type": "code",
      "metadata": {
        "id": "u75ROYyHTJgN",
        "colab_type": "code",
        "colab": {
          "base_uri": "https://localhost:8080/",
          "height": 489
        },
        "outputId": "fe699499-f43d-4520-dba2-2ae773c2734c"
      },
      "source": [
        "# Do scaling for train+dev set\n",
        "scaler_train_cv = StandardScaler()\n",
        "train_cv_scaled = scaler_train_cv.fit_transform(train_cv[cols_to_scale])\n",
        "print(\"scaler_train_cv.mean_ = \" + str(scaler_train_cv.mean_))\n",
        "print(\"scaler_train_cv.var_ = \" + str(scaler_train_cv.var_))\n",
        "print(\"train_cv_scaled.shape = \" + str(train_cv_scaled.shape))\n",
        "\n",
        "# Convert the numpy array back into pandas dataframe\n",
        "train_cv_scaled = pd.DataFrame(train_cv_scaled, columns=cols_to_scale)\n",
        "train_cv_scaled[['date', 'month']] = train_cv.reset_index()[['date', 'month']]\n",
        "print(\"train_cv_scaled.shape = \" + str(train_cv_scaled.shape))\n",
        "train_cv_scaled.head()"
      ],
      "execution_count": 553,
      "outputs": [
        {
          "output_type": "stream",
          "text": [
            "scaler_train_cv.mean_ = [1.33331108e+03 1.33214978e+03 2.33494361e+01 4.97193494e-01\n",
            " 2.09698356e+06 1.33101978e+03 2.32912729e+01 4.43264947e-01\n",
            " 2.09473078e+06 1.32984318e+03 2.32406607e+01 4.16530179e-01\n",
            " 2.09063226e+06]\n",
            "scaler_train_cv.var_ = [1.63236338e+05 1.63238264e+05 3.34764775e+02 3.07121700e+02\n",
            " 2.70329622e+12 1.63272213e+05 3.34162245e+02 3.04322295e+02\n",
            " 2.70776571e+12 1.63251112e+05 3.34006965e+02 3.03644829e+02\n",
            " 2.70845760e+12]\n",
            "train_cv_scaled.shape = (980, 13)\n",
            "train_cv_scaled.shape = (980, 15)\n"
          ],
          "name": "stdout"
        },
        {
          "output_type": "execute_result",
          "data": {
            "text/html": [
              "<div>\n",
              "<style scoped>\n",
              "    .dataframe tbody tr th:only-of-type {\n",
              "        vertical-align: middle;\n",
              "    }\n",
              "\n",
              "    .dataframe tbody tr th {\n",
              "        vertical-align: top;\n",
              "    }\n",
              "\n",
              "    .dataframe thead th {\n",
              "        text-align: right;\n",
              "    }\n",
              "</style>\n",
              "<table border=\"1\" class=\"dataframe\">\n",
              "  <thead>\n",
              "    <tr style=\"text-align: right;\">\n",
              "      <th></th>\n",
              "      <th>adj_close</th>\n",
              "      <th>adj_close_lag_1</th>\n",
              "      <th>range_hl_lag_1</th>\n",
              "      <th>range_oc_lag_1</th>\n",
              "      <th>volume_lag_1</th>\n",
              "      <th>adj_close_lag_2</th>\n",
              "      <th>range_hl_lag_2</th>\n",
              "      <th>range_oc_lag_2</th>\n",
              "      <th>volume_lag_2</th>\n",
              "      <th>adj_close_lag_3</th>\n",
              "      <th>range_hl_lag_3</th>\n",
              "      <th>range_oc_lag_3</th>\n",
              "      <th>volume_lag_3</th>\n",
              "      <th>date</th>\n",
              "      <th>month</th>\n",
              "    </tr>\n",
              "  </thead>\n",
              "  <tbody>\n",
              "    <tr>\n",
              "      <th>0</th>\n",
              "      <td>-1.41191</td>\n",
              "      <td>-1.409028</td>\n",
              "      <td>-1.276164</td>\n",
              "      <td>-0.028371</td>\n",
              "      <td>-1.275405</td>\n",
              "      <td>-1.406085</td>\n",
              "      <td>-1.274132</td>\n",
              "      <td>-0.02541</td>\n",
              "      <td>-1.272983</td>\n",
              "      <td>-1.403264</td>\n",
              "      <td>-1.271659</td>\n",
              "      <td>-0.023904</td>\n",
              "      <td>-1.27033</td>\n",
              "      <td>2015-01-06</td>\n",
              "      <td>1</td>\n",
              "    </tr>\n",
              "    <tr>\n",
              "      <th>1</th>\n",
              "      <td>-1.41191</td>\n",
              "      <td>-1.409028</td>\n",
              "      <td>-1.276164</td>\n",
              "      <td>-0.028371</td>\n",
              "      <td>-1.275405</td>\n",
              "      <td>-1.406085</td>\n",
              "      <td>-1.274132</td>\n",
              "      <td>-0.02541</td>\n",
              "      <td>-1.272983</td>\n",
              "      <td>-1.403264</td>\n",
              "      <td>-1.271659</td>\n",
              "      <td>-0.023904</td>\n",
              "      <td>-1.27033</td>\n",
              "      <td>2015-01-07</td>\n",
              "      <td>1</td>\n",
              "    </tr>\n",
              "    <tr>\n",
              "      <th>2</th>\n",
              "      <td>-1.41191</td>\n",
              "      <td>-1.409028</td>\n",
              "      <td>-1.276164</td>\n",
              "      <td>-0.028371</td>\n",
              "      <td>-1.275405</td>\n",
              "      <td>-1.406085</td>\n",
              "      <td>-1.274132</td>\n",
              "      <td>-0.02541</td>\n",
              "      <td>-1.272983</td>\n",
              "      <td>-1.403264</td>\n",
              "      <td>-1.271659</td>\n",
              "      <td>-0.023904</td>\n",
              "      <td>-1.27033</td>\n",
              "      <td>2015-01-08</td>\n",
              "      <td>1</td>\n",
              "    </tr>\n",
              "    <tr>\n",
              "      <th>3</th>\n",
              "      <td>-1.41191</td>\n",
              "      <td>-1.409028</td>\n",
              "      <td>-1.276164</td>\n",
              "      <td>-0.028371</td>\n",
              "      <td>-1.275405</td>\n",
              "      <td>-1.406085</td>\n",
              "      <td>-1.274132</td>\n",
              "      <td>-0.02541</td>\n",
              "      <td>-1.272983</td>\n",
              "      <td>-1.403264</td>\n",
              "      <td>-1.271659</td>\n",
              "      <td>-0.023904</td>\n",
              "      <td>-1.27033</td>\n",
              "      <td>2015-01-09</td>\n",
              "      <td>1</td>\n",
              "    </tr>\n",
              "    <tr>\n",
              "      <th>4</th>\n",
              "      <td>-1.41191</td>\n",
              "      <td>-1.409028</td>\n",
              "      <td>-1.276164</td>\n",
              "      <td>-0.028371</td>\n",
              "      <td>-1.275405</td>\n",
              "      <td>-1.406085</td>\n",
              "      <td>-1.274132</td>\n",
              "      <td>-0.02541</td>\n",
              "      <td>-1.272983</td>\n",
              "      <td>-1.403264</td>\n",
              "      <td>-1.271659</td>\n",
              "      <td>-0.023904</td>\n",
              "      <td>-1.27033</td>\n",
              "      <td>2015-01-12</td>\n",
              "      <td>1</td>\n",
              "    </tr>\n",
              "  </tbody>\n",
              "</table>\n",
              "</div>"
            ],
            "text/plain": [
              "   adj_close  adj_close_lag_1  range_hl_lag_1  ...  volume_lag_3       date  month\n",
              "0   -1.41191        -1.409028       -1.276164  ...      -1.27033 2015-01-06      1\n",
              "1   -1.41191        -1.409028       -1.276164  ...      -1.27033 2015-01-07      1\n",
              "2   -1.41191        -1.409028       -1.276164  ...      -1.27033 2015-01-08      1\n",
              "3   -1.41191        -1.409028       -1.276164  ...      -1.27033 2015-01-09      1\n",
              "4   -1.41191        -1.409028       -1.276164  ...      -1.27033 2015-01-12      1\n",
              "\n",
              "[5 rows x 15 columns]"
            ]
          },
          "metadata": {
            "tags": []
          },
          "execution_count": 553
        }
      ]
    },
    {
      "cell_type": "code",
      "metadata": {
        "scrolled": true,
        "id": "knh0Y_v0TJgX",
        "colab_type": "code",
        "colab": {
          "base_uri": "https://localhost:8080/",
          "height": 413,
          "referenced_widgets": [
            "75938ae4b1fc4ff7b1f3775e41a16191",
            "8ed64cefe42042fc806b0a1a1debd277",
            "37c0e69662cb4dd3bd8b3fbd0433c039",
            "c864b46061ce42aca5a3ad49696acb92",
            "d43909379bd344eeb264c3978664db8b",
            "0ced13b3f3d8416c926739ee09500773",
            "0f0cd7fbf10d4136ba27abc37330cab2",
            "531642e0b1264100a68e98d3f542f1d3"
          ]
        },
        "outputId": "f2ef295e-c6cd-4fcd-e8fd-b940afe436b2"
      },
      "source": [
        "# Do scaling for dev set\n",
        "cv_scaled = cv[['date']]\n",
        "for col in tqdm_notebook(cols_list):\n",
        "    feat_list = [col + '_lag_' + str(shift) for shift in range(1, N+1)]\n",
        "    temp = cv.apply(lambda row: scale_row(row[feat_list], row[col+'_mean'], row[col+'_std']), axis=1)\n",
        "    cv_scaled = pd.concat([cv_scaled, temp], axis=1)\n",
        "    \n",
        "# Now the entire dev set is scaled\n",
        "cv_scaled.head()"
      ],
      "execution_count": 554,
      "outputs": [
        {
          "output_type": "stream",
          "text": [
            "/usr/local/lib/python3.6/dist-packages/ipykernel_launcher.py:2: TqdmDeprecationWarning: This function will be removed in tqdm==5.0.0\n",
            "Please use `tqdm.notebook.tqdm` instead of `tqdm.tqdm_notebook`\n",
            "  \n"
          ],
          "name": "stderr"
        },
        {
          "output_type": "display_data",
          "data": {
            "application/vnd.jupyter.widget-view+json": {
              "model_id": "75938ae4b1fc4ff7b1f3775e41a16191",
              "version_minor": 0,
              "version_major": 2
            },
            "text/plain": [
              "HBox(children=(IntProgress(value=0, max=4), HTML(value='')))"
            ]
          },
          "metadata": {
            "tags": []
          }
        },
        {
          "output_type": "stream",
          "text": [
            "\n"
          ],
          "name": "stdout"
        },
        {
          "output_type": "execute_result",
          "data": {
            "text/html": [
              "<div>\n",
              "<style scoped>\n",
              "    .dataframe tbody tr th:only-of-type {\n",
              "        vertical-align: middle;\n",
              "    }\n",
              "\n",
              "    .dataframe tbody tr th {\n",
              "        vertical-align: top;\n",
              "    }\n",
              "\n",
              "    .dataframe thead th {\n",
              "        text-align: right;\n",
              "    }\n",
              "</style>\n",
              "<table border=\"1\" class=\"dataframe\">\n",
              "  <thead>\n",
              "    <tr style=\"text-align: right;\">\n",
              "      <th></th>\n",
              "      <th>date</th>\n",
              "      <th>adj_close_lag_1</th>\n",
              "      <th>adj_close_lag_2</th>\n",
              "      <th>adj_close_lag_3</th>\n",
              "      <th>range_hl_lag_1</th>\n",
              "      <th>range_hl_lag_2</th>\n",
              "      <th>range_hl_lag_3</th>\n",
              "      <th>range_oc_lag_1</th>\n",
              "      <th>range_oc_lag_2</th>\n",
              "      <th>range_oc_lag_3</th>\n",
              "      <th>volume_lag_1</th>\n",
              "      <th>volume_lag_2</th>\n",
              "      <th>volume_lag_3</th>\n",
              "    </tr>\n",
              "  </thead>\n",
              "  <tbody>\n",
              "    <tr>\n",
              "      <th>739</th>\n",
              "      <td>2017-12-29</td>\n",
              "      <td>-1.100167</td>\n",
              "      <td>0.246400</td>\n",
              "      <td>0.853768</td>\n",
              "      <td>1.017639</td>\n",
              "      <td>-0.981374</td>\n",
              "      <td>-0.036266</td>\n",
              "      <td>1.154542</td>\n",
              "      <td>-0.560676</td>\n",
              "      <td>-0.593866</td>\n",
              "      <td>-0.096019</td>\n",
              "      <td>-0.948527</td>\n",
              "      <td>1.044546</td>\n",
              "    </tr>\n",
              "    <tr>\n",
              "      <th>740</th>\n",
              "      <td>2018-01-01</td>\n",
              "      <td>0.733786</td>\n",
              "      <td>-1.139013</td>\n",
              "      <td>0.405227</td>\n",
              "      <td>-0.170450</td>\n",
              "      <td>1.074270</td>\n",
              "      <td>-0.903820</td>\n",
              "      <td>-0.976238</td>\n",
              "      <td>1.022179</td>\n",
              "      <td>-0.045941</td>\n",
              "      <td>1.145521</td>\n",
              "      <td>-0.446920</td>\n",
              "      <td>-0.698602</td>\n",
              "    </tr>\n",
              "    <tr>\n",
              "      <th>741</th>\n",
              "      <td>2018-01-02</td>\n",
              "      <td>-0.976074</td>\n",
              "      <td>1.022321</td>\n",
              "      <td>-0.046247</td>\n",
              "      <td>0.992555</td>\n",
              "      <td>-1.007283</td>\n",
              "      <td>0.014728</td>\n",
              "      <td>0.782611</td>\n",
              "      <td>-1.126588</td>\n",
              "      <td>0.343976</td>\n",
              "      <td>-0.343000</td>\n",
              "      <td>1.126363</td>\n",
              "      <td>-0.783363</td>\n",
              "    </tr>\n",
              "    <tr>\n",
              "      <th>742</th>\n",
              "      <td>2018-01-03</td>\n",
              "      <td>0.298442</td>\n",
              "      <td>-1.115244</td>\n",
              "      <td>0.816801</td>\n",
              "      <td>-0.261871</td>\n",
              "      <td>1.104880</td>\n",
              "      <td>-0.843009</td>\n",
              "      <td>-0.618350</td>\n",
              "      <td>1.153706</td>\n",
              "      <td>-0.535356</td>\n",
              "      <td>-0.481522</td>\n",
              "      <td>-0.668141</td>\n",
              "      <td>1.149663</td>\n",
              "    </tr>\n",
              "    <tr>\n",
              "      <th>743</th>\n",
              "      <td>2018-01-04</td>\n",
              "      <td>0.458173</td>\n",
              "      <td>0.688823</td>\n",
              "      <td>-1.146996</td>\n",
              "      <td>-0.793345</td>\n",
              "      <td>-0.329931</td>\n",
              "      <td>1.123276</td>\n",
              "      <td>-0.070756</td>\n",
              "      <td>-0.962743</td>\n",
              "      <td>1.033499</td>\n",
              "      <td>1.148999</td>\n",
              "      <td>-0.475249</td>\n",
              "      <td>-0.673750</td>\n",
              "    </tr>\n",
              "  </tbody>\n",
              "</table>\n",
              "</div>"
            ],
            "text/plain": [
              "          date  adj_close_lag_1  ...  volume_lag_2  volume_lag_3\n",
              "739 2017-12-29        -1.100167  ...     -0.948527      1.044546\n",
              "740 2018-01-01         0.733786  ...     -0.446920     -0.698602\n",
              "741 2018-01-02        -0.976074  ...      1.126363     -0.783363\n",
              "742 2018-01-03         0.298442  ...     -0.668141      1.149663\n",
              "743 2018-01-04         0.458173  ...     -0.475249     -0.673750\n",
              "\n",
              "[5 rows x 13 columns]"
            ]
          },
          "metadata": {
            "tags": []
          },
          "execution_count": 554
        }
      ]
    },
    {
      "cell_type": "code",
      "metadata": {
        "id": "S_6g4nzXTJgj",
        "colab_type": "code",
        "colab": {
          "base_uri": "https://localhost:8080/",
          "height": 413,
          "referenced_widgets": [
            "be76b9d1d6cc463f82077c6f4c1b26ed",
            "2dfe23cbd8084e1f897843a9c4e25ca9",
            "161f6513a92a43f59661782461914539",
            "14ee5f46718a42ee990871b28483da0f",
            "b394cce409504db6890dd4a870e5c0b2",
            "20e9c59cb1db47a09e34af3cf4e695e8",
            "95a95a470ef446bf801264bdad7ef6a9",
            "1f1d41828d98472390d4a008d34361a1"
          ]
        },
        "outputId": "d7046acb-98a1-49de-8b8d-d91402ebe53f"
      },
      "source": [
        "# Do scaling for test set\n",
        "test_scaled = test[['date']]\n",
        "for col in tqdm_notebook(cols_list):\n",
        "    feat_list = [col + '_lag_' + str(shift) for shift in range(1, N+1)]\n",
        "    temp = test.apply(lambda row: scale_row(row[feat_list], row[col+'_mean'], row[col+'_std']), axis=1)\n",
        "    test_scaled = pd.concat([test_scaled, temp], axis=1)\n",
        "    \n",
        "# Now the entire test set is scaled\n",
        "test_scaled.head()"
      ],
      "execution_count": 555,
      "outputs": [
        {
          "output_type": "stream",
          "text": [
            "/usr/local/lib/python3.6/dist-packages/ipykernel_launcher.py:2: TqdmDeprecationWarning: This function will be removed in tqdm==5.0.0\n",
            "Please use `tqdm.notebook.tqdm` instead of `tqdm.tqdm_notebook`\n",
            "  \n"
          ],
          "name": "stderr"
        },
        {
          "output_type": "display_data",
          "data": {
            "application/vnd.jupyter.widget-view+json": {
              "model_id": "be76b9d1d6cc463f82077c6f4c1b26ed",
              "version_minor": 0,
              "version_major": 2
            },
            "text/plain": [
              "HBox(children=(IntProgress(value=0, max=4), HTML(value='')))"
            ]
          },
          "metadata": {
            "tags": []
          }
        },
        {
          "output_type": "stream",
          "text": [
            "\n"
          ],
          "name": "stdout"
        },
        {
          "output_type": "execute_result",
          "data": {
            "text/html": [
              "<div>\n",
              "<style scoped>\n",
              "    .dataframe tbody tr th:only-of-type {\n",
              "        vertical-align: middle;\n",
              "    }\n",
              "\n",
              "    .dataframe tbody tr th {\n",
              "        vertical-align: top;\n",
              "    }\n",
              "\n",
              "    .dataframe thead th {\n",
              "        text-align: right;\n",
              "    }\n",
              "</style>\n",
              "<table border=\"1\" class=\"dataframe\">\n",
              "  <thead>\n",
              "    <tr style=\"text-align: right;\">\n",
              "      <th></th>\n",
              "      <th>date</th>\n",
              "      <th>adj_close_lag_1</th>\n",
              "      <th>adj_close_lag_2</th>\n",
              "      <th>adj_close_lag_3</th>\n",
              "      <th>range_hl_lag_1</th>\n",
              "      <th>range_hl_lag_2</th>\n",
              "      <th>range_hl_lag_3</th>\n",
              "      <th>range_oc_lag_1</th>\n",
              "      <th>range_oc_lag_2</th>\n",
              "      <th>range_oc_lag_3</th>\n",
              "      <th>volume_lag_1</th>\n",
              "      <th>volume_lag_2</th>\n",
              "      <th>volume_lag_3</th>\n",
              "    </tr>\n",
              "  </thead>\n",
              "  <tbody>\n",
              "    <tr>\n",
              "      <th>983</th>\n",
              "      <td>2018-12-27</td>\n",
              "      <td>0.224547</td>\n",
              "      <td>-1.093183</td>\n",
              "      <td>0.868636</td>\n",
              "      <td>0.909806</td>\n",
              "      <td>0.160881</td>\n",
              "      <td>-1.070687</td>\n",
              "      <td>-1.105935</td>\n",
              "      <td>0.840510</td>\n",
              "      <td>0.265426</td>\n",
              "      <td>-0.818971</td>\n",
              "      <td>-0.295472</td>\n",
              "      <td>1.114443</td>\n",
              "    </tr>\n",
              "    <tr>\n",
              "      <th>984</th>\n",
              "      <td>2018-12-28</td>\n",
              "      <td>0.871673</td>\n",
              "      <td>0.220014</td>\n",
              "      <td>-1.091687</td>\n",
              "      <td>-1.147297</td>\n",
              "      <td>0.686704</td>\n",
              "      <td>0.460594</td>\n",
              "      <td>-0.119823</td>\n",
              "      <td>-0.934690</td>\n",
              "      <td>1.054513</td>\n",
              "      <td>-0.418980</td>\n",
              "      <td>-0.722359</td>\n",
              "      <td>1.141339</td>\n",
              "    </tr>\n",
              "    <tr>\n",
              "      <th>985</th>\n",
              "      <td>2018-12-31</td>\n",
              "      <td>1.091388</td>\n",
              "      <td>-0.219115</td>\n",
              "      <td>-0.872273</td>\n",
              "      <td>-0.189189</td>\n",
              "      <td>-0.891892</td>\n",
              "      <td>1.081081</td>\n",
              "      <td>-0.074717</td>\n",
              "      <td>1.035263</td>\n",
              "      <td>-0.960546</td>\n",
              "      <td>1.146570</td>\n",
              "      <td>-0.454824</td>\n",
              "      <td>-0.691746</td>\n",
              "    </tr>\n",
              "    <tr>\n",
              "      <th>986</th>\n",
              "      <td>2019-01-01</td>\n",
              "      <td>0.167556</td>\n",
              "      <td>0.905638</td>\n",
              "      <td>-1.073194</td>\n",
              "      <td>-0.324801</td>\n",
              "      <td>1.122024</td>\n",
              "      <td>-0.797224</td>\n",
              "      <td>0.995871</td>\n",
              "      <td>-1.004079</td>\n",
              "      <td>0.008208</td>\n",
              "      <td>0.455986</td>\n",
              "      <td>0.690733</td>\n",
              "      <td>-1.146719</td>\n",
              "    </tr>\n",
              "    <tr>\n",
              "      <th>987</th>\n",
              "      <td>2019-01-02</td>\n",
              "      <td>1.109524</td>\n",
              "      <td>-0.831741</td>\n",
              "      <td>-0.277783</td>\n",
              "      <td>1.101926</td>\n",
              "      <td>-0.849827</td>\n",
              "      <td>-0.252099</td>\n",
              "      <td>-0.870556</td>\n",
              "      <td>1.092240</td>\n",
              "      <td>-0.221683</td>\n",
              "      <td>-1.151092</td>\n",
              "      <td>0.496551</td>\n",
              "      <td>0.654541</td>\n",
              "    </tr>\n",
              "  </tbody>\n",
              "</table>\n",
              "</div>"
            ],
            "text/plain": [
              "          date  adj_close_lag_1  ...  volume_lag_2  volume_lag_3\n",
              "983 2018-12-27         0.224547  ...     -0.295472      1.114443\n",
              "984 2018-12-28         0.871673  ...     -0.722359      1.141339\n",
              "985 2018-12-31         1.091388  ...     -0.454824     -0.691746\n",
              "986 2019-01-01         0.167556  ...      0.690733     -1.146719\n",
              "987 2019-01-02         1.109524  ...      0.496551      0.654541\n",
              "\n",
              "[5 rows x 13 columns]"
            ]
          },
          "metadata": {
            "tags": []
          },
          "execution_count": 555
        }
      ]
    },
    {
      "cell_type": "markdown",
      "metadata": {
        "id": "05aRHFXfTJgv",
        "colab_type": "text"
      },
      "source": [
        "# Split into X and y"
      ]
    },
    {
      "cell_type": "code",
      "metadata": {
        "id": "jiSPQ3-vTJgy",
        "colab_type": "code",
        "colab": {
          "base_uri": "https://localhost:8080/",
          "height": 161
        },
        "outputId": "6c01d5ed-661b-4b6b-e435-69c6053398fa"
      },
      "source": [
        "features = []\n",
        "for i in range(1,N+1):\n",
        "    features.append(\"adj_close_lag_\"+str(i))\n",
        "    features.append(\"range_hl_lag_\"+str(i))\n",
        "    features.append(\"range_oc_lag_\"+str(i))\n",
        "    features.append(\"volume_lag_\"+str(i))\n",
        "\n",
        "target = \"adj_close\"\n",
        "\n",
        "\n",
        "# Split into X and y\n",
        "X_train = train[features]\n",
        "y_train = train[target]\n",
        "X_cv = cv[features]\n",
        "y_cv = cv[target]\n",
        "X_train_cv = train_cv[features]\n",
        "y_train_cv = train_cv[target]\n",
        "X_sample = test[features]\n",
        "y_sample = test[target]\n",
        "print(\"X_train.shape = \" + str(X_train.shape))\n",
        "print(\"y_train.shape = \" + str(y_train.shape))\n",
        "print(\"X_cv.shape = \" + str(X_cv.shape))\n",
        "print(\"y_cv.shape = \" + str(y_cv.shape))\n",
        "print(\"X_train_cv.shape = \" + str(X_train_cv.shape))\n",
        "print(\"y_train_cv.shape = \" + str(y_train_cv.shape))\n",
        "print(\"X_sample.shape = \" + str(X_sample.shape))\n",
        "print(\"y_sample.shape = \" + str(y_sample.shape))"
      ],
      "execution_count": 556,
      "outputs": [
        {
          "output_type": "stream",
          "text": [
            "X_train.shape = (736, 12)\n",
            "y_train.shape = (736,)\n",
            "X_cv.shape = (244, 12)\n",
            "y_cv.shape = (244,)\n",
            "X_train_cv.shape = (980, 12)\n",
            "y_train_cv.shape = (980,)\n",
            "X_sample.shape = (244, 12)\n",
            "y_sample.shape = (244,)\n"
          ],
          "name": "stdout"
        }
      ]
    },
    {
      "cell_type": "code",
      "metadata": {
        "id": "t80BtdJHTJg8",
        "colab_type": "code",
        "colab": {
          "base_uri": "https://localhost:8080/",
          "height": 125
        },
        "outputId": "30667bce-295a-48be-d027-f4c9f5c7aa0f"
      },
      "source": [
        "# Split into X and y\n",
        "X_train_scaled = train_scaled[features]\n",
        "y_train_scaled = train_scaled[target]\n",
        "X_cv_scaled = cv_scaled[features]\n",
        "X_train_cv_scaled = train_cv_scaled[features]\n",
        "y_train_cv_scaled = train_cv_scaled[target]\n",
        "X_sample_scaled = test_scaled[features]\n",
        "print(\"X_train_scaled.shape = \" + str(X_train_scaled.shape))\n",
        "print(\"y_train_scaled.shape = \" + str(y_train_scaled.shape))\n",
        "print(\"X_cv_scaled.shape = \" + str(X_cv_scaled.shape))\n",
        "print(\"X_train_cv_scaled.shape = \" + str(X_train_cv_scaled.shape))\n",
        "print(\"y_train_cv_scaled.shape = \" + str(y_train_cv_scaled.shape))\n",
        "print(\"X_sample_scaled.shape = \" + str(X_sample_scaled.shape))"
      ],
      "execution_count": 557,
      "outputs": [
        {
          "output_type": "stream",
          "text": [
            "X_train_scaled.shape = (736, 12)\n",
            "y_train_scaled.shape = (736,)\n",
            "X_cv_scaled.shape = (244, 12)\n",
            "X_train_cv_scaled.shape = (980, 12)\n",
            "y_train_cv_scaled.shape = (980,)\n",
            "X_sample_scaled.shape = (244, 12)\n"
          ],
          "name": "stdout"
        }
      ]
    },
    {
      "cell_type": "markdown",
      "metadata": {
        "id": "YrKsF_gcTJhF",
        "colab_type": "text"
      },
      "source": [
        "# EDA"
      ]
    },
    {
      "cell_type": "code",
      "metadata": {
        "id": "FeYLFNcATJhG",
        "colab_type": "code",
        "colab": {
          "base_uri": "https://localhost:8080/",
          "height": 481
        },
        "outputId": "5f407f50-76a4-4205-a1ba-cbf682270913"
      },
      "source": [
        "# Plot adjusted close over time\n",
        "rcParams['figure.figsize'] = 10, 8 # width 10, height 8\n",
        "\n",
        "ax = train.plot(x='date', y='adj_close', style='b-', grid=True)\n",
        "ax = cv.plot(x='date', y='adj_close', style='y-', grid=True, ax=ax)\n",
        "ax = test.plot(x='date', y='adj_close', style='g-', grid=True, ax=ax)\n",
        "ax.legend(['train', 'dev', 'test'])\n",
        "ax.set_xlabel(\"date\")\n",
        "ax.set_ylabel(\"INR\")\n",
        "ax.set_title(\"Without scaling\")\n",
        "\n",
        "fig = ax.get_figure()\n",
        "fig.savefig(\"/content/ouput/AdjClosenormal.pdf\",bbox_inches='tight')"
      ],
      "execution_count": 558,
      "outputs": [
        {
          "output_type": "display_data",
          "data": {
            "image/png": "[encoded data removed]",
            "text/plain": [
              "<Figure size 720x576 with 1 Axes>"
            ]
          },
          "metadata": {
            "tags": [],
            "needs_background": "light"
          }
        }
      ]
    },
    {
      "cell_type": "code",
      "metadata": {
        "id": "9czEq64QTJhQ",
        "colab_type": "code",
        "colab": {
          "base_uri": "https://localhost:8080/",
          "height": 507
        },
        "outputId": "ac07edb8-45fa-4837-a40c-0f811639473c"
      },
      "source": [
        "# Plot adjusted close over time\n",
        "rcParams['figure.figsize'] = 10, 8 # width 10, height 8\n",
        "\n",
        "ax = train_scaled.plot(x='date', y='adj_close', style='b-', grid=True)\n",
        "ax.legend(['train_scaled'])\n",
        "ax.set_xlabel(\"date\")\n",
        "ax.set_ylabel(\"INR (scaled)\")\n",
        "ax.set_title(\"With scaling\")"
      ],
      "execution_count": 559,
      "outputs": [
        {
          "output_type": "execute_result",
          "data": {
            "text/plain": [
              "Text(0.5, 1.0, 'With scaling')"
            ]
          },
          "metadata": {
            "tags": []
          },
          "execution_count": 559
        },
        {
          "output_type": "display_data",
          "data": {
            "image/png": "[encoded data removed]",
            "text/plain": [
              "<Figure size 720x576 with 1 Axes>"
            ]
          },
          "metadata": {
            "tags": [],
            "needs_background": "light"
          }
        }
      ]
    },
    {
      "cell_type": "markdown",
      "metadata": {
        "collapsed": true,
        "id": "WwOq3gMJTJha",
        "colab_type": "text"
      },
      "source": [
        "# Train the model using XGBoost"
      ]
    },
    {
      "cell_type": "code",
      "metadata": {
        "id": "SMvm8D0vTJhc",
        "colab_type": "code",
        "colab": {
          "base_uri": "https://localhost:8080/",
          "height": 161
        },
        "outputId": "759e7b57-8b3e-467d-b690-8ebae20a21b8"
      },
      "source": [
        "# Create the model\n",
        "model = XGBRegressor(seed=model_seed,\n",
        "                     n_estimators=n_estimators,\n",
        "                     max_depth=max_depth,\n",
        "                     learning_rate=learning_rate,\n",
        "                     min_child_weight=min_child_weight,\n",
        "                     subsample=subsample,\n",
        "                     colsample_bytree=colsample_bytree,\n",
        "                     colsample_bylevel=colsample_bylevel,\n",
        "                     gamma=gamma)\n",
        "\n",
        "# Train the regressor\n",
        "model.fit(X_train_scaled, y_train_scaled)"
      ],
      "execution_count": 560,
      "outputs": [
        {
          "output_type": "stream",
          "text": [
            "[17:25:03] WARNING: /workspace/src/objective/regression_obj.cu:152: reg:linear is now deprecated in favor of reg:squarederror.\n"
          ],
          "name": "stdout"
        },
        {
          "output_type": "execute_result",
          "data": {
            "text/plain": [
              "XGBRegressor(base_score=0.5, booster='gbtree', colsample_bylevel=1,\n",
              "             colsample_bynode=1, colsample_bytree=1, gamma=0,\n",
              "             importance_type='gain', learning_rate=0.1, max_delta_step=0,\n",
              "             max_depth=3, min_child_weight=1, missing=None, n_estimators=100,\n",
              "             n_jobs=1, nthread=None, objective='reg:linear', random_state=0,\n",
              "             reg_alpha=0, reg_lambda=1, scale_pos_weight=1, seed=100,\n",
              "             silent=None, subsample=1, verbosity=1)"
            ]
          },
          "metadata": {
            "tags": []
          },
          "execution_count": 560
        }
      ]
    },
    {
      "cell_type": "markdown",
      "metadata": {
        "id": "aeNV-ZC9TJhl",
        "colab_type": "text"
      },
      "source": [
        "# Predict on train set"
      ]
    },
    {
      "cell_type": "code",
      "metadata": {
        "id": "gdnUja1WTJhn",
        "colab_type": "code",
        "colab": {
          "base_uri": "https://localhost:8080/",
          "height": 53
        },
        "outputId": "96b73d87-b21b-44a3-b4dc-81697e4abea4"
      },
      "source": [
        "# Do prediction on train set\n",
        "est_scaled = model.predict(X_train_scaled)\n",
        "est = est_scaled * math.sqrt(scaler.var_[0]) + scaler.mean_[0]\n",
        "\n",
        "# Calculate RMSE\n",
        "print(\"RMSE on train set = %0.3f\" % math.sqrt(mean_squared_error(y_train, est)))\n",
        "\n",
        "# Calculate MAPE\n",
        "print(\"MAPE on train set = %0.3f%%\" % get_mape(y_train, est))"
      ],
      "execution_count": 561,
      "outputs": [
        {
          "output_type": "stream",
          "text": [
            "RMSE on train set = 16.974\n",
            "MAPE on train set = 0.561%\n"
          ],
          "name": "stdout"
        }
      ]
    },
    {
      "cell_type": "code",
      "metadata": {
        "id": "1CLdWv5PTJhy",
        "colab_type": "code",
        "colab": {
          "base_uri": "https://localhost:8080/",
          "height": 481
        },
        "outputId": "be1d9d75-5a43-4447-8bf1-fb4e62b5e4fb"
      },
      "source": [
        "# Plot adjusted close over time\n",
        "rcParams['figure.figsize'] = 10, 8 # width 10, height 8\n",
        "\n",
        "est_df = pd.DataFrame({'est': est, \n",
        "                       'date': train['date']})\n",
        "\n",
        "ax = train.plot(x='date', y='adj_close', style='b-', grid=True)\n",
        "ax = cv.plot(x='date', y='adj_close', style='y-', grid=True, ax=ax)\n",
        "ax = test.plot(x='date', y='adj_close', style='g-', grid=True, ax=ax)\n",
        "ax = est_df.plot(x='date', y='est', style='r-', grid=True, ax=ax)\n",
        "ax.legend(['train', 'dev', 'test', 'predictions'])\n",
        "ax.set_xlabel(\"date\")\n",
        "ax.set_ylabel(\"INR\")\n",
        "ax.set_title('Without scaling')\n",
        "fig = ax.get_figure()\n",
        "fig.savefig(\"/content/ouput/AdjClosetrain.pdf\",bbox_inches='tight')"
      ],
      "execution_count": 562,
      "outputs": [
        {
          "output_type": "display_data",
          "data": {
            "image/png": "[encoded data removed]",
            "text/plain": [
              "<Figure size 720x576 with 1 Axes>"
            ]
          },
          "metadata": {
            "tags": [],
            "needs_background": "light"
          }
        }
      ]
    },
    {
      "cell_type": "markdown",
      "metadata": {
        "id": "bcR2Q5JQTJh9",
        "colab_type": "text"
      },
      "source": [
        "# Predict on dev set"
      ]
    },
    {
      "cell_type": "code",
      "metadata": {
        "id": "jBTZrJVQTJh-",
        "colab_type": "code",
        "colab": {
          "base_uri": "https://localhost:8080/",
          "height": 269
        },
        "outputId": "8db6c8bf-fd5f-4207-b9c6-4f48f1e937d8"
      },
      "source": [
        "# Do prediction on test set\n",
        "est_scaled = model.predict(X_cv_scaled)\n",
        "cv['est_scaled'] = est_scaled\n",
        "cv['est'] = cv['est_scaled'] * cv['adj_close_std'] + cv['adj_close_mean']\n",
        "\n",
        "# Calculate RMSE\n",
        "rmse_bef_tuning = math.sqrt(mean_squared_error(y_cv, cv['est']))\n",
        "print(\"RMSE on dev set = %0.3f\" % rmse_bef_tuning)\n",
        "\n",
        "# Calculate MAPE\n",
        "mape_bef_tuning = get_mape(y_cv, cv['est'])\n",
        "print(\"MAPE on dev set = %0.3f%%\" % mape_bef_tuning)"
      ],
      "execution_count": 563,
      "outputs": [
        {
          "output_type": "stream",
          "text": [
            "RMSE on dev set = 27.433\n",
            "MAPE on dev set = 1.143%\n"
          ],
          "name": "stdout"
        },
        {
          "output_type": "stream",
          "text": [
            "/usr/local/lib/python3.6/dist-packages/ipykernel_launcher.py:2: SettingWithCopyWarning: \n",
            "A value is trying to be set on a copy of a slice from a DataFrame.\n",
            "Try using .loc[row_indexer,col_indexer] = value instead\n",
            "\n",
            "See the caveats in the documentation: https://pandas.pydata.org/pandas-docs/stable/user_guide/indexing.html#returning-a-view-versus-a-copy\n",
            "  \n",
            "/usr/local/lib/python3.6/dist-packages/ipykernel_launcher.py:3: SettingWithCopyWarning: \n",
            "A value is trying to be set on a copy of a slice from a DataFrame.\n",
            "Try using .loc[row_indexer,col_indexer] = value instead\n",
            "\n",
            "See the caveats in the documentation: https://pandas.pydata.org/pandas-docs/stable/user_guide/indexing.html#returning-a-view-versus-a-copy\n",
            "  This is separate from the ipykernel package so we can avoid doing imports until\n"
          ],
          "name": "stderr"
        }
      ]
    },
    {
      "cell_type": "code",
      "metadata": {
        "id": "ElIkzRbUTJiH",
        "colab_type": "code",
        "colab": {
          "base_uri": "https://localhost:8080/",
          "height": 465
        },
        "outputId": "6f92440d-7ccb-4a63-9a50-b1a4f2202f11"
      },
      "source": [
        "# Plot adjusted close over time\n",
        "rcParams['figure.figsize'] = 10, 8 # width 10, height 8\n",
        "\n",
        "est_df = pd.DataFrame({'est': cv['est'], \n",
        "                       'y_cv': y_cv,\n",
        "                       'date': cv['date']})\n",
        "\n",
        "ax = train.plot(x='date', y='adj_close', style='b-', grid=True)\n",
        "ax = cv.plot(x='date', y='adj_close', style='y-', grid=True, ax=ax)\n",
        "ax = test.plot(x='date', y='adj_close', style='g-', grid=True, ax=ax)\n",
        "ax = est_df.plot(x='date', y='est', style='r-', grid=True, ax=ax)\n",
        "ax.legend(['train', 'dev', 'test', 'predictions'])\n",
        "ax.set_xlabel(\"date\")\n",
        "ax.set_ylabel(\"INR\")\n",
        "fig = ax.get_figure()\n",
        "fig.savefig(\"/content/ouput/AdjClosedev.pdf\",bbox_inches='tight')"
      ],
      "execution_count": 564,
      "outputs": [
        {
          "output_type": "display_data",
          "data": {
            "image/png": "[encoded data removed]",
            "text/plain": [
              "<Figure size 720x576 with 1 Axes>"
            ]
          },
          "metadata": {
            "tags": [],
            "needs_background": "light"
          }
        }
      ]
    },
    {
      "cell_type": "code",
      "metadata": {
        "id": "y5SIqsDfTJiP",
        "colab_type": "code",
        "colab": {
          "base_uri": "https://localhost:8080/",
          "height": 507
        },
        "outputId": "ee4f5d15-d229-4cc9-fb45-7875aafb99f4"
      },
      "source": [
        "# Plot adjusted close over time, for dev set only\n",
        "rcParams['figure.figsize'] = 10, 8 # width 10, height 8\n",
        "ax = train.plot(x='date', y='adj_close', style='b-', grid=True)\n",
        "ax = cv.plot(x='date', y='adj_close', style='y-', grid=True, ax=ax)\n",
        "ax = test.plot(x='date', y='adj_close', style='g-', grid=True, ax=ax)\n",
        "ax = est_df.plot(x='date', y='est', style='r-', grid=True, ax=ax)\n",
        "ax.legend(['train', 'dev', 'test', 'predictions'])\n",
        "ax.set_xlabel(\"date\")\n",
        "ax.set_ylabel(\"INR\")\n",
        "ax.set_xlim([date(2017, 8, 1), date(2018, 5, 31)])\n",
        "ax.set_title(\"Zoom in to dev set\")"
      ],
      "execution_count": 565,
      "outputs": [
        {
          "output_type": "execute_result",
          "data": {
            "text/plain": [
              "Text(0.5, 1.0, 'Zoom in to dev set')"
            ]
          },
          "metadata": {
            "tags": []
          },
          "execution_count": 565
        },
        {
          "output_type": "display_data",
          "data": {
            "image/png": "[encoded data removed]",
            "text/plain": [
              "<Figure size 720x576 with 1 Axes>"
            ]
          },
          "metadata": {
            "tags": [],
            "needs_background": "light"
          }
        }
      ]
    },
    {
      "cell_type": "markdown",
      "metadata": {
        "id": "OM0Y6bK5TJiY",
        "colab_type": "text"
      },
      "source": [
        "The predictions capture the turn in directions with a slight lag"
      ]
    },
    {
      "cell_type": "code",
      "metadata": {
        "scrolled": false,
        "id": "dLPN8JRzTJiZ",
        "colab_type": "code",
        "colab": {
          "base_uri": "https://localhost:8080/",
          "height": 197
        },
        "outputId": "649be9e7-8cb6-4458-83f6-74ff09d3c91c"
      },
      "source": [
        "# View a list of the features and their importance scores\n",
        "imp = list(zip(train[features], model.feature_importances_))\n",
        "imp.sort(key=lambda tup: tup[1]) \n",
        "imp[-10:]"
      ],
      "execution_count": 566,
      "outputs": [
        {
          "output_type": "execute_result",
          "data": {
            "text/plain": [
              "[('range_hl_lag_1', 0.00029100233),\n",
              " ('range_hl_lag_3', 0.00030521385),\n",
              " ('range_oc_lag_2', 0.00035945454),\n",
              " ('range_hl_lag_2', 0.0004013952),\n",
              " ('volume_lag_3', 0.0004387194),\n",
              " ('range_oc_lag_1', 0.00046337952),\n",
              " ('volume_lag_1', 0.002739475),\n",
              " ('adj_close_lag_3', 0.0274705),\n",
              " ('adj_close_lag_2', 0.19297217),\n",
              " ('adj_close_lag_1', 0.77403486)]"
            ]
          },
          "metadata": {
            "tags": []
          },
          "execution_count": 566
        }
      ]
    },
    {
      "cell_type": "markdown",
      "metadata": {
        "id": "yRuRs8b5TJin",
        "colab_type": "text"
      },
      "source": [
        "Importance features dominated by adj_close and volume"
      ]
    },
    {
      "cell_type": "markdown",
      "metadata": {
        "id": "cvyJof1JTJio",
        "colab_type": "text"
      },
      "source": [
        "# Tuning N (no. of days to use as features)"
      ]
    },
    {
      "cell_type": "code",
      "metadata": {
        "scrolled": true,
        "id": "OttDeutKTJip",
        "colab_type": "code",
        "colab": {
          "base_uri": "https://localhost:8080/",
          "height": 266
        },
        "outputId": "dccd9713-5a7e-4d07-a6ac-820caf2dcfa8"
      },
      "source": [
        "d = {'N': [2, 3, 4, 5, 6, 7, 14],\n",
        "     'rmse_dev_set': [1.225, 1.214, 1.231, 1.249, 1.254, 1.251, 1.498],\n",
        "     'mape_pct_dev_set': [0.585, 0.581, 0.590, 0.601, 0.609, 0.612, 0.763]}\n",
        "pd.DataFrame(d)"
      ],
      "execution_count": 567,
      "outputs": [
        {
          "output_type": "execute_result",
          "data": {
            "text/html": [
              "<div>\n",
              "<style scoped>\n",
              "    .dataframe tbody tr th:only-of-type {\n",
              "        vertical-align: middle;\n",
              "    }\n",
              "\n",
              "    .dataframe tbody tr th {\n",
              "        vertical-align: top;\n",
              "    }\n",
              "\n",
              "    .dataframe thead th {\n",
              "        text-align: right;\n",
              "    }\n",
              "</style>\n",
              "<table border=\"1\" class=\"dataframe\">\n",
              "  <thead>\n",
              "    <tr style=\"text-align: right;\">\n",
              "      <th></th>\n",
              "      <th>N</th>\n",
              "      <th>rmse_dev_set</th>\n",
              "      <th>mape_pct_dev_set</th>\n",
              "    </tr>\n",
              "  </thead>\n",
              "  <tbody>\n",
              "    <tr>\n",
              "      <th>0</th>\n",
              "      <td>2</td>\n",
              "      <td>1.225</td>\n",
              "      <td>0.585</td>\n",
              "    </tr>\n",
              "    <tr>\n",
              "      <th>1</th>\n",
              "      <td>3</td>\n",
              "      <td>1.214</td>\n",
              "      <td>0.581</td>\n",
              "    </tr>\n",
              "    <tr>\n",
              "      <th>2</th>\n",
              "      <td>4</td>\n",
              "      <td>1.231</td>\n",
              "      <td>0.590</td>\n",
              "    </tr>\n",
              "    <tr>\n",
              "      <th>3</th>\n",
              "      <td>5</td>\n",
              "      <td>1.249</td>\n",
              "      <td>0.601</td>\n",
              "    </tr>\n",
              "    <tr>\n",
              "      <th>4</th>\n",
              "      <td>6</td>\n",
              "      <td>1.254</td>\n",
              "      <td>0.609</td>\n",
              "    </tr>\n",
              "    <tr>\n",
              "      <th>5</th>\n",
              "      <td>7</td>\n",
              "      <td>1.251</td>\n",
              "      <td>0.612</td>\n",
              "    </tr>\n",
              "    <tr>\n",
              "      <th>6</th>\n",
              "      <td>14</td>\n",
              "      <td>1.498</td>\n",
              "      <td>0.763</td>\n",
              "    </tr>\n",
              "  </tbody>\n",
              "</table>\n",
              "</div>"
            ],
            "text/plain": [
              "    N  rmse_dev_set  mape_pct_dev_set\n",
              "0   2         1.225             0.585\n",
              "1   3         1.214             0.581\n",
              "2   4         1.231             0.590\n",
              "3   5         1.249             0.601\n",
              "4   6         1.254             0.609\n",
              "5   7         1.251             0.612\n",
              "6  14         1.498             0.763"
            ]
          },
          "metadata": {
            "tags": []
          },
          "execution_count": 567
        }
      ]
    },
    {
      "cell_type": "markdown",
      "metadata": {
        "id": "7da4i_p3TJi0",
        "colab_type": "text"
      },
      "source": [
        "Use N = 3 for lowest RMSE and MAPE"
      ]
    },
    {
      "cell_type": "markdown",
      "metadata": {
        "id": "HKm50jZVTJi1",
        "colab_type": "text"
      },
      "source": [
        "# Tuning XGBoost - n_estimators (default=100) and max_depth (default=3)"
      ]
    },
    {
      "cell_type": "code",
      "metadata": {
        "id": "YGVe0gzDTJi3",
        "colab_type": "code",
        "colab": {
          "base_uri": "https://localhost:8080/",
          "height": 1000,
          "referenced_widgets": [
            "374569feb5934848ae364b7018100ddb",
            "306a2960efd740b5a88886c51e13de7c",
            "c9cedf85a8b44a4eaf83e35bf1c5887a",
            "0863209652334dce897dfbaee487b35c",
            "5291de7340d44f34b2b325a3356d447a",
            "1e0ac5a15ed54f7db6b486556b51aa3d",
            "b5e0d353313e4db783f4afa7552d42e5",
            "0258fdf4340847f48f0a6581a6cb367c"
          ]
        },
        "outputId": "54f43725-a796-4481-b137-167da0ccc0df"
      },
      "source": [
        "param_label = 'n_estimators'\n",
        "param_list = range(10, 310, 10)\n",
        "\n",
        "param2_label = 'max_depth'\n",
        "param2_list = [2, 3, 4, 5, 6, 7, 8, 9]\n",
        "\n",
        "error_rate = {param_label: [] , param2_label: [], 'rmse': [], 'mape_pct': []}\n",
        "tic = time.time()\n",
        "for param in tqdm_notebook(param_list):\n",
        "#     print(\"param = \" + str(param))\n",
        "    \n",
        "    for param2 in param2_list:\n",
        "        # Train, predict and eval model\n",
        "        rmse, mape, _ = train_pred_eval_model(X_train_scaled, \n",
        "                                     y_train_scaled, \n",
        "                                     X_cv_scaled, \n",
        "                                     y_cv, \n",
        "                                     cv['adj_close_mean'],\n",
        "                                     cv['adj_close_std'],\n",
        "                                     seed=model_seed,\n",
        "                                     n_estimators=param, \n",
        "                                     max_depth=param2, \n",
        "                                     learning_rate=learning_rate, \n",
        "                                     min_child_weight=min_child_weight, \n",
        "                                     subsample=subsample, \n",
        "                                     colsample_bytree=colsample_bytree, \n",
        "                                     colsample_bylevel=colsample_bylevel, \n",
        "                                     gamma=gamma)\n",
        "    \n",
        "        # Collect results\n",
        "        error_rate[param_label].append(param)\n",
        "        error_rate[param2_label].append(param2)\n",
        "        error_rate['rmse'].append(rmse)\n",
        "        error_rate['mape_pct'].append(mape)\n",
        "    \n",
        "error_rate = pd.DataFrame(error_rate)\n",
        "toc = time.time()\n",
        "print(\"Minutes taken = \" + str((toc-tic)/60.0))\n",
        "error_rate   "
      ],
      "execution_count": 568,
      "outputs": [
        {
          "output_type": "stream",
          "text": [
            "/usr/local/lib/python3.6/dist-packages/ipykernel_launcher.py:9: TqdmDeprecationWarning: This function will be removed in tqdm==5.0.0\n",
            "Please use `tqdm.notebook.tqdm` instead of `tqdm.tqdm_notebook`\n",
            "  if __name__ == '__main__':\n"
          ],
          "name": "stderr"
        },
        {
          "output_type": "display_data",
          "data": {
            "application/vnd.jupyter.widget-view+json": {
              "model_id": "374569feb5934848ae364b7018100ddb",
              "version_minor": 0,
              "version_major": 2
            },
            "text/plain": [
              "HBox(children=(IntProgress(value=0, max=30), HTML(value='')))"
            ]
          },
          "metadata": {
            "tags": []
          }
        },
        {
          "output_type": "stream",
          "text": [
            "[17:25:04] WARNING: /workspace/src/objective/regression_obj.cu:152: reg:linear is now deprecated in favor of reg:squarederror.\n",
            "[17:25:04] WARNING: /workspace/src/objective/regression_obj.cu:152: reg:linear is now deprecated in favor of reg:squarederror.\n",
            "[17:25:04] WARNING: /workspace/src/objective/regression_obj.cu:152: reg:linear is now deprecated in favor of reg:squarederror.\n",
            "[17:25:04] WARNING: /workspace/src/objective/regression_obj.cu:152: reg:linear is now deprecated in favor of reg:squarederror.\n",
            "[17:25:04] WARNING: /workspace/src/objective/regression_obj.cu:152: reg:linear is now deprecated in favor of reg:squarederror.\n",
            "[17:25:04] WARNING: /workspace/src/objective/regression_obj.cu:152: reg:linear is now deprecated in favor of reg:squarederror.\n",
            "[17:25:04] WARNING: /workspace/src/objective/regression_obj.cu:152: reg:linear is now deprecated in favor of reg:squarederror.\n",
            "[17:25:04] WARNING: /workspace/src/objective/regression_obj.cu:152: reg:linear is now deprecated in favor of reg:squarederror.\n",
            "[17:25:04] WARNING: /workspace/src/objective/regression_obj.cu:152: reg:linear is now deprecated in favor of reg:squarederror.\n",
            "[17:25:04] WARNING: /workspace/src/objective/regression_obj.cu:152: reg:linear is now deprecated in favor of reg:squarederror.\n",
            "[17:25:04] WARNING: /workspace/src/objective/regression_obj.cu:152: reg:linear is now deprecated in favor of reg:squarederror.\n",
            "[17:25:04] WARNING: /workspace/src/objective/regression_obj.cu:152: reg:linear is now deprecated in favor of reg:squarederror.\n",
            "[17:25:04] WARNING: /workspace/src/objective/regression_obj.cu:152: reg:linear is now deprecated in favor of reg:squarederror.\n",
            "[17:25:04] WARNING: /workspace/src/objective/regression_obj.cu:152: reg:linear is now deprecated in favor of reg:squarederror.\n",
            "[17:25:04] WARNING: /workspace/src/objective/regression_obj.cu:152: reg:linear is now deprecated in favor of reg:squarederror.\n",
            "[17:25:04] WARNING: /workspace/src/objective/regression_obj.cu:152: reg:linear is now deprecated in favor of reg:squarederror.\n",
            "[17:25:04] WARNING: /workspace/src/objective/regression_obj.cu:152: reg:linear is now deprecated in favor of reg:squarederror.\n",
            "[17:25:04] WARNING: /workspace/src/objective/regression_obj.cu:152: reg:linear is now deprecated in favor of reg:squarederror.\n",
            "[17:25:05] WARNING: /workspace/src/objective/regression_obj.cu:152: reg:linear is now deprecated in favor of reg:squarederror.\n",
            "[17:25:05] WARNING: /workspace/src/objective/regression_obj.cu:152: reg:linear is now deprecated in favor of reg:squarederror.\n",
            "[17:25:05] WARNING: /workspace/src/objective/regression_obj.cu:152: reg:linear is now deprecated in favor of reg:squarederror.\n",
            "[17:25:05] WARNING: /workspace/src/objective/regression_obj.cu:152: reg:linear is now deprecated in favor of reg:squarederror.\n",
            "[17:25:05] WARNING: /workspace/src/objective/regression_obj.cu:152: reg:linear is now deprecated in favor of reg:squarederror.\n",
            "[17:25:05] WARNING: /workspace/src/objective/regression_obj.cu:152: reg:linear is now deprecated in favor of reg:squarederror.\n",
            "[17:25:05] WARNING: /workspace/src/objective/regression_obj.cu:152: reg:linear is now deprecated in favor of reg:squarederror.\n",
            "[17:25:05] WARNING: /workspace/src/objective/regression_obj.cu:152: reg:linear is now deprecated in favor of reg:squarederror.\n",
            "[17:25:05] WARNING: /workspace/src/objective/regression_obj.cu:152: reg:linear is now deprecated in favor of reg:squarederror.\n",
            "[17:25:05] WARNING: /workspace/src/objective/regression_obj.cu:152: reg:linear is now deprecated in favor of reg:squarederror.\n",
            "[17:25:05] WARNING: /workspace/src/objective/regression_obj.cu:152: reg:linear is now deprecated in favor of reg:squarederror.\n",
            "[17:25:05] WARNING: /workspace/src/objective/regression_obj.cu:152: reg:linear is now deprecated in favor of reg:squarederror.\n",
            "[17:25:05] WARNING: /workspace/src/objective/regression_obj.cu:152: reg:linear is now deprecated in favor of reg:squarederror.\n",
            "[17:25:05] WARNING: /workspace/src/objective/regression_obj.cu:152: reg:linear is now deprecated in favor of reg:squarederror.\n",
            "[17:25:05] WARNING: /workspace/src/objective/regression_obj.cu:152: reg:linear is now deprecated in favor of reg:squarederror.\n",
            "[17:25:05] WARNING: /workspace/src/objective/regression_obj.cu:152: reg:linear is now deprecated in favor of reg:squarederror.\n",
            "[17:25:05] WARNING: /workspace/src/objective/regression_obj.cu:152: reg:linear is now deprecated in favor of reg:squarederror.\n",
            "[17:25:05] WARNING: /workspace/src/objective/regression_obj.cu:152: reg:linear is now deprecated in favor of reg:squarederror.\n",
            "[17:25:05] WARNING: /workspace/src/objective/regression_obj.cu:152: reg:linear is now deprecated in favor of reg:squarederror.\n",
            "[17:25:05] WARNING: /workspace/src/objective/regression_obj.cu:152: reg:linear is now deprecated in favor of reg:squarederror.\n",
            "[17:25:06] WARNING: /workspace/src/objective/regression_obj.cu:152: reg:linear is now deprecated in favor of reg:squarederror.\n",
            "[17:25:06] WARNING: /workspace/src/objective/regression_obj.cu:152: reg:linear is now deprecated in favor of reg:squarederror.\n",
            "[17:25:06] WARNING: /workspace/src/objective/regression_obj.cu:152: reg:linear is now deprecated in favor of reg:squarederror.\n",
            "[17:25:06] WARNING: /workspace/src/objective/regression_obj.cu:152: reg:linear is now deprecated in favor of reg:squarederror.\n",
            "[17:25:06] WARNING: /workspace/src/objective/regression_obj.cu:152: reg:linear is now deprecated in favor of reg:squarederror.\n",
            "[17:25:06] WARNING: /workspace/src/objective/regression_obj.cu:152: reg:linear is now deprecated in favor of reg:squarederror.\n",
            "[17:25:06] WARNING: /workspace/src/objective/regression_obj.cu:152: reg:linear is now deprecated in favor of reg:squarederror.\n",
            "[17:25:06] WARNING: /workspace/src/objective/regression_obj.cu:152: reg:linear is now deprecated in favor of reg:squarederror.\n",
            "[17:25:06] WARNING: /workspace/src/objective/regression_obj.cu:152: reg:linear is now deprecated in favor of reg:squarederror.\n",
            "[17:25:06] WARNING: /workspace/src/objective/regression_obj.cu:152: reg:linear is now deprecated in favor of reg:squarederror.\n",
            "[17:25:06] WARNING: /workspace/src/objective/regression_obj.cu:152: reg:linear is now deprecated in favor of reg:squarederror.\n",
            "[17:25:06] WARNING: /workspace/src/objective/regression_obj.cu:152: reg:linear is now deprecated in favor of reg:squarederror.\n",
            "[17:25:07] WARNING: /workspace/src/objective/regression_obj.cu:152: reg:linear is now deprecated in favor of reg:squarederror.\n",
            "[17:25:07] WARNING: /workspace/src/objective/regression_obj.cu:152: reg:linear is now deprecated in favor of reg:squarederror.\n",
            "[17:25:07] WARNING: /workspace/src/objective/regression_obj.cu:152: reg:linear is now deprecated in favor of reg:squarederror.\n",
            "[17:25:07] WARNING: /workspace/src/objective/regression_obj.cu:152: reg:linear is now deprecated in favor of reg:squarederror.\n",
            "[17:25:07] WARNING: /workspace/src/objective/regression_obj.cu:152: reg:linear is now deprecated in favor of reg:squarederror.\n",
            "[17:25:07] WARNING: /workspace/src/objective/regression_obj.cu:152: reg:linear is now deprecated in favor of reg:squarederror.\n",
            "[17:25:07] WARNING: /workspace/src/objective/regression_obj.cu:152: reg:linear is now deprecated in favor of reg:squarederror.\n",
            "[17:25:07] WARNING: /workspace/src/objective/regression_obj.cu:152: reg:linear is now deprecated in favor of reg:squarederror.\n",
            "[17:25:07] WARNING: /workspace/src/objective/regression_obj.cu:152: reg:linear is now deprecated in favor of reg:squarederror.\n",
            "[17:25:07] WARNING: /workspace/src/objective/regression_obj.cu:152: reg:linear is now deprecated in favor of reg:squarederror.\n",
            "[17:25:08] WARNING: /workspace/src/objective/regression_obj.cu:152: reg:linear is now deprecated in favor of reg:squarederror.\n",
            "[17:25:08] WARNING: /workspace/src/objective/regression_obj.cu:152: reg:linear is now deprecated in favor of reg:squarederror.\n",
            "[17:25:08] WARNING: /workspace/src/objective/regression_obj.cu:152: reg:linear is now deprecated in favor of reg:squarederror.\n",
            "[17:25:08] WARNING: /workspace/src/objective/regression_obj.cu:152: reg:linear is now deprecated in favor of reg:squarederror.\n",
            "[17:25:08] WARNING: /workspace/src/objective/regression_obj.cu:152: reg:linear is now deprecated in favor of reg:squarederror.\n",
            "[17:25:08] WARNING: /workspace/src/objective/regression_obj.cu:152: reg:linear is now deprecated in favor of reg:squarederror.\n",
            "[17:25:08] WARNING: /workspace/src/objective/regression_obj.cu:152: reg:linear is now deprecated in favor of reg:squarederror.\n",
            "[17:25:08] WARNING: /workspace/src/objective/regression_obj.cu:152: reg:linear is now deprecated in favor of reg:squarederror.\n",
            "[17:25:08] WARNING: /workspace/src/objective/regression_obj.cu:152: reg:linear is now deprecated in favor of reg:squarederror.\n",
            "[17:25:09] WARNING: /workspace/src/objective/regression_obj.cu:152: reg:linear is now deprecated in favor of reg:squarederror.\n",
            "[17:25:09] WARNING: /workspace/src/objective/regression_obj.cu:152: reg:linear is now deprecated in favor of reg:squarederror.\n",
            "[17:25:09] WARNING: /workspace/src/objective/regression_obj.cu:152: reg:linear is now deprecated in favor of reg:squarederror.\n",
            "[17:25:09] WARNING: /workspace/src/objective/regression_obj.cu:152: reg:linear is now deprecated in favor of reg:squarederror.\n",
            "[17:25:09] WARNING: /workspace/src/objective/regression_obj.cu:152: reg:linear is now deprecated in favor of reg:squarederror.\n",
            "[17:25:09] WARNING: /workspace/src/objective/regression_obj.cu:152: reg:linear is now deprecated in favor of reg:squarederror.\n",
            "[17:25:09] WARNING: /workspace/src/objective/regression_obj.cu:152: reg:linear is now deprecated in favor of reg:squarederror.\n",
            "[17:25:09] WARNING: /workspace/src/objective/regression_obj.cu:152: reg:linear is now deprecated in favor of reg:squarederror.\n",
            "[17:25:10] WARNING: /workspace/src/objective/regression_obj.cu:152: reg:linear is now deprecated in favor of reg:squarederror.\n",
            "[17:25:10] WARNING: /workspace/src/objective/regression_obj.cu:152: reg:linear is now deprecated in favor of reg:squarederror.\n",
            "[17:25:10] WARNING: /workspace/src/objective/regression_obj.cu:152: reg:linear is now deprecated in favor of reg:squarederror.\n",
            "[17:25:10] WARNING: /workspace/src/objective/regression_obj.cu:152: reg:linear is now deprecated in favor of reg:squarederror.\n",
            "[17:25:10] WARNING: /workspace/src/objective/regression_obj.cu:152: reg:linear is now deprecated in favor of reg:squarederror.\n",
            "[17:25:10] WARNING: /workspace/src/objective/regression_obj.cu:152: reg:linear is now deprecated in favor of reg:squarederror.\n",
            "[17:25:10] WARNING: /workspace/src/objective/regression_obj.cu:152: reg:linear is now deprecated in favor of reg:squarederror.\n",
            "[17:25:10] WARNING: /workspace/src/objective/regression_obj.cu:152: reg:linear is now deprecated in favor of reg:squarederror.\n",
            "[17:25:11] WARNING: /workspace/src/objective/regression_obj.cu:152: reg:linear is now deprecated in favor of reg:squarederror.\n",
            "[17:25:11] WARNING: /workspace/src/objective/regression_obj.cu:152: reg:linear is now deprecated in favor of reg:squarederror.\n",
            "[17:25:11] WARNING: /workspace/src/objective/regression_obj.cu:152: reg:linear is now deprecated in favor of reg:squarederror.\n",
            "[17:25:11] WARNING: /workspace/src/objective/regression_obj.cu:152: reg:linear is now deprecated in favor of reg:squarederror.\n",
            "[17:25:11] WARNING: /workspace/src/objective/regression_obj.cu:152: reg:linear is now deprecated in favor of reg:squarederror.\n",
            "[17:25:11] WARNING: /workspace/src/objective/regression_obj.cu:152: reg:linear is now deprecated in favor of reg:squarederror.\n",
            "[17:25:12] WARNING: /workspace/src/objective/regression_obj.cu:152: reg:linear is now deprecated in favor of reg:squarederror.\n",
            "[17:25:12] WARNING: /workspace/src/objective/regression_obj.cu:152: reg:linear is now deprecated in favor of reg:squarederror.\n",
            "[17:25:12] WARNING: /workspace/src/objective/regression_obj.cu:152: reg:linear is now deprecated in favor of reg:squarederror.\n",
            "[17:25:12] WARNING: /workspace/src/objective/regression_obj.cu:152: reg:linear is now deprecated in favor of reg:squarederror.\n",
            "[17:25:12] WARNING: /workspace/src/objective/regression_obj.cu:152: reg:linear is now deprecated in favor of reg:squarederror.\n",
            "[17:25:12] WARNING: /workspace/src/objective/regression_obj.cu:152: reg:linear is now deprecated in favor of reg:squarederror.\n",
            "[17:25:13] WARNING: /workspace/src/objective/regression_obj.cu:152: reg:linear is now deprecated in favor of reg:squarederror.\n",
            "[17:25:13] WARNING: /workspace/src/objective/regression_obj.cu:152: reg:linear is now deprecated in favor of reg:squarederror.\n",
            "[17:25:13] WARNING: /workspace/src/objective/regression_obj.cu:152: reg:linear is now deprecated in favor of reg:squarederror.\n",
            "[17:25:13] WARNING: /workspace/src/objective/regression_obj.cu:152: reg:linear is now deprecated in favor of reg:squarederror.\n",
            "[17:25:13] WARNING: /workspace/src/objective/regression_obj.cu:152: reg:linear is now deprecated in favor of reg:squarederror.\n",
            "[17:25:13] WARNING: /workspace/src/objective/regression_obj.cu:152: reg:linear is now deprecated in favor of reg:squarederror.\n",
            "[17:25:14] WARNING: /workspace/src/objective/regression_obj.cu:152: reg:linear is now deprecated in favor of reg:squarederror.\n",
            "[17:25:14] WARNING: /workspace/src/objective/regression_obj.cu:152: reg:linear is now deprecated in favor of reg:squarederror.\n",
            "[17:25:14] WARNING: /workspace/src/objective/regression_obj.cu:152: reg:linear is now deprecated in favor of reg:squarederror.\n",
            "[17:25:14] WARNING: /workspace/src/objective/regression_obj.cu:152: reg:linear is now deprecated in favor of reg:squarederror.\n",
            "[17:25:14] WARNING: /workspace/src/objective/regression_obj.cu:152: reg:linear is now deprecated in favor of reg:squarederror.\n",
            "[17:25:14] WARNING: /workspace/src/objective/regression_obj.cu:152: reg:linear is now deprecated in favor of reg:squarederror.\n",
            "[17:25:14] WARNING: /workspace/src/objective/regression_obj.cu:152: reg:linear is now deprecated in favor of reg:squarederror.\n",
            "[17:25:15] WARNING: /workspace/src/objective/regression_obj.cu:152: reg:linear is now deprecated in favor of reg:squarederror.\n",
            "[17:25:15] WARNING: /workspace/src/objective/regression_obj.cu:152: reg:linear is now deprecated in favor of reg:squarederror.\n",
            "[17:25:15] WARNING: /workspace/src/objective/regression_obj.cu:152: reg:linear is now deprecated in favor of reg:squarederror.\n",
            "[17:25:15] WARNING: /workspace/src/objective/regression_obj.cu:152: reg:linear is now deprecated in favor of reg:squarederror.\n",
            "[17:25:15] WARNING: /workspace/src/objective/regression_obj.cu:152: reg:linear is now deprecated in favor of reg:squarederror.\n",
            "[17:25:15] WARNING: /workspace/src/objective/regression_obj.cu:152: reg:linear is now deprecated in favor of reg:squarederror.\n",
            "[17:25:16] WARNING: /workspace/src/objective/regression_obj.cu:152: reg:linear is now deprecated in favor of reg:squarederror.\n",
            "[17:25:16] WARNING: /workspace/src/objective/regression_obj.cu:152: reg:linear is now deprecated in favor of reg:squarederror.\n",
            "[17:25:16] WARNING: /workspace/src/objective/regression_obj.cu:152: reg:linear is now deprecated in favor of reg:squarederror.\n",
            "[17:25:16] WARNING: /workspace/src/objective/regression_obj.cu:152: reg:linear is now deprecated in favor of reg:squarederror.\n",
            "[17:25:17] WARNING: /workspace/src/objective/regression_obj.cu:152: reg:linear is now deprecated in favor of reg:squarederror.\n",
            "[17:25:17] WARNING: /workspace/src/objective/regression_obj.cu:152: reg:linear is now deprecated in favor of reg:squarederror.\n",
            "[17:25:17] WARNING: /workspace/src/objective/regression_obj.cu:152: reg:linear is now deprecated in favor of reg:squarederror.\n",
            "[17:25:17] WARNING: /workspace/src/objective/regression_obj.cu:152: reg:linear is now deprecated in favor of reg:squarederror.\n",
            "[17:25:17] WARNING: /workspace/src/objective/regression_obj.cu:152: reg:linear is now deprecated in favor of reg:squarederror.\n",
            "[17:25:17] WARNING: /workspace/src/objective/regression_obj.cu:152: reg:linear is now deprecated in favor of reg:squarederror.\n",
            "[17:25:18] WARNING: /workspace/src/objective/regression_obj.cu:152: reg:linear is now deprecated in favor of reg:squarederror.\n",
            "[17:25:18] WARNING: /workspace/src/objective/regression_obj.cu:152: reg:linear is now deprecated in favor of reg:squarederror.\n",
            "[17:25:18] WARNING: /workspace/src/objective/regression_obj.cu:152: reg:linear is now deprecated in favor of reg:squarederror.\n",
            "[17:25:18] WARNING: /workspace/src/objective/regression_obj.cu:152: reg:linear is now deprecated in favor of reg:squarederror.\n",
            "[17:25:18] WARNING: /workspace/src/objective/regression_obj.cu:152: reg:linear is now deprecated in favor of reg:squarederror.\n",
            "[17:25:18] WARNING: /workspace/src/objective/regression_obj.cu:152: reg:linear is now deprecated in favor of reg:squarederror.\n",
            "[17:25:19] WARNING: /workspace/src/objective/regression_obj.cu:152: reg:linear is now deprecated in favor of reg:squarederror.\n",
            "[17:25:19] WARNING: /workspace/src/objective/regression_obj.cu:152: reg:linear is now deprecated in favor of reg:squarederror.\n",
            "[17:25:19] WARNING: /workspace/src/objective/regression_obj.cu:152: reg:linear is now deprecated in favor of reg:squarederror.\n",
            "[17:25:19] WARNING: /workspace/src/objective/regression_obj.cu:152: reg:linear is now deprecated in favor of reg:squarederror.\n",
            "[17:25:20] WARNING: /workspace/src/objective/regression_obj.cu:152: reg:linear is now deprecated in favor of reg:squarederror.\n",
            "[17:25:20] WARNING: /workspace/src/objective/regression_obj.cu:152: reg:linear is now deprecated in favor of reg:squarederror.\n",
            "[17:25:20] WARNING: /workspace/src/objective/regression_obj.cu:152: reg:linear is now deprecated in favor of reg:squarederror.\n",
            "[17:25:20] WARNING: /workspace/src/objective/regression_obj.cu:152: reg:linear is now deprecated in favor of reg:squarederror.\n",
            "[17:25:20] WARNING: /workspace/src/objective/regression_obj.cu:152: reg:linear is now deprecated in favor of reg:squarederror.\n",
            "[17:25:20] WARNING: /workspace/src/objective/regression_obj.cu:152: reg:linear is now deprecated in favor of reg:squarederror.\n",
            "[17:25:21] WARNING: /workspace/src/objective/regression_obj.cu:152: reg:linear is now deprecated in favor of reg:squarederror.\n",
            "[17:25:21] WARNING: /workspace/src/objective/regression_obj.cu:152: reg:linear is now deprecated in favor of reg:squarederror.\n",
            "[17:25:21] WARNING: /workspace/src/objective/regression_obj.cu:152: reg:linear is now deprecated in favor of reg:squarederror.\n",
            "[17:25:21] WARNING: /workspace/src/objective/regression_obj.cu:152: reg:linear is now deprecated in favor of reg:squarederror.\n",
            "[17:25:21] WARNING: /workspace/src/objective/regression_obj.cu:152: reg:linear is now deprecated in favor of reg:squarederror.\n",
            "[17:25:22] WARNING: /workspace/src/objective/regression_obj.cu:152: reg:linear is now deprecated in favor of reg:squarederror.\n",
            "[17:25:22] WARNING: /workspace/src/objective/regression_obj.cu:152: reg:linear is now deprecated in favor of reg:squarederror.\n",
            "[17:25:22] WARNING: /workspace/src/objective/regression_obj.cu:152: reg:linear is now deprecated in favor of reg:squarederror.\n",
            "[17:25:22] WARNING: /workspace/src/objective/regression_obj.cu:152: reg:linear is now deprecated in favor of reg:squarederror.\n",
            "[17:25:23] WARNING: /workspace/src/objective/regression_obj.cu:152: reg:linear is now deprecated in favor of reg:squarederror.\n",
            "[17:25:23] WARNING: /workspace/src/objective/regression_obj.cu:152: reg:linear is now deprecated in favor of reg:squarederror.\n",
            "[17:25:23] WARNING: /workspace/src/objective/regression_obj.cu:152: reg:linear is now deprecated in favor of reg:squarederror.\n",
            "[17:25:23] WARNING: /workspace/src/objective/regression_obj.cu:152: reg:linear is now deprecated in favor of reg:squarederror.\n",
            "[17:25:23] WARNING: /workspace/src/objective/regression_obj.cu:152: reg:linear is now deprecated in favor of reg:squarederror.\n",
            "[17:25:24] WARNING: /workspace/src/objective/regression_obj.cu:152: reg:linear is now deprecated in favor of reg:squarederror.\n",
            "[17:25:24] WARNING: /workspace/src/objective/regression_obj.cu:152: reg:linear is now deprecated in favor of reg:squarederror.\n",
            "[17:25:24] WARNING: /workspace/src/objective/regression_obj.cu:152: reg:linear is now deprecated in favor of reg:squarederror.\n",
            "[17:25:24] WARNING: /workspace/src/objective/regression_obj.cu:152: reg:linear is now deprecated in favor of reg:squarederror.\n",
            "[17:25:25] WARNING: /workspace/src/objective/regression_obj.cu:152: reg:linear is now deprecated in favor of reg:squarederror.\n",
            "[17:25:25] WARNING: /workspace/src/objective/regression_obj.cu:152: reg:linear is now deprecated in favor of reg:squarederror.\n",
            "[17:25:25] WARNING: /workspace/src/objective/regression_obj.cu:152: reg:linear is now deprecated in favor of reg:squarederror.\n",
            "[17:25:25] WARNING: /workspace/src/objective/regression_obj.cu:152: reg:linear is now deprecated in favor of reg:squarederror.\n",
            "[17:25:25] WARNING: /workspace/src/objective/regression_obj.cu:152: reg:linear is now deprecated in favor of reg:squarederror.\n",
            "[17:25:26] WARNING: /workspace/src/objective/regression_obj.cu:152: reg:linear is now deprecated in favor of reg:squarederror.\n",
            "[17:25:26] WARNING: /workspace/src/objective/regression_obj.cu:152: reg:linear is now deprecated in favor of reg:squarederror.\n",
            "[17:25:26] WARNING: /workspace/src/objective/regression_obj.cu:152: reg:linear is now deprecated in favor of reg:squarederror.\n",
            "[17:25:26] WARNING: /workspace/src/objective/regression_obj.cu:152: reg:linear is now deprecated in favor of reg:squarederror.\n",
            "[17:25:26] WARNING: /workspace/src/objective/regression_obj.cu:152: reg:linear is now deprecated in favor of reg:squarederror.\n",
            "[17:25:27] WARNING: /workspace/src/objective/regression_obj.cu:152: reg:linear is now deprecated in favor of reg:squarederror.\n",
            "[17:25:27] WARNING: /workspace/src/objective/regression_obj.cu:152: reg:linear is now deprecated in favor of reg:squarederror.\n",
            "[17:25:27] WARNING: /workspace/src/objective/regression_obj.cu:152: reg:linear is now deprecated in favor of reg:squarederror.\n",
            "[17:25:27] WARNING: /workspace/src/objective/regression_obj.cu:152: reg:linear is now deprecated in favor of reg:squarederror.\n",
            "[17:25:28] WARNING: /workspace/src/objective/regression_obj.cu:152: reg:linear is now deprecated in favor of reg:squarederror.\n",
            "[17:25:28] WARNING: /workspace/src/objective/regression_obj.cu:152: reg:linear is now deprecated in favor of reg:squarederror.\n",
            "[17:25:28] WARNING: /workspace/src/objective/regression_obj.cu:152: reg:linear is now deprecated in favor of reg:squarederror.\n",
            "[17:25:28] WARNING: /workspace/src/objective/regression_obj.cu:152: reg:linear is now deprecated in favor of reg:squarederror.\n",
            "[17:25:28] WARNING: /workspace/src/objective/regression_obj.cu:152: reg:linear is now deprecated in favor of reg:squarederror.\n",
            "[17:25:29] WARNING: /workspace/src/objective/regression_obj.cu:152: reg:linear is now deprecated in favor of reg:squarederror.\n",
            "[17:25:29] WARNING: /workspace/src/objective/regression_obj.cu:152: reg:linear is now deprecated in favor of reg:squarederror.\n",
            "[17:25:29] WARNING: /workspace/src/objective/regression_obj.cu:152: reg:linear is now deprecated in favor of reg:squarederror.\n",
            "[17:25:29] WARNING: /workspace/src/objective/regression_obj.cu:152: reg:linear is now deprecated in favor of reg:squarederror.\n",
            "[17:25:30] WARNING: /workspace/src/objective/regression_obj.cu:152: reg:linear is now deprecated in favor of reg:squarederror.\n",
            "[17:25:30] WARNING: /workspace/src/objective/regression_obj.cu:152: reg:linear is now deprecated in favor of reg:squarederror.\n",
            "[17:25:30] WARNING: /workspace/src/objective/regression_obj.cu:152: reg:linear is now deprecated in favor of reg:squarederror.\n",
            "[17:25:30] WARNING: /workspace/src/objective/regression_obj.cu:152: reg:linear is now deprecated in favor of reg:squarederror.\n",
            "[17:25:31] WARNING: /workspace/src/objective/regression_obj.cu:152: reg:linear is now deprecated in favor of reg:squarederror.\n",
            "[17:25:31] WARNING: /workspace/src/objective/regression_obj.cu:152: reg:linear is now deprecated in favor of reg:squarederror.\n",
            "[17:25:31] WARNING: /workspace/src/objective/regression_obj.cu:152: reg:linear is now deprecated in favor of reg:squarederror.\n",
            "[17:25:31] WARNING: /workspace/src/objective/regression_obj.cu:152: reg:linear is now deprecated in favor of reg:squarederror.\n",
            "[17:25:32] WARNING: /workspace/src/objective/regression_obj.cu:152: reg:linear is now deprecated in favor of reg:squarederror.\n",
            "[17:25:32] WARNING: /workspace/src/objective/regression_obj.cu:152: reg:linear is now deprecated in favor of reg:squarederror.\n",
            "[17:25:32] WARNING: /workspace/src/objective/regression_obj.cu:152: reg:linear is now deprecated in favor of reg:squarederror.\n",
            "[17:25:32] WARNING: /workspace/src/objective/regression_obj.cu:152: reg:linear is now deprecated in favor of reg:squarederror.\n",
            "[17:25:32] WARNING: /workspace/src/objective/regression_obj.cu:152: reg:linear is now deprecated in favor of reg:squarederror.\n",
            "[17:25:33] WARNING: /workspace/src/objective/regression_obj.cu:152: reg:linear is now deprecated in favor of reg:squarederror.\n",
            "[17:25:33] WARNING: /workspace/src/objective/regression_obj.cu:152: reg:linear is now deprecated in favor of reg:squarederror.\n",
            "[17:25:33] WARNING: /workspace/src/objective/regression_obj.cu:152: reg:linear is now deprecated in favor of reg:squarederror.\n",
            "[17:25:34] WARNING: /workspace/src/objective/regression_obj.cu:152: reg:linear is now deprecated in favor of reg:squarederror.\n",
            "[17:25:34] WARNING: /workspace/src/objective/regression_obj.cu:152: reg:linear is now deprecated in favor of reg:squarederror.\n",
            "[17:25:34] WARNING: /workspace/src/objective/regression_obj.cu:152: reg:linear is now deprecated in favor of reg:squarederror.\n",
            "[17:25:34] WARNING: /workspace/src/objective/regression_obj.cu:152: reg:linear is now deprecated in favor of reg:squarederror.\n",
            "[17:25:34] WARNING: /workspace/src/objective/regression_obj.cu:152: reg:linear is now deprecated in favor of reg:squarederror.\n",
            "[17:25:35] WARNING: /workspace/src/objective/regression_obj.cu:152: reg:linear is now deprecated in favor of reg:squarederror.\n",
            "[17:25:35] WARNING: /workspace/src/objective/regression_obj.cu:152: reg:linear is now deprecated in favor of reg:squarederror.\n",
            "[17:25:35] WARNING: /workspace/src/objective/regression_obj.cu:152: reg:linear is now deprecated in favor of reg:squarederror.\n",
            "[17:25:36] WARNING: /workspace/src/objective/regression_obj.cu:152: reg:linear is now deprecated in favor of reg:squarederror.\n",
            "[17:25:36] WARNING: /workspace/src/objective/regression_obj.cu:152: reg:linear is now deprecated in favor of reg:squarederror.\n",
            "[17:25:36] WARNING: /workspace/src/objective/regression_obj.cu:152: reg:linear is now deprecated in favor of reg:squarederror.\n",
            "[17:25:36] WARNING: /workspace/src/objective/regression_obj.cu:152: reg:linear is now deprecated in favor of reg:squarederror.\n",
            "[17:25:36] WARNING: /workspace/src/objective/regression_obj.cu:152: reg:linear is now deprecated in favor of reg:squarederror.\n",
            "[17:25:37] WARNING: /workspace/src/objective/regression_obj.cu:152: reg:linear is now deprecated in favor of reg:squarederror.\n",
            "[17:25:37] WARNING: /workspace/src/objective/regression_obj.cu:152: reg:linear is now deprecated in favor of reg:squarederror.\n",
            "[17:25:37] WARNING: /workspace/src/objective/regression_obj.cu:152: reg:linear is now deprecated in favor of reg:squarederror.\n",
            "[17:25:38] WARNING: /workspace/src/objective/regression_obj.cu:152: reg:linear is now deprecated in favor of reg:squarederror.\n",
            "[17:25:38] WARNING: /workspace/src/objective/regression_obj.cu:152: reg:linear is now deprecated in favor of reg:squarederror.\n",
            "[17:25:38] WARNING: /workspace/src/objective/regression_obj.cu:152: reg:linear is now deprecated in favor of reg:squarederror.\n",
            "[17:25:38] WARNING: /workspace/src/objective/regression_obj.cu:152: reg:linear is now deprecated in favor of reg:squarederror.\n",
            "[17:25:39] WARNING: /workspace/src/objective/regression_obj.cu:152: reg:linear is now deprecated in favor of reg:squarederror.\n",
            "[17:25:39] WARNING: /workspace/src/objective/regression_obj.cu:152: reg:linear is now deprecated in favor of reg:squarederror.\n",
            "[17:25:39] WARNING: /workspace/src/objective/regression_obj.cu:152: reg:linear is now deprecated in favor of reg:squarederror.\n",
            "[17:25:40] WARNING: /workspace/src/objective/regression_obj.cu:152: reg:linear is now deprecated in favor of reg:squarederror.\n",
            "[17:25:40] WARNING: /workspace/src/objective/regression_obj.cu:152: reg:linear is now deprecated in favor of reg:squarederror.\n",
            "[17:25:40] WARNING: /workspace/src/objective/regression_obj.cu:152: reg:linear is now deprecated in favor of reg:squarederror.\n",
            "[17:25:40] WARNING: /workspace/src/objective/regression_obj.cu:152: reg:linear is now deprecated in favor of reg:squarederror.\n",
            "[17:25:40] WARNING: /workspace/src/objective/regression_obj.cu:152: reg:linear is now deprecated in favor of reg:squarederror.\n",
            "[17:25:41] WARNING: /workspace/src/objective/regression_obj.cu:152: reg:linear is now deprecated in favor of reg:squarederror.\n",
            "[17:25:41] WARNING: /workspace/src/objective/regression_obj.cu:152: reg:linear is now deprecated in favor of reg:squarederror.\n",
            "[17:25:41] WARNING: /workspace/src/objective/regression_obj.cu:152: reg:linear is now deprecated in favor of reg:squarederror.\n",
            "[17:25:42] WARNING: /workspace/src/objective/regression_obj.cu:152: reg:linear is now deprecated in favor of reg:squarederror.\n",
            "[17:25:42] WARNING: /workspace/src/objective/regression_obj.cu:152: reg:linear is now deprecated in favor of reg:squarederror.\n",
            "[17:25:42] WARNING: /workspace/src/objective/regression_obj.cu:152: reg:linear is now deprecated in favor of reg:squarederror.\n",
            "[17:25:42] WARNING: /workspace/src/objective/regression_obj.cu:152: reg:linear is now deprecated in favor of reg:squarederror.\n",
            "[17:25:43] WARNING: /workspace/src/objective/regression_obj.cu:152: reg:linear is now deprecated in favor of reg:squarederror.\n",
            "[17:25:43] WARNING: /workspace/src/objective/regression_obj.cu:152: reg:linear is now deprecated in favor of reg:squarederror.\n",
            "[17:25:43] WARNING: /workspace/src/objective/regression_obj.cu:152: reg:linear is now deprecated in favor of reg:squarederror.\n",
            "[17:25:43] WARNING: /workspace/src/objective/regression_obj.cu:152: reg:linear is now deprecated in favor of reg:squarederror.\n",
            "[17:25:44] WARNING: /workspace/src/objective/regression_obj.cu:152: reg:linear is now deprecated in favor of reg:squarederror.\n",
            "[17:25:44] WARNING: /workspace/src/objective/regression_obj.cu:152: reg:linear is now deprecated in favor of reg:squarederror.\n",
            "\n",
            "Minutes taken = 0.6718807101249695\n"
          ],
          "name": "stdout"
        },
        {
          "output_type": "execute_result",
          "data": {
            "text/html": [
              "<div>\n",
              "<style scoped>\n",
              "    .dataframe tbody tr th:only-of-type {\n",
              "        vertical-align: middle;\n",
              "    }\n",
              "\n",
              "    .dataframe tbody tr th {\n",
              "        vertical-align: top;\n",
              "    }\n",
              "\n",
              "    .dataframe thead th {\n",
              "        text-align: right;\n",
              "    }\n",
              "</style>\n",
              "<table border=\"1\" class=\"dataframe\">\n",
              "  <thead>\n",
              "    <tr style=\"text-align: right;\">\n",
              "      <th></th>\n",
              "      <th>n_estimators</th>\n",
              "      <th>max_depth</th>\n",
              "      <th>rmse</th>\n",
              "      <th>mape_pct</th>\n",
              "    </tr>\n",
              "  </thead>\n",
              "  <tbody>\n",
              "    <tr>\n",
              "      <th>0</th>\n",
              "      <td>10</td>\n",
              "      <td>2</td>\n",
              "      <td>28.236173</td>\n",
              "      <td>1.171104</td>\n",
              "    </tr>\n",
              "    <tr>\n",
              "      <th>1</th>\n",
              "      <td>10</td>\n",
              "      <td>3</td>\n",
              "      <td>28.177761</td>\n",
              "      <td>1.165810</td>\n",
              "    </tr>\n",
              "    <tr>\n",
              "      <th>2</th>\n",
              "      <td>10</td>\n",
              "      <td>4</td>\n",
              "      <td>28.181015</td>\n",
              "      <td>1.167142</td>\n",
              "    </tr>\n",
              "    <tr>\n",
              "      <th>3</th>\n",
              "      <td>10</td>\n",
              "      <td>5</td>\n",
              "      <td>28.202445</td>\n",
              "      <td>1.168270</td>\n",
              "    </tr>\n",
              "    <tr>\n",
              "      <th>4</th>\n",
              "      <td>10</td>\n",
              "      <td>6</td>\n",
              "      <td>28.198690</td>\n",
              "      <td>1.168224</td>\n",
              "    </tr>\n",
              "    <tr>\n",
              "      <th>...</th>\n",
              "      <td>...</td>\n",
              "      <td>...</td>\n",
              "      <td>...</td>\n",
              "      <td>...</td>\n",
              "    </tr>\n",
              "    <tr>\n",
              "      <th>235</th>\n",
              "      <td>300</td>\n",
              "      <td>5</td>\n",
              "      <td>27.393171</td>\n",
              "      <td>1.143576</td>\n",
              "    </tr>\n",
              "    <tr>\n",
              "      <th>236</th>\n",
              "      <td>300</td>\n",
              "      <td>6</td>\n",
              "      <td>27.448228</td>\n",
              "      <td>1.146446</td>\n",
              "    </tr>\n",
              "    <tr>\n",
              "      <th>237</th>\n",
              "      <td>300</td>\n",
              "      <td>7</td>\n",
              "      <td>27.453675</td>\n",
              "      <td>1.146771</td>\n",
              "    </tr>\n",
              "    <tr>\n",
              "      <th>238</th>\n",
              "      <td>300</td>\n",
              "      <td>8</td>\n",
              "      <td>27.455326</td>\n",
              "      <td>1.146738</td>\n",
              "    </tr>\n",
              "    <tr>\n",
              "      <th>239</th>\n",
              "      <td>300</td>\n",
              "      <td>9</td>\n",
              "      <td>27.473872</td>\n",
              "      <td>1.147081</td>\n",
              "    </tr>\n",
              "  </tbody>\n",
              "</table>\n",
              "<p>240 rows × 4 columns</p>\n",
              "</div>"
            ],
            "text/plain": [
              "     n_estimators  max_depth       rmse  mape_pct\n",
              "0              10          2  28.236173  1.171104\n",
              "1              10          3  28.177761  1.165810\n",
              "2              10          4  28.181015  1.167142\n",
              "3              10          5  28.202445  1.168270\n",
              "4              10          6  28.198690  1.168224\n",
              "..            ...        ...        ...       ...\n",
              "235           300          5  27.393171  1.143576\n",
              "236           300          6  27.448228  1.146446\n",
              "237           300          7  27.453675  1.146771\n",
              "238           300          8  27.455326  1.146738\n",
              "239           300          9  27.473872  1.147081\n",
              "\n",
              "[240 rows x 4 columns]"
            ]
          },
          "metadata": {
            "tags": []
          },
          "execution_count": 568
        }
      ]
    },
    {
      "cell_type": "code",
      "metadata": {
        "scrolled": true,
        "id": "KioyYPMETJi-",
        "colab_type": "code",
        "colab": {
          "base_uri": "https://localhost:8080/",
          "height": 498
        },
        "outputId": "827ce01e-b94e-476d-b247-c1a89c4c338a"
      },
      "source": [
        "# Plot performance versus params\n",
        "rcParams['figure.figsize'] = 10, 8 # width 10, height 8\n",
        "temp = error_rate[error_rate[param2_label]==param2_list[0]]\n",
        "ax = temp.plot(x=param_label, y='rmse', style='bs-', grid=True)\n",
        "legend_list = [param2_label + '_' + str(param2_list[0])]\n",
        "\n",
        "color_list = ['r', 'g', 'k', 'y', 'm', 'c', '0.75']\n",
        "for i in range(1,len(param2_list)):\n",
        "    temp = error_rate[error_rate[param2_label]==param2_list[i]]\n",
        "    ax = temp.plot(x=param_label, y='rmse', color=color_list[i%len(color_list)], marker='s', grid=True, ax=ax)\n",
        "    legend_list.append(param2_label + '_' + str(param2_list[i]))\n",
        "\n",
        "ax.set_xlabel(param_label)\n",
        "ax.set_ylabel(\"RMSE\")\n",
        "matplotlib.rcParams.update({'font.size': 14})\n",
        "plt.legend(legend_list, loc='center left', bbox_to_anchor=(1.0, 0.5)) # positions legend outside figure\n",
        "\n",
        "fig = ax.get_figure()\n",
        "fig.savefig(\"/content/ouput/tuningdepth.pdf\",bbox_inches='tight')"
      ],
      "execution_count": 569,
      "outputs": [
        {
          "output_type": "display_data",
          "data": {
            "image/png": "[encoded data removed]",
            "text/plain": [
              "<Figure size 720x576 with 1 Axes>"
            ]
          },
          "metadata": {
            "tags": [],
            "needs_background": "light"
          }
        }
      ]
    },
    {
      "cell_type": "code",
      "metadata": {
        "id": "Iuw2NG1PTJjI",
        "colab_type": "code",
        "colab": {
          "base_uri": "https://localhost:8080/",
          "height": 71
        },
        "outputId": "e3926924-840d-44da-e0cd-958d45c6ce5e"
      },
      "source": [
        "# Get optimum value for param and param2\n",
        "temp = error_rate[error_rate['rmse'] == error_rate['rmse'].min()]\n",
        "n_estimators_opt = temp['n_estimators'].values[0]\n",
        "max_depth_opt = temp['max_depth'].values[0]\n",
        "print(\"min RMSE = %0.3f\" % error_rate['rmse'].min())\n",
        "print(\"optimum params = \")\n",
        "n_estimators_opt, max_depth_opt"
      ],
      "execution_count": 570,
      "outputs": [
        {
          "output_type": "stream",
          "text": [
            "min RMSE = 27.385\n",
            "optimum params = \n"
          ],
          "name": "stdout"
        },
        {
          "output_type": "execute_result",
          "data": {
            "text/plain": [
              "(210, 4)"
            ]
          },
          "metadata": {
            "tags": []
          },
          "execution_count": 570
        }
      ]
    },
    {
      "cell_type": "code",
      "metadata": {
        "id": "4bo5G4g9TJjS",
        "colab_type": "code",
        "colab": {
          "base_uri": "https://localhost:8080/",
          "height": 71
        },
        "outputId": "7cc309a9-7f7c-4b19-ff35-66e03541e0bd"
      },
      "source": [
        "# Get optimum value for param and param2, using MAPE\n",
        "temp = error_rate[error_rate['mape_pct'] == error_rate['mape_pct'].min()]\n",
        "print(\"min MAPE = %0.3f%%\" % error_rate['mape_pct'].min())\n",
        "print(\"optimum params = \")\n",
        "temp['n_estimators'].values[0], temp['max_depth'].values[0]"
      ],
      "execution_count": 571,
      "outputs": [
        {
          "output_type": "stream",
          "text": [
            "min MAPE = 1.141%\n",
            "optimum params = \n"
          ],
          "name": "stdout"
        },
        {
          "output_type": "execute_result",
          "data": {
            "text/plain": [
              "(290, 3)"
            ]
          },
          "metadata": {
            "tags": []
          },
          "execution_count": 571
        }
      ]
    },
    {
      "cell_type": "markdown",
      "metadata": {
        "id": "CngXcz8xTJja",
        "colab_type": "text"
      },
      "source": [
        "# Tuning XGBoost - learning_rate(default=0.1) and min_child_weight(default=1)"
      ]
    },
    {
      "cell_type": "code",
      "metadata": {
        "id": "a5gGagmaTJjc",
        "colab_type": "code",
        "colab": {
          "base_uri": "https://localhost:8080/",
          "height": 1000,
          "referenced_widgets": [
            "ec16f9f8be3940da8374e4b9a49f194a",
            "bf57db58d5ae4ed996635c012ff115de",
            "33fbe66c28e443bda341b19c4457c23b",
            "1a65db15def34a19a4bd12d81b132d4b",
            "e3dfbb1764a243699798b53cfab74851",
            "c1954c74f12d4bb286264aa2dc10ece7",
            "c78dc6d28bcc4bc78bdd8ec46614a76a",
            "d7857ffd0201436eb541b937a759fc7e"
          ]
        },
        "outputId": "f0f07bb3-e671-4df6-9f11-9d0d818f205a"
      },
      "source": [
        "param_label = 'learning_rate'\n",
        "param_list = [0.001, 0.005, 0.01, 0.05, 0.1, 0.2, 0.3]\n",
        "\n",
        "param2_label = 'min_child_weight'\n",
        "param2_list = range(5, 21, 1)\n",
        "\n",
        "error_rate = {param_label: [] , param2_label: [], 'rmse': [], 'mape_pct': []}\n",
        "tic = time.time()\n",
        "for param in tqdm_notebook(param_list):\n",
        "#     print(\"param = \" + str(param))\n",
        "    \n",
        "    for param2 in param2_list:\n",
        "        # Train, predict and eval model\n",
        "        rmse, mape, _ = train_pred_eval_model(X_train_scaled, \n",
        "                                     y_train_scaled, \n",
        "                                     X_cv_scaled, \n",
        "                                     y_cv, \n",
        "                                     cv['adj_close_mean'],\n",
        "                                     cv['adj_close_std'],\n",
        "                                     seed=model_seed,\n",
        "                                     n_estimators=n_estimators_opt, \n",
        "                                     max_depth=max_depth_opt, \n",
        "                                     learning_rate=param, \n",
        "                                     min_child_weight=param2, \n",
        "                                     subsample=subsample, \n",
        "                                     colsample_bytree=colsample_bytree, \n",
        "                                     colsample_bylevel=colsample_bylevel, \n",
        "                                     gamma=gamma)\n",
        "    \n",
        "        # Collect results\n",
        "        error_rate[param_label].append(param)\n",
        "        error_rate[param2_label].append(param2)\n",
        "        error_rate['rmse'].append(rmse)\n",
        "        error_rate['mape_pct'].append(mape)\n",
        "    \n",
        "error_rate = pd.DataFrame(error_rate)\n",
        "toc = time.time()\n",
        "print(\"Minutes taken = \" + str((toc-tic)/60.0))\n",
        "error_rate   "
      ],
      "execution_count": 572,
      "outputs": [
        {
          "output_type": "stream",
          "text": [
            "/usr/local/lib/python3.6/dist-packages/ipykernel_launcher.py:9: TqdmDeprecationWarning: This function will be removed in tqdm==5.0.0\n",
            "Please use `tqdm.notebook.tqdm` instead of `tqdm.tqdm_notebook`\n",
            "  if __name__ == '__main__':\n"
          ],
          "name": "stderr"
        },
        {
          "output_type": "display_data",
          "data": {
            "application/vnd.jupyter.widget-view+json": {
              "model_id": "ec16f9f8be3940da8374e4b9a49f194a",
              "version_minor": 0,
              "version_major": 2
            },
            "text/plain": [
              "HBox(children=(IntProgress(value=0, max=7), HTML(value='')))"
            ]
          },
          "metadata": {
            "tags": []
          }
        },
        {
          "output_type": "stream",
          "text": [
            "[17:25:45] WARNING: /workspace/src/objective/regression_obj.cu:152: reg:linear is now deprecated in favor of reg:squarederror.\n",
            "[17:25:45] WARNING: /workspace/src/objective/regression_obj.cu:152: reg:linear is now deprecated in favor of reg:squarederror.\n",
            "[17:25:45] WARNING: /workspace/src/objective/regression_obj.cu:152: reg:linear is now deprecated in favor of reg:squarederror.\n",
            "[17:25:46] WARNING: /workspace/src/objective/regression_obj.cu:152: reg:linear is now deprecated in favor of reg:squarederror.\n",
            "[17:25:46] WARNING: /workspace/src/objective/regression_obj.cu:152: reg:linear is now deprecated in favor of reg:squarederror.\n",
            "[17:25:46] WARNING: /workspace/src/objective/regression_obj.cu:152: reg:linear is now deprecated in favor of reg:squarederror.\n",
            "[17:25:46] WARNING: /workspace/src/objective/regression_obj.cu:152: reg:linear is now deprecated in favor of reg:squarederror.\n",
            "[17:25:46] WARNING: /workspace/src/objective/regression_obj.cu:152: reg:linear is now deprecated in favor of reg:squarederror.\n",
            "[17:25:46] WARNING: /workspace/src/objective/regression_obj.cu:152: reg:linear is now deprecated in favor of reg:squarederror.\n",
            "[17:25:47] WARNING: /workspace/src/objective/regression_obj.cu:152: reg:linear is now deprecated in favor of reg:squarederror.\n",
            "[17:25:47] WARNING: /workspace/src/objective/regression_obj.cu:152: reg:linear is now deprecated in favor of reg:squarederror.\n",
            "[17:25:47] WARNING: /workspace/src/objective/regression_obj.cu:152: reg:linear is now deprecated in favor of reg:squarederror.\n",
            "[17:25:47] WARNING: /workspace/src/objective/regression_obj.cu:152: reg:linear is now deprecated in favor of reg:squarederror.\n",
            "[17:25:47] WARNING: /workspace/src/objective/regression_obj.cu:152: reg:linear is now deprecated in favor of reg:squarederror.\n",
            "[17:25:47] WARNING: /workspace/src/objective/regression_obj.cu:152: reg:linear is now deprecated in favor of reg:squarederror.\n",
            "[17:25:48] WARNING: /workspace/src/objective/regression_obj.cu:152: reg:linear is now deprecated in favor of reg:squarederror.\n",
            "[17:25:48] WARNING: /workspace/src/objective/regression_obj.cu:152: reg:linear is now deprecated in favor of reg:squarederror.\n",
            "[17:25:48] WARNING: /workspace/src/objective/regression_obj.cu:152: reg:linear is now deprecated in favor of reg:squarederror.\n",
            "[17:25:48] WARNING: /workspace/src/objective/regression_obj.cu:152: reg:linear is now deprecated in favor of reg:squarederror.\n",
            "[17:25:48] WARNING: /workspace/src/objective/regression_obj.cu:152: reg:linear is now deprecated in favor of reg:squarederror.\n",
            "[17:25:48] WARNING: /workspace/src/objective/regression_obj.cu:152: reg:linear is now deprecated in favor of reg:squarederror.\n",
            "[17:25:49] WARNING: /workspace/src/objective/regression_obj.cu:152: reg:linear is now deprecated in favor of reg:squarederror.\n",
            "[17:25:49] WARNING: /workspace/src/objective/regression_obj.cu:152: reg:linear is now deprecated in favor of reg:squarederror.\n",
            "[17:25:49] WARNING: /workspace/src/objective/regression_obj.cu:152: reg:linear is now deprecated in favor of reg:squarederror.\n",
            "[17:25:49] WARNING: /workspace/src/objective/regression_obj.cu:152: reg:linear is now deprecated in favor of reg:squarederror.\n",
            "[17:25:49] WARNING: /workspace/src/objective/regression_obj.cu:152: reg:linear is now deprecated in favor of reg:squarederror.\n",
            "[17:25:49] WARNING: /workspace/src/objective/regression_obj.cu:152: reg:linear is now deprecated in favor of reg:squarederror.\n",
            "[17:25:50] WARNING: /workspace/src/objective/regression_obj.cu:152: reg:linear is now deprecated in favor of reg:squarederror.\n",
            "[17:25:50] WARNING: /workspace/src/objective/regression_obj.cu:152: reg:linear is now deprecated in favor of reg:squarederror.\n",
            "[17:25:50] WARNING: /workspace/src/objective/regression_obj.cu:152: reg:linear is now deprecated in favor of reg:squarederror.\n",
            "[17:25:50] WARNING: /workspace/src/objective/regression_obj.cu:152: reg:linear is now deprecated in favor of reg:squarederror.\n",
            "[17:25:50] WARNING: /workspace/src/objective/regression_obj.cu:152: reg:linear is now deprecated in favor of reg:squarederror.\n",
            "[17:25:50] WARNING: /workspace/src/objective/regression_obj.cu:152: reg:linear is now deprecated in favor of reg:squarederror.\n",
            "[17:25:51] WARNING: /workspace/src/objective/regression_obj.cu:152: reg:linear is now deprecated in favor of reg:squarederror.\n",
            "[17:25:51] WARNING: /workspace/src/objective/regression_obj.cu:152: reg:linear is now deprecated in favor of reg:squarederror.\n",
            "[17:25:51] WARNING: /workspace/src/objective/regression_obj.cu:152: reg:linear is now deprecated in favor of reg:squarederror.\n",
            "[17:25:51] WARNING: /workspace/src/objective/regression_obj.cu:152: reg:linear is now deprecated in favor of reg:squarederror.\n",
            "[17:25:51] WARNING: /workspace/src/objective/regression_obj.cu:152: reg:linear is now deprecated in favor of reg:squarederror.\n",
            "[17:25:51] WARNING: /workspace/src/objective/regression_obj.cu:152: reg:linear is now deprecated in favor of reg:squarederror.\n",
            "[17:25:52] WARNING: /workspace/src/objective/regression_obj.cu:152: reg:linear is now deprecated in favor of reg:squarederror.\n",
            "[17:25:52] WARNING: /workspace/src/objective/regression_obj.cu:152: reg:linear is now deprecated in favor of reg:squarederror.\n",
            "[17:25:52] WARNING: /workspace/src/objective/regression_obj.cu:152: reg:linear is now deprecated in favor of reg:squarederror.\n",
            "[17:25:52] WARNING: /workspace/src/objective/regression_obj.cu:152: reg:linear is now deprecated in favor of reg:squarederror.\n",
            "[17:25:52] WARNING: /workspace/src/objective/regression_obj.cu:152: reg:linear is now deprecated in favor of reg:squarederror.\n",
            "[17:25:52] WARNING: /workspace/src/objective/regression_obj.cu:152: reg:linear is now deprecated in favor of reg:squarederror.\n",
            "[17:25:53] WARNING: /workspace/src/objective/regression_obj.cu:152: reg:linear is now deprecated in favor of reg:squarederror.\n",
            "[17:25:53] WARNING: /workspace/src/objective/regression_obj.cu:152: reg:linear is now deprecated in favor of reg:squarederror.\n",
            "[17:25:53] WARNING: /workspace/src/objective/regression_obj.cu:152: reg:linear is now deprecated in favor of reg:squarederror.\n",
            "[17:25:53] WARNING: /workspace/src/objective/regression_obj.cu:152: reg:linear is now deprecated in favor of reg:squarederror.\n",
            "[17:25:53] WARNING: /workspace/src/objective/regression_obj.cu:152: reg:linear is now deprecated in favor of reg:squarederror.\n",
            "[17:25:53] WARNING: /workspace/src/objective/regression_obj.cu:152: reg:linear is now deprecated in favor of reg:squarederror.\n",
            "[17:25:54] WARNING: /workspace/src/objective/regression_obj.cu:152: reg:linear is now deprecated in favor of reg:squarederror.\n",
            "[17:25:54] WARNING: /workspace/src/objective/regression_obj.cu:152: reg:linear is now deprecated in favor of reg:squarederror.\n",
            "[17:25:54] WARNING: /workspace/src/objective/regression_obj.cu:152: reg:linear is now deprecated in favor of reg:squarederror.\n",
            "[17:25:54] WARNING: /workspace/src/objective/regression_obj.cu:152: reg:linear is now deprecated in favor of reg:squarederror.\n",
            "[17:25:54] WARNING: /workspace/src/objective/regression_obj.cu:152: reg:linear is now deprecated in favor of reg:squarederror.\n",
            "[17:25:54] WARNING: /workspace/src/objective/regression_obj.cu:152: reg:linear is now deprecated in favor of reg:squarederror.\n",
            "[17:25:55] WARNING: /workspace/src/objective/regression_obj.cu:152: reg:linear is now deprecated in favor of reg:squarederror.\n",
            "[17:25:55] WARNING: /workspace/src/objective/regression_obj.cu:152: reg:linear is now deprecated in favor of reg:squarederror.\n",
            "[17:25:55] WARNING: /workspace/src/objective/regression_obj.cu:152: reg:linear is now deprecated in favor of reg:squarederror.\n",
            "[17:25:55] WARNING: /workspace/src/objective/regression_obj.cu:152: reg:linear is now deprecated in favor of reg:squarederror.\n",
            "[17:25:55] WARNING: /workspace/src/objective/regression_obj.cu:152: reg:linear is now deprecated in favor of reg:squarederror.\n",
            "[17:25:56] WARNING: /workspace/src/objective/regression_obj.cu:152: reg:linear is now deprecated in favor of reg:squarederror.\n",
            "[17:25:56] WARNING: /workspace/src/objective/regression_obj.cu:152: reg:linear is now deprecated in favor of reg:squarederror.\n",
            "[17:25:56] WARNING: /workspace/src/objective/regression_obj.cu:152: reg:linear is now deprecated in favor of reg:squarederror.\n",
            "[17:25:56] WARNING: /workspace/src/objective/regression_obj.cu:152: reg:linear is now deprecated in favor of reg:squarederror.\n",
            "[17:25:56] WARNING: /workspace/src/objective/regression_obj.cu:152: reg:linear is now deprecated in favor of reg:squarederror.\n",
            "[17:25:56] WARNING: /workspace/src/objective/regression_obj.cu:152: reg:linear is now deprecated in favor of reg:squarederror.\n",
            "[17:25:57] WARNING: /workspace/src/objective/regression_obj.cu:152: reg:linear is now deprecated in favor of reg:squarederror.\n",
            "[17:25:57] WARNING: /workspace/src/objective/regression_obj.cu:152: reg:linear is now deprecated in favor of reg:squarederror.\n",
            "[17:25:57] WARNING: /workspace/src/objective/regression_obj.cu:152: reg:linear is now deprecated in favor of reg:squarederror.\n",
            "[17:25:57] WARNING: /workspace/src/objective/regression_obj.cu:152: reg:linear is now deprecated in favor of reg:squarederror.\n",
            "[17:25:57] WARNING: /workspace/src/objective/regression_obj.cu:152: reg:linear is now deprecated in favor of reg:squarederror.\n",
            "[17:25:58] WARNING: /workspace/src/objective/regression_obj.cu:152: reg:linear is now deprecated in favor of reg:squarederror.\n",
            "[17:25:58] WARNING: /workspace/src/objective/regression_obj.cu:152: reg:linear is now deprecated in favor of reg:squarederror.\n",
            "[17:25:58] WARNING: /workspace/src/objective/regression_obj.cu:152: reg:linear is now deprecated in favor of reg:squarederror.\n",
            "[17:25:58] WARNING: /workspace/src/objective/regression_obj.cu:152: reg:linear is now deprecated in favor of reg:squarederror.\n",
            "[17:25:58] WARNING: /workspace/src/objective/regression_obj.cu:152: reg:linear is now deprecated in favor of reg:squarederror.\n",
            "[17:25:58] WARNING: /workspace/src/objective/regression_obj.cu:152: reg:linear is now deprecated in favor of reg:squarederror.\n",
            "[17:25:59] WARNING: /workspace/src/objective/regression_obj.cu:152: reg:linear is now deprecated in favor of reg:squarederror.\n",
            "[17:25:59] WARNING: /workspace/src/objective/regression_obj.cu:152: reg:linear is now deprecated in favor of reg:squarederror.\n",
            "[17:25:59] WARNING: /workspace/src/objective/regression_obj.cu:152: reg:linear is now deprecated in favor of reg:squarederror.\n",
            "[17:25:59] WARNING: /workspace/src/objective/regression_obj.cu:152: reg:linear is now deprecated in favor of reg:squarederror.\n",
            "[17:25:59] WARNING: /workspace/src/objective/regression_obj.cu:152: reg:linear is now deprecated in favor of reg:squarederror.\n",
            "[17:26:00] WARNING: /workspace/src/objective/regression_obj.cu:152: reg:linear is now deprecated in favor of reg:squarederror.\n",
            "[17:26:00] WARNING: /workspace/src/objective/regression_obj.cu:152: reg:linear is now deprecated in favor of reg:squarederror.\n",
            "[17:26:00] WARNING: /workspace/src/objective/regression_obj.cu:152: reg:linear is now deprecated in favor of reg:squarederror.\n",
            "[17:26:00] WARNING: /workspace/src/objective/regression_obj.cu:152: reg:linear is now deprecated in favor of reg:squarederror.\n",
            "[17:26:00] WARNING: /workspace/src/objective/regression_obj.cu:152: reg:linear is now deprecated in favor of reg:squarederror.\n",
            "[17:26:01] WARNING: /workspace/src/objective/regression_obj.cu:152: reg:linear is now deprecated in favor of reg:squarederror.\n",
            "[17:26:01] WARNING: /workspace/src/objective/regression_obj.cu:152: reg:linear is now deprecated in favor of reg:squarederror.\n",
            "[17:26:01] WARNING: /workspace/src/objective/regression_obj.cu:152: reg:linear is now deprecated in favor of reg:squarederror.\n",
            "[17:26:01] WARNING: /workspace/src/objective/regression_obj.cu:152: reg:linear is now deprecated in favor of reg:squarederror.\n",
            "[17:26:02] WARNING: /workspace/src/objective/regression_obj.cu:152: reg:linear is now deprecated in favor of reg:squarederror.\n",
            "[17:26:02] WARNING: /workspace/src/objective/regression_obj.cu:152: reg:linear is now deprecated in favor of reg:squarederror.\n",
            "[17:26:02] WARNING: /workspace/src/objective/regression_obj.cu:152: reg:linear is now deprecated in favor of reg:squarederror.\n",
            "[17:26:02] WARNING: /workspace/src/objective/regression_obj.cu:152: reg:linear is now deprecated in favor of reg:squarederror.\n",
            "[17:26:03] WARNING: /workspace/src/objective/regression_obj.cu:152: reg:linear is now deprecated in favor of reg:squarederror.\n",
            "[17:26:03] WARNING: /workspace/src/objective/regression_obj.cu:152: reg:linear is now deprecated in favor of reg:squarederror.\n",
            "[17:26:03] WARNING: /workspace/src/objective/regression_obj.cu:152: reg:linear is now deprecated in favor of reg:squarederror.\n",
            "[17:26:03] WARNING: /workspace/src/objective/regression_obj.cu:152: reg:linear is now deprecated in favor of reg:squarederror.\n",
            "[17:26:03] WARNING: /workspace/src/objective/regression_obj.cu:152: reg:linear is now deprecated in favor of reg:squarederror.\n",
            "[17:26:03] WARNING: /workspace/src/objective/regression_obj.cu:152: reg:linear is now deprecated in favor of reg:squarederror.\n",
            "[17:26:04] WARNING: /workspace/src/objective/regression_obj.cu:152: reg:linear is now deprecated in favor of reg:squarederror.\n",
            "[17:26:04] WARNING: /workspace/src/objective/regression_obj.cu:152: reg:linear is now deprecated in favor of reg:squarederror.\n",
            "[17:26:04] WARNING: /workspace/src/objective/regression_obj.cu:152: reg:linear is now deprecated in favor of reg:squarederror.\n",
            "[17:26:04] WARNING: /workspace/src/objective/regression_obj.cu:152: reg:linear is now deprecated in favor of reg:squarederror.\n",
            "[17:26:04] WARNING: /workspace/src/objective/regression_obj.cu:152: reg:linear is now deprecated in favor of reg:squarederror.\n",
            "[17:26:05] WARNING: /workspace/src/objective/regression_obj.cu:152: reg:linear is now deprecated in favor of reg:squarederror.\n",
            "[17:26:05] WARNING: /workspace/src/objective/regression_obj.cu:152: reg:linear is now deprecated in favor of reg:squarederror.\n",
            "[17:26:05] WARNING: /workspace/src/objective/regression_obj.cu:152: reg:linear is now deprecated in favor of reg:squarederror.\n",
            "[17:26:05] WARNING: /workspace/src/objective/regression_obj.cu:152: reg:linear is now deprecated in favor of reg:squarederror.\n",
            "\n",
            "Minutes taken = 0.3385035157203674\n"
          ],
          "name": "stdout"
        },
        {
          "output_type": "execute_result",
          "data": {
            "text/html": [
              "<div>\n",
              "<style scoped>\n",
              "    .dataframe tbody tr th:only-of-type {\n",
              "        vertical-align: middle;\n",
              "    }\n",
              "\n",
              "    .dataframe tbody tr th {\n",
              "        vertical-align: top;\n",
              "    }\n",
              "\n",
              "    .dataframe thead th {\n",
              "        text-align: right;\n",
              "    }\n",
              "</style>\n",
              "<table border=\"1\" class=\"dataframe\">\n",
              "  <thead>\n",
              "    <tr style=\"text-align: right;\">\n",
              "      <th></th>\n",
              "      <th>learning_rate</th>\n",
              "      <th>min_child_weight</th>\n",
              "      <th>rmse</th>\n",
              "      <th>mape_pct</th>\n",
              "    </tr>\n",
              "  </thead>\n",
              "  <tbody>\n",
              "    <tr>\n",
              "      <th>0</th>\n",
              "      <td>0.001</td>\n",
              "      <td>5</td>\n",
              "      <td>32.351134</td>\n",
              "      <td>1.296440</td>\n",
              "    </tr>\n",
              "    <tr>\n",
              "      <th>1</th>\n",
              "      <td>0.001</td>\n",
              "      <td>6</td>\n",
              "      <td>32.351143</td>\n",
              "      <td>1.296428</td>\n",
              "    </tr>\n",
              "    <tr>\n",
              "      <th>2</th>\n",
              "      <td>0.001</td>\n",
              "      <td>7</td>\n",
              "      <td>32.351018</td>\n",
              "      <td>1.296418</td>\n",
              "    </tr>\n",
              "    <tr>\n",
              "      <th>3</th>\n",
              "      <td>0.001</td>\n",
              "      <td>8</td>\n",
              "      <td>32.351189</td>\n",
              "      <td>1.296426</td>\n",
              "    </tr>\n",
              "    <tr>\n",
              "      <th>4</th>\n",
              "      <td>0.001</td>\n",
              "      <td>9</td>\n",
              "      <td>32.351189</td>\n",
              "      <td>1.296426</td>\n",
              "    </tr>\n",
              "    <tr>\n",
              "      <th>...</th>\n",
              "      <td>...</td>\n",
              "      <td>...</td>\n",
              "      <td>...</td>\n",
              "      <td>...</td>\n",
              "    </tr>\n",
              "    <tr>\n",
              "      <th>107</th>\n",
              "      <td>0.300</td>\n",
              "      <td>16</td>\n",
              "      <td>27.381197</td>\n",
              "      <td>1.146893</td>\n",
              "    </tr>\n",
              "    <tr>\n",
              "      <th>108</th>\n",
              "      <td>0.300</td>\n",
              "      <td>17</td>\n",
              "      <td>27.406625</td>\n",
              "      <td>1.146249</td>\n",
              "    </tr>\n",
              "    <tr>\n",
              "      <th>109</th>\n",
              "      <td>0.300</td>\n",
              "      <td>18</td>\n",
              "      <td>27.408173</td>\n",
              "      <td>1.146009</td>\n",
              "    </tr>\n",
              "    <tr>\n",
              "      <th>110</th>\n",
              "      <td>0.300</td>\n",
              "      <td>19</td>\n",
              "      <td>27.418574</td>\n",
              "      <td>1.148022</td>\n",
              "    </tr>\n",
              "    <tr>\n",
              "      <th>111</th>\n",
              "      <td>0.300</td>\n",
              "      <td>20</td>\n",
              "      <td>27.405763</td>\n",
              "      <td>1.147537</td>\n",
              "    </tr>\n",
              "  </tbody>\n",
              "</table>\n",
              "<p>112 rows × 4 columns</p>\n",
              "</div>"
            ],
            "text/plain": [
              "     learning_rate  min_child_weight       rmse  mape_pct\n",
              "0            0.001                 5  32.351134  1.296440\n",
              "1            0.001                 6  32.351143  1.296428\n",
              "2            0.001                 7  32.351018  1.296418\n",
              "3            0.001                 8  32.351189  1.296426\n",
              "4            0.001                 9  32.351189  1.296426\n",
              "..             ...               ...        ...       ...\n",
              "107          0.300                16  27.381197  1.146893\n",
              "108          0.300                17  27.406625  1.146249\n",
              "109          0.300                18  27.408173  1.146009\n",
              "110          0.300                19  27.418574  1.148022\n",
              "111          0.300                20  27.405763  1.147537\n",
              "\n",
              "[112 rows x 4 columns]"
            ]
          },
          "metadata": {
            "tags": []
          },
          "execution_count": 572
        }
      ]
    },
    {
      "cell_type": "code",
      "metadata": {
        "id": "CnFNHTsNTJji",
        "colab_type": "code",
        "colab": {
          "base_uri": "https://localhost:8080/",
          "height": 505
        },
        "outputId": "95231ec3-7cc1-447e-d693-897ea504b501"
      },
      "source": [
        "# Plot performance versus params\n",
        "rcParams['figure.figsize'] = 10, 8 # width 10, height 8\n",
        "temp = error_rate[error_rate[param2_label]==param2_list[0]]\n",
        "ax = temp.plot(x=param_label, y='rmse', style='bs-', grid=True)\n",
        "legend_list = [param2_label + '_' + str(param2_list[0])]\n",
        "\n",
        "color_list = ['r', 'g', 'k', 'y', 'm', 'c', '0.75']\n",
        "for i in range(1,len(param2_list)):\n",
        "    temp = error_rate[error_rate[param2_label]==param2_list[i]]\n",
        "    ax = temp.plot(x=param_label, y='rmse', color=color_list[i%len(color_list)], marker='s', grid=True, ax=ax)\n",
        "    legend_list.append(param2_label + '_' + str(param2_list[i]))\n",
        "\n",
        "ax.set_xlabel(param_label)\n",
        "ax.set_ylabel(\"RMSE\")\n",
        "matplotlib.rcParams.update({'font.size': 14})\n",
        "plt.legend(legend_list, loc='center left', bbox_to_anchor=(1.0, 0.5)) # positions legend outside figure\n",
        "\n",
        "fig = ax.get_figure()\n",
        "fig.savefig(\"/content/ouput/tuningminchildweight.pdf\",bbox_inches='tight')"
      ],
      "execution_count": 573,
      "outputs": [
        {
          "output_type": "display_data",
          "data": {
            "image/png": "[encoded data removed]",
            "text/plain": [
              "<Figure size 720x576 with 1 Axes>"
            ]
          },
          "metadata": {
            "tags": [],
            "needs_background": "light"
          }
        }
      ]
    },
    {
      "cell_type": "code",
      "metadata": {
        "id": "kWPxPQLnTJjr",
        "colab_type": "code",
        "colab": {
          "base_uri": "https://localhost:8080/",
          "height": 71
        },
        "outputId": "d5d3534b-09e5-4084-e393-5078ce772db2"
      },
      "source": [
        "# Get optimum value for param and param2\n",
        "temp = error_rate[error_rate['rmse'] == error_rate['rmse'].min()]\n",
        "learning_rate_opt = temp['learning_rate'].values[0]\n",
        "min_child_weight_opt = temp['min_child_weight'].values[0]\n",
        "print(\"min RMSE = %0.3f\" % error_rate['rmse'].min())\n",
        "print(\"optimum params = \")\n",
        "learning_rate_opt, min_child_weight_opt"
      ],
      "execution_count": 574,
      "outputs": [
        {
          "output_type": "stream",
          "text": [
            "min RMSE = 27.346\n",
            "optimum params = \n"
          ],
          "name": "stdout"
        },
        {
          "output_type": "execute_result",
          "data": {
            "text/plain": [
              "(0.3, 5)"
            ]
          },
          "metadata": {
            "tags": []
          },
          "execution_count": 574
        }
      ]
    },
    {
      "cell_type": "code",
      "metadata": {
        "id": "FUPdstZvTJj1",
        "colab_type": "code",
        "colab": {
          "base_uri": "https://localhost:8080/",
          "height": 71
        },
        "outputId": "f32c9301-da40-4229-8d4c-8cd5490d7482"
      },
      "source": [
        "# Get optimum value for param and param2, using MAPE\n",
        "# We will use RMSE to decide the final optimum params to use\n",
        "temp = error_rate[error_rate['mape_pct'] == error_rate['mape_pct'].min()]\n",
        "print(\"min MAPE = %0.3f%%\" % error_rate['mape_pct'].min())\n",
        "print(\"optimum params = \")\n",
        "temp['learning_rate'].values[0], temp['min_child_weight'].values[0]"
      ],
      "execution_count": 575,
      "outputs": [
        {
          "output_type": "stream",
          "text": [
            "min MAPE = 1.141%\n",
            "optimum params = \n"
          ],
          "name": "stdout"
        },
        {
          "output_type": "execute_result",
          "data": {
            "text/plain": [
              "(0.2, 5)"
            ]
          },
          "metadata": {
            "tags": []
          },
          "execution_count": 575
        }
      ]
    },
    {
      "cell_type": "markdown",
      "metadata": {
        "id": "Ir51fTNkTJkA",
        "colab_type": "text"
      },
      "source": [
        "# Tuning XGBoost - subsample(default=1) and gamma(default=0)"
      ]
    },
    {
      "cell_type": "code",
      "metadata": {
        "id": "kUt8DGoxTJkD",
        "colab_type": "code",
        "colab": {
          "base_uri": "https://localhost:8080/",
          "height": 1000,
          "referenced_widgets": [
            "f8772193fb5444ef92780697dbab75a4",
            "f0d8aec5dfe74cd0a2d2b9deaaf1a26f",
            "d129f6be6eaa40b0b4d4da7e1abcb40f",
            "250333dd8e4d43bba7a124d5aba37485",
            "6beaca6925414ad7b1f9d49ed2383f83",
            "36300280182b43268dc0bdfc858f6ed9",
            "8b1b4708387c43358833fd93823b8611",
            "c99807fa67c749a8b21fb7b0242df5fd"
          ]
        },
        "outputId": "4b031417-70a1-4f67-a643-c0dd80590e2b"
      },
      "source": [
        "param_label = 'subsample'\n",
        "param_list = [0.1, 0.2, 0.3, 0.4, 0.5, 0.6, 0.7, 0.8, 0.9, 1]\n",
        "\n",
        "param2_label = 'gamma'\n",
        "param2_list = [0.1, 0.2, 0.3, 0.4, 0.5, 0.6, 0.7, 0.8, 0.9, 1]\n",
        "\n",
        "error_rate = {param_label: [] , param2_label: [], 'rmse': [], 'mape_pct': []}\n",
        "tic = time.time()\n",
        "for param in tqdm_notebook(param_list):\n",
        "#     print(\"param = \" + str(param))\n",
        "    \n",
        "    for param2 in param2_list:\n",
        "        # Train, predict and eval model\n",
        "        rmse, mape, _ = train_pred_eval_model(X_train_scaled, \n",
        "                                     y_train_scaled, \n",
        "                                     X_cv_scaled, \n",
        "                                     y_cv, \n",
        "                                     cv['adj_close_mean'],\n",
        "                                     cv['adj_close_std'],\n",
        "                                     seed=model_seed,\n",
        "                                     n_estimators=n_estimators_opt, \n",
        "                                     max_depth=max_depth_opt, \n",
        "                                     learning_rate=learning_rate_opt, \n",
        "                                     min_child_weight=min_child_weight_opt, \n",
        "                                     subsample=param, \n",
        "                                     colsample_bytree=colsample_bytree, \n",
        "                                     colsample_bylevel=colsample_bylevel, \n",
        "                                     gamma=param2)\n",
        "    \n",
        "        # Collect results\n",
        "        error_rate[param_label].append(param)\n",
        "        error_rate[param2_label].append(param2)\n",
        "        error_rate['rmse'].append(rmse)\n",
        "        error_rate['mape_pct'].append(mape)\n",
        "    \n",
        "error_rate = pd.DataFrame(error_rate)\n",
        "toc = time.time()\n",
        "print(\"Minutes taken = \" + str((toc-tic)/60.0))\n",
        "error_rate   "
      ],
      "execution_count": 576,
      "outputs": [
        {
          "output_type": "stream",
          "text": [
            "/usr/local/lib/python3.6/dist-packages/ipykernel_launcher.py:9: TqdmDeprecationWarning: This function will be removed in tqdm==5.0.0\n",
            "Please use `tqdm.notebook.tqdm` instead of `tqdm.tqdm_notebook`\n",
            "  if __name__ == '__main__':\n"
          ],
          "name": "stderr"
        },
        {
          "output_type": "display_data",
          "data": {
            "application/vnd.jupyter.widget-view+json": {
              "model_id": "f8772193fb5444ef92780697dbab75a4",
              "version_minor": 0,
              "version_major": 2
            },
            "text/plain": [
              "HBox(children=(IntProgress(value=0, max=10), HTML(value='')))"
            ]
          },
          "metadata": {
            "tags": []
          }
        },
        {
          "output_type": "stream",
          "text": [
            "[17:26:06] WARNING: /workspace/src/objective/regression_obj.cu:152: reg:linear is now deprecated in favor of reg:squarederror.\n",
            "[17:26:06] WARNING: /workspace/src/objective/regression_obj.cu:152: reg:linear is now deprecated in favor of reg:squarederror.\n",
            "[17:26:06] WARNING: /workspace/src/objective/regression_obj.cu:152: reg:linear is now deprecated in favor of reg:squarederror.\n",
            "[17:26:07] WARNING: /workspace/src/objective/regression_obj.cu:152: reg:linear is now deprecated in favor of reg:squarederror.\n",
            "[17:26:07] WARNING: /workspace/src/objective/regression_obj.cu:152: reg:linear is now deprecated in favor of reg:squarederror.\n",
            "[17:26:07] WARNING: /workspace/src/objective/regression_obj.cu:152: reg:linear is now deprecated in favor of reg:squarederror.\n",
            "[17:26:07] WARNING: /workspace/src/objective/regression_obj.cu:152: reg:linear is now deprecated in favor of reg:squarederror.\n",
            "[17:26:07] WARNING: /workspace/src/objective/regression_obj.cu:152: reg:linear is now deprecated in favor of reg:squarederror.\n",
            "[17:26:07] WARNING: /workspace/src/objective/regression_obj.cu:152: reg:linear is now deprecated in favor of reg:squarederror.\n",
            "[17:26:07] WARNING: /workspace/src/objective/regression_obj.cu:152: reg:linear is now deprecated in favor of reg:squarederror.\n",
            "[17:26:07] WARNING: /workspace/src/objective/regression_obj.cu:152: reg:linear is now deprecated in favor of reg:squarederror.\n",
            "[17:26:07] WARNING: /workspace/src/objective/regression_obj.cu:152: reg:linear is now deprecated in favor of reg:squarederror.\n",
            "[17:26:07] WARNING: /workspace/src/objective/regression_obj.cu:152: reg:linear is now deprecated in favor of reg:squarederror.\n",
            "[17:26:08] WARNING: /workspace/src/objective/regression_obj.cu:152: reg:linear is now deprecated in favor of reg:squarederror.\n",
            "[17:26:08] WARNING: /workspace/src/objective/regression_obj.cu:152: reg:linear is now deprecated in favor of reg:squarederror.\n",
            "[17:26:08] WARNING: /workspace/src/objective/regression_obj.cu:152: reg:linear is now deprecated in favor of reg:squarederror.\n",
            "[17:26:08] WARNING: /workspace/src/objective/regression_obj.cu:152: reg:linear is now deprecated in favor of reg:squarederror.\n",
            "[17:26:08] WARNING: /workspace/src/objective/regression_obj.cu:152: reg:linear is now deprecated in favor of reg:squarederror.\n",
            "[17:26:08] WARNING: /workspace/src/objective/regression_obj.cu:152: reg:linear is now deprecated in favor of reg:squarederror.\n",
            "[17:26:08] WARNING: /workspace/src/objective/regression_obj.cu:152: reg:linear is now deprecated in favor of reg:squarederror.\n",
            "[17:26:08] WARNING: /workspace/src/objective/regression_obj.cu:152: reg:linear is now deprecated in favor of reg:squarederror.\n",
            "[17:26:09] WARNING: /workspace/src/objective/regression_obj.cu:152: reg:linear is now deprecated in favor of reg:squarederror.\n",
            "[17:26:09] WARNING: /workspace/src/objective/regression_obj.cu:152: reg:linear is now deprecated in favor of reg:squarederror.\n",
            "[17:26:09] WARNING: /workspace/src/objective/regression_obj.cu:152: reg:linear is now deprecated in favor of reg:squarederror.\n",
            "[17:26:09] WARNING: /workspace/src/objective/regression_obj.cu:152: reg:linear is now deprecated in favor of reg:squarederror.\n",
            "[17:26:09] WARNING: /workspace/src/objective/regression_obj.cu:152: reg:linear is now deprecated in favor of reg:squarederror.\n",
            "[17:26:09] WARNING: /workspace/src/objective/regression_obj.cu:152: reg:linear is now deprecated in favor of reg:squarederror.\n",
            "[17:26:09] WARNING: /workspace/src/objective/regression_obj.cu:152: reg:linear is now deprecated in favor of reg:squarederror.\n",
            "[17:26:10] WARNING: /workspace/src/objective/regression_obj.cu:152: reg:linear is now deprecated in favor of reg:squarederror.\n",
            "[17:26:10] WARNING: /workspace/src/objective/regression_obj.cu:152: reg:linear is now deprecated in favor of reg:squarederror.\n",
            "[17:26:10] WARNING: /workspace/src/objective/regression_obj.cu:152: reg:linear is now deprecated in favor of reg:squarederror.\n",
            "[17:26:10] WARNING: /workspace/src/objective/regression_obj.cu:152: reg:linear is now deprecated in favor of reg:squarederror.\n",
            "[17:26:10] WARNING: /workspace/src/objective/regression_obj.cu:152: reg:linear is now deprecated in favor of reg:squarederror.\n",
            "[17:26:10] WARNING: /workspace/src/objective/regression_obj.cu:152: reg:linear is now deprecated in favor of reg:squarederror.\n",
            "[17:26:10] WARNING: /workspace/src/objective/regression_obj.cu:152: reg:linear is now deprecated in favor of reg:squarederror.\n",
            "[17:26:11] WARNING: /workspace/src/objective/regression_obj.cu:152: reg:linear is now deprecated in favor of reg:squarederror.\n",
            "[17:26:11] WARNING: /workspace/src/objective/regression_obj.cu:152: reg:linear is now deprecated in favor of reg:squarederror.\n",
            "[17:26:11] WARNING: /workspace/src/objective/regression_obj.cu:152: reg:linear is now deprecated in favor of reg:squarederror.\n",
            "[17:26:11] WARNING: /workspace/src/objective/regression_obj.cu:152: reg:linear is now deprecated in favor of reg:squarederror.\n",
            "[17:26:11] WARNING: /workspace/src/objective/regression_obj.cu:152: reg:linear is now deprecated in favor of reg:squarederror.\n",
            "[17:26:11] WARNING: /workspace/src/objective/regression_obj.cu:152: reg:linear is now deprecated in favor of reg:squarederror.\n",
            "[17:26:12] WARNING: /workspace/src/objective/regression_obj.cu:152: reg:linear is now deprecated in favor of reg:squarederror.\n",
            "[17:26:12] WARNING: /workspace/src/objective/regression_obj.cu:152: reg:linear is now deprecated in favor of reg:squarederror.\n",
            "[17:26:12] WARNING: /workspace/src/objective/regression_obj.cu:152: reg:linear is now deprecated in favor of reg:squarederror.\n",
            "[17:26:12] WARNING: /workspace/src/objective/regression_obj.cu:152: reg:linear is now deprecated in favor of reg:squarederror.\n",
            "[17:26:12] WARNING: /workspace/src/objective/regression_obj.cu:152: reg:linear is now deprecated in favor of reg:squarederror.\n",
            "[17:26:12] WARNING: /workspace/src/objective/regression_obj.cu:152: reg:linear is now deprecated in favor of reg:squarederror.\n",
            "[17:26:12] WARNING: /workspace/src/objective/regression_obj.cu:152: reg:linear is now deprecated in favor of reg:squarederror.\n",
            "[17:26:13] WARNING: /workspace/src/objective/regression_obj.cu:152: reg:linear is now deprecated in favor of reg:squarederror.\n",
            "[17:26:13] WARNING: /workspace/src/objective/regression_obj.cu:152: reg:linear is now deprecated in favor of reg:squarederror.\n",
            "[17:26:13] WARNING: /workspace/src/objective/regression_obj.cu:152: reg:linear is now deprecated in favor of reg:squarederror.\n",
            "[17:26:13] WARNING: /workspace/src/objective/regression_obj.cu:152: reg:linear is now deprecated in favor of reg:squarederror.\n",
            "[17:26:13] WARNING: /workspace/src/objective/regression_obj.cu:152: reg:linear is now deprecated in favor of reg:squarederror.\n",
            "[17:26:14] WARNING: /workspace/src/objective/regression_obj.cu:152: reg:linear is now deprecated in favor of reg:squarederror.\n",
            "[17:26:14] WARNING: /workspace/src/objective/regression_obj.cu:152: reg:linear is now deprecated in favor of reg:squarederror.\n",
            "[17:26:14] WARNING: /workspace/src/objective/regression_obj.cu:152: reg:linear is now deprecated in favor of reg:squarederror.\n",
            "[17:26:14] WARNING: /workspace/src/objective/regression_obj.cu:152: reg:linear is now deprecated in favor of reg:squarederror.\n",
            "[17:26:14] WARNING: /workspace/src/objective/regression_obj.cu:152: reg:linear is now deprecated in favor of reg:squarederror.\n",
            "[17:26:14] WARNING: /workspace/src/objective/regression_obj.cu:152: reg:linear is now deprecated in favor of reg:squarederror.\n",
            "[17:26:15] WARNING: /workspace/src/objective/regression_obj.cu:152: reg:linear is now deprecated in favor of reg:squarederror.\n",
            "[17:26:15] WARNING: /workspace/src/objective/regression_obj.cu:152: reg:linear is now deprecated in favor of reg:squarederror.\n",
            "[17:26:15] WARNING: /workspace/src/objective/regression_obj.cu:152: reg:linear is now deprecated in favor of reg:squarederror.\n",
            "[17:26:15] WARNING: /workspace/src/objective/regression_obj.cu:152: reg:linear is now deprecated in favor of reg:squarederror.\n",
            "[17:26:15] WARNING: /workspace/src/objective/regression_obj.cu:152: reg:linear is now deprecated in favor of reg:squarederror.\n",
            "[17:26:15] WARNING: /workspace/src/objective/regression_obj.cu:152: reg:linear is now deprecated in favor of reg:squarederror.\n",
            "[17:26:16] WARNING: /workspace/src/objective/regression_obj.cu:152: reg:linear is now deprecated in favor of reg:squarederror.\n",
            "[17:26:16] WARNING: /workspace/src/objective/regression_obj.cu:152: reg:linear is now deprecated in favor of reg:squarederror.\n",
            "[17:26:16] WARNING: /workspace/src/objective/regression_obj.cu:152: reg:linear is now deprecated in favor of reg:squarederror.\n",
            "[17:26:16] WARNING: /workspace/src/objective/regression_obj.cu:152: reg:linear is now deprecated in favor of reg:squarederror.\n",
            "[17:26:16] WARNING: /workspace/src/objective/regression_obj.cu:152: reg:linear is now deprecated in favor of reg:squarederror.\n",
            "[17:26:16] WARNING: /workspace/src/objective/regression_obj.cu:152: reg:linear is now deprecated in favor of reg:squarederror.\n",
            "[17:26:17] WARNING: /workspace/src/objective/regression_obj.cu:152: reg:linear is now deprecated in favor of reg:squarederror.\n",
            "[17:26:17] WARNING: /workspace/src/objective/regression_obj.cu:152: reg:linear is now deprecated in favor of reg:squarederror.\n",
            "[17:26:17] WARNING: /workspace/src/objective/regression_obj.cu:152: reg:linear is now deprecated in favor of reg:squarederror.\n",
            "[17:26:17] WARNING: /workspace/src/objective/regression_obj.cu:152: reg:linear is now deprecated in favor of reg:squarederror.\n",
            "[17:26:17] WARNING: /workspace/src/objective/regression_obj.cu:152: reg:linear is now deprecated in favor of reg:squarederror.\n",
            "[17:26:17] WARNING: /workspace/src/objective/regression_obj.cu:152: reg:linear is now deprecated in favor of reg:squarederror.\n",
            "[17:26:18] WARNING: /workspace/src/objective/regression_obj.cu:152: reg:linear is now deprecated in favor of reg:squarederror.\n",
            "[17:26:18] WARNING: /workspace/src/objective/regression_obj.cu:152: reg:linear is now deprecated in favor of reg:squarederror.\n",
            "[17:26:18] WARNING: /workspace/src/objective/regression_obj.cu:152: reg:linear is now deprecated in favor of reg:squarederror.\n",
            "[17:26:18] WARNING: /workspace/src/objective/regression_obj.cu:152: reg:linear is now deprecated in favor of reg:squarederror.\n",
            "[17:26:18] WARNING: /workspace/src/objective/regression_obj.cu:152: reg:linear is now deprecated in favor of reg:squarederror.\n",
            "[17:26:19] WARNING: /workspace/src/objective/regression_obj.cu:152: reg:linear is now deprecated in favor of reg:squarederror.\n",
            "[17:26:19] WARNING: /workspace/src/objective/regression_obj.cu:152: reg:linear is now deprecated in favor of reg:squarederror.\n",
            "[17:26:19] WARNING: /workspace/src/objective/regression_obj.cu:152: reg:linear is now deprecated in favor of reg:squarederror.\n",
            "[17:26:19] WARNING: /workspace/src/objective/regression_obj.cu:152: reg:linear is now deprecated in favor of reg:squarederror.\n",
            "[17:26:19] WARNING: /workspace/src/objective/regression_obj.cu:152: reg:linear is now deprecated in favor of reg:squarederror.\n",
            "[17:26:19] WARNING: /workspace/src/objective/regression_obj.cu:152: reg:linear is now deprecated in favor of reg:squarederror.\n",
            "[17:26:20] WARNING: /workspace/src/objective/regression_obj.cu:152: reg:linear is now deprecated in favor of reg:squarederror.\n",
            "[17:26:20] WARNING: /workspace/src/objective/regression_obj.cu:152: reg:linear is now deprecated in favor of reg:squarederror.\n",
            "[17:26:20] WARNING: /workspace/src/objective/regression_obj.cu:152: reg:linear is now deprecated in favor of reg:squarederror.\n",
            "[17:26:20] WARNING: /workspace/src/objective/regression_obj.cu:152: reg:linear is now deprecated in favor of reg:squarederror.\n",
            "[17:26:20] WARNING: /workspace/src/objective/regression_obj.cu:152: reg:linear is now deprecated in favor of reg:squarederror.\n",
            "[17:26:20] WARNING: /workspace/src/objective/regression_obj.cu:152: reg:linear is now deprecated in favor of reg:squarederror.\n",
            "[17:26:21] WARNING: /workspace/src/objective/regression_obj.cu:152: reg:linear is now deprecated in favor of reg:squarederror.\n",
            "[17:26:21] WARNING: /workspace/src/objective/regression_obj.cu:152: reg:linear is now deprecated in favor of reg:squarederror.\n",
            "[17:26:21] WARNING: /workspace/src/objective/regression_obj.cu:152: reg:linear is now deprecated in favor of reg:squarederror.\n",
            "[17:26:21] WARNING: /workspace/src/objective/regression_obj.cu:152: reg:linear is now deprecated in favor of reg:squarederror.\n",
            "[17:26:21] WARNING: /workspace/src/objective/regression_obj.cu:152: reg:linear is now deprecated in favor of reg:squarederror.\n",
            "[17:26:21] WARNING: /workspace/src/objective/regression_obj.cu:152: reg:linear is now deprecated in favor of reg:squarederror.\n",
            "\n",
            "Minutes taken = 0.25709848403930663\n"
          ],
          "name": "stdout"
        },
        {
          "output_type": "execute_result",
          "data": {
            "text/html": [
              "<div>\n",
              "<style scoped>\n",
              "    .dataframe tbody tr th:only-of-type {\n",
              "        vertical-align: middle;\n",
              "    }\n",
              "\n",
              "    .dataframe tbody tr th {\n",
              "        vertical-align: top;\n",
              "    }\n",
              "\n",
              "    .dataframe thead th {\n",
              "        text-align: right;\n",
              "    }\n",
              "</style>\n",
              "<table border=\"1\" class=\"dataframe\">\n",
              "  <thead>\n",
              "    <tr style=\"text-align: right;\">\n",
              "      <th></th>\n",
              "      <th>subsample</th>\n",
              "      <th>gamma</th>\n",
              "      <th>rmse</th>\n",
              "      <th>mape_pct</th>\n",
              "    </tr>\n",
              "  </thead>\n",
              "  <tbody>\n",
              "    <tr>\n",
              "      <th>0</th>\n",
              "      <td>0.1</td>\n",
              "      <td>0.1</td>\n",
              "      <td>27.448482</td>\n",
              "      <td>1.156478</td>\n",
              "    </tr>\n",
              "    <tr>\n",
              "      <th>1</th>\n",
              "      <td>0.1</td>\n",
              "      <td>0.2</td>\n",
              "      <td>27.531785</td>\n",
              "      <td>1.153303</td>\n",
              "    </tr>\n",
              "    <tr>\n",
              "      <th>2</th>\n",
              "      <td>0.1</td>\n",
              "      <td>0.3</td>\n",
              "      <td>27.389455</td>\n",
              "      <td>1.150463</td>\n",
              "    </tr>\n",
              "    <tr>\n",
              "      <th>3</th>\n",
              "      <td>0.1</td>\n",
              "      <td>0.4</td>\n",
              "      <td>27.399952</td>\n",
              "      <td>1.150218</td>\n",
              "    </tr>\n",
              "    <tr>\n",
              "      <th>4</th>\n",
              "      <td>0.1</td>\n",
              "      <td>0.5</td>\n",
              "      <td>27.577941</td>\n",
              "      <td>1.159805</td>\n",
              "    </tr>\n",
              "    <tr>\n",
              "      <th>...</th>\n",
              "      <td>...</td>\n",
              "      <td>...</td>\n",
              "      <td>...</td>\n",
              "      <td>...</td>\n",
              "    </tr>\n",
              "    <tr>\n",
              "      <th>95</th>\n",
              "      <td>1.0</td>\n",
              "      <td>0.6</td>\n",
              "      <td>27.508330</td>\n",
              "      <td>1.146151</td>\n",
              "    </tr>\n",
              "    <tr>\n",
              "      <th>96</th>\n",
              "      <td>1.0</td>\n",
              "      <td>0.7</td>\n",
              "      <td>27.505788</td>\n",
              "      <td>1.147351</td>\n",
              "    </tr>\n",
              "    <tr>\n",
              "      <th>97</th>\n",
              "      <td>1.0</td>\n",
              "      <td>0.8</td>\n",
              "      <td>27.506437</td>\n",
              "      <td>1.147103</td>\n",
              "    </tr>\n",
              "    <tr>\n",
              "      <th>98</th>\n",
              "      <td>1.0</td>\n",
              "      <td>0.9</td>\n",
              "      <td>27.506437</td>\n",
              "      <td>1.147103</td>\n",
              "    </tr>\n",
              "    <tr>\n",
              "      <th>99</th>\n",
              "      <td>1.0</td>\n",
              "      <td>1.0</td>\n",
              "      <td>27.505323</td>\n",
              "      <td>1.146496</td>\n",
              "    </tr>\n",
              "  </tbody>\n",
              "</table>\n",
              "<p>100 rows × 4 columns</p>\n",
              "</div>"
            ],
            "text/plain": [
              "    subsample  gamma       rmse  mape_pct\n",
              "0         0.1    0.1  27.448482  1.156478\n",
              "1         0.1    0.2  27.531785  1.153303\n",
              "2         0.1    0.3  27.389455  1.150463\n",
              "3         0.1    0.4  27.399952  1.150218\n",
              "4         0.1    0.5  27.577941  1.159805\n",
              "..        ...    ...        ...       ...\n",
              "95        1.0    0.6  27.508330  1.146151\n",
              "96        1.0    0.7  27.505788  1.147351\n",
              "97        1.0    0.8  27.506437  1.147103\n",
              "98        1.0    0.9  27.506437  1.147103\n",
              "99        1.0    1.0  27.505323  1.146496\n",
              "\n",
              "[100 rows x 4 columns]"
            ]
          },
          "metadata": {
            "tags": []
          },
          "execution_count": 576
        }
      ]
    },
    {
      "cell_type": "code",
      "metadata": {
        "scrolled": true,
        "id": "s_OHgTwETJkP",
        "colab_type": "code",
        "colab": {
          "base_uri": "https://localhost:8080/",
          "height": 505
        },
        "outputId": "3d872247-0e46-469f-8db9-9babb63d9c3e"
      },
      "source": [
        "# Plot performance versus params\n",
        "rcParams['figure.figsize'] = 10, 8 # width 10, height 8\n",
        "temp = error_rate[error_rate[param2_label]==param2_list[0]]\n",
        "ax = temp.plot(x=param_label, y='rmse', style='bs-', grid=True)\n",
        "legend_list = [param2_label + '_' + str(param2_list[0])]\n",
        "\n",
        "color_list = ['r', 'g', 'k', 'y', 'm', 'c', '0.75']\n",
        "for i in range(1,len(param2_list)):\n",
        "    temp = error_rate[error_rate[param2_label]==param2_list[i]]\n",
        "    ax = temp.plot(x=param_label, y='rmse', color=color_list[i%len(color_list)], marker='s', grid=True, ax=ax)\n",
        "    legend_list.append(param2_label + '_' + str(param2_list[i]))\n",
        "\n",
        "ax.set_xlabel(param_label)\n",
        "ax.set_ylabel(\"RMSE\")\n",
        "matplotlib.rcParams.update({'font.size': 14})\n",
        "plt.legend(legend_list, loc='center left', bbox_to_anchor=(1.0, 0.5)) # positions legend outside figure\n",
        "\n",
        "fig = ax.get_figure()\n",
        "fig.savefig(\"/content/ouput/tuninggamma.pdf\",bbox_inches='tight')"
      ],
      "execution_count": 577,
      "outputs": [
        {
          "output_type": "display_data",
          "data": {
            "image/png": "[encoded data removed]",
            "text/plain": [
              "<Figure size 720x576 with 1 Axes>"
            ]
          },
          "metadata": {
            "tags": [],
            "needs_background": "light"
          }
        }
      ]
    },
    {
      "cell_type": "code",
      "metadata": {
        "id": "cWDAzPBgTJkZ",
        "colab_type": "code",
        "colab": {
          "base_uri": "https://localhost:8080/",
          "height": 71
        },
        "outputId": "d4201671-b777-4ca7-991e-fdd6a1e838a7"
      },
      "source": [
        "# Get optimum value for param and param2\n",
        "temp = error_rate[error_rate['rmse'] == error_rate['rmse'].min()]\n",
        "subsample_opt = temp['subsample'].values[0]\n",
        "gamma_opt = temp['gamma'].values[0]\n",
        "print(\"min RMSE = %0.3f\" % error_rate['rmse'].min())\n",
        "print(\"optimum params = \")\n",
        "subsample_opt, gamma_opt"
      ],
      "execution_count": 578,
      "outputs": [
        {
          "output_type": "stream",
          "text": [
            "min RMSE = 27.337\n",
            "optimum params = \n"
          ],
          "name": "stdout"
        },
        {
          "output_type": "execute_result",
          "data": {
            "text/plain": [
              "(0.2, 0.9)"
            ]
          },
          "metadata": {
            "tags": []
          },
          "execution_count": 578
        }
      ]
    },
    {
      "cell_type": "code",
      "metadata": {
        "id": "87ay_AeQTJko",
        "colab_type": "code",
        "colab": {
          "base_uri": "https://localhost:8080/",
          "height": 71
        },
        "outputId": "05e54ea0-4921-4ee2-cff5-e6b7dd74f312"
      },
      "source": [
        "# Get optimum value for param and param2, using MAPE\n",
        "# We will use RMSE to decide the final optimum params to use\n",
        "temp = error_rate[error_rate['mape_pct'] == error_rate['mape_pct'].min()]\n",
        "print(\"min MAPE = %0.3f%%\" % error_rate['mape_pct'].min())\n",
        "print(\"optimum params = \")\n",
        "temp['subsample'].values[0], temp['gamma'].values[0]"
      ],
      "execution_count": 579,
      "outputs": [
        {
          "output_type": "stream",
          "text": [
            "min MAPE = 1.146%\n",
            "optimum params = \n"
          ],
          "name": "stdout"
        },
        {
          "output_type": "execute_result",
          "data": {
            "text/plain": [
              "(0.2, 0.2)"
            ]
          },
          "metadata": {
            "tags": []
          },
          "execution_count": 579
        }
      ]
    },
    {
      "cell_type": "markdown",
      "metadata": {
        "id": "d9e3MsvDTJkx",
        "colab_type": "text"
      },
      "source": [
        "# Tuning XGBoost - colsample_bytree(default=1) and colsample_bylevel(default=1)"
      ]
    },
    {
      "cell_type": "code",
      "metadata": {
        "id": "sAYxPnuBTJk0",
        "colab_type": "code",
        "colab": {
          "base_uri": "https://localhost:8080/",
          "height": 1000,
          "referenced_widgets": [
            "094a0d2d29844babbf4f2a89ecec97fd",
            "7dd5b5aa6a074ae495b52b5cc01e28a8",
            "983a3b203bb1464f9efe744319b138b3",
            "6c864bc5c6fe4392becdf9599894fc56",
            "04d9317788bd4b4dbc63033729acf375",
            "1d4561c769fc441f9fc198e51a895c92",
            "2d9f10d2aa6a4ec4b5744cbf903ba4d9",
            "2446d7f1deba48a3b8ebcddf6ff194c2"
          ]
        },
        "outputId": "2f01b913-9ada-4f02-b653-c343a7214149"
      },
      "source": [
        "param_label = 'colsample_bytree'\n",
        "param_list = [0.5, 0.6, 0.7, 0.8, 0.9, 1]\n",
        "\n",
        "param2_label = 'colsample_bylevel'\n",
        "param2_list = [0.5, 0.6, 0.7, 0.8, 0.9, 1]\n",
        "\n",
        "error_rate = {param_label: [] , param2_label: [], 'rmse': [], 'mape_pct': []}\n",
        "tic = time.time()\n",
        "for param in tqdm_notebook(param_list):\n",
        "#     print(\"param = \" + str(param))\n",
        "    \n",
        "    for param2 in param2_list:\n",
        "        # Train, predict and eval model\n",
        "        rmse, mape, _ = train_pred_eval_model(X_train_scaled, \n",
        "                                     y_train_scaled, \n",
        "                                     X_cv_scaled, \n",
        "                                     y_cv, \n",
        "                                     cv['adj_close_mean'],\n",
        "                                     cv['adj_close_std'],\n",
        "                                     seed=model_seed,\n",
        "                                     n_estimators=n_estimators_opt, \n",
        "                                     max_depth=max_depth_opt, \n",
        "                                     learning_rate=learning_rate_opt, \n",
        "                                     min_child_weight=min_child_weight_opt, \n",
        "                                     subsample=subsample_opt, \n",
        "                                     colsample_bytree=param, \n",
        "                                     colsample_bylevel=param2, \n",
        "                                     gamma=gamma_opt)\n",
        "    \n",
        "        # Collect results\n",
        "        error_rate[param_label].append(param)\n",
        "        error_rate[param2_label].append(param2)\n",
        "        error_rate['rmse'].append(rmse)\n",
        "        error_rate['mape_pct'].append(mape)\n",
        "    \n",
        "error_rate = pd.DataFrame(error_rate)\n",
        "toc = time.time()\n",
        "print(\"Minutes taken = \" + str((toc-tic)/60.0))\n",
        "error_rate   "
      ],
      "execution_count": 580,
      "outputs": [
        {
          "output_type": "stream",
          "text": [
            "/usr/local/lib/python3.6/dist-packages/ipykernel_launcher.py:9: TqdmDeprecationWarning: This function will be removed in tqdm==5.0.0\n",
            "Please use `tqdm.notebook.tqdm` instead of `tqdm.tqdm_notebook`\n",
            "  if __name__ == '__main__':\n"
          ],
          "name": "stderr"
        },
        {
          "output_type": "display_data",
          "data": {
            "application/vnd.jupyter.widget-view+json": {
              "model_id": "094a0d2d29844babbf4f2a89ecec97fd",
              "version_minor": 0,
              "version_major": 2
            },
            "text/plain": [
              "HBox(children=(IntProgress(value=0, max=6), HTML(value='')))"
            ]
          },
          "metadata": {
            "tags": []
          }
        },
        {
          "output_type": "stream",
          "text": [
            "[17:26:22] WARNING: /workspace/src/objective/regression_obj.cu:152: reg:linear is now deprecated in favor of reg:squarederror.\n",
            "[17:26:22] WARNING: /workspace/src/objective/regression_obj.cu:152: reg:linear is now deprecated in favor of reg:squarederror.\n",
            "[17:26:23] WARNING: /workspace/src/objective/regression_obj.cu:152: reg:linear is now deprecated in favor of reg:squarederror.\n",
            "[17:26:23] WARNING: /workspace/src/objective/regression_obj.cu:152: reg:linear is now deprecated in favor of reg:squarederror.\n",
            "[17:26:23] WARNING: /workspace/src/objective/regression_obj.cu:152: reg:linear is now deprecated in favor of reg:squarederror.\n",
            "[17:26:23] WARNING: /workspace/src/objective/regression_obj.cu:152: reg:linear is now deprecated in favor of reg:squarederror.\n",
            "[17:26:23] WARNING: /workspace/src/objective/regression_obj.cu:152: reg:linear is now deprecated in favor of reg:squarederror.\n",
            "[17:26:23] WARNING: /workspace/src/objective/regression_obj.cu:152: reg:linear is now deprecated in favor of reg:squarederror.\n",
            "[17:26:23] WARNING: /workspace/src/objective/regression_obj.cu:152: reg:linear is now deprecated in favor of reg:squarederror.\n",
            "[17:26:23] WARNING: /workspace/src/objective/regression_obj.cu:152: reg:linear is now deprecated in favor of reg:squarederror.\n",
            "[17:26:23] WARNING: /workspace/src/objective/regression_obj.cu:152: reg:linear is now deprecated in favor of reg:squarederror.\n",
            "[17:26:23] WARNING: /workspace/src/objective/regression_obj.cu:152: reg:linear is now deprecated in favor of reg:squarederror.\n",
            "[17:26:23] WARNING: /workspace/src/objective/regression_obj.cu:152: reg:linear is now deprecated in favor of reg:squarederror.\n",
            "[17:26:23] WARNING: /workspace/src/objective/regression_obj.cu:152: reg:linear is now deprecated in favor of reg:squarederror.\n",
            "[17:26:24] WARNING: /workspace/src/objective/regression_obj.cu:152: reg:linear is now deprecated in favor of reg:squarederror.\n",
            "[17:26:24] WARNING: /workspace/src/objective/regression_obj.cu:152: reg:linear is now deprecated in favor of reg:squarederror.\n",
            "[17:26:24] WARNING: /workspace/src/objective/regression_obj.cu:152: reg:linear is now deprecated in favor of reg:squarederror.\n",
            "[17:26:24] WARNING: /workspace/src/objective/regression_obj.cu:152: reg:linear is now deprecated in favor of reg:squarederror.\n",
            "[17:26:24] WARNING: /workspace/src/objective/regression_obj.cu:152: reg:linear is now deprecated in favor of reg:squarederror.\n",
            "[17:26:24] WARNING: /workspace/src/objective/regression_obj.cu:152: reg:linear is now deprecated in favor of reg:squarederror.\n",
            "[17:26:24] WARNING: /workspace/src/objective/regression_obj.cu:152: reg:linear is now deprecated in favor of reg:squarederror.\n",
            "[17:26:24] WARNING: /workspace/src/objective/regression_obj.cu:152: reg:linear is now deprecated in favor of reg:squarederror.\n",
            "[17:26:24] WARNING: /workspace/src/objective/regression_obj.cu:152: reg:linear is now deprecated in favor of reg:squarederror.\n",
            "[17:26:24] WARNING: /workspace/src/objective/regression_obj.cu:152: reg:linear is now deprecated in favor of reg:squarederror.\n",
            "[17:26:25] WARNING: /workspace/src/objective/regression_obj.cu:152: reg:linear is now deprecated in favor of reg:squarederror.\n",
            "[17:26:25] WARNING: /workspace/src/objective/regression_obj.cu:152: reg:linear is now deprecated in favor of reg:squarederror.\n",
            "[17:26:25] WARNING: /workspace/src/objective/regression_obj.cu:152: reg:linear is now deprecated in favor of reg:squarederror.\n",
            "[17:26:25] WARNING: /workspace/src/objective/regression_obj.cu:152: reg:linear is now deprecated in favor of reg:squarederror.\n",
            "[17:26:25] WARNING: /workspace/src/objective/regression_obj.cu:152: reg:linear is now deprecated in favor of reg:squarederror.\n",
            "[17:26:25] WARNING: /workspace/src/objective/regression_obj.cu:152: reg:linear is now deprecated in favor of reg:squarederror.\n",
            "[17:26:25] WARNING: /workspace/src/objective/regression_obj.cu:152: reg:linear is now deprecated in favor of reg:squarederror.\n",
            "[17:26:25] WARNING: /workspace/src/objective/regression_obj.cu:152: reg:linear is now deprecated in favor of reg:squarederror.\n",
            "[17:26:25] WARNING: /workspace/src/objective/regression_obj.cu:152: reg:linear is now deprecated in favor of reg:squarederror.\n",
            "[17:26:25] WARNING: /workspace/src/objective/regression_obj.cu:152: reg:linear is now deprecated in favor of reg:squarederror.\n",
            "[17:26:26] WARNING: /workspace/src/objective/regression_obj.cu:152: reg:linear is now deprecated in favor of reg:squarederror.\n",
            "[17:26:26] WARNING: /workspace/src/objective/regression_obj.cu:152: reg:linear is now deprecated in favor of reg:squarederror.\n",
            "\n",
            "Minutes taken = 0.05773648023605347\n"
          ],
          "name": "stdout"
        },
        {
          "output_type": "execute_result",
          "data": {
            "text/html": [
              "<div>\n",
              "<style scoped>\n",
              "    .dataframe tbody tr th:only-of-type {\n",
              "        vertical-align: middle;\n",
              "    }\n",
              "\n",
              "    .dataframe tbody tr th {\n",
              "        vertical-align: top;\n",
              "    }\n",
              "\n",
              "    .dataframe thead th {\n",
              "        text-align: right;\n",
              "    }\n",
              "</style>\n",
              "<table border=\"1\" class=\"dataframe\">\n",
              "  <thead>\n",
              "    <tr style=\"text-align: right;\">\n",
              "      <th></th>\n",
              "      <th>colsample_bytree</th>\n",
              "      <th>colsample_bylevel</th>\n",
              "      <th>rmse</th>\n",
              "      <th>mape_pct</th>\n",
              "    </tr>\n",
              "  </thead>\n",
              "  <tbody>\n",
              "    <tr>\n",
              "      <th>0</th>\n",
              "      <td>0.5</td>\n",
              "      <td>0.5</td>\n",
              "      <td>32.151192</td>\n",
              "      <td>1.333670</td>\n",
              "    </tr>\n",
              "    <tr>\n",
              "      <th>1</th>\n",
              "      <td>0.5</td>\n",
              "      <td>0.6</td>\n",
              "      <td>32.151192</td>\n",
              "      <td>1.333670</td>\n",
              "    </tr>\n",
              "    <tr>\n",
              "      <th>2</th>\n",
              "      <td>0.5</td>\n",
              "      <td>0.7</td>\n",
              "      <td>33.958833</td>\n",
              "      <td>1.413449</td>\n",
              "    </tr>\n",
              "    <tr>\n",
              "      <th>3</th>\n",
              "      <td>0.5</td>\n",
              "      <td>0.8</td>\n",
              "      <td>33.958833</td>\n",
              "      <td>1.413449</td>\n",
              "    </tr>\n",
              "    <tr>\n",
              "      <th>4</th>\n",
              "      <td>0.5</td>\n",
              "      <td>0.9</td>\n",
              "      <td>30.465879</td>\n",
              "      <td>1.277777</td>\n",
              "    </tr>\n",
              "    <tr>\n",
              "      <th>5</th>\n",
              "      <td>0.5</td>\n",
              "      <td>1.0</td>\n",
              "      <td>29.337467</td>\n",
              "      <td>1.225859</td>\n",
              "    </tr>\n",
              "    <tr>\n",
              "      <th>6</th>\n",
              "      <td>0.6</td>\n",
              "      <td>0.5</td>\n",
              "      <td>34.412107</td>\n",
              "      <td>1.407138</td>\n",
              "    </tr>\n",
              "    <tr>\n",
              "      <th>7</th>\n",
              "      <td>0.6</td>\n",
              "      <td>0.6</td>\n",
              "      <td>33.900191</td>\n",
              "      <td>1.393636</td>\n",
              "    </tr>\n",
              "    <tr>\n",
              "      <th>8</th>\n",
              "      <td>0.6</td>\n",
              "      <td>0.7</td>\n",
              "      <td>33.900191</td>\n",
              "      <td>1.393636</td>\n",
              "    </tr>\n",
              "    <tr>\n",
              "      <th>9</th>\n",
              "      <td>0.6</td>\n",
              "      <td>0.8</td>\n",
              "      <td>30.360231</td>\n",
              "      <td>1.264079</td>\n",
              "    </tr>\n",
              "    <tr>\n",
              "      <th>10</th>\n",
              "      <td>0.6</td>\n",
              "      <td>0.9</td>\n",
              "      <td>29.968037</td>\n",
              "      <td>1.250126</td>\n",
              "    </tr>\n",
              "    <tr>\n",
              "      <th>11</th>\n",
              "      <td>0.6</td>\n",
              "      <td>1.0</td>\n",
              "      <td>29.433752</td>\n",
              "      <td>1.242786</td>\n",
              "    </tr>\n",
              "    <tr>\n",
              "      <th>12</th>\n",
              "      <td>0.7</td>\n",
              "      <td>0.5</td>\n",
              "      <td>32.151850</td>\n",
              "      <td>1.334845</td>\n",
              "    </tr>\n",
              "    <tr>\n",
              "      <th>13</th>\n",
              "      <td>0.7</td>\n",
              "      <td>0.6</td>\n",
              "      <td>32.151850</td>\n",
              "      <td>1.334845</td>\n",
              "    </tr>\n",
              "    <tr>\n",
              "      <th>14</th>\n",
              "      <td>0.7</td>\n",
              "      <td>0.7</td>\n",
              "      <td>29.999185</td>\n",
              "      <td>1.255476</td>\n",
              "    </tr>\n",
              "    <tr>\n",
              "      <th>15</th>\n",
              "      <td>0.7</td>\n",
              "      <td>0.8</td>\n",
              "      <td>28.538254</td>\n",
              "      <td>1.199883</td>\n",
              "    </tr>\n",
              "    <tr>\n",
              "      <th>16</th>\n",
              "      <td>0.7</td>\n",
              "      <td>0.9</td>\n",
              "      <td>27.967434</td>\n",
              "      <td>1.173931</td>\n",
              "    </tr>\n",
              "    <tr>\n",
              "      <th>17</th>\n",
              "      <td>0.7</td>\n",
              "      <td>1.0</td>\n",
              "      <td>28.020358</td>\n",
              "      <td>1.179437</td>\n",
              "    </tr>\n",
              "    <tr>\n",
              "      <th>18</th>\n",
              "      <td>0.8</td>\n",
              "      <td>0.5</td>\n",
              "      <td>34.358900</td>\n",
              "      <td>1.416925</td>\n",
              "    </tr>\n",
              "    <tr>\n",
              "      <th>19</th>\n",
              "      <td>0.8</td>\n",
              "      <td>0.6</td>\n",
              "      <td>31.517101</td>\n",
              "      <td>1.292193</td>\n",
              "    </tr>\n",
              "    <tr>\n",
              "      <th>20</th>\n",
              "      <td>0.8</td>\n",
              "      <td>0.7</td>\n",
              "      <td>29.561150</td>\n",
              "      <td>1.226160</td>\n",
              "    </tr>\n",
              "    <tr>\n",
              "      <th>21</th>\n",
              "      <td>0.8</td>\n",
              "      <td>0.8</td>\n",
              "      <td>27.984564</td>\n",
              "      <td>1.179827</td>\n",
              "    </tr>\n",
              "    <tr>\n",
              "      <th>22</th>\n",
              "      <td>0.8</td>\n",
              "      <td>0.9</td>\n",
              "      <td>28.015570</td>\n",
              "      <td>1.181271</td>\n",
              "    </tr>\n",
              "    <tr>\n",
              "      <th>23</th>\n",
              "      <td>0.8</td>\n",
              "      <td>1.0</td>\n",
              "      <td>27.991368</td>\n",
              "      <td>1.179776</td>\n",
              "    </tr>\n",
              "    <tr>\n",
              "      <th>24</th>\n",
              "      <td>0.9</td>\n",
              "      <td>0.5</td>\n",
              "      <td>31.835054</td>\n",
              "      <td>1.330018</td>\n",
              "    </tr>\n",
              "    <tr>\n",
              "      <th>25</th>\n",
              "      <td>0.9</td>\n",
              "      <td>0.6</td>\n",
              "      <td>31.401555</td>\n",
              "      <td>1.318154</td>\n",
              "    </tr>\n",
              "    <tr>\n",
              "      <th>26</th>\n",
              "      <td>0.9</td>\n",
              "      <td>0.7</td>\n",
              "      <td>30.074718</td>\n",
              "      <td>1.263488</td>\n",
              "    </tr>\n",
              "    <tr>\n",
              "      <th>27</th>\n",
              "      <td>0.9</td>\n",
              "      <td>0.8</td>\n",
              "      <td>30.089350</td>\n",
              "      <td>1.258677</td>\n",
              "    </tr>\n",
              "    <tr>\n",
              "      <th>28</th>\n",
              "      <td>0.9</td>\n",
              "      <td>0.9</td>\n",
              "      <td>30.214111</td>\n",
              "      <td>1.268323</td>\n",
              "    </tr>\n",
              "    <tr>\n",
              "      <th>29</th>\n",
              "      <td>0.9</td>\n",
              "      <td>1.0</td>\n",
              "      <td>27.882924</td>\n",
              "      <td>1.174471</td>\n",
              "    </tr>\n",
              "    <tr>\n",
              "      <th>30</th>\n",
              "      <td>1.0</td>\n",
              "      <td>0.5</td>\n",
              "      <td>29.383657</td>\n",
              "      <td>1.231712</td>\n",
              "    </tr>\n",
              "    <tr>\n",
              "      <th>31</th>\n",
              "      <td>1.0</td>\n",
              "      <td>0.6</td>\n",
              "      <td>29.128810</td>\n",
              "      <td>1.228770</td>\n",
              "    </tr>\n",
              "    <tr>\n",
              "      <th>32</th>\n",
              "      <td>1.0</td>\n",
              "      <td>0.7</td>\n",
              "      <td>28.131984</td>\n",
              "      <td>1.183051</td>\n",
              "    </tr>\n",
              "    <tr>\n",
              "      <th>33</th>\n",
              "      <td>1.0</td>\n",
              "      <td>0.8</td>\n",
              "      <td>28.284939</td>\n",
              "      <td>1.189656</td>\n",
              "    </tr>\n",
              "    <tr>\n",
              "      <th>34</th>\n",
              "      <td>1.0</td>\n",
              "      <td>0.9</td>\n",
              "      <td>27.752564</td>\n",
              "      <td>1.168910</td>\n",
              "    </tr>\n",
              "    <tr>\n",
              "      <th>35</th>\n",
              "      <td>1.0</td>\n",
              "      <td>1.0</td>\n",
              "      <td>27.337133</td>\n",
              "      <td>1.146056</td>\n",
              "    </tr>\n",
              "  </tbody>\n",
              "</table>\n",
              "</div>"
            ],
            "text/plain": [
              "    colsample_bytree  colsample_bylevel       rmse  mape_pct\n",
              "0                0.5                0.5  32.151192  1.333670\n",
              "1                0.5                0.6  32.151192  1.333670\n",
              "2                0.5                0.7  33.958833  1.413449\n",
              "3                0.5                0.8  33.958833  1.413449\n",
              "4                0.5                0.9  30.465879  1.277777\n",
              "5                0.5                1.0  29.337467  1.225859\n",
              "6                0.6                0.5  34.412107  1.407138\n",
              "7                0.6                0.6  33.900191  1.393636\n",
              "8                0.6                0.7  33.900191  1.393636\n",
              "9                0.6                0.8  30.360231  1.264079\n",
              "10               0.6                0.9  29.968037  1.250126\n",
              "11               0.6                1.0  29.433752  1.242786\n",
              "12               0.7                0.5  32.151850  1.334845\n",
              "13               0.7                0.6  32.151850  1.334845\n",
              "14               0.7                0.7  29.999185  1.255476\n",
              "15               0.7                0.8  28.538254  1.199883\n",
              "16               0.7                0.9  27.967434  1.173931\n",
              "17               0.7                1.0  28.020358  1.179437\n",
              "18               0.8                0.5  34.358900  1.416925\n",
              "19               0.8                0.6  31.517101  1.292193\n",
              "20               0.8                0.7  29.561150  1.226160\n",
              "21               0.8                0.8  27.984564  1.179827\n",
              "22               0.8                0.9  28.015570  1.181271\n",
              "23               0.8                1.0  27.991368  1.179776\n",
              "24               0.9                0.5  31.835054  1.330018\n",
              "25               0.9                0.6  31.401555  1.318154\n",
              "26               0.9                0.7  30.074718  1.263488\n",
              "27               0.9                0.8  30.089350  1.258677\n",
              "28               0.9                0.9  30.214111  1.268323\n",
              "29               0.9                1.0  27.882924  1.174471\n",
              "30               1.0                0.5  29.383657  1.231712\n",
              "31               1.0                0.6  29.128810  1.228770\n",
              "32               1.0                0.7  28.131984  1.183051\n",
              "33               1.0                0.8  28.284939  1.189656\n",
              "34               1.0                0.9  27.752564  1.168910\n",
              "35               1.0                1.0  27.337133  1.146056"
            ]
          },
          "metadata": {
            "tags": []
          },
          "execution_count": 580
        }
      ]
    },
    {
      "cell_type": "code",
      "metadata": {
        "id": "rM1EYco3TJk9",
        "colab_type": "code",
        "colab": {
          "base_uri": "https://localhost:8080/",
          "height": 523
        },
        "outputId": "449952a8-1c8a-4847-a499-dd307e003fbf"
      },
      "source": [
        "# Plot performance versus params\n",
        "rcParams['figure.figsize'] = 10, 8 # width 10, height 8\n",
        "temp = error_rate[error_rate[param2_label]==param2_list[0]]\n",
        "ax = temp.plot(x=param_label, y='rmse', style='bs-', grid=True)\n",
        "legend_list = [param2_label + '_' + str(param2_list[0])]\n",
        "\n",
        "color_list = ['r', 'g', 'k', 'y', 'm', 'c', '0.75']\n",
        "for i in range(1,len(param2_list)):\n",
        "    temp = error_rate[error_rate[param2_label]==param2_list[i]]\n",
        "    ax = temp.plot(x=param_label, y='rmse', color=color_list[i%len(color_list)], marker='s', grid=True, ax=ax)\n",
        "    legend_list.append(param2_label + '_' + str(param2_list[i]))\n",
        "\n",
        "ax.set_xlabel(param_label)\n",
        "ax.set_ylabel(\"RMSE\")\n",
        "matplotlib.rcParams.update({'font.size': 14})\n",
        "plt.legend(legend_list, loc='center left', bbox_to_anchor=(1.0, 0.5)) # positions legend outside figure"
      ],
      "execution_count": 581,
      "outputs": [
        {
          "output_type": "execute_result",
          "data": {
            "text/plain": [
              "<matplotlib.legend.Legend at 0x7fc94d784a20>"
            ]
          },
          "metadata": {
            "tags": []
          },
          "execution_count": 581
        },
        {
          "output_type": "display_data",
          "data": {
            "image/png": "[encoded data removed]",
            "text/plain": [
              "<Figure size 720x576 with 1 Axes>"
            ]
          },
          "metadata": {
            "tags": [],
            "needs_background": "light"
          }
        }
      ]
    },
    {
      "cell_type": "code",
      "metadata": {
        "id": "2qAgxFUDTJlO",
        "colab_type": "code",
        "colab": {
          "base_uri": "https://localhost:8080/",
          "height": 71
        },
        "outputId": "6dfb2663-f4c9-41df-bd30-3ff029dd083c"
      },
      "source": [
        "# Get optimum value for param and param2\n",
        "temp = error_rate[error_rate['rmse'] == error_rate['rmse'].min()]\n",
        "colsample_bytree_opt = temp['colsample_bytree'].values[0]\n",
        "colsample_bylevel_opt = temp['colsample_bylevel'].values[0]\n",
        "print(\"min RMSE = %0.3f\" % error_rate['rmse'].min())\n",
        "print(\"optimum params = \")\n",
        "colsample_bytree_opt, colsample_bylevel_opt"
      ],
      "execution_count": 582,
      "outputs": [
        {
          "output_type": "stream",
          "text": [
            "min RMSE = 27.337\n",
            "optimum params = \n"
          ],
          "name": "stdout"
        },
        {
          "output_type": "execute_result",
          "data": {
            "text/plain": [
              "(1.0, 1.0)"
            ]
          },
          "metadata": {
            "tags": []
          },
          "execution_count": 582
        }
      ]
    },
    {
      "cell_type": "code",
      "metadata": {
        "id": "DDvURunsTJlW",
        "colab_type": "code",
        "colab": {
          "base_uri": "https://localhost:8080/",
          "height": 71
        },
        "outputId": "1ad3d0d6-c45f-4d7b-c9c1-d86739370549"
      },
      "source": [
        "# Get optimum value for param and param2, using MAPE\n",
        "# We will use RMSE to decide the final optimum params to use\n",
        "temp = error_rate[error_rate['mape_pct'] == error_rate['mape_pct'].min()]\n",
        "print(\"min MAPE = %0.3f%%\" % error_rate['mape_pct'].min())\n",
        "print(\"optimum params = \")\n",
        "temp['colsample_bytree'].values[0], temp['colsample_bylevel'].values[0]"
      ],
      "execution_count": 583,
      "outputs": [
        {
          "output_type": "stream",
          "text": [
            "min MAPE = 1.146%\n",
            "optimum params = \n"
          ],
          "name": "stdout"
        },
        {
          "output_type": "execute_result",
          "data": {
            "text/plain": [
              "(1.0, 1.0)"
            ]
          },
          "metadata": {
            "tags": []
          },
          "execution_count": 583
        }
      ]
    },
    {
      "cell_type": "markdown",
      "metadata": {
        "id": "nRBURtUhTJlf",
        "colab_type": "text"
      },
      "source": [
        "# Tuned params"
      ]
    },
    {
      "cell_type": "code",
      "metadata": {
        "id": "owwQU1i5TJlg",
        "colab_type": "code",
        "colab": {
          "base_uri": "https://localhost:8080/",
          "height": 359
        },
        "outputId": "007ffe02-dd70-489d-c4de-3f71c17231b9"
      },
      "source": [
        "d = {'param': ['n_estimators', 'max_depth', 'learning_rate', 'min_child_weight', 'subsample', 'colsample_bytree', 'colsample_bylevel', 'gamma', 'rmse', 'mape_pct'],\n",
        "     'original': [n_estimators, max_depth, learning_rate, min_child_weight, subsample, colsample_bytree, colsample_bylevel, gamma, rmse_bef_tuning, mape_bef_tuning],\n",
        "     'after_tuning': [n_estimators_opt, max_depth_opt, learning_rate_opt, min_child_weight_opt, subsample_opt, colsample_bytree_opt, colsample_bylevel_opt, gamma_opt, error_rate['rmse'].min(), error_rate['mape_pct'].min()]}\n",
        "tuned_params = pd.DataFrame(d)\n",
        "tuned_params = tuned_params.round(3)\n",
        "tuned_params"
      ],
      "execution_count": 584,
      "outputs": [
        {
          "output_type": "execute_result",
          "data": {
            "text/html": [
              "<div>\n",
              "<style scoped>\n",
              "    .dataframe tbody tr th:only-of-type {\n",
              "        vertical-align: middle;\n",
              "    }\n",
              "\n",
              "    .dataframe tbody tr th {\n",
              "        vertical-align: top;\n",
              "    }\n",
              "\n",
              "    .dataframe thead th {\n",
              "        text-align: right;\n",
              "    }\n",
              "</style>\n",
              "<table border=\"1\" class=\"dataframe\">\n",
              "  <thead>\n",
              "    <tr style=\"text-align: right;\">\n",
              "      <th></th>\n",
              "      <th>param</th>\n",
              "      <th>original</th>\n",
              "      <th>after_tuning</th>\n",
              "    </tr>\n",
              "  </thead>\n",
              "  <tbody>\n",
              "    <tr>\n",
              "      <th>0</th>\n",
              "      <td>n_estimators</td>\n",
              "      <td>100.000</td>\n",
              "      <td>210.000</td>\n",
              "    </tr>\n",
              "    <tr>\n",
              "      <th>1</th>\n",
              "      <td>max_depth</td>\n",
              "      <td>3.000</td>\n",
              "      <td>4.000</td>\n",
              "    </tr>\n",
              "    <tr>\n",
              "      <th>2</th>\n",
              "      <td>learning_rate</td>\n",
              "      <td>0.100</td>\n",
              "      <td>0.300</td>\n",
              "    </tr>\n",
              "    <tr>\n",
              "      <th>3</th>\n",
              "      <td>min_child_weight</td>\n",
              "      <td>1.000</td>\n",
              "      <td>5.000</td>\n",
              "    </tr>\n",
              "    <tr>\n",
              "      <th>4</th>\n",
              "      <td>subsample</td>\n",
              "      <td>1.000</td>\n",
              "      <td>0.200</td>\n",
              "    </tr>\n",
              "    <tr>\n",
              "      <th>5</th>\n",
              "      <td>colsample_bytree</td>\n",
              "      <td>1.000</td>\n",
              "      <td>1.000</td>\n",
              "    </tr>\n",
              "    <tr>\n",
              "      <th>6</th>\n",
              "      <td>colsample_bylevel</td>\n",
              "      <td>1.000</td>\n",
              "      <td>1.000</td>\n",
              "    </tr>\n",
              "    <tr>\n",
              "      <th>7</th>\n",
              "      <td>gamma</td>\n",
              "      <td>0.000</td>\n",
              "      <td>0.900</td>\n",
              "    </tr>\n",
              "    <tr>\n",
              "      <th>8</th>\n",
              "      <td>rmse</td>\n",
              "      <td>27.433</td>\n",
              "      <td>27.337</td>\n",
              "    </tr>\n",
              "    <tr>\n",
              "      <th>9</th>\n",
              "      <td>mape_pct</td>\n",
              "      <td>1.143</td>\n",
              "      <td>1.146</td>\n",
              "    </tr>\n",
              "  </tbody>\n",
              "</table>\n",
              "</div>"
            ],
            "text/plain": [
              "               param  original  after_tuning\n",
              "0       n_estimators   100.000       210.000\n",
              "1          max_depth     3.000         4.000\n",
              "2      learning_rate     0.100         0.300\n",
              "3   min_child_weight     1.000         5.000\n",
              "4          subsample     1.000         0.200\n",
              "5   colsample_bytree     1.000         1.000\n",
              "6  colsample_bylevel     1.000         1.000\n",
              "7              gamma     0.000         0.900\n",
              "8               rmse    27.433        27.337\n",
              "9           mape_pct     1.143         1.146"
            ]
          },
          "metadata": {
            "tags": []
          },
          "execution_count": 584
        }
      ]
    },
    {
      "cell_type": "markdown",
      "metadata": {
        "id": "8hd2fr3lTJlq",
        "colab_type": "text"
      },
      "source": [
        "# Final model"
      ]
    },
    {
      "cell_type": "code",
      "metadata": {
        "id": "IxLEasdNTJlt",
        "colab_type": "code",
        "colab": {
          "base_uri": "https://localhost:8080/",
          "height": 71
        },
        "outputId": "02e6a4e4-b5de-4974-900a-c4c5c38dca47"
      },
      "source": [
        "rmse, mape, est = train_pred_eval_model(X_train_cv_scaled, \n",
        "                             y_train_cv_scaled, \n",
        "                             X_sample_scaled, \n",
        "                             y_sample, \n",
        "                             test['adj_close_mean'],\n",
        "                             test['adj_close_std'],\n",
        "                             seed=model_seed,\n",
        "                             n_estimators=n_estimators_opt, \n",
        "                             max_depth=max_depth_opt, \n",
        "                             learning_rate=learning_rate_opt, \n",
        "                             min_child_weight=min_child_weight_opt, \n",
        "                             subsample=subsample_opt, \n",
        "                             colsample_bytree=colsample_bytree_opt, \n",
        "                             colsample_bylevel=colsample_bylevel_opt, \n",
        "                             gamma=gamma_opt)\n",
        "\n",
        "# Calculate RMSE\n",
        "print(\"RMSE on test set = %0.3f\" % rmse)\n",
        "\n",
        "# Calculate MAPE\n",
        "print(\"MAPE on test set = %0.3f%%\" % mape)"
      ],
      "execution_count": 585,
      "outputs": [
        {
          "output_type": "stream",
          "text": [
            "[17:26:26] WARNING: /workspace/src/objective/regression_obj.cu:152: reg:linear is now deprecated in favor of reg:squarederror.\n",
            "RMSE on test set = 31.060\n",
            "MAPE on test set = 1.122%\n"
          ],
          "name": "stdout"
        }
      ]
    },
    {
      "cell_type": "code",
      "metadata": {
        "scrolled": true,
        "id": "bJa998T-TJl4",
        "colab_type": "code",
        "colab": {
          "base_uri": "https://localhost:8080/",
          "height": 477
        },
        "outputId": "faa628aa-6ffd-4594-aafd-ca823ed5908a"
      },
      "source": [
        "# Plot adjusted close over time\n",
        "rcParams['figure.figsize'] = 10, 8 # width 10, height 8\n",
        "\n",
        "est_df = pd.DataFrame({'est': est, \n",
        "                       'y_sample': y_sample,\n",
        "                       'date': test['date']})\n",
        "\n",
        "ax = train.plot(x='date', y='adj_close', style='b-', grid=True)\n",
        "ax = cv.plot(x='date', y='adj_close', style='y-', grid=True, ax=ax)\n",
        "ax = test.plot(x='date', y='adj_close', style='g-', grid=True, ax=ax)\n",
        "ax = est_df.plot(x='date', y='est', style='r-', grid=True, ax=ax)\n",
        "ax.legend(['train', 'dev', 'test', 'predictions'])\n",
        "ax.set_xlabel(\"date\")\n",
        "ax.set_ylabel(\"INR\")\n",
        "fig = ax.get_figure()\n",
        "fig.savefig(\"/content/ouput/AdjClosetest.pdf\",bbox_inches='tight')"
      ],
      "execution_count": 586,
      "outputs": [
        {
          "output_type": "display_data",
          "data": {
            "image/png": "[encoded data removed]",
            "text/plain": [
              "<Figure size 720x576 with 1 Axes>"
            ]
          },
          "metadata": {
            "tags": [],
            "needs_background": "light"
          }
        }
      ]
    },
    {
      "cell_type": "code",
      "metadata": {
        "id": "UHqdbssvTJmF",
        "colab_type": "code",
        "colab": {
          "base_uri": "https://localhost:8080/",
          "height": 527
        },
        "outputId": "bbeb6dbc-1ff3-410f-c16a-66cabe4a71c5"
      },
      "source": [
        "# Plot adjusted close over time, for test set only\n",
        "rcParams['figure.figsize'] = 10, 8 # width 10, height 8\n",
        "ax = train.plot(x='date', y='adj_close', style='b-', grid=True)\n",
        "ax = cv.plot(x='date', y='adj_close', style='y-', grid=True, ax=ax)\n",
        "ax = test.plot(x='date', y='adj_close', style='g-', grid=True, ax=ax)\n",
        "ax = est_df.plot(x='date', y='est', style='r-', grid=True, ax=ax)\n",
        "ax.legend(['train', 'dev', 'test', 'predictions'])\n",
        "ax.set_xlabel(\"date\")\n",
        "ax.set_ylabel(\"USD\")\n",
        "ax.set_xlim([date(2018, 4, 1), date(2018, 11, 30)])\n",
        "ax.set_ylim([130, 155])\n",
        "ax.set_title(\"Zoom in to test set\")"
      ],
      "execution_count": 587,
      "outputs": [
        {
          "output_type": "execute_result",
          "data": {
            "text/plain": [
              "Text(0.5, 1.0, 'Zoom in to test set')"
            ]
          },
          "metadata": {
            "tags": []
          },
          "execution_count": 587
        },
        {
          "output_type": "display_data",
          "data": {
            "image/png": "[encoded data removed]",
            "text/plain": [
              "<Figure size 720x576 with 1 Axes>"
            ]
          },
          "metadata": {
            "tags": [],
            "needs_background": "light"
          }
        }
      ]
    },
    {
      "cell_type": "markdown",
      "metadata": {
        "id": "ofS5kmLxTJmR",
        "colab_type": "text"
      },
      "source": [
        "Similar to dev set, the predictions capture turns in direction with a slight lag"
      ]
    },
    {
      "cell_type": "code",
      "metadata": {
        "id": "x2kDQTdsTJmT",
        "colab_type": "code",
        "colab": {
          "base_uri": "https://localhost:8080/",
          "height": 512
        },
        "outputId": "4c0bf8b9-7bb4-4f55-9ccf-eaab6332ede3"
      },
      "source": [
        "# Plot adjusted close over time, only for test set\n",
        "rcParams['figure.figsize'] = 10, 8 # width 10, height 8\n",
        "matplotlib.rcParams.update({'font.size': 14})\n",
        "\n",
        "ax = test.plot(x='date', y='adj_close', style='gx-', grid=True)\n",
        "ax = est_df.plot(x='date', y='est', style='rx-', grid=True, ax=ax)\n",
        "ax.legend(['test', 'predictions using xgboost'], loc='upper left')\n",
        "ax.set_xlabel(\"date\")\n",
        "ax.set_ylabel(\"USD\")\n",
        "ax.set_xlim([date(2018, 4, 23), date(2018, 11, 23)])\n",
        "ax.set_ylim([130, 155])"
      ],
      "execution_count": 588,
      "outputs": [
        {
          "output_type": "execute_result",
          "data": {
            "text/plain": [
              "(130.0, 155.0)"
            ]
          },
          "metadata": {
            "tags": []
          },
          "execution_count": 588
        },
        {
          "output_type": "display_data",
          "data": {
            "image/png": "[encoded data removed]",
            "text/plain": [
              "<Figure size 720x576 with 1 Axes>"
            ]
          },
          "metadata": {
            "tags": [],
            "needs_background": "light"
          }
        }
      ]
    },
    {
      "cell_type": "code",
      "metadata": {
        "id": "Ry8bWTg4TJmc",
        "colab_type": "code",
        "colab": {}
      },
      "source": [
        "# Save as csv\n",
        "test_xgboost = est_df\n",
        "test_xgboost.to_csv(\"/content/ouput/test_xgboost.csv\")\n"
      ],
      "execution_count": 0,
      "outputs": []
    },
    {
      "cell_type": "code",
      "metadata": {
        "id": "bbVRGHv0Z1vr",
        "colab_type": "code",
        "colab": {
          "base_uri": "https://localhost:8080/",
          "height": 197
        },
        "outputId": "5d248921-2aee-45a3-c9f3-b4ce680806c7"
      },
      "source": [
        "!zip -r model5.zip /content/ouput"
      ],
      "execution_count": 590,
      "outputs": [
        {
          "output_type": "stream",
          "text": [
            "updating: content/ouput/ (stored 0%)\n",
            "updating: content/ouput/test_xgboost.csv (deflated 58%)\n",
            "updating: content/ouput/tuningminchildweight.pdf (deflated 37%)\n",
            "updating: content/ouput/AdjClosetrain.pdf (deflated 15%)\n",
            "updating: content/ouput/AdjClosenormal.pdf (deflated 17%)\n",
            "updating: content/ouput/AdjClosedev.pdf (deflated 15%)\n",
            "updating: content/ouput/tuningdepth.pdf (deflated 28%)\n",
            "updating: content/ouput/AdjClose.pdf (deflated 16%)\n",
            "updating: content/ouput/tuninggamma.pdf (deflated 33%)\n",
            "updating: content/ouput/AdjClosetest.pdf (deflated 15%)\n"
          ],
          "name": "stdout"
        }
      ]
    },
    {
      "cell_type": "markdown",
      "metadata": {
        "collapsed": true,
        "id": "_3yV_YSITJmo",
        "colab_type": "text"
      },
      "source": [
        "# Findings\n",
        "* By scaling the features properly, we can get good results for our predictions\n",
        "* RMSE and MAPE changed very little with hyperparameter tuning\n",
        "* The final RMSE and MAPE for test set are 1.162 and 0.58% respectively"
      ]
    },
    {
      "cell_type": "code",
      "metadata": {
        "id": "R9cxCR53TJmp",
        "colab_type": "code",
        "colab": {}
      },
      "source": [
        ""
      ],
      "execution_count": 0,
      "outputs": []
    }
  ]
}