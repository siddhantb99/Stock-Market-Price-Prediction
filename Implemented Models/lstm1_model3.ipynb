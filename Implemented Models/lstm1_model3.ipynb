{
  "nbformat": 4,
  "nbformat_minor": 0,
  "metadata": {
    "colab": {
      "name": "lstm1_changed2.ipynb",
      "provenance": []
    },
    "kernelspec": {
      "name": "python3",
      "display_name": "Python 3"
    }
  },
  "cells": [
    {
      "cell_type": "code",
      "metadata": {
        "id": "bwhoo4vKvuyP",
        "colab_type": "code",
        "colab": {}
      },
      "source": [
        "import numpy as np\n",
        "import matplotlib.pyplot as plt\n",
        "import pandas as pd\n",
        "from sklearn.metrics import r2_score"
      ],
      "execution_count": 0,
      "outputs": []
    },
    {
      "cell_type": "code",
      "metadata": {
        "id": "2unhYLPCvw6L",
        "colab_type": "code",
        "colab": {}
      },
      "source": [
        "url = 'SUNPHARMA.csv'\n",
        "dataset_train = pd.read_csv(url)\n",
        "x_training_set = dataset_train.iloc[:, 2:5].values\n",
        "y_training_set = dataset_train.iloc[:,7:8].values\n"
      ],
      "execution_count": 0,
      "outputs": []
    },
    {
      "cell_type": "code",
      "metadata": {
        "id": "Vm8A1tc0v4KR",
        "colab_type": "code",
        "outputId": "ef8d1caa-9328-4670-d5a4-01e49f1ca736",
        "colab": {
          "base_uri": "https://localhost:8080/",
          "height": 198
        }
      },
      "source": [
        "dataset_train.head()"
      ],
      "execution_count": 71,
      "outputs": [
        {
          "output_type": "execute_result",
          "data": {
            "text/html": [
              "<div>\n",
              "<style scoped>\n",
              "    .dataframe tbody tr th:only-of-type {\n",
              "        vertical-align: middle;\n",
              "    }\n",
              "\n",
              "    .dataframe tbody tr th {\n",
              "        vertical-align: top;\n",
              "    }\n",
              "\n",
              "    .dataframe thead th {\n",
              "        text-align: right;\n",
              "    }\n",
              "</style>\n",
              "<table border=\"1\" class=\"dataframe\">\n",
              "  <thead>\n",
              "    <tr style=\"text-align: right;\">\n",
              "      <th></th>\n",
              "      <th>ID</th>\n",
              "      <th>Date</th>\n",
              "      <th>High</th>\n",
              "      <th>Low</th>\n",
              "      <th>Open</th>\n",
              "      <th>Close</th>\n",
              "      <th>Volume</th>\n",
              "      <th>Adj Close</th>\n",
              "    </tr>\n",
              "  </thead>\n",
              "  <tbody>\n",
              "    <tr>\n",
              "      <th>0</th>\n",
              "      <td>SUNPHARMA</td>\n",
              "      <td>2014-04-01</td>\n",
              "      <td>578.000000</td>\n",
              "      <td>570.250000</td>\n",
              "      <td>575.000000</td>\n",
              "      <td>572.099976</td>\n",
              "      <td>1186522.0</td>\n",
              "      <td>555.336609</td>\n",
              "    </tr>\n",
              "    <tr>\n",
              "      <th>1</th>\n",
              "      <td>SUNPHARMA</td>\n",
              "      <td>2014-04-02</td>\n",
              "      <td>581.500000</td>\n",
              "      <td>570.099976</td>\n",
              "      <td>572.000000</td>\n",
              "      <td>575.250000</td>\n",
              "      <td>3765317.0</td>\n",
              "      <td>558.394409</td>\n",
              "    </tr>\n",
              "    <tr>\n",
              "      <th>2</th>\n",
              "      <td>SUNPHARMA</td>\n",
              "      <td>2014-04-03</td>\n",
              "      <td>582.799988</td>\n",
              "      <td>575.200012</td>\n",
              "      <td>578.349976</td>\n",
              "      <td>578.549988</td>\n",
              "      <td>2438673.0</td>\n",
              "      <td>561.597595</td>\n",
              "    </tr>\n",
              "    <tr>\n",
              "      <th>3</th>\n",
              "      <td>SUNPHARMA</td>\n",
              "      <td>2014-04-04</td>\n",
              "      <td>584.599976</td>\n",
              "      <td>570.200012</td>\n",
              "      <td>580.000000</td>\n",
              "      <td>571.799988</td>\n",
              "      <td>2519378.0</td>\n",
              "      <td>555.045349</td>\n",
              "    </tr>\n",
              "    <tr>\n",
              "      <th>4</th>\n",
              "      <td>SUNPHARMA</td>\n",
              "      <td>2014-04-07</td>\n",
              "      <td>594.799988</td>\n",
              "      <td>573.750000</td>\n",
              "      <td>580.000000</td>\n",
              "      <td>588.099976</td>\n",
              "      <td>10031924.0</td>\n",
              "      <td>570.867798</td>\n",
              "    </tr>\n",
              "  </tbody>\n",
              "</table>\n",
              "</div>"
            ],
            "text/plain": [
              "          ID        Date        High  ...       Close      Volume   Adj Close\n",
              "0  SUNPHARMA  2014-04-01  578.000000  ...  572.099976   1186522.0  555.336609\n",
              "1  SUNPHARMA  2014-04-02  581.500000  ...  575.250000   3765317.0  558.394409\n",
              "2  SUNPHARMA  2014-04-03  582.799988  ...  578.549988   2438673.0  561.597595\n",
              "3  SUNPHARMA  2014-04-04  584.599976  ...  571.799988   2519378.0  555.045349\n",
              "4  SUNPHARMA  2014-04-07  594.799988  ...  588.099976  10031924.0  570.867798\n",
              "\n",
              "[5 rows x 8 columns]"
            ]
          },
          "metadata": {
            "tags": []
          },
          "execution_count": 71
        }
      ]
    },
    {
      "cell_type": "code",
      "metadata": {
        "id": "zIuD2AY9v9yF",
        "colab_type": "code",
        "colab": {}
      },
      "source": [
        "from sklearn.preprocessing import MinMaxScaler\n",
        "sc = MinMaxScaler(feature_range=(0,1))\n",
        "x_training_set_scaled = sc.fit_transform(x_training_set)\n",
        "y_training_set_scaled = sc.fit_transform(y_training_set)"
      ],
      "execution_count": 0,
      "outputs": []
    },
    {
      "cell_type": "code",
      "metadata": {
        "id": "ANlZhTxk7hup",
        "colab_type": "code",
        "colab": {}
      },
      "source": [
        ""
      ],
      "execution_count": 0,
      "outputs": []
    },
    {
      "cell_type": "code",
      "metadata": {
        "id": "uor7rabHq9lU",
        "colab_type": "code",
        "colab": {}
      },
      "source": [
        "# selecting Feature Columns\n",
        "feature_columns = ['Close']"
      ],
      "execution_count": 0,
      "outputs": []
    },
    {
      "cell_type": "code",
      "metadata": {
        "id": "QZs1TFUwwByi",
        "colab_type": "code",
        "colab": {}
      },
      "source": [
        "# X_train = []\n",
        "# y_train = []\n",
        "# for i in range(60, 1995):\n",
        "#   X_train.append(training_set_scaled[i-60:i, 0])\n",
        "#   y_train.append(training_set_scaled[i, 0])\n",
        "X_train, Y_train = np.array(x_training_set_scaled), np.array(y_training_set_scaled)\n",
        "X_tr_t = X_train.reshape(X_train.shape[0], 1, X_train.shape[1])"
      ],
      "execution_count": 0,
      "outputs": []
    },
    {
      "cell_type": "code",
      "metadata": {
        "id": "RHATWbahwUd2",
        "colab_type": "code",
        "colab": {}
      },
      "source": [
        "from keras.models import Sequential\n",
        "from keras.layers import LSTM\n",
        "from keras.layers import Dropout\n",
        "from keras.layers import Dense"
      ],
      "execution_count": 0,
      "outputs": []
    },
    {
      "cell_type": "code",
      "metadata": {
        "id": "4InKB6yA31tL",
        "colab_type": "code",
        "colab": {}
      },
      "source": [
        ""
      ],
      "execution_count": 0,
      "outputs": []
    },
    {
      "cell_type": "code",
      "metadata": {
        "id": "IhYrjLgUwXH2",
        "colab_type": "code",
        "outputId": "ef75f013-a08a-476c-8294-11e113898774",
        "colab": {
          "base_uri": "https://localhost:8080/",
          "height": 1000
        }
      },
      "source": [
        "model = Sequential()\n",
        "model.add(LSTM(units=50,return_sequences=True,input_shape=(1, X_train.shape[1])))\n",
        "model.add(Dropout(0.2))\n",
        "model.add(LSTM(units=50,return_sequences=True))\n",
        "model.add(Dropout(0.2))\n",
        "model.add(LSTM(units=50,return_sequences=True))\n",
        "model.add(Dropout(0.2))\n",
        "model.add(LSTM(units=50))\n",
        "model.add(Dropout(0.2))\n",
        "model.add(Dense(units=1))\n",
        "model.compile(optimizer='adam',loss='mean_squared_error')\n",
        "model.fit(X_tr_t,Y_train,epochs=50,batch_size=32)"
      ],
      "execution_count": 76,
      "outputs": [
        {
          "output_type": "stream",
          "text": [
            "Epoch 1/50\n",
            "923/923 [==============================] - 2s 2ms/step - loss: 0.1559\n",
            "Epoch 2/50\n",
            "923/923 [==============================] - 0s 154us/step - loss: 0.0329\n",
            "Epoch 3/50\n",
            "923/923 [==============================] - 0s 157us/step - loss: 0.0165\n",
            "Epoch 4/50\n",
            "923/923 [==============================] - 0s 156us/step - loss: 0.0090\n",
            "Epoch 5/50\n",
            "923/923 [==============================] - 0s 171us/step - loss: 0.0064\n",
            "Epoch 6/50\n",
            "923/923 [==============================] - 0s 170us/step - loss: 0.0068\n",
            "Epoch 7/50\n",
            "923/923 [==============================] - 0s 169us/step - loss: 0.0057\n",
            "Epoch 8/50\n",
            "923/923 [==============================] - 0s 202us/step - loss: 0.0050\n",
            "Epoch 9/50\n",
            "923/923 [==============================] - 0s 159us/step - loss: 0.0047\n",
            "Epoch 10/50\n",
            "923/923 [==============================] - 0s 166us/step - loss: 0.0036\n",
            "Epoch 11/50\n",
            "923/923 [==============================] - 0s 160us/step - loss: 0.0037\n",
            "Epoch 12/50\n",
            "923/923 [==============================] - 0s 157us/step - loss: 0.0034\n",
            "Epoch 13/50\n",
            "923/923 [==============================] - 0s 157us/step - loss: 0.0030\n",
            "Epoch 14/50\n",
            "923/923 [==============================] - 0s 155us/step - loss: 0.0027\n",
            "Epoch 15/50\n",
            "923/923 [==============================] - 0s 160us/step - loss: 0.0030\n",
            "Epoch 16/50\n",
            "923/923 [==============================] - 0s 157us/step - loss: 0.0025\n",
            "Epoch 17/50\n",
            "923/923 [==============================] - 0s 166us/step - loss: 0.0026\n",
            "Epoch 18/50\n",
            "923/923 [==============================] - 0s 162us/step - loss: 0.0026\n",
            "Epoch 19/50\n",
            "923/923 [==============================] - 0s 189us/step - loss: 0.0023\n",
            "Epoch 20/50\n",
            "923/923 [==============================] - 0s 161us/step - loss: 0.0025\n",
            "Epoch 21/50\n",
            "923/923 [==============================] - 0s 173us/step - loss: 0.0024\n",
            "Epoch 22/50\n",
            "923/923 [==============================] - 0s 172us/step - loss: 0.0026\n",
            "Epoch 23/50\n",
            "923/923 [==============================] - 0s 196us/step - loss: 0.0021\n",
            "Epoch 24/50\n",
            "923/923 [==============================] - 0s 170us/step - loss: 0.0021\n",
            "Epoch 25/50\n",
            "923/923 [==============================] - 0s 191us/step - loss: 0.0022\n",
            "Epoch 26/50\n",
            "923/923 [==============================] - 0s 169us/step - loss: 0.0022\n",
            "Epoch 27/50\n",
            "923/923 [==============================] - 0s 157us/step - loss: 0.0019\n",
            "Epoch 28/50\n",
            "923/923 [==============================] - 0s 162us/step - loss: 0.0021\n",
            "Epoch 29/50\n",
            "923/923 [==============================] - 0s 169us/step - loss: 0.0021\n",
            "Epoch 30/50\n",
            "923/923 [==============================] - 0s 157us/step - loss: 0.0019\n",
            "Epoch 31/50\n",
            "923/923 [==============================] - 0s 161us/step - loss: 0.0019\n",
            "Epoch 32/50\n",
            "923/923 [==============================] - 0s 187us/step - loss: 0.0016\n",
            "Epoch 33/50\n",
            "923/923 [==============================] - 0s 154us/step - loss: 0.0018\n",
            "Epoch 34/50\n",
            "923/923 [==============================] - 0s 153us/step - loss: 0.0016\n",
            "Epoch 35/50\n",
            "923/923 [==============================] - 0s 185us/step - loss: 0.0017\n",
            "Epoch 36/50\n",
            "923/923 [==============================] - 0s 169us/step - loss: 0.0019\n",
            "Epoch 37/50\n",
            "923/923 [==============================] - 0s 159us/step - loss: 0.0018\n",
            "Epoch 38/50\n",
            "923/923 [==============================] - 0s 177us/step - loss: 0.0017\n",
            "Epoch 39/50\n",
            "923/923 [==============================] - 0s 158us/step - loss: 0.0017\n",
            "Epoch 40/50\n",
            "923/923 [==============================] - 0s 156us/step - loss: 0.0017\n",
            "Epoch 41/50\n",
            "923/923 [==============================] - 0s 165us/step - loss: 0.0016\n",
            "Epoch 42/50\n",
            "923/923 [==============================] - 0s 167us/step - loss: 0.0015\n",
            "Epoch 43/50\n",
            "923/923 [==============================] - 0s 168us/step - loss: 0.0015\n",
            "Epoch 44/50\n",
            "923/923 [==============================] - 0s 167us/step - loss: 0.0017\n",
            "Epoch 45/50\n",
            "923/923 [==============================] - 0s 174us/step - loss: 0.0016\n",
            "Epoch 46/50\n",
            "923/923 [==============================] - 0s 188us/step - loss: 0.0015\n",
            "Epoch 47/50\n",
            "923/923 [==============================] - 0s 191us/step - loss: 0.0015\n",
            "Epoch 48/50\n",
            "923/923 [==============================] - 0s 178us/step - loss: 0.0015\n",
            "Epoch 49/50\n",
            "923/923 [==============================] - 0s 166us/step - loss: 0.0016\n",
            "Epoch 50/50\n",
            "923/923 [==============================] - 0s 162us/step - loss: 0.0016\n"
          ],
          "name": "stdout"
        },
        {
          "output_type": "execute_result",
          "data": {
            "text/plain": [
              "<keras.callbacks.callbacks.History at 0x7fa4e0b185c0>"
            ]
          },
          "metadata": {
            "tags": []
          },
          "execution_count": 76
        }
      ]
    },
    {
      "cell_type": "code",
      "metadata": {
        "id": "mq4I2mUEwwqI",
        "colab_type": "code",
        "colab": {}
      },
      "source": [
        "url = 'SUNPHARMA_test.csv'\n",
        "dataset_test = pd.read_csv(url)\n",
        "real_stock_price = dataset_test.iloc[:, 7:8].values"
      ],
      "execution_count": 0,
      "outputs": []
    },
    {
      "cell_type": "code",
      "metadata": {
        "id": "_KNFfLpj6T97",
        "colab_type": "code",
        "colab": {}
      },
      "source": [
        "x_testing_set = dataset_test.iloc[:,2:5].values\n",
        "y_testing_set = dataset_test.iloc[:,7:8].values"
      ],
      "execution_count": 0,
      "outputs": []
    },
    {
      "cell_type": "code",
      "metadata": {
        "id": "hUbCvWy56xzB",
        "colab_type": "code",
        "colab": {}
      },
      "source": [
        "x_testing_set_scaled = sc.fit_transform(x_testing_set)\n",
        "y_testing_set_scaled = sc.fit_transform(y_testing_set)"
      ],
      "execution_count": 0,
      "outputs": []
    },
    {
      "cell_type": "code",
      "metadata": {
        "id": "vNxehqMV7Bpw",
        "colab_type": "code",
        "colab": {}
      },
      "source": [
        "X_test = np.array(x_testing_set_scaled)\n",
        "X_ts_t = X_test.reshape(X_test.shape[0], 1, X_test.shape[1])"
      ],
      "execution_count": 0,
      "outputs": []
    },
    {
      "cell_type": "code",
      "metadata": {
        "id": "WQksSWZ9wyE1",
        "colab_type": "code",
        "colab": {}
      },
      "source": [
        "# dataset_total = pd.concat((dataset_train['<OPEN>'], dataset_test['<OPEN>']), axis = 0)\n",
        "# inputs = dataset_total[len(dataset_total) - len(dataset_test) - 60:].values\n",
        "# inputs = inputs.reshape(-1,1)\n",
        "# inputs = sc.transform(inputs)\n",
        "# X_test = []\n",
        "# for i in range(60, 476):\n",
        "  # X_test.append(inputs[i-60:i, 0])\n",
        "# X_test = np.array(X_test)\n",
        "# X_test = np.reshape(X_test, (X_test.shape[0], X_test.shape[1], 1))\n",
        "predicted_stock_price = model.predict(X_ts_t)\n",
        "predicted_stock_price = sc.inverse_transform(predicted_stock_price)"
      ],
      "execution_count": 0,
      "outputs": []
    },
    {
      "cell_type": "code",
      "metadata": {
        "id": "F9ij_NOuw7us",
        "colab_type": "code",
        "outputId": "4411577c-f6f1-4b47-9a52-355f8fcdc53e",
        "colab": {
          "base_uri": "https://localhost:8080/",
          "height": 331
        }
      },
      "source": [
        "plt.plot(real_stock_price, color = 'black', label = 'SUN Pharma(5 year) Stock Price')\n",
        "plt.plot(predicted_stock_price, color = 'green', label = 'Predicted SUN Pharma(5 year) Stock Price')\n",
        "plt.title('SUN Pharma(5 year) Stock Price Prediction')\n",
        "plt.xlabel('Time')\n",
        "plt.ylabel('SUN Pharma(5 year) Stock Price')\n",
        "plt.legend()\n",
        "plt.show()\n",
        "print(\"Accuracy : \")\n",
        "print(r2_score(real_stock_price,predicted_stock_price))"
      ],
      "execution_count": 83,
      "outputs": [
        {
          "output_type": "display_data",
          "data": {
            "image/png": "[encoded data removed]",
            "text/plain": [
              "<Figure size 432x288 with 1 Axes>"
            ]
          },
          "metadata": {
            "tags": [],
            "needs_background": "light"
          }
        },
        {
          "output_type": "stream",
          "text": [
            "Accuracy : \n",
            "0.9773030801091664\n"
          ],
          "name": "stdout"
        }
      ]
    }
  ]
}