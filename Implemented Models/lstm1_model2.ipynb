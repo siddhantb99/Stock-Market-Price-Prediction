{
  "nbformat": 4,
  "nbformat_minor": 0,
  "metadata": {
    "colab": {
      "name": "lstm1_changed2.ipynb",
      "provenance": []
    },
    "kernelspec": {
      "name": "python3",
      "display_name": "Python 3"
    }
  },
  "cells": [
    {
      "cell_type": "code",
      "metadata": {
        "id": "bwhoo4vKvuyP",
        "colab_type": "code",
        "colab": {}
      },
      "source": [
        "import numpy as np\n",
        "import matplotlib.pyplot as plt\n",
        "import pandas as pd"
      ],
      "execution_count": 0,
      "outputs": []
    },
    {
      "cell_type": "code",
      "metadata": {
        "id": "2unhYLPCvw6L",
        "colab_type": "code",
        "colab": {}
      },
      "source": [
        "url = 'SUNPHARMA_train.csv'\n",
        "dataset_train = pd.read_csv(url)\n",
        "x_training_set = dataset_train.iloc[:, 2:5].values\n",
        "y_training_set = dataset_train.iloc[:,7:8].values\n"
      ],
      "execution_count": 0,
      "outputs": []
    },
    {
      "cell_type": "code",
      "metadata": {
        "id": "Vm8A1tc0v4KR",
        "colab_type": "code",
        "outputId": "6f3314b3-2636-4ff9-d12e-638ccce831be",
        "colab": {
          "base_uri": "https://localhost:8080/",
          "height": 197
        }
      },
      "source": [
        "dataset_train.head()"
      ],
      "execution_count": 5,
      "outputs": [
        {
          "output_type": "execute_result",
          "data": {
            "text/html": [
              "<div>\n",
              "<style scoped>\n",
              "    .dataframe tbody tr th:only-of-type {\n",
              "        vertical-align: middle;\n",
              "    }\n",
              "\n",
              "    .dataframe tbody tr th {\n",
              "        vertical-align: top;\n",
              "    }\n",
              "\n",
              "    .dataframe thead th {\n",
              "        text-align: right;\n",
              "    }\n",
              "</style>\n",
              "<table border=\"1\" class=\"dataframe\">\n",
              "  <thead>\n",
              "    <tr style=\"text-align: right;\">\n",
              "      <th></th>\n",
              "      <th>ID</th>\n",
              "      <th>Date</th>\n",
              "      <th>High</th>\n",
              "      <th>Low</th>\n",
              "      <th>Open</th>\n",
              "      <th>Close</th>\n",
              "      <th>Volume</th>\n",
              "      <th>Adj Close</th>\n",
              "    </tr>\n",
              "  </thead>\n",
              "  <tbody>\n",
              "    <tr>\n",
              "      <th>0</th>\n",
              "      <td>SUNPHARMA</td>\n",
              "      <td>2018-04-02</td>\n",
              "      <td>510.000000</td>\n",
              "      <td>496.049988</td>\n",
              "      <td>500.899994</td>\n",
              "      <td>507.850006</td>\n",
              "      <td>2924481.0</td>\n",
              "      <td>499.449005</td>\n",
              "    </tr>\n",
              "    <tr>\n",
              "      <th>1</th>\n",
              "      <td>SUNPHARMA</td>\n",
              "      <td>2018-04-03</td>\n",
              "      <td>512.200012</td>\n",
              "      <td>504.500000</td>\n",
              "      <td>506.000000</td>\n",
              "      <td>510.000000</td>\n",
              "      <td>2709038.0</td>\n",
              "      <td>501.563416</td>\n",
              "    </tr>\n",
              "    <tr>\n",
              "      <th>2</th>\n",
              "      <td>SUNPHARMA</td>\n",
              "      <td>2018-04-04</td>\n",
              "      <td>514.950012</td>\n",
              "      <td>501.000000</td>\n",
              "      <td>514.950012</td>\n",
              "      <td>502.250000</td>\n",
              "      <td>3120925.0</td>\n",
              "      <td>493.941620</td>\n",
              "    </tr>\n",
              "    <tr>\n",
              "      <th>3</th>\n",
              "      <td>SUNPHARMA</td>\n",
              "      <td>2018-04-05</td>\n",
              "      <td>513.000000</td>\n",
              "      <td>505.100006</td>\n",
              "      <td>506.000000</td>\n",
              "      <td>507.549988</td>\n",
              "      <td>2409577.0</td>\n",
              "      <td>499.153931</td>\n",
              "    </tr>\n",
              "    <tr>\n",
              "      <th>4</th>\n",
              "      <td>SUNPHARMA</td>\n",
              "      <td>2018-04-06</td>\n",
              "      <td>515.299988</td>\n",
              "      <td>507.000000</td>\n",
              "      <td>508.000000</td>\n",
              "      <td>512.599976</td>\n",
              "      <td>2772128.0</td>\n",
              "      <td>504.120392</td>\n",
              "    </tr>\n",
              "  </tbody>\n",
              "</table>\n",
              "</div>"
            ],
            "text/plain": [
              "          ID        Date        High  ...       Close     Volume   Adj Close\n",
              "0  SUNPHARMA  2018-04-02  510.000000  ...  507.850006  2924481.0  499.449005\n",
              "1  SUNPHARMA  2018-04-03  512.200012  ...  510.000000  2709038.0  501.563416\n",
              "2  SUNPHARMA  2018-04-04  514.950012  ...  502.250000  3120925.0  493.941620\n",
              "3  SUNPHARMA  2018-04-05  513.000000  ...  507.549988  2409577.0  499.153931\n",
              "4  SUNPHARMA  2018-04-06  515.299988  ...  512.599976  2772128.0  504.120392\n",
              "\n",
              "[5 rows x 8 columns]"
            ]
          },
          "metadata": {
            "tags": []
          },
          "execution_count": 5
        }
      ]
    },
    {
      "cell_type": "code",
      "metadata": {
        "id": "zIuD2AY9v9yF",
        "colab_type": "code",
        "colab": {}
      },
      "source": [
        "from sklearn.preprocessing import MinMaxScaler\n",
        "sc = MinMaxScaler(feature_range=(0,1))\n",
        "x_training_set_scaled = sc.fit_transform(x_training_set)\n",
        "y_training_set_scaled = sc.fit_transform(y_training_set)"
      ],
      "execution_count": 0,
      "outputs": []
    },
    {
      "cell_type": "code",
      "metadata": {
        "id": "ANlZhTxk7hup",
        "colab_type": "code",
        "colab": {}
      },
      "source": [
        ""
      ],
      "execution_count": 0,
      "outputs": []
    },
    {
      "cell_type": "code",
      "metadata": {
        "id": "uor7rabHq9lU",
        "colab_type": "code",
        "colab": {}
      },
      "source": [
        "# selecting Feature Columns\n",
        "feature_columns = ['Close']"
      ],
      "execution_count": 0,
      "outputs": []
    },
    {
      "cell_type": "code",
      "metadata": {
        "id": "QZs1TFUwwByi",
        "colab_type": "code",
        "colab": {}
      },
      "source": [
        "# X_train = []\n",
        "# y_train = []\n",
        "# for i in range(60, 1995):\n",
        "#   X_train.append(training_set_scaled[i-60:i, 0])\n",
        "#   y_train.append(training_set_scaled[i, 0])\n",
        "X_train, Y_train = np.array(x_training_set_scaled), np.array(y_training_set_scaled)\n",
        "X_tr_t = X_train.reshape(X_train.shape[0], 1, X_train.shape[1])"
      ],
      "execution_count": 0,
      "outputs": []
    },
    {
      "cell_type": "code",
      "metadata": {
        "id": "RHATWbahwUd2",
        "colab_type": "code",
        "colab": {
          "base_uri": "https://localhost:8080/",
          "height": 34
        },
        "outputId": "fdf12ba9-7d14-4e81-d5d8-f5259bcaa2fd"
      },
      "source": [
        "from keras.models import Sequential\n",
        "from keras.layers import LSTM\n",
        "from keras.layers import Dropout\n",
        "from keras.layers import Dense"
      ],
      "execution_count": 9,
      "outputs": [
        {
          "output_type": "stream",
          "text": [
            "Using TensorFlow backend.\n"
          ],
          "name": "stderr"
        }
      ]
    },
    {
      "cell_type": "code",
      "metadata": {
        "id": "4InKB6yA31tL",
        "colab_type": "code",
        "colab": {}
      },
      "source": [
        ""
      ],
      "execution_count": 0,
      "outputs": []
    },
    {
      "cell_type": "code",
      "metadata": {
        "id": "IhYrjLgUwXH2",
        "colab_type": "code",
        "outputId": "b9cf51ec-eb09-4e9d-9c24-0fb54868c971",
        "colab": {
          "base_uri": "https://localhost:8080/",
          "height": 212
        }
      },
      "source": [
        "model = Sequential()\n",
        "model.add(LSTM(units=50,return_sequences=True,input_shape=(1, X_train.shape[1])))\n",
        "model.add(Dropout(0.2))\n",
        "model.add(LSTM(units=50,return_sequences=True))\n",
        "model.add(Dropout(0.2))\n",
        "model.add(LSTM(units=50,return_sequences=True))\n",
        "model.add(Dropout(0.2))\n",
        "model.add(LSTM(units=50))\n",
        "model.add(Dropout(0.2))\n",
        "model.add(Dense(units=1))\n",
        "model.compile(optimizer='adam',loss='mean_squared_error')\n",
        "model.fit(X_tr_t,Y_train,epochs=5,batch_size=32)"
      ],
      "execution_count": 11,
      "outputs": [
        {
          "output_type": "stream",
          "text": [
            "Epoch 1/5\n",
            "247/247 [==============================] - 2s 7ms/step - loss: 0.2532\n",
            "Epoch 2/5\n",
            "247/247 [==============================] - 0s 199us/step - loss: 0.2264\n",
            "Epoch 3/5\n",
            "247/247 [==============================] - 0s 216us/step - loss: 0.1901\n",
            "Epoch 4/5\n",
            "247/247 [==============================] - 0s 181us/step - loss: 0.1392\n",
            "Epoch 5/5\n",
            "247/247 [==============================] - 0s 195us/step - loss: 0.0721\n"
          ],
          "name": "stdout"
        },
        {
          "output_type": "execute_result",
          "data": {
            "text/plain": [
              "<keras.callbacks.callbacks.History at 0x7f513025f828>"
            ]
          },
          "metadata": {
            "tags": []
          },
          "execution_count": 11
        }
      ]
    },
    {
      "cell_type": "code",
      "metadata": {
        "id": "mq4I2mUEwwqI",
        "colab_type": "code",
        "colab": {}
      },
      "source": [
        "url = 'SUNPHARMA_test.csv'\n",
        "dataset_test = pd.read_csv(url)\n",
        "real_stock_price = dataset_test.iloc[:, 7:8].values"
      ],
      "execution_count": 0,
      "outputs": []
    },
    {
      "cell_type": "code",
      "metadata": {
        "id": "_KNFfLpj6T97",
        "colab_type": "code",
        "colab": {}
      },
      "source": [
        "x_testing_set = dataset_test.iloc[:,2:5].values\n",
        "y_testing_set = dataset_test.iloc[:,7:8].values"
      ],
      "execution_count": 0,
      "outputs": []
    },
    {
      "cell_type": "code",
      "metadata": {
        "id": "hUbCvWy56xzB",
        "colab_type": "code",
        "colab": {}
      },
      "source": [
        "x_testing_set_scaled = sc.fit_transform(x_testing_set)\n",
        "y_testing_set_scaled = sc.fit_transform(y_testing_set)"
      ],
      "execution_count": 0,
      "outputs": []
    },
    {
      "cell_type": "code",
      "metadata": {
        "id": "vNxehqMV7Bpw",
        "colab_type": "code",
        "colab": {}
      },
      "source": [
        "X_test = np.array(x_testing_set_scaled)\n",
        "X_ts_t = X_test.reshape(X_test.shape[0], 1, X_test.shape[1])"
      ],
      "execution_count": 0,
      "outputs": []
    },
    {
      "cell_type": "code",
      "metadata": {
        "id": "WQksSWZ9wyE1",
        "colab_type": "code",
        "colab": {}
      },
      "source": [
        "# dataset_total = pd.concat((dataset_train['<OPEN>'], dataset_test['<OPEN>']), axis = 0)\n",
        "# inputs = dataset_total[len(dataset_total) - len(dataset_test) - 60:].values\n",
        "# inputs = inputs.reshape(-1,1)\n",
        "# inputs = sc.transform(inputs)\n",
        "# X_test = []\n",
        "# for i in range(60, 476):\n",
        "  # X_test.append(inputs[i-60:i, 0])\n",
        "# X_test = np.array(X_test)\n",
        "# X_test = np.reshape(X_test, (X_test.shape[0], X_test.shape[1], 1))\n",
        "predicted_stock_price = model.predict(X_ts_t)\n",
        "predicted_stock_price = sc.inverse_transform(predicted_stock_price)"
      ],
      "execution_count": 0,
      "outputs": []
    },
    {
      "cell_type": "code",
      "metadata": {
        "id": "F9ij_NOuw7us",
        "colab_type": "code",
        "outputId": "00c30631-c87d-4d82-b779-41db06d46046",
        "colab": {
          "base_uri": "https://localhost:8080/",
          "height": 294
        }
      },
      "source": [
        "plt.plot(real_stock_price, color = 'black', label = 'HDFC Stock Price')\n",
        "plt.plot(predicted_stock_price, color = 'green', label = 'Predicted HDFC Stock Price')\n",
        "plt.title('HDFC Stock Price Prediction')\n",
        "plt.xlabel('Time')\n",
        "plt.ylabel('HDFC Stock Price')\n",
        "plt.legend()\n",
        "plt.show()"
      ],
      "execution_count": 19,
      "outputs": [
        {
          "output_type": "display_data",
          "data": {
            "image/png": "[encoded data removed]",
            "text/plain": [
              "<Figure size 432x288 with 1 Axes>"
            ]
          },
          "metadata": {
            "tags": [],
            "needs_background": "light"
          }
        }
      ]
    },
    {
      "cell_type": "code",
      "metadata": {
        "id": "YBKucB1o7x48",
        "colab_type": "code",
        "colab": {}
      },
      "source": [
        ""
      ],
      "execution_count": 0,
      "outputs": []
    }
  ]
}