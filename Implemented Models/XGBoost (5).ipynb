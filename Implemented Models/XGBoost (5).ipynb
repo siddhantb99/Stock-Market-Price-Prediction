{
  "nbformat": 4,
  "nbformat_minor": 0,
  "metadata": {
    "kernelspec": {
      "display_name": "Python 3",
      "language": "python",
      "name": "python3"
    },
    "language_info": {
      "codemirror_mode": {
        "name": "ipython",
        "version": 3
      },
      "file_extension": ".py",
      "mimetype": "text/x-python",
      "name": "python",
      "nbconvert_exporter": "python",
      "pygments_lexer": "ipython3",
      "version": "3.6.2"
    },
    "colab": {
      "name": "StockPricePrediction_v1c_xgboost.ipynb",
      "provenance": [],
      "toc_visible": true
    },
    "widgets": {
      "application/vnd.jupyter.widget-state+json": {
        "a67f89c6486143c18261910e4aa62c4b": {
          "model_module": "@jupyter-widgets/controls",
          "model_name": "HBoxModel",
          "state": {
            "_view_name": "HBoxView",
            "_dom_classes": [],
            "_model_name": "HBoxModel",
            "_view_module": "@jupyter-widgets/controls",
            "_model_module_version": "1.5.0",
            "_view_count": null,
            "_view_module_version": "1.5.0",
            "box_style": "",
            "layout": "IPY_MODEL_16b8fe343ee34b5298c4b7be32f4add0",
            "_model_module": "@jupyter-widgets/controls",
            "children": [
              "IPY_MODEL_6c40154d9a72428dadf5e67eac45cb26",
              "IPY_MODEL_8367da36ed3f4546989742c2512f6bda"
            ]
          }
        },
        "16b8fe343ee34b5298c4b7be32f4add0": {
          "model_module": "@jupyter-widgets/base",
          "model_name": "LayoutModel",
          "state": {
            "_view_name": "LayoutView",
            "grid_template_rows": null,
            "right": null,
            "justify_content": null,
            "_view_module": "@jupyter-widgets/base",
            "overflow": null,
            "_model_module_version": "1.2.0",
            "_view_count": null,
            "flex_flow": null,
            "width": null,
            "min_width": null,
            "border": null,
            "align_items": null,
            "bottom": null,
            "_model_module": "@jupyter-widgets/base",
            "top": null,
            "grid_column": null,
            "overflow_y": null,
            "overflow_x": null,
            "grid_auto_flow": null,
            "grid_area": null,
            "grid_template_columns": null,
            "flex": null,
            "_model_name": "LayoutModel",
            "justify_items": null,
            "grid_row": null,
            "max_height": null,
            "align_content": null,
            "visibility": null,
            "align_self": null,
            "height": null,
            "min_height": null,
            "padding": null,
            "grid_auto_rows": null,
            "grid_gap": null,
            "max_width": null,
            "order": null,
            "_view_module_version": "1.2.0",
            "grid_template_areas": null,
            "object_position": null,
            "object_fit": null,
            "grid_auto_columns": null,
            "margin": null,
            "display": null,
            "left": null
          }
        },
        "6c40154d9a72428dadf5e67eac45cb26": {
          "model_module": "@jupyter-widgets/controls",
          "model_name": "IntProgressModel",
          "state": {
            "_view_name": "ProgressView",
            "style": "IPY_MODEL_abf917332fc74b0f88c4bc744a600ab8",
            "_dom_classes": [],
            "description": "100%",
            "_model_name": "IntProgressModel",
            "bar_style": "success",
            "max": 3,
            "_view_module": "@jupyter-widgets/controls",
            "_model_module_version": "1.5.0",
            "value": 3,
            "_view_count": null,
            "_view_module_version": "1.5.0",
            "orientation": "horizontal",
            "min": 0,
            "description_tooltip": null,
            "_model_module": "@jupyter-widgets/controls",
            "layout": "IPY_MODEL_26e11661490f42e79959676387628eb3"
          }
        },
        "8367da36ed3f4546989742c2512f6bda": {
          "model_module": "@jupyter-widgets/controls",
          "model_name": "HTMLModel",
          "state": {
            "_view_name": "HTMLView",
            "style": "IPY_MODEL_5c97a9c8233f4bd9bc8cc620daa01bf5",
            "_dom_classes": [],
            "description": "",
            "_model_name": "HTMLModel",
            "placeholder": "​",
            "_view_module": "@jupyter-widgets/controls",
            "_model_module_version": "1.5.0",
            "value": " 3/3 [00:00&lt;00:00,  3.15it/s]",
            "_view_count": null,
            "_view_module_version": "1.5.0",
            "description_tooltip": null,
            "_model_module": "@jupyter-widgets/controls",
            "layout": "IPY_MODEL_43441cfe4ee0482b92a2c5f99208fd43"
          }
        },
        "abf917332fc74b0f88c4bc744a600ab8": {
          "model_module": "@jupyter-widgets/controls",
          "model_name": "ProgressStyleModel",
          "state": {
            "_view_name": "StyleView",
            "_model_name": "ProgressStyleModel",
            "description_width": "initial",
            "_view_module": "@jupyter-widgets/base",
            "_model_module_version": "1.5.0",
            "_view_count": null,
            "_view_module_version": "1.2.0",
            "bar_color": null,
            "_model_module": "@jupyter-widgets/controls"
          }
        },
        "26e11661490f42e79959676387628eb3": {
          "model_module": "@jupyter-widgets/base",
          "model_name": "LayoutModel",
          "state": {
            "_view_name": "LayoutView",
            "grid_template_rows": null,
            "right": null,
            "justify_content": null,
            "_view_module": "@jupyter-widgets/base",
            "overflow": null,
            "_model_module_version": "1.2.0",
            "_view_count": null,
            "flex_flow": null,
            "width": null,
            "min_width": null,
            "border": null,
            "align_items": null,
            "bottom": null,
            "_model_module": "@jupyter-widgets/base",
            "top": null,
            "grid_column": null,
            "overflow_y": null,
            "overflow_x": null,
            "grid_auto_flow": null,
            "grid_area": null,
            "grid_template_columns": null,
            "flex": null,
            "_model_name": "LayoutModel",
            "justify_items": null,
            "grid_row": null,
            "max_height": null,
            "align_content": null,
            "visibility": null,
            "align_self": null,
            "height": null,
            "min_height": null,
            "padding": null,
            "grid_auto_rows": null,
            "grid_gap": null,
            "max_width": null,
            "order": null,
            "_view_module_version": "1.2.0",
            "grid_template_areas": null,
            "object_position": null,
            "object_fit": null,
            "grid_auto_columns": null,
            "margin": null,
            "display": null,
            "left": null
          }
        },
        "5c97a9c8233f4bd9bc8cc620daa01bf5": {
          "model_module": "@jupyter-widgets/controls",
          "model_name": "DescriptionStyleModel",
          "state": {
            "_view_name": "StyleView",
            "_model_name": "DescriptionStyleModel",
            "description_width": "",
            "_view_module": "@jupyter-widgets/base",
            "_model_module_version": "1.5.0",
            "_view_count": null,
            "_view_module_version": "1.2.0",
            "_model_module": "@jupyter-widgets/controls"
          }
        },
        "43441cfe4ee0482b92a2c5f99208fd43": {
          "model_module": "@jupyter-widgets/base",
          "model_name": "LayoutModel",
          "state": {
            "_view_name": "LayoutView",
            "grid_template_rows": null,
            "right": null,
            "justify_content": null,
            "_view_module": "@jupyter-widgets/base",
            "overflow": null,
            "_model_module_version": "1.2.0",
            "_view_count": null,
            "flex_flow": null,
            "width": null,
            "min_width": null,
            "border": null,
            "align_items": null,
            "bottom": null,
            "_model_module": "@jupyter-widgets/base",
            "top": null,
            "grid_column": null,
            "overflow_y": null,
            "overflow_x": null,
            "grid_auto_flow": null,
            "grid_area": null,
            "grid_template_columns": null,
            "flex": null,
            "_model_name": "LayoutModel",
            "justify_items": null,
            "grid_row": null,
            "max_height": null,
            "align_content": null,
            "visibility": null,
            "align_self": null,
            "height": null,
            "min_height": null,
            "padding": null,
            "grid_auto_rows": null,
            "grid_gap": null,
            "max_width": null,
            "order": null,
            "_view_module_version": "1.2.0",
            "grid_template_areas": null,
            "object_position": null,
            "object_fit": null,
            "grid_auto_columns": null,
            "margin": null,
            "display": null,
            "left": null
          }
        },
        "c22e144d53914c53bafb900366d6b23d": {
          "model_module": "@jupyter-widgets/controls",
          "model_name": "HBoxModel",
          "state": {
            "_view_name": "HBoxView",
            "_dom_classes": [],
            "_model_name": "HBoxModel",
            "_view_module": "@jupyter-widgets/controls",
            "_model_module_version": "1.5.0",
            "_view_count": null,
            "_view_module_version": "1.5.0",
            "box_style": "",
            "layout": "IPY_MODEL_da1ca9fc9d3e4bb7b39ea7fe10700a4e",
            "_model_module": "@jupyter-widgets/controls",
            "children": [
              "IPY_MODEL_d2545d05729b4944986a956c1a5f5673",
              "IPY_MODEL_76840e6654544f1896df1e40b8612b25"
            ]
          }
        },
        "da1ca9fc9d3e4bb7b39ea7fe10700a4e": {
          "model_module": "@jupyter-widgets/base",
          "model_name": "LayoutModel",
          "state": {
            "_view_name": "LayoutView",
            "grid_template_rows": null,
            "right": null,
            "justify_content": null,
            "_view_module": "@jupyter-widgets/base",
            "overflow": null,
            "_model_module_version": "1.2.0",
            "_view_count": null,
            "flex_flow": null,
            "width": null,
            "min_width": null,
            "border": null,
            "align_items": null,
            "bottom": null,
            "_model_module": "@jupyter-widgets/base",
            "top": null,
            "grid_column": null,
            "overflow_y": null,
            "overflow_x": null,
            "grid_auto_flow": null,
            "grid_area": null,
            "grid_template_columns": null,
            "flex": null,
            "_model_name": "LayoutModel",
            "justify_items": null,
            "grid_row": null,
            "max_height": null,
            "align_content": null,
            "visibility": null,
            "align_self": null,
            "height": null,
            "min_height": null,
            "padding": null,
            "grid_auto_rows": null,
            "grid_gap": null,
            "max_width": null,
            "order": null,
            "_view_module_version": "1.2.0",
            "grid_template_areas": null,
            "object_position": null,
            "object_fit": null,
            "grid_auto_columns": null,
            "margin": null,
            "display": null,
            "left": null
          }
        },
        "d2545d05729b4944986a956c1a5f5673": {
          "model_module": "@jupyter-widgets/controls",
          "model_name": "IntProgressModel",
          "state": {
            "_view_name": "ProgressView",
            "style": "IPY_MODEL_d84494c5a8914c10a476b8baeec7c105",
            "_dom_classes": [],
            "description": "100%",
            "_model_name": "IntProgressModel",
            "bar_style": "success",
            "max": 4,
            "_view_module": "@jupyter-widgets/controls",
            "_model_module_version": "1.5.0",
            "value": 4,
            "_view_count": null,
            "_view_module_version": "1.5.0",
            "orientation": "horizontal",
            "min": 0,
            "description_tooltip": null,
            "_model_module": "@jupyter-widgets/controls",
            "layout": "IPY_MODEL_c6f9c318a2e04491ae3e4ac056918b63"
          }
        },
        "76840e6654544f1896df1e40b8612b25": {
          "model_module": "@jupyter-widgets/controls",
          "model_name": "HTMLModel",
          "state": {
            "_view_name": "HTMLView",
            "style": "IPY_MODEL_42fb01ce3c1840a7a3f211968237f8ce",
            "_dom_classes": [],
            "description": "",
            "_model_name": "HTMLModel",
            "placeholder": "​",
            "_view_module": "@jupyter-widgets/controls",
            "_model_module_version": "1.5.0",
            "value": " 4/4 [00:04&lt;00:00,  1.19s/it]",
            "_view_count": null,
            "_view_module_version": "1.5.0",
            "description_tooltip": null,
            "_model_module": "@jupyter-widgets/controls",
            "layout": "IPY_MODEL_34dc641e999d45b6a4edac2368df0463"
          }
        },
        "d84494c5a8914c10a476b8baeec7c105": {
          "model_module": "@jupyter-widgets/controls",
          "model_name": "ProgressStyleModel",
          "state": {
            "_view_name": "StyleView",
            "_model_name": "ProgressStyleModel",
            "description_width": "initial",
            "_view_module": "@jupyter-widgets/base",
            "_model_module_version": "1.5.0",
            "_view_count": null,
            "_view_module_version": "1.2.0",
            "bar_color": null,
            "_model_module": "@jupyter-widgets/controls"
          }
        },
        "c6f9c318a2e04491ae3e4ac056918b63": {
          "model_module": "@jupyter-widgets/base",
          "model_name": "LayoutModel",
          "state": {
            "_view_name": "LayoutView",
            "grid_template_rows": null,
            "right": null,
            "justify_content": null,
            "_view_module": "@jupyter-widgets/base",
            "overflow": null,
            "_model_module_version": "1.2.0",
            "_view_count": null,
            "flex_flow": null,
            "width": null,
            "min_width": null,
            "border": null,
            "align_items": null,
            "bottom": null,
            "_model_module": "@jupyter-widgets/base",
            "top": null,
            "grid_column": null,
            "overflow_y": null,
            "overflow_x": null,
            "grid_auto_flow": null,
            "grid_area": null,
            "grid_template_columns": null,
            "flex": null,
            "_model_name": "LayoutModel",
            "justify_items": null,
            "grid_row": null,
            "max_height": null,
            "align_content": null,
            "visibility": null,
            "align_self": null,
            "height": null,
            "min_height": null,
            "padding": null,
            "grid_auto_rows": null,
            "grid_gap": null,
            "max_width": null,
            "order": null,
            "_view_module_version": "1.2.0",
            "grid_template_areas": null,
            "object_position": null,
            "object_fit": null,
            "grid_auto_columns": null,
            "margin": null,
            "display": null,
            "left": null
          }
        },
        "42fb01ce3c1840a7a3f211968237f8ce": {
          "model_module": "@jupyter-widgets/controls",
          "model_name": "DescriptionStyleModel",
          "state": {
            "_view_name": "StyleView",
            "_model_name": "DescriptionStyleModel",
            "description_width": "",
            "_view_module": "@jupyter-widgets/base",
            "_model_module_version": "1.5.0",
            "_view_count": null,
            "_view_module_version": "1.2.0",
            "_model_module": "@jupyter-widgets/controls"
          }
        },
        "34dc641e999d45b6a4edac2368df0463": {
          "model_module": "@jupyter-widgets/base",
          "model_name": "LayoutModel",
          "state": {
            "_view_name": "LayoutView",
            "grid_template_rows": null,
            "right": null,
            "justify_content": null,
            "_view_module": "@jupyter-widgets/base",
            "overflow": null,
            "_model_module_version": "1.2.0",
            "_view_count": null,
            "flex_flow": null,
            "width": null,
            "min_width": null,
            "border": null,
            "align_items": null,
            "bottom": null,
            "_model_module": "@jupyter-widgets/base",
            "top": null,
            "grid_column": null,
            "overflow_y": null,
            "overflow_x": null,
            "grid_auto_flow": null,
            "grid_area": null,
            "grid_template_columns": null,
            "flex": null,
            "_model_name": "LayoutModel",
            "justify_items": null,
            "grid_row": null,
            "max_height": null,
            "align_content": null,
            "visibility": null,
            "align_self": null,
            "height": null,
            "min_height": null,
            "padding": null,
            "grid_auto_rows": null,
            "grid_gap": null,
            "max_width": null,
            "order": null,
            "_view_module_version": "1.2.0",
            "grid_template_areas": null,
            "object_position": null,
            "object_fit": null,
            "grid_auto_columns": null,
            "margin": null,
            "display": null,
            "left": null
          }
        },
        "6f8a28a60a5045359c4523b3bd9d0a4b": {
          "model_module": "@jupyter-widgets/controls",
          "model_name": "HBoxModel",
          "state": {
            "_view_name": "HBoxView",
            "_dom_classes": [],
            "_model_name": "HBoxModel",
            "_view_module": "@jupyter-widgets/controls",
            "_model_module_version": "1.5.0",
            "_view_count": null,
            "_view_module_version": "1.5.0",
            "box_style": "",
            "layout": "IPY_MODEL_74e6e62c78184c97b195183c1f266780",
            "_model_module": "@jupyter-widgets/controls",
            "children": [
              "IPY_MODEL_3f0ca183596a44439124e5930170647f",
              "IPY_MODEL_5e4e9a8a26c9437f9463b331947dab05"
            ]
          }
        },
        "74e6e62c78184c97b195183c1f266780": {
          "model_module": "@jupyter-widgets/base",
          "model_name": "LayoutModel",
          "state": {
            "_view_name": "LayoutView",
            "grid_template_rows": null,
            "right": null,
            "justify_content": null,
            "_view_module": "@jupyter-widgets/base",
            "overflow": null,
            "_model_module_version": "1.2.0",
            "_view_count": null,
            "flex_flow": null,
            "width": null,
            "min_width": null,
            "border": null,
            "align_items": null,
            "bottom": null,
            "_model_module": "@jupyter-widgets/base",
            "top": null,
            "grid_column": null,
            "overflow_y": null,
            "overflow_x": null,
            "grid_auto_flow": null,
            "grid_area": null,
            "grid_template_columns": null,
            "flex": null,
            "_model_name": "LayoutModel",
            "justify_items": null,
            "grid_row": null,
            "max_height": null,
            "align_content": null,
            "visibility": null,
            "align_self": null,
            "height": null,
            "min_height": null,
            "padding": null,
            "grid_auto_rows": null,
            "grid_gap": null,
            "max_width": null,
            "order": null,
            "_view_module_version": "1.2.0",
            "grid_template_areas": null,
            "object_position": null,
            "object_fit": null,
            "grid_auto_columns": null,
            "margin": null,
            "display": null,
            "left": null
          }
        },
        "3f0ca183596a44439124e5930170647f": {
          "model_module": "@jupyter-widgets/controls",
          "model_name": "IntProgressModel",
          "state": {
            "_view_name": "ProgressView",
            "style": "IPY_MODEL_a7af2c6284aa42898d924124faf25860",
            "_dom_classes": [],
            "description": "100%",
            "_model_name": "IntProgressModel",
            "bar_style": "success",
            "max": 4,
            "_view_module": "@jupyter-widgets/controls",
            "_model_module_version": "1.5.0",
            "value": 4,
            "_view_count": null,
            "_view_module_version": "1.5.0",
            "orientation": "horizontal",
            "min": 0,
            "description_tooltip": null,
            "_model_module": "@jupyter-widgets/controls",
            "layout": "IPY_MODEL_8da02a5d31514a13a6ef85e4b277bfc7"
          }
        },
        "5e4e9a8a26c9437f9463b331947dab05": {
          "model_module": "@jupyter-widgets/controls",
          "model_name": "HTMLModel",
          "state": {
            "_view_name": "HTMLView",
            "style": "IPY_MODEL_7c1f0caf898b4d08b431eba621ae323f",
            "_dom_classes": [],
            "description": "",
            "_model_name": "HTMLModel",
            "placeholder": "​",
            "_view_module": "@jupyter-widgets/controls",
            "_model_module_version": "1.5.0",
            "value": " 4/4 [00:03&lt;00:00,  1.17it/s]",
            "_view_count": null,
            "_view_module_version": "1.5.0",
            "description_tooltip": null,
            "_model_module": "@jupyter-widgets/controls",
            "layout": "IPY_MODEL_88b26365073246b7a8f44593142f123a"
          }
        },
        "a7af2c6284aa42898d924124faf25860": {
          "model_module": "@jupyter-widgets/controls",
          "model_name": "ProgressStyleModel",
          "state": {
            "_view_name": "StyleView",
            "_model_name": "ProgressStyleModel",
            "description_width": "initial",
            "_view_module": "@jupyter-widgets/base",
            "_model_module_version": "1.5.0",
            "_view_count": null,
            "_view_module_version": "1.2.0",
            "bar_color": null,
            "_model_module": "@jupyter-widgets/controls"
          }
        },
        "8da02a5d31514a13a6ef85e4b277bfc7": {
          "model_module": "@jupyter-widgets/base",
          "model_name": "LayoutModel",
          "state": {
            "_view_name": "LayoutView",
            "grid_template_rows": null,
            "right": null,
            "justify_content": null,
            "_view_module": "@jupyter-widgets/base",
            "overflow": null,
            "_model_module_version": "1.2.0",
            "_view_count": null,
            "flex_flow": null,
            "width": null,
            "min_width": null,
            "border": null,
            "align_items": null,
            "bottom": null,
            "_model_module": "@jupyter-widgets/base",
            "top": null,
            "grid_column": null,
            "overflow_y": null,
            "overflow_x": null,
            "grid_auto_flow": null,
            "grid_area": null,
            "grid_template_columns": null,
            "flex": null,
            "_model_name": "LayoutModel",
            "justify_items": null,
            "grid_row": null,
            "max_height": null,
            "align_content": null,
            "visibility": null,
            "align_self": null,
            "height": null,
            "min_height": null,
            "padding": null,
            "grid_auto_rows": null,
            "grid_gap": null,
            "max_width": null,
            "order": null,
            "_view_module_version": "1.2.0",
            "grid_template_areas": null,
            "object_position": null,
            "object_fit": null,
            "grid_auto_columns": null,
            "margin": null,
            "display": null,
            "left": null
          }
        },
        "7c1f0caf898b4d08b431eba621ae323f": {
          "model_module": "@jupyter-widgets/controls",
          "model_name": "DescriptionStyleModel",
          "state": {
            "_view_name": "StyleView",
            "_model_name": "DescriptionStyleModel",
            "description_width": "",
            "_view_module": "@jupyter-widgets/base",
            "_model_module_version": "1.5.0",
            "_view_count": null,
            "_view_module_version": "1.2.0",
            "_model_module": "@jupyter-widgets/controls"
          }
        },
        "88b26365073246b7a8f44593142f123a": {
          "model_module": "@jupyter-widgets/base",
          "model_name": "LayoutModel",
          "state": {
            "_view_name": "LayoutView",
            "grid_template_rows": null,
            "right": null,
            "justify_content": null,
            "_view_module": "@jupyter-widgets/base",
            "overflow": null,
            "_model_module_version": "1.2.0",
            "_view_count": null,
            "flex_flow": null,
            "width": null,
            "min_width": null,
            "border": null,
            "align_items": null,
            "bottom": null,
            "_model_module": "@jupyter-widgets/base",
            "top": null,
            "grid_column": null,
            "overflow_y": null,
            "overflow_x": null,
            "grid_auto_flow": null,
            "grid_area": null,
            "grid_template_columns": null,
            "flex": null,
            "_model_name": "LayoutModel",
            "justify_items": null,
            "grid_row": null,
            "max_height": null,
            "align_content": null,
            "visibility": null,
            "align_self": null,
            "height": null,
            "min_height": null,
            "padding": null,
            "grid_auto_rows": null,
            "grid_gap": null,
            "max_width": null,
            "order": null,
            "_view_module_version": "1.2.0",
            "grid_template_areas": null,
            "object_position": null,
            "object_fit": null,
            "grid_auto_columns": null,
            "margin": null,
            "display": null,
            "left": null
          }
        },
        "4820bff4b8be41749c39a075a73ed8d8": {
          "model_module": "@jupyter-widgets/controls",
          "model_name": "HBoxModel",
          "state": {
            "_view_name": "HBoxView",
            "_dom_classes": [],
            "_model_name": "HBoxModel",
            "_view_module": "@jupyter-widgets/controls",
            "_model_module_version": "1.5.0",
            "_view_count": null,
            "_view_module_version": "1.5.0",
            "box_style": "",
            "layout": "IPY_MODEL_48d49d91439740c1b1845283dd8fb994",
            "_model_module": "@jupyter-widgets/controls",
            "children": [
              "IPY_MODEL_39d18cb95f8d4581ab7ec6b830698269",
              "IPY_MODEL_03157e9dd0a94c8cb8a707c8ef7bdfa7"
            ]
          }
        },
        "48d49d91439740c1b1845283dd8fb994": {
          "model_module": "@jupyter-widgets/base",
          "model_name": "LayoutModel",
          "state": {
            "_view_name": "LayoutView",
            "grid_template_rows": null,
            "right": null,
            "justify_content": null,
            "_view_module": "@jupyter-widgets/base",
            "overflow": null,
            "_model_module_version": "1.2.0",
            "_view_count": null,
            "flex_flow": null,
            "width": null,
            "min_width": null,
            "border": null,
            "align_items": null,
            "bottom": null,
            "_model_module": "@jupyter-widgets/base",
            "top": null,
            "grid_column": null,
            "overflow_y": null,
            "overflow_x": null,
            "grid_auto_flow": null,
            "grid_area": null,
            "grid_template_columns": null,
            "flex": null,
            "_model_name": "LayoutModel",
            "justify_items": null,
            "grid_row": null,
            "max_height": null,
            "align_content": null,
            "visibility": null,
            "align_self": null,
            "height": null,
            "min_height": null,
            "padding": null,
            "grid_auto_rows": null,
            "grid_gap": null,
            "max_width": null,
            "order": null,
            "_view_module_version": "1.2.0",
            "grid_template_areas": null,
            "object_position": null,
            "object_fit": null,
            "grid_auto_columns": null,
            "margin": null,
            "display": null,
            "left": null
          }
        },
        "39d18cb95f8d4581ab7ec6b830698269": {
          "model_module": "@jupyter-widgets/controls",
          "model_name": "IntProgressModel",
          "state": {
            "_view_name": "ProgressView",
            "style": "IPY_MODEL_c65fd8a1f447475d870faca4e8a15bdc",
            "_dom_classes": [],
            "description": "100%",
            "_model_name": "IntProgressModel",
            "bar_style": "success",
            "max": 30,
            "_view_module": "@jupyter-widgets/controls",
            "_model_module_version": "1.5.0",
            "value": 30,
            "_view_count": null,
            "_view_module_version": "1.5.0",
            "orientation": "horizontal",
            "min": 0,
            "description_tooltip": null,
            "_model_module": "@jupyter-widgets/controls",
            "layout": "IPY_MODEL_e27fffe0570f492990605a1e67bbe343"
          }
        },
        "03157e9dd0a94c8cb8a707c8ef7bdfa7": {
          "model_module": "@jupyter-widgets/controls",
          "model_name": "HTMLModel",
          "state": {
            "_view_name": "HTMLView",
            "style": "IPY_MODEL_0148dad26bf04e68a806f6930e51c4f6",
            "_dom_classes": [],
            "description": "",
            "_model_name": "HTMLModel",
            "placeholder": "​",
            "_view_module": "@jupyter-widgets/controls",
            "_model_module_version": "1.5.0",
            "value": " 30/30 [00:53&lt;00:00,  1.77s/it]",
            "_view_count": null,
            "_view_module_version": "1.5.0",
            "description_tooltip": null,
            "_model_module": "@jupyter-widgets/controls",
            "layout": "IPY_MODEL_9ba3dfff90e8490bbf4942067259e5fb"
          }
        },
        "c65fd8a1f447475d870faca4e8a15bdc": {
          "model_module": "@jupyter-widgets/controls",
          "model_name": "ProgressStyleModel",
          "state": {
            "_view_name": "StyleView",
            "_model_name": "ProgressStyleModel",
            "description_width": "initial",
            "_view_module": "@jupyter-widgets/base",
            "_model_module_version": "1.5.0",
            "_view_count": null,
            "_view_module_version": "1.2.0",
            "bar_color": null,
            "_model_module": "@jupyter-widgets/controls"
          }
        },
        "e27fffe0570f492990605a1e67bbe343": {
          "model_module": "@jupyter-widgets/base",
          "model_name": "LayoutModel",
          "state": {
            "_view_name": "LayoutView",
            "grid_template_rows": null,
            "right": null,
            "justify_content": null,
            "_view_module": "@jupyter-widgets/base",
            "overflow": null,
            "_model_module_version": "1.2.0",
            "_view_count": null,
            "flex_flow": null,
            "width": null,
            "min_width": null,
            "border": null,
            "align_items": null,
            "bottom": null,
            "_model_module": "@jupyter-widgets/base",
            "top": null,
            "grid_column": null,
            "overflow_y": null,
            "overflow_x": null,
            "grid_auto_flow": null,
            "grid_area": null,
            "grid_template_columns": null,
            "flex": null,
            "_model_name": "LayoutModel",
            "justify_items": null,
            "grid_row": null,
            "max_height": null,
            "align_content": null,
            "visibility": null,
            "align_self": null,
            "height": null,
            "min_height": null,
            "padding": null,
            "grid_auto_rows": null,
            "grid_gap": null,
            "max_width": null,
            "order": null,
            "_view_module_version": "1.2.0",
            "grid_template_areas": null,
            "object_position": null,
            "object_fit": null,
            "grid_auto_columns": null,
            "margin": null,
            "display": null,
            "left": null
          }
        },
        "0148dad26bf04e68a806f6930e51c4f6": {
          "model_module": "@jupyter-widgets/controls",
          "model_name": "DescriptionStyleModel",
          "state": {
            "_view_name": "StyleView",
            "_model_name": "DescriptionStyleModel",
            "description_width": "",
            "_view_module": "@jupyter-widgets/base",
            "_model_module_version": "1.5.0",
            "_view_count": null,
            "_view_module_version": "1.2.0",
            "_model_module": "@jupyter-widgets/controls"
          }
        },
        "9ba3dfff90e8490bbf4942067259e5fb": {
          "model_module": "@jupyter-widgets/base",
          "model_name": "LayoutModel",
          "state": {
            "_view_name": "LayoutView",
            "grid_template_rows": null,
            "right": null,
            "justify_content": null,
            "_view_module": "@jupyter-widgets/base",
            "overflow": null,
            "_model_module_version": "1.2.0",
            "_view_count": null,
            "flex_flow": null,
            "width": null,
            "min_width": null,
            "border": null,
            "align_items": null,
            "bottom": null,
            "_model_module": "@jupyter-widgets/base",
            "top": null,
            "grid_column": null,
            "overflow_y": null,
            "overflow_x": null,
            "grid_auto_flow": null,
            "grid_area": null,
            "grid_template_columns": null,
            "flex": null,
            "_model_name": "LayoutModel",
            "justify_items": null,
            "grid_row": null,
            "max_height": null,
            "align_content": null,
            "visibility": null,
            "align_self": null,
            "height": null,
            "min_height": null,
            "padding": null,
            "grid_auto_rows": null,
            "grid_gap": null,
            "max_width": null,
            "order": null,
            "_view_module_version": "1.2.0",
            "grid_template_areas": null,
            "object_position": null,
            "object_fit": null,
            "grid_auto_columns": null,
            "margin": null,
            "display": null,
            "left": null
          }
        },
        "bf212eb2fbbc4fadbd2cd15d6374951a": {
          "model_module": "@jupyter-widgets/controls",
          "model_name": "HBoxModel",
          "state": {
            "_view_name": "HBoxView",
            "_dom_classes": [],
            "_model_name": "HBoxModel",
            "_view_module": "@jupyter-widgets/controls",
            "_model_module_version": "1.5.0",
            "_view_count": null,
            "_view_module_version": "1.5.0",
            "box_style": "",
            "layout": "IPY_MODEL_e5ddc178143347b681375c58d6a53743",
            "_model_module": "@jupyter-widgets/controls",
            "children": [
              "IPY_MODEL_781ff917e7c74279a004e63a27460b28",
              "IPY_MODEL_e888b50d9b29426bbdd060bd03b36c84"
            ]
          }
        },
        "e5ddc178143347b681375c58d6a53743": {
          "model_module": "@jupyter-widgets/base",
          "model_name": "LayoutModel",
          "state": {
            "_view_name": "LayoutView",
            "grid_template_rows": null,
            "right": null,
            "justify_content": null,
            "_view_module": "@jupyter-widgets/base",
            "overflow": null,
            "_model_module_version": "1.2.0",
            "_view_count": null,
            "flex_flow": null,
            "width": null,
            "min_width": null,
            "border": null,
            "align_items": null,
            "bottom": null,
            "_model_module": "@jupyter-widgets/base",
            "top": null,
            "grid_column": null,
            "overflow_y": null,
            "overflow_x": null,
            "grid_auto_flow": null,
            "grid_area": null,
            "grid_template_columns": null,
            "flex": null,
            "_model_name": "LayoutModel",
            "justify_items": null,
            "grid_row": null,
            "max_height": null,
            "align_content": null,
            "visibility": null,
            "align_self": null,
            "height": null,
            "min_height": null,
            "padding": null,
            "grid_auto_rows": null,
            "grid_gap": null,
            "max_width": null,
            "order": null,
            "_view_module_version": "1.2.0",
            "grid_template_areas": null,
            "object_position": null,
            "object_fit": null,
            "grid_auto_columns": null,
            "margin": null,
            "display": null,
            "left": null
          }
        },
        "781ff917e7c74279a004e63a27460b28": {
          "model_module": "@jupyter-widgets/controls",
          "model_name": "IntProgressModel",
          "state": {
            "_view_name": "ProgressView",
            "style": "IPY_MODEL_66f51d7bec1f47aab8fea536f3435df0",
            "_dom_classes": [],
            "description": "100%",
            "_model_name": "IntProgressModel",
            "bar_style": "success",
            "max": 7,
            "_view_module": "@jupyter-widgets/controls",
            "_model_module_version": "1.5.0",
            "value": 7,
            "_view_count": null,
            "_view_module_version": "1.5.0",
            "orientation": "horizontal",
            "min": 0,
            "description_tooltip": null,
            "_model_module": "@jupyter-widgets/controls",
            "layout": "IPY_MODEL_859b676f94a8498fa5c0cae8923947c3"
          }
        },
        "e888b50d9b29426bbdd060bd03b36c84": {
          "model_module": "@jupyter-widgets/controls",
          "model_name": "HTMLModel",
          "state": {
            "_view_name": "HTMLView",
            "style": "IPY_MODEL_1c48b0072a5744f29e7745fbe1d8933a",
            "_dom_classes": [],
            "description": "",
            "_model_name": "HTMLModel",
            "placeholder": "​",
            "_view_module": "@jupyter-widgets/controls",
            "_model_module_version": "1.5.0",
            "value": " 7/7 [00:05&lt;00:00,  1.30it/s]",
            "_view_count": null,
            "_view_module_version": "1.5.0",
            "description_tooltip": null,
            "_model_module": "@jupyter-widgets/controls",
            "layout": "IPY_MODEL_c58cde16cd8f43e0a5603efa67383b04"
          }
        },
        "66f51d7bec1f47aab8fea536f3435df0": {
          "model_module": "@jupyter-widgets/controls",
          "model_name": "ProgressStyleModel",
          "state": {
            "_view_name": "StyleView",
            "_model_name": "ProgressStyleModel",
            "description_width": "initial",
            "_view_module": "@jupyter-widgets/base",
            "_model_module_version": "1.5.0",
            "_view_count": null,
            "_view_module_version": "1.2.0",
            "bar_color": null,
            "_model_module": "@jupyter-widgets/controls"
          }
        },
        "859b676f94a8498fa5c0cae8923947c3": {
          "model_module": "@jupyter-widgets/base",
          "model_name": "LayoutModel",
          "state": {
            "_view_name": "LayoutView",
            "grid_template_rows": null,
            "right": null,
            "justify_content": null,
            "_view_module": "@jupyter-widgets/base",
            "overflow": null,
            "_model_module_version": "1.2.0",
            "_view_count": null,
            "flex_flow": null,
            "width": null,
            "min_width": null,
            "border": null,
            "align_items": null,
            "bottom": null,
            "_model_module": "@jupyter-widgets/base",
            "top": null,
            "grid_column": null,
            "overflow_y": null,
            "overflow_x": null,
            "grid_auto_flow": null,
            "grid_area": null,
            "grid_template_columns": null,
            "flex": null,
            "_model_name": "LayoutModel",
            "justify_items": null,
            "grid_row": null,
            "max_height": null,
            "align_content": null,
            "visibility": null,
            "align_self": null,
            "height": null,
            "min_height": null,
            "padding": null,
            "grid_auto_rows": null,
            "grid_gap": null,
            "max_width": null,
            "order": null,
            "_view_module_version": "1.2.0",
            "grid_template_areas": null,
            "object_position": null,
            "object_fit": null,
            "grid_auto_columns": null,
            "margin": null,
            "display": null,
            "left": null
          }
        },
        "1c48b0072a5744f29e7745fbe1d8933a": {
          "model_module": "@jupyter-widgets/controls",
          "model_name": "DescriptionStyleModel",
          "state": {
            "_view_name": "StyleView",
            "_model_name": "DescriptionStyleModel",
            "description_width": "",
            "_view_module": "@jupyter-widgets/base",
            "_model_module_version": "1.5.0",
            "_view_count": null,
            "_view_module_version": "1.2.0",
            "_model_module": "@jupyter-widgets/controls"
          }
        },
        "c58cde16cd8f43e0a5603efa67383b04": {
          "model_module": "@jupyter-widgets/base",
          "model_name": "LayoutModel",
          "state": {
            "_view_name": "LayoutView",
            "grid_template_rows": null,
            "right": null,
            "justify_content": null,
            "_view_module": "@jupyter-widgets/base",
            "overflow": null,
            "_model_module_version": "1.2.0",
            "_view_count": null,
            "flex_flow": null,
            "width": null,
            "min_width": null,
            "border": null,
            "align_items": null,
            "bottom": null,
            "_model_module": "@jupyter-widgets/base",
            "top": null,
            "grid_column": null,
            "overflow_y": null,
            "overflow_x": null,
            "grid_auto_flow": null,
            "grid_area": null,
            "grid_template_columns": null,
            "flex": null,
            "_model_name": "LayoutModel",
            "justify_items": null,
            "grid_row": null,
            "max_height": null,
            "align_content": null,
            "visibility": null,
            "align_self": null,
            "height": null,
            "min_height": null,
            "padding": null,
            "grid_auto_rows": null,
            "grid_gap": null,
            "max_width": null,
            "order": null,
            "_view_module_version": "1.2.0",
            "grid_template_areas": null,
            "object_position": null,
            "object_fit": null,
            "grid_auto_columns": null,
            "margin": null,
            "display": null,
            "left": null
          }
        },
        "2432a0578f51475eba7e6682b0951220": {
          "model_module": "@jupyter-widgets/controls",
          "model_name": "HBoxModel",
          "state": {
            "_view_name": "HBoxView",
            "_dom_classes": [],
            "_model_name": "HBoxModel",
            "_view_module": "@jupyter-widgets/controls",
            "_model_module_version": "1.5.0",
            "_view_count": null,
            "_view_module_version": "1.5.0",
            "box_style": "",
            "layout": "IPY_MODEL_fddfb1d3d7c94ccdbe1cc8d642c5e190",
            "_model_module": "@jupyter-widgets/controls",
            "children": [
              "IPY_MODEL_3455b617075e4158ad9b83755b11e3b9",
              "IPY_MODEL_04512cd53a30418aad41e3a2bcc8b13a"
            ]
          }
        },
        "fddfb1d3d7c94ccdbe1cc8d642c5e190": {
          "model_module": "@jupyter-widgets/base",
          "model_name": "LayoutModel",
          "state": {
            "_view_name": "LayoutView",
            "grid_template_rows": null,
            "right": null,
            "justify_content": null,
            "_view_module": "@jupyter-widgets/base",
            "overflow": null,
            "_model_module_version": "1.2.0",
            "_view_count": null,
            "flex_flow": null,
            "width": null,
            "min_width": null,
            "border": null,
            "align_items": null,
            "bottom": null,
            "_model_module": "@jupyter-widgets/base",
            "top": null,
            "grid_column": null,
            "overflow_y": null,
            "overflow_x": null,
            "grid_auto_flow": null,
            "grid_area": null,
            "grid_template_columns": null,
            "flex": null,
            "_model_name": "LayoutModel",
            "justify_items": null,
            "grid_row": null,
            "max_height": null,
            "align_content": null,
            "visibility": null,
            "align_self": null,
            "height": null,
            "min_height": null,
            "padding": null,
            "grid_auto_rows": null,
            "grid_gap": null,
            "max_width": null,
            "order": null,
            "_view_module_version": "1.2.0",
            "grid_template_areas": null,
            "object_position": null,
            "object_fit": null,
            "grid_auto_columns": null,
            "margin": null,
            "display": null,
            "left": null
          }
        },
        "3455b617075e4158ad9b83755b11e3b9": {
          "model_module": "@jupyter-widgets/controls",
          "model_name": "IntProgressModel",
          "state": {
            "_view_name": "ProgressView",
            "style": "IPY_MODEL_3d56c0608f3649acb343af4e462f60ec",
            "_dom_classes": [],
            "description": "100%",
            "_model_name": "IntProgressModel",
            "bar_style": "success",
            "max": 10,
            "_view_module": "@jupyter-widgets/controls",
            "_model_module_version": "1.5.0",
            "value": 10,
            "_view_count": null,
            "_view_module_version": "1.5.0",
            "orientation": "horizontal",
            "min": 0,
            "description_tooltip": null,
            "_model_module": "@jupyter-widgets/controls",
            "layout": "IPY_MODEL_58f910f51f7e49dab49d501713bc0ed3"
          }
        },
        "04512cd53a30418aad41e3a2bcc8b13a": {
          "model_module": "@jupyter-widgets/controls",
          "model_name": "HTMLModel",
          "state": {
            "_view_name": "HTMLView",
            "style": "IPY_MODEL_903815978ef940ce87a4273a8c4124ca",
            "_dom_classes": [],
            "description": "",
            "_model_name": "HTMLModel",
            "placeholder": "​",
            "_view_module": "@jupyter-widgets/controls",
            "_model_module_version": "1.5.0",
            "value": " 10/10 [00:04&lt;00:00,  2.30it/s]",
            "_view_count": null,
            "_view_module_version": "1.5.0",
            "description_tooltip": null,
            "_model_module": "@jupyter-widgets/controls",
            "layout": "IPY_MODEL_20bb8c0cca6a4a749bc6921d00e06b90"
          }
        },
        "3d56c0608f3649acb343af4e462f60ec": {
          "model_module": "@jupyter-widgets/controls",
          "model_name": "ProgressStyleModel",
          "state": {
            "_view_name": "StyleView",
            "_model_name": "ProgressStyleModel",
            "description_width": "initial",
            "_view_module": "@jupyter-widgets/base",
            "_model_module_version": "1.5.0",
            "_view_count": null,
            "_view_module_version": "1.2.0",
            "bar_color": null,
            "_model_module": "@jupyter-widgets/controls"
          }
        },
        "58f910f51f7e49dab49d501713bc0ed3": {
          "model_module": "@jupyter-widgets/base",
          "model_name": "LayoutModel",
          "state": {
            "_view_name": "LayoutView",
            "grid_template_rows": null,
            "right": null,
            "justify_content": null,
            "_view_module": "@jupyter-widgets/base",
            "overflow": null,
            "_model_module_version": "1.2.0",
            "_view_count": null,
            "flex_flow": null,
            "width": null,
            "min_width": null,
            "border": null,
            "align_items": null,
            "bottom": null,
            "_model_module": "@jupyter-widgets/base",
            "top": null,
            "grid_column": null,
            "overflow_y": null,
            "overflow_x": null,
            "grid_auto_flow": null,
            "grid_area": null,
            "grid_template_columns": null,
            "flex": null,
            "_model_name": "LayoutModel",
            "justify_items": null,
            "grid_row": null,
            "max_height": null,
            "align_content": null,
            "visibility": null,
            "align_self": null,
            "height": null,
            "min_height": null,
            "padding": null,
            "grid_auto_rows": null,
            "grid_gap": null,
            "max_width": null,
            "order": null,
            "_view_module_version": "1.2.0",
            "grid_template_areas": null,
            "object_position": null,
            "object_fit": null,
            "grid_auto_columns": null,
            "margin": null,
            "display": null,
            "left": null
          }
        },
        "903815978ef940ce87a4273a8c4124ca": {
          "model_module": "@jupyter-widgets/controls",
          "model_name": "DescriptionStyleModel",
          "state": {
            "_view_name": "StyleView",
            "_model_name": "DescriptionStyleModel",
            "description_width": "",
            "_view_module": "@jupyter-widgets/base",
            "_model_module_version": "1.5.0",
            "_view_count": null,
            "_view_module_version": "1.2.0",
            "_model_module": "@jupyter-widgets/controls"
          }
        },
        "20bb8c0cca6a4a749bc6921d00e06b90": {
          "model_module": "@jupyter-widgets/base",
          "model_name": "LayoutModel",
          "state": {
            "_view_name": "LayoutView",
            "grid_template_rows": null,
            "right": null,
            "justify_content": null,
            "_view_module": "@jupyter-widgets/base",
            "overflow": null,
            "_model_module_version": "1.2.0",
            "_view_count": null,
            "flex_flow": null,
            "width": null,
            "min_width": null,
            "border": null,
            "align_items": null,
            "bottom": null,
            "_model_module": "@jupyter-widgets/base",
            "top": null,
            "grid_column": null,
            "overflow_y": null,
            "overflow_x": null,
            "grid_auto_flow": null,
            "grid_area": null,
            "grid_template_columns": null,
            "flex": null,
            "_model_name": "LayoutModel",
            "justify_items": null,
            "grid_row": null,
            "max_height": null,
            "align_content": null,
            "visibility": null,
            "align_self": null,
            "height": null,
            "min_height": null,
            "padding": null,
            "grid_auto_rows": null,
            "grid_gap": null,
            "max_width": null,
            "order": null,
            "_view_module_version": "1.2.0",
            "grid_template_areas": null,
            "object_position": null,
            "object_fit": null,
            "grid_auto_columns": null,
            "margin": null,
            "display": null,
            "left": null
          }
        },
        "0ca158c84dcb4d6abde283fdb0b9917c": {
          "model_module": "@jupyter-widgets/controls",
          "model_name": "HBoxModel",
          "state": {
            "_view_name": "HBoxView",
            "_dom_classes": [],
            "_model_name": "HBoxModel",
            "_view_module": "@jupyter-widgets/controls",
            "_model_module_version": "1.5.0",
            "_view_count": null,
            "_view_module_version": "1.5.0",
            "box_style": "",
            "layout": "IPY_MODEL_d9acfbf9cc3a4833a3865872887e9724",
            "_model_module": "@jupyter-widgets/controls",
            "children": [
              "IPY_MODEL_1b3b974390864c2b983c1d87a2f4ade8",
              "IPY_MODEL_ed66b4dbb4544d0188d566ac35d733db"
            ]
          }
        },
        "d9acfbf9cc3a4833a3865872887e9724": {
          "model_module": "@jupyter-widgets/base",
          "model_name": "LayoutModel",
          "state": {
            "_view_name": "LayoutView",
            "grid_template_rows": null,
            "right": null,
            "justify_content": null,
            "_view_module": "@jupyter-widgets/base",
            "overflow": null,
            "_model_module_version": "1.2.0",
            "_view_count": null,
            "flex_flow": null,
            "width": null,
            "min_width": null,
            "border": null,
            "align_items": null,
            "bottom": null,
            "_model_module": "@jupyter-widgets/base",
            "top": null,
            "grid_column": null,
            "overflow_y": null,
            "overflow_x": null,
            "grid_auto_flow": null,
            "grid_area": null,
            "grid_template_columns": null,
            "flex": null,
            "_model_name": "LayoutModel",
            "justify_items": null,
            "grid_row": null,
            "max_height": null,
            "align_content": null,
            "visibility": null,
            "align_self": null,
            "height": null,
            "min_height": null,
            "padding": null,
            "grid_auto_rows": null,
            "grid_gap": null,
            "max_width": null,
            "order": null,
            "_view_module_version": "1.2.0",
            "grid_template_areas": null,
            "object_position": null,
            "object_fit": null,
            "grid_auto_columns": null,
            "margin": null,
            "display": null,
            "left": null
          }
        },
        "1b3b974390864c2b983c1d87a2f4ade8": {
          "model_module": "@jupyter-widgets/controls",
          "model_name": "IntProgressModel",
          "state": {
            "_view_name": "ProgressView",
            "style": "IPY_MODEL_5c822b0ea12e4302a0490571416384c1",
            "_dom_classes": [],
            "description": "100%",
            "_model_name": "IntProgressModel",
            "bar_style": "success",
            "max": 6,
            "_view_module": "@jupyter-widgets/controls",
            "_model_module_version": "1.5.0",
            "value": 6,
            "_view_count": null,
            "_view_module_version": "1.5.0",
            "orientation": "horizontal",
            "min": 0,
            "description_tooltip": null,
            "_model_module": "@jupyter-widgets/controls",
            "layout": "IPY_MODEL_05d48292243f4ed79402f3b7ce7e0231"
          }
        },
        "ed66b4dbb4544d0188d566ac35d733db": {
          "model_module": "@jupyter-widgets/controls",
          "model_name": "HTMLModel",
          "state": {
            "_view_name": "HTMLView",
            "style": "IPY_MODEL_ec963bd31e2c457393885549b7928c2a",
            "_dom_classes": [],
            "description": "",
            "_model_name": "HTMLModel",
            "placeholder": "​",
            "_view_module": "@jupyter-widgets/controls",
            "_model_module_version": "1.5.0",
            "value": " 6/6 [00:01&lt;00:00,  4.70it/s]",
            "_view_count": null,
            "_view_module_version": "1.5.0",
            "description_tooltip": null,
            "_model_module": "@jupyter-widgets/controls",
            "layout": "IPY_MODEL_f41363dc1f054cfa9a53d5263a5d75cb"
          }
        },
        "5c822b0ea12e4302a0490571416384c1": {
          "model_module": "@jupyter-widgets/controls",
          "model_name": "ProgressStyleModel",
          "state": {
            "_view_name": "StyleView",
            "_model_name": "ProgressStyleModel",
            "description_width": "initial",
            "_view_module": "@jupyter-widgets/base",
            "_model_module_version": "1.5.0",
            "_view_count": null,
            "_view_module_version": "1.2.0",
            "bar_color": null,
            "_model_module": "@jupyter-widgets/controls"
          }
        },
        "05d48292243f4ed79402f3b7ce7e0231": {
          "model_module": "@jupyter-widgets/base",
          "model_name": "LayoutModel",
          "state": {
            "_view_name": "LayoutView",
            "grid_template_rows": null,
            "right": null,
            "justify_content": null,
            "_view_module": "@jupyter-widgets/base",
            "overflow": null,
            "_model_module_version": "1.2.0",
            "_view_count": null,
            "flex_flow": null,
            "width": null,
            "min_width": null,
            "border": null,
            "align_items": null,
            "bottom": null,
            "_model_module": "@jupyter-widgets/base",
            "top": null,
            "grid_column": null,
            "overflow_y": null,
            "overflow_x": null,
            "grid_auto_flow": null,
            "grid_area": null,
            "grid_template_columns": null,
            "flex": null,
            "_model_name": "LayoutModel",
            "justify_items": null,
            "grid_row": null,
            "max_height": null,
            "align_content": null,
            "visibility": null,
            "align_self": null,
            "height": null,
            "min_height": null,
            "padding": null,
            "grid_auto_rows": null,
            "grid_gap": null,
            "max_width": null,
            "order": null,
            "_view_module_version": "1.2.0",
            "grid_template_areas": null,
            "object_position": null,
            "object_fit": null,
            "grid_auto_columns": null,
            "margin": null,
            "display": null,
            "left": null
          }
        },
        "ec963bd31e2c457393885549b7928c2a": {
          "model_module": "@jupyter-widgets/controls",
          "model_name": "DescriptionStyleModel",
          "state": {
            "_view_name": "StyleView",
            "_model_name": "DescriptionStyleModel",
            "description_width": "",
            "_view_module": "@jupyter-widgets/base",
            "_model_module_version": "1.5.0",
            "_view_count": null,
            "_view_module_version": "1.2.0",
            "_model_module": "@jupyter-widgets/controls"
          }
        },
        "f41363dc1f054cfa9a53d5263a5d75cb": {
          "model_module": "@jupyter-widgets/base",
          "model_name": "LayoutModel",
          "state": {
            "_view_name": "LayoutView",
            "grid_template_rows": null,
            "right": null,
            "justify_content": null,
            "_view_module": "@jupyter-widgets/base",
            "overflow": null,
            "_model_module_version": "1.2.0",
            "_view_count": null,
            "flex_flow": null,
            "width": null,
            "min_width": null,
            "border": null,
            "align_items": null,
            "bottom": null,
            "_model_module": "@jupyter-widgets/base",
            "top": null,
            "grid_column": null,
            "overflow_y": null,
            "overflow_x": null,
            "grid_auto_flow": null,
            "grid_area": null,
            "grid_template_columns": null,
            "flex": null,
            "_model_name": "LayoutModel",
            "justify_items": null,
            "grid_row": null,
            "max_height": null,
            "align_content": null,
            "visibility": null,
            "align_self": null,
            "height": null,
            "min_height": null,
            "padding": null,
            "grid_auto_rows": null,
            "grid_gap": null,
            "max_width": null,
            "order": null,
            "_view_module_version": "1.2.0",
            "grid_template_areas": null,
            "object_position": null,
            "object_fit": null,
            "grid_auto_columns": null,
            "margin": null,
            "display": null,
            "left": null
          }
        }
      }
    }
  },
  "cells": [
    {
      "cell_type": "code",
      "metadata": {
        "id": "d6xU3HbsTJZ9",
        "colab_type": "code",
        "colab": {}
      },
      "source": [
        "import math\n",
        "import matplotlib\n",
        "import numpy as np\n",
        "import pandas as pd\n",
        "import seaborn as sns\n",
        "import time\n",
        "\n",
        "from datetime import date\n",
        "from matplotlib import pyplot as plt\n",
        "from pylab import rcParams\n",
        "from sklearn.metrics import mean_squared_error\n",
        "from sklearn.preprocessing import StandardScaler\n",
        "from tqdm import tqdm_notebook\n",
        "from xgboost import XGBRegressor\n",
        "\n",
        "%matplotlib inline\n",
        "\n",
        "#### Input params ##################\n",
        "stk_path = \"/content/sp5.csv\"\n",
        "test_size = 0.2                # proportion of dataset to be used as test set\n",
        "cv_size = 0.2                  # proportion of dataset to be used as cross-validation set\n",
        "N = 3                         # for feature at day t, we use lags from t-1, t-2, ..., t-N as features\n",
        "\n",
        "n_estimators = 100             # Number of boosted trees to fit. default = 100\n",
        "max_depth = 3                  # Maximum tree depth for base learners. default = 3\n",
        "learning_rate = 0.1            # Boosting learning rate (xgb’s “eta”). default = 0.1\n",
        "min_child_weight = 1           # Minimum sum of instance weight(hessian) needed in a child. default = 1\n",
        "subsample = 1                  # Subsample ratio of the training instance. default = 1\n",
        "colsample_bytree = 1           # Subsample ratio of columns when constructing each tree. default = 1\n",
        "colsample_bylevel = 1          # Subsample ratio of columns for each split, in each level. default = 1\n",
        "gamma = 0                      # Minimum loss reduction required to make a further partition on a leaf node of the tree. default=0\n",
        "\n",
        "model_seed = 100\n",
        "\n",
        "fontsize = 14\n",
        "ticklabelsize = 14\n",
        "####################################"
      ],
      "execution_count": 0,
      "outputs": []
    },
    {
      "cell_type": "markdown",
      "metadata": {
        "id": "EbdXj-P9TJaU",
        "colab_type": "text"
      },
      "source": [
        "# Common functions"
      ]
    },
    {
      "cell_type": "code",
      "metadata": {
        "id": "dJl_YppDTJaX",
        "colab_type": "code",
        "colab": {}
      },
      "source": [
        "def get_mov_avg_std(df, col, N):\n",
        "    \"\"\"\n",
        "    Given a dataframe, get mean and std dev at timestep t using values from t-1, t-2, ..., t-N.\n",
        "    Inputs\n",
        "        df         : dataframe. Can be of any length.\n",
        "        col        : name of the column you want to calculate mean and std dev\n",
        "        N          : get mean and std dev at timestep t using values from t-1, t-2, ..., t-N\n",
        "    Outputs\n",
        "        df_out     : same as df but with additional column containing mean and std dev\n",
        "    \"\"\"\n",
        "    mean_list = df[col].rolling(window = N, min_periods=1).mean() # len(mean_list) = len(df)\n",
        "    std_list = df[col].rolling(window = N, min_periods=1).std()   # first value will be NaN, because normalized by N-1\n",
        "    \n",
        "    # Add one timestep to the predictions\n",
        "    mean_list = np.concatenate((np.array([np.nan]), np.array(mean_list[:-1])))\n",
        "    std_list = np.concatenate((np.array([np.nan]), np.array(std_list[:-1])))\n",
        "    \n",
        "    # Append mean_list to df\n",
        "    df_out = df.copy()\n",
        "    df_out[col + '_mean'] = mean_list\n",
        "    df_out[col + '_std'] = std_list\n",
        "    \n",
        "    return df_out\n",
        "\n",
        "def scale_row(row, feat_mean, feat_std):\n",
        "    \"\"\"\n",
        "    Given a pandas series in row, scale it to have 0 mean and var 1 using feat_mean and feat_std\n",
        "    Inputs\n",
        "        row      : pandas series. Need to scale this.\n",
        "        feat_mean: mean  \n",
        "        feat_std : standard deviation\n",
        "    Outputs\n",
        "        row_scaled : pandas series with same length as row, but scaled\n",
        "    \"\"\"\n",
        "    # If feat_std = 0 (this happens if adj_close doesn't change over N days), \n",
        "    # set it to a small number to avoid division by zero\n",
        "    feat_std = 0.001 if feat_std == 0 else feat_std\n",
        "    \n",
        "    row_scaled = (row-feat_mean) / feat_std\n",
        "    \n",
        "    return row_scaled\n",
        "\n",
        "def get_mape(y_true, y_pred): \n",
        "    \"\"\"\n",
        "    Compute mean absolute percentage error (MAPE)\n",
        "    \"\"\"\n",
        "    y_true, y_pred = np.array(y_true), np.array(y_pred)\n",
        "    return np.mean(np.abs((y_true - y_pred) / y_true)) * 100\n",
        "\n",
        "def train_pred_eval_model(X_train_scaled, \\\n",
        "                          y_train_scaled, \\\n",
        "                          X_test_scaled, \\\n",
        "                          y_test, \\\n",
        "                          col_mean, \\\n",
        "                          col_std, \\\n",
        "                          seed=100, \\\n",
        "                          n_estimators=100, \\\n",
        "                          max_depth=3, \\\n",
        "                          learning_rate=0.1, \\\n",
        "                          min_child_weight=1, \\\n",
        "                          subsample=1, \\\n",
        "                          colsample_bytree=1, \\\n",
        "                          colsample_bylevel=1, \\\n",
        "                          gamma=0):\n",
        "    '''\n",
        "    Train model, do prediction, scale back to original range and do evaluation\n",
        "    Use XGBoost here.\n",
        "    Inputs\n",
        "        X_train_scaled     : features for training. Scaled to have mean 0 and variance 1\n",
        "        y_train_scaled     : target for training. Scaled to have mean 0 and variance 1\n",
        "        X_test_scaled      : features for test. Each sample is scaled to mean 0 and variance 1\n",
        "        y_test             : target for test. Actual values, not scaled.\n",
        "        col_mean           : means used to scale each sample of X_test_scaled. Same length as X_test_scaled and y_test\n",
        "        col_std            : standard deviations used to scale each sample of X_test_scaled. Same length as X_test_scaled and y_test\n",
        "        seed               : model seed\n",
        "        n_estimators       : number of boosted trees to fit\n",
        "        max_depth          : maximum tree depth for base learners\n",
        "        learning_rate      : boosting learning rate (xgb’s “eta”)\n",
        "        min_child_weight   : minimum sum of instance weight(hessian) needed in a child\n",
        "        subsample          : subsample ratio of the training instance\n",
        "        colsample_bytree   : subsample ratio of columns when constructing each tree\n",
        "        colsample_bylevel  : subsample ratio of columns for each split, in each level\n",
        "        gamma              : \n",
        "    Outputs\n",
        "        rmse               : root mean square error of y_test and est\n",
        "        mape               : mean absolute percentage error of y_test and est\n",
        "        est                : predicted values. Same length as y_test\n",
        "    '''\n",
        "\n",
        "    model = XGBRegressor(seed=model_seed,\n",
        "                         n_estimators=n_estimators,\n",
        "                         max_depth=max_depth,\n",
        "                         learning_rate=learning_rate,\n",
        "                         min_child_weight=min_child_weight,\n",
        "                         subsample=subsample,\n",
        "                         colsample_bytree=colsample_bytree,\n",
        "                         colsample_bylevel=colsample_bylevel,\n",
        "                         gamma=gamma)\n",
        "    \n",
        "    # Train the model\n",
        "    model.fit(X_train_scaled, y_train_scaled)\n",
        "    \n",
        "    # Get predicted labels and scale back to original range\n",
        "    est_scaled = model.predict(X_test_scaled)\n",
        "    est = est_scaled * col_std + col_mean\n",
        "\n",
        "    # Calculate RMSE\n",
        "    rmse = math.sqrt(mean_squared_error(y_test, est))\n",
        "    mape = get_mape(y_test, est)\n",
        "    \n",
        "    return rmse, mape, est"
      ],
      "execution_count": 0,
      "outputs": []
    },
    {
      "cell_type": "markdown",
      "metadata": {
        "id": "hyE-4hOnTJao",
        "colab_type": "text"
      },
      "source": [
        "# Load data"
      ]
    },
    {
      "cell_type": "code",
      "metadata": {
        "id": "WpSZIhUpTJaq",
        "colab_type": "code",
        "outputId": "64559800-03a9-4084-ecb4-93a02318e36a",
        "colab": {
          "base_uri": "https://localhost:8080/",
          "height": 204
        }
      },
      "source": [
        "df = pd.read_csv(stk_path, sep = \",\")\n",
        "df.dropna(axis=0,inplace = True)\n",
        "\n",
        "# Convert Date column to datetime\n",
        "df.loc[:, 'Date'] = pd.to_datetime(df['Date'],format='%Y-%m-%d')\n",
        "\n",
        "# Change all column headings to be lower case, and remove spacing\n",
        "df.columns = [str(x).lower().replace(' ', '_') for x in df.columns]\n",
        "\n",
        "# Get month of each sample\n",
        "df['month'] = df['date'].dt.month\n",
        "\n",
        "# Sort by datetime\n",
        "df.sort_values(by='date', inplace=True, ascending=True)\n",
        "\n",
        "df.head()"
      ],
      "execution_count": 0,
      "outputs": [
        {
          "output_type": "execute_result",
          "data": {
            "text/html": [
              "<div>\n",
              "<style scoped>\n",
              "    .dataframe tbody tr th:only-of-type {\n",
              "        vertical-align: middle;\n",
              "    }\n",
              "\n",
              "    .dataframe tbody tr th {\n",
              "        vertical-align: top;\n",
              "    }\n",
              "\n",
              "    .dataframe thead th {\n",
              "        text-align: right;\n",
              "    }\n",
              "</style>\n",
              "<table border=\"1\" class=\"dataframe\">\n",
              "  <thead>\n",
              "    <tr style=\"text-align: right;\">\n",
              "      <th></th>\n",
              "      <th>date</th>\n",
              "      <th>open</th>\n",
              "      <th>high</th>\n",
              "      <th>low</th>\n",
              "      <th>close</th>\n",
              "      <th>adj_close</th>\n",
              "      <th>volume</th>\n",
              "      <th>month</th>\n",
              "    </tr>\n",
              "  </thead>\n",
              "  <tbody>\n",
              "    <tr>\n",
              "      <th>0</th>\n",
              "      <td>2015-01-01</td>\n",
              "      <td>826.500000</td>\n",
              "      <td>830.000000</td>\n",
              "      <td>818.099976</td>\n",
              "      <td>822.200012</td>\n",
              "      <td>799.504089</td>\n",
              "      <td>587479.0</td>\n",
              "      <td>1</td>\n",
              "    </tr>\n",
              "    <tr>\n",
              "      <th>1</th>\n",
              "      <td>2015-01-02</td>\n",
              "      <td>824.000000</td>\n",
              "      <td>830.500000</td>\n",
              "      <td>824.000000</td>\n",
              "      <td>826.250000</td>\n",
              "      <td>803.442200</td>\n",
              "      <td>710310.0</td>\n",
              "      <td>1</td>\n",
              "    </tr>\n",
              "    <tr>\n",
              "      <th>2</th>\n",
              "      <td>2015-01-05</td>\n",
              "      <td>826.099976</td>\n",
              "      <td>830.700012</td>\n",
              "      <td>824.450012</td>\n",
              "      <td>826.750000</td>\n",
              "      <td>803.928345</td>\n",
              "      <td>792287.0</td>\n",
              "      <td>1</td>\n",
              "    </tr>\n",
              "    <tr>\n",
              "      <th>3</th>\n",
              "      <td>2015-01-06</td>\n",
              "      <td>823.000000</td>\n",
              "      <td>824.599976</td>\n",
              "      <td>803.700012</td>\n",
              "      <td>808.549988</td>\n",
              "      <td>786.230713</td>\n",
              "      <td>1709888.0</td>\n",
              "      <td>1</td>\n",
              "    </tr>\n",
              "    <tr>\n",
              "      <th>4</th>\n",
              "      <td>2015-01-07</td>\n",
              "      <td>809.099976</td>\n",
              "      <td>815.200012</td>\n",
              "      <td>800.000000</td>\n",
              "      <td>809.799988</td>\n",
              "      <td>787.446350</td>\n",
              "      <td>1730518.0</td>\n",
              "      <td>1</td>\n",
              "    </tr>\n",
              "  </tbody>\n",
              "</table>\n",
              "</div>"
            ],
            "text/plain": [
              "        date        open        high  ...   adj_close     volume  month\n",
              "0 2015-01-01  826.500000  830.000000  ...  799.504089   587479.0      1\n",
              "1 2015-01-02  824.000000  830.500000  ...  803.442200   710310.0      1\n",
              "2 2015-01-05  826.099976  830.700012  ...  803.928345   792287.0      1\n",
              "3 2015-01-06  823.000000  824.599976  ...  786.230713  1709888.0      1\n",
              "4 2015-01-07  809.099976  815.200012  ...  787.446350  1730518.0      1\n",
              "\n",
              "[5 rows x 8 columns]"
            ]
          },
          "metadata": {
            "tags": []
          },
          "execution_count": 593
        }
      ]
    },
    {
      "cell_type": "code",
      "metadata": {
        "id": "lhJL7WRcTJbI",
        "colab_type": "code",
        "outputId": "73248bd5-3fdb-4dee-d6dd-2f55e56a504b",
        "colab": {
          "base_uri": "https://localhost:8080/",
          "height": 465
        }
      },
      "source": [
        "# Plot adjusted close over time\n",
        "rcParams['figure.figsize'] = 10, 8 # width 10, height 8\n",
        "\n",
        "ax = df.plot(x='date', y='adj_close', style='b-', grid=True)\n",
        "ax.set_xlabel(\"date\")\n",
        "ax.set_ylabel(\"INR\")\n",
        "fig = ax.get_figure()\n",
        "fig.savefig(\"/content/ouput/AdjClose.pdf\",bbox_inches='tight')"
      ],
      "execution_count": 0,
      "outputs": [
        {
          "output_type": "display_data",
          "data": {
            "image/png": "[encoded data removed]",
            "text/plain": [
              "<Figure size 720x576 with 1 Axes>"
            ]
          },
          "metadata": {
            "tags": [],
            "needs_background": "light"
          }
        }
      ]
    },
    {
      "cell_type": "markdown",
      "metadata": {
        "id": "zCewQS20TJbY",
        "colab_type": "text"
      },
      "source": [
        "# Feature Engineering"
      ]
    },
    {
      "cell_type": "markdown",
      "metadata": {
        "collapsed": true,
        "id": "hKqyUIRgTJba",
        "colab_type": "text"
      },
      "source": [
        "We will generate the following features:\n",
        "* Mean 'adj_close' of each month\n",
        "* Difference between high and low of each day\n",
        "* Difference between open and close of each day\n",
        "* Mean volume of each month"
      ]
    },
    {
      "cell_type": "code",
      "metadata": {
        "scrolled": true,
        "id": "1gsgEeoNTJbc",
        "colab_type": "code",
        "outputId": "568d2c46-fe02-4d60-c5ea-6304dbeef081",
        "colab": {
          "base_uri": "https://localhost:8080/",
          "height": 204
        }
      },
      "source": [
        "# Get difference between high and low of each day\n",
        "df['range_hl'] = df['high'] - df['low']\n",
        "df.drop(['high', 'low'], axis=1, inplace=True)\n",
        "\n",
        "# Get difference between open and close of each day\n",
        "df['range_oc'] = df['open'] - df['close']\n",
        "df.drop(['open', 'close'], axis=1, inplace=True)\n",
        "\n",
        "df.head()"
      ],
      "execution_count": 0,
      "outputs": [
        {
          "output_type": "execute_result",
          "data": {
            "text/html": [
              "<div>\n",
              "<style scoped>\n",
              "    .dataframe tbody tr th:only-of-type {\n",
              "        vertical-align: middle;\n",
              "    }\n",
              "\n",
              "    .dataframe tbody tr th {\n",
              "        vertical-align: top;\n",
              "    }\n",
              "\n",
              "    .dataframe thead th {\n",
              "        text-align: right;\n",
              "    }\n",
              "</style>\n",
              "<table border=\"1\" class=\"dataframe\">\n",
              "  <thead>\n",
              "    <tr style=\"text-align: right;\">\n",
              "      <th></th>\n",
              "      <th>date</th>\n",
              "      <th>adj_close</th>\n",
              "      <th>volume</th>\n",
              "      <th>month</th>\n",
              "      <th>range_hl</th>\n",
              "      <th>range_oc</th>\n",
              "    </tr>\n",
              "  </thead>\n",
              "  <tbody>\n",
              "    <tr>\n",
              "      <th>0</th>\n",
              "      <td>2015-01-01</td>\n",
              "      <td>799.504089</td>\n",
              "      <td>587479.0</td>\n",
              "      <td>1</td>\n",
              "      <td>11.900024</td>\n",
              "      <td>4.299988</td>\n",
              "    </tr>\n",
              "    <tr>\n",
              "      <th>1</th>\n",
              "      <td>2015-01-02</td>\n",
              "      <td>803.442200</td>\n",
              "      <td>710310.0</td>\n",
              "      <td>1</td>\n",
              "      <td>6.500000</td>\n",
              "      <td>-2.250000</td>\n",
              "    </tr>\n",
              "    <tr>\n",
              "      <th>2</th>\n",
              "      <td>2015-01-05</td>\n",
              "      <td>803.928345</td>\n",
              "      <td>792287.0</td>\n",
              "      <td>1</td>\n",
              "      <td>6.250000</td>\n",
              "      <td>-0.650024</td>\n",
              "    </tr>\n",
              "    <tr>\n",
              "      <th>3</th>\n",
              "      <td>2015-01-06</td>\n",
              "      <td>786.230713</td>\n",
              "      <td>1709888.0</td>\n",
              "      <td>1</td>\n",
              "      <td>20.899964</td>\n",
              "      <td>14.450012</td>\n",
              "    </tr>\n",
              "    <tr>\n",
              "      <th>4</th>\n",
              "      <td>2015-01-07</td>\n",
              "      <td>787.446350</td>\n",
              "      <td>1730518.0</td>\n",
              "      <td>1</td>\n",
              "      <td>15.200012</td>\n",
              "      <td>-0.700012</td>\n",
              "    </tr>\n",
              "  </tbody>\n",
              "</table>\n",
              "</div>"
            ],
            "text/plain": [
              "        date   adj_close     volume  month   range_hl   range_oc\n",
              "0 2015-01-01  799.504089   587479.0      1  11.900024   4.299988\n",
              "1 2015-01-02  803.442200   710310.0      1   6.500000  -2.250000\n",
              "2 2015-01-05  803.928345   792287.0      1   6.250000  -0.650024\n",
              "3 2015-01-06  786.230713  1709888.0      1  20.899964  14.450012\n",
              "4 2015-01-07  787.446350  1730518.0      1  15.200012  -0.700012"
            ]
          },
          "metadata": {
            "tags": []
          },
          "execution_count": 595
        }
      ]
    },
    {
      "cell_type": "markdown",
      "metadata": {
        "id": "Ctx1tqqRTJbq",
        "colab_type": "text"
      },
      "source": [
        "Now we use lags up to N number of days to use as features."
      ]
    },
    {
      "cell_type": "code",
      "metadata": {
        "id": "muMFvsMKTJbs",
        "colab_type": "code",
        "outputId": "7a681b57-fbec-4cd3-8c9d-4a42a9ea5940",
        "colab": {
          "base_uri": "https://localhost:8080/",
          "height": 35
        }
      },
      "source": [
        "# Add a column 'order_day' to indicate the order of the rows by date\n",
        "df['order_day'] = [x for x in list(range(len(df)))]\n",
        "\n",
        "# merging_keys\n",
        "merging_keys = ['order_day']\n",
        "\n",
        "# List of columns that we will use to create lags\n",
        "lag_cols = ['adj_close', 'range_hl', 'range_oc', 'volume']\n",
        "lag_cols"
      ],
      "execution_count": 0,
      "outputs": [
        {
          "output_type": "execute_result",
          "data": {
            "text/plain": [
              "['adj_close', 'range_hl', 'range_oc', 'volume']"
            ]
          },
          "metadata": {
            "tags": []
          },
          "execution_count": 596
        }
      ]
    },
    {
      "cell_type": "code",
      "metadata": {
        "id": "Vol_I1T3TJfC",
        "colab_type": "code",
        "outputId": "0d2204cf-422e-4114-a0eb-d1e94818b542",
        "colab": {
          "base_uri": "https://localhost:8080/",
          "height": 413,
          "referenced_widgets": [
            "a67f89c6486143c18261910e4aa62c4b",
            "16b8fe343ee34b5298c4b7be32f4add0",
            "6c40154d9a72428dadf5e67eac45cb26",
            "8367da36ed3f4546989742c2512f6bda",
            "abf917332fc74b0f88c4bc744a600ab8",
            "26e11661490f42e79959676387628eb3",
            "5c97a9c8233f4bd9bc8cc620daa01bf5",
            "43441cfe4ee0482b92a2c5f99208fd43"
          ]
        }
      },
      "source": [
        "shift_range = [x+1 for x in range(N)]\n",
        "\n",
        "for shift in tqdm_notebook(shift_range):\n",
        "    train_shift = df[merging_keys + lag_cols].copy()\n",
        "    \n",
        "    # E.g. order_day of 0 becomes 1, for shift = 1.\n",
        "    # So when this is merged with order_day of 1 in df, this will represent lag of 1.\n",
        "    train_shift['order_day'] = train_shift['order_day'] + shift\n",
        "    \n",
        "    foo = lambda x: '{}_lag_{}'.format(x, shift) if x in lag_cols else x\n",
        "    train_shift = train_shift.rename(columns=foo)\n",
        "\n",
        "    df = pd.merge(df, train_shift, on=merging_keys, how='left') #.fillna(0)\n",
        "    \n",
        "del train_shift\n",
        "\n",
        "# Remove the first N rows which contain NaNs\n",
        "df = df[N:]\n",
        "    \n",
        "df.head()"
      ],
      "execution_count": 0,
      "outputs": [
        {
          "output_type": "stream",
          "text": [
            "/usr/local/lib/python3.6/dist-packages/ipykernel_launcher.py:3: TqdmDeprecationWarning: This function will be removed in tqdm==5.0.0\n",
            "Please use `tqdm.notebook.tqdm` instead of `tqdm.tqdm_notebook`\n",
            "  This is separate from the ipykernel package so we can avoid doing imports until\n"
          ],
          "name": "stderr"
        },
        {
          "output_type": "display_data",
          "data": {
            "application/vnd.jupyter.widget-view+json": {
              "model_id": "a67f89c6486143c18261910e4aa62c4b",
              "version_minor": 0,
              "version_major": 2
            },
            "text/plain": [
              "HBox(children=(IntProgress(value=0, max=3), HTML(value='')))"
            ]
          },
          "metadata": {
            "tags": []
          }
        },
        {
          "output_type": "stream",
          "text": [
            "\n"
          ],
          "name": "stdout"
        },
        {
          "output_type": "execute_result",
          "data": {
            "text/html": [
              "<div>\n",
              "<style scoped>\n",
              "    .dataframe tbody tr th:only-of-type {\n",
              "        vertical-align: middle;\n",
              "    }\n",
              "\n",
              "    .dataframe tbody tr th {\n",
              "        vertical-align: top;\n",
              "    }\n",
              "\n",
              "    .dataframe thead th {\n",
              "        text-align: right;\n",
              "    }\n",
              "</style>\n",
              "<table border=\"1\" class=\"dataframe\">\n",
              "  <thead>\n",
              "    <tr style=\"text-align: right;\">\n",
              "      <th></th>\n",
              "      <th>date</th>\n",
              "      <th>adj_close</th>\n",
              "      <th>volume</th>\n",
              "      <th>month</th>\n",
              "      <th>range_hl</th>\n",
              "      <th>range_oc</th>\n",
              "      <th>order_day</th>\n",
              "      <th>adj_close_lag_1</th>\n",
              "      <th>range_hl_lag_1</th>\n",
              "      <th>range_oc_lag_1</th>\n",
              "      <th>volume_lag_1</th>\n",
              "      <th>adj_close_lag_2</th>\n",
              "      <th>range_hl_lag_2</th>\n",
              "      <th>range_oc_lag_2</th>\n",
              "      <th>volume_lag_2</th>\n",
              "      <th>adj_close_lag_3</th>\n",
              "      <th>range_hl_lag_3</th>\n",
              "      <th>range_oc_lag_3</th>\n",
              "      <th>volume_lag_3</th>\n",
              "    </tr>\n",
              "  </thead>\n",
              "  <tbody>\n",
              "    <tr>\n",
              "      <th>3</th>\n",
              "      <td>2015-01-06</td>\n",
              "      <td>786.230713</td>\n",
              "      <td>1709888.0</td>\n",
              "      <td>1</td>\n",
              "      <td>20.899964</td>\n",
              "      <td>14.450012</td>\n",
              "      <td>3</td>\n",
              "      <td>803.928345</td>\n",
              "      <td>6.250000</td>\n",
              "      <td>-0.650024</td>\n",
              "      <td>792287.0</td>\n",
              "      <td>803.442200</td>\n",
              "      <td>6.500000</td>\n",
              "      <td>-2.250000</td>\n",
              "      <td>710310.0</td>\n",
              "      <td>799.504089</td>\n",
              "      <td>11.900024</td>\n",
              "      <td>4.299988</td>\n",
              "      <td>587479.0</td>\n",
              "    </tr>\n",
              "    <tr>\n",
              "      <th>4</th>\n",
              "      <td>2015-01-07</td>\n",
              "      <td>787.446350</td>\n",
              "      <td>1730518.0</td>\n",
              "      <td>1</td>\n",
              "      <td>15.200012</td>\n",
              "      <td>-0.700012</td>\n",
              "      <td>4</td>\n",
              "      <td>786.230713</td>\n",
              "      <td>20.899964</td>\n",
              "      <td>14.450012</td>\n",
              "      <td>1709888.0</td>\n",
              "      <td>803.928345</td>\n",
              "      <td>6.250000</td>\n",
              "      <td>-0.650024</td>\n",
              "      <td>792287.0</td>\n",
              "      <td>803.442200</td>\n",
              "      <td>6.500000</td>\n",
              "      <td>-2.250000</td>\n",
              "      <td>710310.0</td>\n",
              "    </tr>\n",
              "    <tr>\n",
              "      <th>5</th>\n",
              "      <td>2015-01-08</td>\n",
              "      <td>796.197876</td>\n",
              "      <td>943536.0</td>\n",
              "      <td>1</td>\n",
              "      <td>6.599976</td>\n",
              "      <td>-3.799988</td>\n",
              "      <td>5</td>\n",
              "      <td>787.446350</td>\n",
              "      <td>15.200012</td>\n",
              "      <td>-0.700012</td>\n",
              "      <td>1730518.0</td>\n",
              "      <td>786.230713</td>\n",
              "      <td>20.899964</td>\n",
              "      <td>14.450012</td>\n",
              "      <td>1709888.0</td>\n",
              "      <td>803.928345</td>\n",
              "      <td>6.250000</td>\n",
              "      <td>-0.650024</td>\n",
              "      <td>792287.0</td>\n",
              "    </tr>\n",
              "    <tr>\n",
              "      <th>6</th>\n",
              "      <td>2015-01-09</td>\n",
              "      <td>807.137329</td>\n",
              "      <td>1766875.0</td>\n",
              "      <td>1</td>\n",
              "      <td>16.000000</td>\n",
              "      <td>-10.049988</td>\n",
              "      <td>6</td>\n",
              "      <td>796.197876</td>\n",
              "      <td>6.599976</td>\n",
              "      <td>-3.799988</td>\n",
              "      <td>943536.0</td>\n",
              "      <td>787.446350</td>\n",
              "      <td>15.200012</td>\n",
              "      <td>-0.700012</td>\n",
              "      <td>1730518.0</td>\n",
              "      <td>786.230713</td>\n",
              "      <td>20.899964</td>\n",
              "      <td>14.450012</td>\n",
              "      <td>1709888.0</td>\n",
              "    </tr>\n",
              "    <tr>\n",
              "      <th>7</th>\n",
              "      <td>2015-01-12</td>\n",
              "      <td>812.242371</td>\n",
              "      <td>1188646.0</td>\n",
              "      <td>1</td>\n",
              "      <td>7.150024</td>\n",
              "      <td>-2.849976</td>\n",
              "      <td>7</td>\n",
              "      <td>807.137329</td>\n",
              "      <td>16.000000</td>\n",
              "      <td>-10.049988</td>\n",
              "      <td>1766875.0</td>\n",
              "      <td>796.197876</td>\n",
              "      <td>6.599976</td>\n",
              "      <td>-3.799988</td>\n",
              "      <td>943536.0</td>\n",
              "      <td>787.446350</td>\n",
              "      <td>15.200012</td>\n",
              "      <td>-0.700012</td>\n",
              "      <td>1730518.0</td>\n",
              "    </tr>\n",
              "  </tbody>\n",
              "</table>\n",
              "</div>"
            ],
            "text/plain": [
              "        date   adj_close  ...  range_oc_lag_3  volume_lag_3\n",
              "3 2015-01-06  786.230713  ...        4.299988      587479.0\n",
              "4 2015-01-07  787.446350  ...       -2.250000      710310.0\n",
              "5 2015-01-08  796.197876  ...       -0.650024      792287.0\n",
              "6 2015-01-09  807.137329  ...       14.450012     1709888.0\n",
              "7 2015-01-12  812.242371  ...       -0.700012     1730518.0\n",
              "\n",
              "[5 rows x 19 columns]"
            ]
          },
          "metadata": {
            "tags": []
          },
          "execution_count": 597
        }
      ]
    },
    {
      "cell_type": "code",
      "metadata": {
        "id": "bb9rcI7yTJfP",
        "colab_type": "code",
        "outputId": "a15acb5c-19db-4b1d-a368-51364bfa3d92",
        "colab": {
          "base_uri": "https://localhost:8080/",
          "height": 485
        }
      },
      "source": [
        "df.info()"
      ],
      "execution_count": 0,
      "outputs": [
        {
          "output_type": "stream",
          "text": [
            "<class 'pandas.core.frame.DataFrame'>\n",
            "Int64Index: 1224 entries, 3 to 1226\n",
            "Data columns (total 19 columns):\n",
            " #   Column           Non-Null Count  Dtype         \n",
            "---  ------           --------------  -----         \n",
            " 0   date             1224 non-null   datetime64[ns]\n",
            " 1   adj_close        1224 non-null   float64       \n",
            " 2   volume           1224 non-null   float64       \n",
            " 3   month            1224 non-null   int64         \n",
            " 4   range_hl         1224 non-null   float64       \n",
            " 5   range_oc         1224 non-null   float64       \n",
            " 6   order_day        1224 non-null   int64         \n",
            " 7   adj_close_lag_1  1224 non-null   float64       \n",
            " 8   range_hl_lag_1   1224 non-null   float64       \n",
            " 9   range_oc_lag_1   1224 non-null   float64       \n",
            " 10  volume_lag_1     1224 non-null   float64       \n",
            " 11  adj_close_lag_2  1224 non-null   float64       \n",
            " 12  range_hl_lag_2   1224 non-null   float64       \n",
            " 13  range_oc_lag_2   1224 non-null   float64       \n",
            " 14  volume_lag_2     1224 non-null   float64       \n",
            " 15  adj_close_lag_3  1224 non-null   float64       \n",
            " 16  range_hl_lag_3   1224 non-null   float64       \n",
            " 17  range_oc_lag_3   1224 non-null   float64       \n",
            " 18  volume_lag_3     1224 non-null   float64       \n",
            "dtypes: datetime64[ns](1), float64(16), int64(2)\n",
            "memory usage: 191.2 KB\n"
          ],
          "name": "stdout"
        }
      ]
    },
    {
      "cell_type": "code",
      "metadata": {
        "id": "64WrP3oyTJfV",
        "colab_type": "code",
        "colab": {}
      },
      "source": [
        "# # Get mean of adj_close of each month\n",
        "# df_gb = df.groupby(['month'], as_index=False).agg({'adj_close':'mean'})\n",
        "# df_gb = df_gb.rename(columns={'adj_close':'adj_close_mean'})\n",
        "# df_gb\n",
        "\n",
        "# # Merge to main df\n",
        "# df = df.merge(df_gb, \n",
        "#               left_on=['month'], \n",
        "#               right_on=['month'],\n",
        "#               how='left').fillna(0)\n",
        "\n",
        "# # Merge to main df\n",
        "# shift_range = [x+1 for x in range(2)]\n",
        "\n",
        "# for shift in tqdm_notebook(shift_range):\n",
        "#     train_shift = df[merging_keys + lag_cols].copy()\n",
        "    \n",
        "#     # E.g. order_day of 0 becomes 1, for shift = 1.\n",
        "#     # So when this is merged with order_day of 1 in df, this will represent lag of 1.\n",
        "#     train_shift['order_day'] = train_shift['order_day'] + shift\n",
        "    \n",
        "#     foo = lambda x: '{}_lag_{}'.format(x, shift) if x in lag_cols else x\n",
        "#     train_shift = train_shift.rename(columns=foo)\n",
        "\n",
        "#     df = pd.merge(df, train_shift, on=merging_keys, how='left') #.fillna(0)\n",
        "    \n",
        "# del train_shift\n",
        "    \n",
        "# df"
      ],
      "execution_count": 0,
      "outputs": []
    },
    {
      "cell_type": "code",
      "metadata": {
        "id": "OWFPONc6TJfe",
        "colab_type": "code",
        "colab": {}
      },
      "source": [
        "# # Get mean of volume of each month\n",
        "# df_gb = df.groupby(['month'], as_index=False).agg({'volume':'mean'})\n",
        "# df_gb = df_gb.rename(columns={'volume':'volume_mean'})\n",
        "# df_gb\n",
        "\n",
        "# # Merge to main df\n",
        "# df = df.merge(df_gb, \n",
        "#               left_on=['month'], \n",
        "#               right_on=['month'],\n",
        "#               how='left').fillna(0)\n",
        "\n",
        "# df.head()"
      ],
      "execution_count": 0,
      "outputs": []
    },
    {
      "cell_type": "markdown",
      "metadata": {
        "id": "-dej37btTJfm",
        "colab_type": "text"
      },
      "source": [
        "# Get mean and std dev at timestamp t using values from t-1, ..., t-N"
      ]
    },
    {
      "cell_type": "code",
      "metadata": {
        "id": "s2caW6v9TJfq",
        "colab_type": "code",
        "outputId": "26cc3be2-4e98-485b-d1be-9cd151d0ad2d",
        "colab": {
          "base_uri": "https://localhost:8080/",
          "height": 309
        }
      },
      "source": [
        "cols_list = [\n",
        "\"adj_close\",\n",
        "\"range_hl\",\n",
        "\"range_oc\",\n",
        "\"volume\"\n",
        "]\n",
        "\n",
        "for col in cols_list:\n",
        "    df = get_mov_avg_std(df, col, N)\n",
        "df.head()"
      ],
      "execution_count": 0,
      "outputs": [
        {
          "output_type": "execute_result",
          "data": {
            "text/html": [
              "<div>\n",
              "<style scoped>\n",
              "    .dataframe tbody tr th:only-of-type {\n",
              "        vertical-align: middle;\n",
              "    }\n",
              "\n",
              "    .dataframe tbody tr th {\n",
              "        vertical-align: top;\n",
              "    }\n",
              "\n",
              "    .dataframe thead th {\n",
              "        text-align: right;\n",
              "    }\n",
              "</style>\n",
              "<table border=\"1\" class=\"dataframe\">\n",
              "  <thead>\n",
              "    <tr style=\"text-align: right;\">\n",
              "      <th></th>\n",
              "      <th>date</th>\n",
              "      <th>adj_close</th>\n",
              "      <th>volume</th>\n",
              "      <th>month</th>\n",
              "      <th>range_hl</th>\n",
              "      <th>range_oc</th>\n",
              "      <th>order_day</th>\n",
              "      <th>adj_close_lag_1</th>\n",
              "      <th>range_hl_lag_1</th>\n",
              "      <th>range_oc_lag_1</th>\n",
              "      <th>volume_lag_1</th>\n",
              "      <th>adj_close_lag_2</th>\n",
              "      <th>range_hl_lag_2</th>\n",
              "      <th>range_oc_lag_2</th>\n",
              "      <th>volume_lag_2</th>\n",
              "      <th>adj_close_lag_3</th>\n",
              "      <th>range_hl_lag_3</th>\n",
              "      <th>range_oc_lag_3</th>\n",
              "      <th>volume_lag_3</th>\n",
              "      <th>adj_close_mean</th>\n",
              "      <th>adj_close_std</th>\n",
              "      <th>range_hl_mean</th>\n",
              "      <th>range_hl_std</th>\n",
              "      <th>range_oc_mean</th>\n",
              "      <th>range_oc_std</th>\n",
              "      <th>volume_mean</th>\n",
              "      <th>volume_std</th>\n",
              "    </tr>\n",
              "  </thead>\n",
              "  <tbody>\n",
              "    <tr>\n",
              "      <th>3</th>\n",
              "      <td>2015-01-06</td>\n",
              "      <td>786.230713</td>\n",
              "      <td>1709888.0</td>\n",
              "      <td>1</td>\n",
              "      <td>20.899964</td>\n",
              "      <td>14.450012</td>\n",
              "      <td>3</td>\n",
              "      <td>803.928345</td>\n",
              "      <td>6.250000</td>\n",
              "      <td>-0.650024</td>\n",
              "      <td>792287.0</td>\n",
              "      <td>803.442200</td>\n",
              "      <td>6.500000</td>\n",
              "      <td>-2.250000</td>\n",
              "      <td>710310.0</td>\n",
              "      <td>799.504089</td>\n",
              "      <td>11.900024</td>\n",
              "      <td>4.299988</td>\n",
              "      <td>587479.0</td>\n",
              "      <td>NaN</td>\n",
              "      <td>NaN</td>\n",
              "      <td>NaN</td>\n",
              "      <td>NaN</td>\n",
              "      <td>NaN</td>\n",
              "      <td>NaN</td>\n",
              "      <td>NaN</td>\n",
              "      <td>NaN</td>\n",
              "    </tr>\n",
              "    <tr>\n",
              "      <th>4</th>\n",
              "      <td>2015-01-07</td>\n",
              "      <td>787.446350</td>\n",
              "      <td>1730518.0</td>\n",
              "      <td>1</td>\n",
              "      <td>15.200012</td>\n",
              "      <td>-0.700012</td>\n",
              "      <td>4</td>\n",
              "      <td>786.230713</td>\n",
              "      <td>20.899964</td>\n",
              "      <td>14.450012</td>\n",
              "      <td>1709888.0</td>\n",
              "      <td>803.928345</td>\n",
              "      <td>6.250000</td>\n",
              "      <td>-0.650024</td>\n",
              "      <td>792287.0</td>\n",
              "      <td>803.442200</td>\n",
              "      <td>6.500000</td>\n",
              "      <td>-2.250000</td>\n",
              "      <td>710310.0</td>\n",
              "      <td>786.230713</td>\n",
              "      <td>NaN</td>\n",
              "      <td>20.899964</td>\n",
              "      <td>NaN</td>\n",
              "      <td>14.450012</td>\n",
              "      <td>NaN</td>\n",
              "      <td>1.709888e+06</td>\n",
              "      <td>NaN</td>\n",
              "    </tr>\n",
              "    <tr>\n",
              "      <th>5</th>\n",
              "      <td>2015-01-08</td>\n",
              "      <td>796.197876</td>\n",
              "      <td>943536.0</td>\n",
              "      <td>1</td>\n",
              "      <td>6.599976</td>\n",
              "      <td>-3.799988</td>\n",
              "      <td>5</td>\n",
              "      <td>787.446350</td>\n",
              "      <td>15.200012</td>\n",
              "      <td>-0.700012</td>\n",
              "      <td>1730518.0</td>\n",
              "      <td>786.230713</td>\n",
              "      <td>20.899964</td>\n",
              "      <td>14.450012</td>\n",
              "      <td>1709888.0</td>\n",
              "      <td>803.928345</td>\n",
              "      <td>6.250000</td>\n",
              "      <td>-0.650024</td>\n",
              "      <td>792287.0</td>\n",
              "      <td>786.838532</td>\n",
              "      <td>0.859585</td>\n",
              "      <td>18.049988</td>\n",
              "      <td>4.030475</td>\n",
              "      <td>6.875000</td>\n",
              "      <td>10.712685</td>\n",
              "      <td>1.720203e+06</td>\n",
              "      <td>14587.612896</td>\n",
              "    </tr>\n",
              "    <tr>\n",
              "      <th>6</th>\n",
              "      <td>2015-01-09</td>\n",
              "      <td>807.137329</td>\n",
              "      <td>1766875.0</td>\n",
              "      <td>1</td>\n",
              "      <td>16.000000</td>\n",
              "      <td>-10.049988</td>\n",
              "      <td>6</td>\n",
              "      <td>796.197876</td>\n",
              "      <td>6.599976</td>\n",
              "      <td>-3.799988</td>\n",
              "      <td>943536.0</td>\n",
              "      <td>787.446350</td>\n",
              "      <td>15.200012</td>\n",
              "      <td>-0.700012</td>\n",
              "      <td>1730518.0</td>\n",
              "      <td>786.230713</td>\n",
              "      <td>20.899964</td>\n",
              "      <td>14.450012</td>\n",
              "      <td>1709888.0</td>\n",
              "      <td>789.958313</td>\n",
              "      <td>5.437697</td>\n",
              "      <td>14.233317</td>\n",
              "      <td>7.198839</td>\n",
              "      <td>3.316671</td>\n",
              "      <td>9.765548</td>\n",
              "      <td>1.461314e+06</td>\n",
              "      <td>448527.526678</td>\n",
              "    </tr>\n",
              "    <tr>\n",
              "      <th>7</th>\n",
              "      <td>2015-01-12</td>\n",
              "      <td>812.242371</td>\n",
              "      <td>1188646.0</td>\n",
              "      <td>1</td>\n",
              "      <td>7.150024</td>\n",
              "      <td>-2.849976</td>\n",
              "      <td>7</td>\n",
              "      <td>807.137329</td>\n",
              "      <td>16.000000</td>\n",
              "      <td>-10.049988</td>\n",
              "      <td>1766875.0</td>\n",
              "      <td>796.197876</td>\n",
              "      <td>6.599976</td>\n",
              "      <td>-3.799988</td>\n",
              "      <td>943536.0</td>\n",
              "      <td>787.446350</td>\n",
              "      <td>15.200012</td>\n",
              "      <td>-0.700012</td>\n",
              "      <td>1730518.0</td>\n",
              "      <td>796.927185</td>\n",
              "      <td>9.865728</td>\n",
              "      <td>12.599996</td>\n",
              "      <td>5.211542</td>\n",
              "      <td>-4.849996</td>\n",
              "      <td>4.762604</td>\n",
              "      <td>1.480310e+06</td>\n",
              "      <td>465214.933963</td>\n",
              "    </tr>\n",
              "  </tbody>\n",
              "</table>\n",
              "</div>"
            ],
            "text/plain": [
              "        date   adj_close     volume  ...  range_oc_std   volume_mean     volume_std\n",
              "3 2015-01-06  786.230713  1709888.0  ...           NaN           NaN            NaN\n",
              "4 2015-01-07  787.446350  1730518.0  ...           NaN  1.709888e+06            NaN\n",
              "5 2015-01-08  796.197876   943536.0  ...     10.712685  1.720203e+06   14587.612896\n",
              "6 2015-01-09  807.137329  1766875.0  ...      9.765548  1.461314e+06  448527.526678\n",
              "7 2015-01-12  812.242371  1188646.0  ...      4.762604  1.480310e+06  465214.933963\n",
              "\n",
              "[5 rows x 27 columns]"
            ]
          },
          "metadata": {
            "tags": []
          },
          "execution_count": 601
        }
      ]
    },
    {
      "cell_type": "markdown",
      "metadata": {
        "id": "rt8i0amlTJf0",
        "colab_type": "text"
      },
      "source": [
        "# Split into train, dev and test set"
      ]
    },
    {
      "cell_type": "code",
      "metadata": {
        "id": "NjJDj1FVTJf2",
        "colab_type": "code",
        "outputId": "6187b7f9-45a2-46f3-fcb9-4bd98d407dcc",
        "colab": {
          "base_uri": "https://localhost:8080/",
          "height": 143
        }
      },
      "source": [
        "# Get sizes of each of the datasets\n",
        "num_cv = int(cv_size*len(df))\n",
        "num_test = int(test_size*len(df))\n",
        "num_train = len(df) - num_cv - num_test\n",
        "print(\"num_train = \" + str(num_train))\n",
        "print(\"num_cv = \" + str(num_cv))\n",
        "print(\"num_test = \" + str(num_test))\n",
        "\n",
        "# Split into train, cv, and test\n",
        "train = df[:num_train]\n",
        "cv = df[num_train:num_train+num_cv]\n",
        "train_cv = df[:num_train+num_cv]\n",
        "test = df[num_train+num_cv:]\n",
        "print(\"train.shape = \" + str(train.shape))\n",
        "print(\"cv.shape = \" + str(cv.shape))\n",
        "print(\"train_cv.shape = \" + str(train_cv.shape))\n",
        "print(\"test.shape = \" + str(test.shape))"
      ],
      "execution_count": 0,
      "outputs": [
        {
          "output_type": "stream",
          "text": [
            "num_train = 736\n",
            "num_cv = 244\n",
            "num_test = 244\n",
            "train.shape = (736, 27)\n",
            "cv.shape = (244, 27)\n",
            "train_cv.shape = (980, 27)\n",
            "test.shape = (244, 27)\n"
          ],
          "name": "stdout"
        }
      ]
    },
    {
      "cell_type": "markdown",
      "metadata": {
        "id": "YdXIZQqKTJgB",
        "colab_type": "text"
      },
      "source": [
        "# Scale the train, dev and test set"
      ]
    },
    {
      "cell_type": "code",
      "metadata": {
        "id": "V4SedQkoTJgC",
        "colab_type": "code",
        "outputId": "78c1f763-722b-4f86-be79-2cd90ff0cf9e",
        "colab": {
          "base_uri": "https://localhost:8080/",
          "height": 489
        }
      },
      "source": [
        "cols_to_scale = [\n",
        "\"adj_close\"\n",
        "]\n",
        "\n",
        "for i in range(1,N+1):\n",
        "    cols_to_scale.append(\"adj_close_lag_\"+str(i))\n",
        "    cols_to_scale.append(\"range_hl_lag_\"+str(i))\n",
        "    cols_to_scale.append(\"range_oc_lag_\"+str(i))\n",
        "    cols_to_scale.append(\"volume_lag_\"+str(i))\n",
        "\n",
        "# Do scaling for train set\n",
        "# Here we only scale the train dataset, and not the entire dataset to prevent information leak\n",
        "scaler = StandardScaler()\n",
        "train_scaled = scaler.fit_transform(train[cols_to_scale])\n",
        "print(\"scaler.mean_ = \" + str(scaler.mean_))\n",
        "print(\"scaler.var_ = \" + str(scaler.var_))\n",
        "print(\"train_scaled.shape = \" + str(train_scaled.shape))\n",
        "\n",
        "# Convert the numpy array back into pandas dataframe\n",
        "train_scaled = pd.DataFrame(train_scaled, columns=cols_to_scale)\n",
        "train_scaled[['date', 'month']] = train.reset_index()[['date', 'month']]\n",
        "print(\"train_scaled.shape = \" + str(train_scaled.shape))\n",
        "train_scaled.head()"
      ],
      "execution_count": 0,
      "outputs": [
        {
          "output_type": "stream",
          "text": [
            "scaler.mean_ = [7.29444759e+02 7.29777546e+02 1.94376407e+01 2.04544802e+00\n",
            " 4.20264448e+06 7.30099116e+02 1.93939586e+01 2.08654856e+00\n",
            " 4.17187539e+06 7.30462103e+02 1.93892032e+01 2.10747242e+00\n",
            " 4.16607197e+06]\n",
            "scaler.var_ = [2.06936684e+04 2.06616222e+04 1.35959330e+02 1.74228910e+02\n",
            " 1.03458138e+14 2.06327877e+04 1.35683328e+02 1.72630838e+02\n",
            " 1.02975304e+14 2.05860671e+04 1.35737935e+02 1.72400801e+02\n",
            " 1.02992086e+14]\n",
            "train_scaled.shape = (736, 13)\n",
            "train_scaled.shape = (736, 15)\n"
          ],
          "name": "stdout"
        },
        {
          "output_type": "execute_result",
          "data": {
            "text/html": [
              "<div>\n",
              "<style scoped>\n",
              "    .dataframe tbody tr th:only-of-type {\n",
              "        vertical-align: middle;\n",
              "    }\n",
              "\n",
              "    .dataframe tbody tr th {\n",
              "        vertical-align: top;\n",
              "    }\n",
              "\n",
              "    .dataframe thead th {\n",
              "        text-align: right;\n",
              "    }\n",
              "</style>\n",
              "<table border=\"1\" class=\"dataframe\">\n",
              "  <thead>\n",
              "    <tr style=\"text-align: right;\">\n",
              "      <th></th>\n",
              "      <th>adj_close</th>\n",
              "      <th>adj_close_lag_1</th>\n",
              "      <th>range_hl_lag_1</th>\n",
              "      <th>range_oc_lag_1</th>\n",
              "      <th>volume_lag_1</th>\n",
              "      <th>adj_close_lag_2</th>\n",
              "      <th>range_hl_lag_2</th>\n",
              "      <th>range_oc_lag_2</th>\n",
              "      <th>volume_lag_2</th>\n",
              "      <th>adj_close_lag_3</th>\n",
              "      <th>range_hl_lag_3</th>\n",
              "      <th>range_oc_lag_3</th>\n",
              "      <th>volume_lag_3</th>\n",
              "      <th>date</th>\n",
              "      <th>month</th>\n",
              "    </tr>\n",
              "  </thead>\n",
              "  <tbody>\n",
              "    <tr>\n",
              "      <th>0</th>\n",
              "      <td>0.394750</td>\n",
              "      <td>0.515862</td>\n",
              "      <td>-1.131000</td>\n",
              "      <td>-0.204209</td>\n",
              "      <td>-0.335288</td>\n",
              "      <td>0.510599</td>\n",
              "      <td>-1.106937</td>\n",
              "      <td>-0.330054</td>\n",
              "      <td>-0.341119</td>\n",
              "      <td>0.481201</td>\n",
              "      <td>-0.642811</td>\n",
              "      <td>0.166983</td>\n",
              "      <td>-0.352623</td>\n",
              "      <td>2015-01-06</td>\n",
              "      <td>1</td>\n",
              "    </tr>\n",
              "    <tr>\n",
              "      <th>1</th>\n",
              "      <td>0.403201</td>\n",
              "      <td>0.392741</td>\n",
              "      <td>0.125412</td>\n",
              "      <td>0.939770</td>\n",
              "      <td>-0.245074</td>\n",
              "      <td>0.513984</td>\n",
              "      <td>-1.128400</td>\n",
              "      <td>-0.208280</td>\n",
              "      <td>-0.333041</td>\n",
              "      <td>0.508648</td>\n",
              "      <td>-1.106306</td>\n",
              "      <td>-0.331868</td>\n",
              "      <td>-0.340519</td>\n",
              "      <td>2015-01-07</td>\n",
              "      <td>1</td>\n",
              "    </tr>\n",
              "    <tr>\n",
              "      <th>2</th>\n",
              "      <td>0.464037</td>\n",
              "      <td>0.401198</td>\n",
              "      <td>-0.363428</td>\n",
              "      <td>-0.207996</td>\n",
              "      <td>-0.243046</td>\n",
              "      <td>0.390777</td>\n",
              "      <td>0.129290</td>\n",
              "      <td>0.940981</td>\n",
              "      <td>-0.242616</td>\n",
              "      <td>0.512037</td>\n",
              "      <td>-1.127764</td>\n",
              "      <td>-0.210013</td>\n",
              "      <td>-0.332442</td>\n",
              "      <td>2015-01-08</td>\n",
              "      <td>1</td>\n",
              "    </tr>\n",
              "    <tr>\n",
              "      <th>3</th>\n",
              "      <td>0.540083</td>\n",
              "      <td>0.462082</td>\n",
              "      <td>-1.100985</td>\n",
              "      <td>-0.442850</td>\n",
              "      <td>-0.320418</td>\n",
              "      <td>0.399240</td>\n",
              "      <td>-0.360047</td>\n",
              "      <td>-0.212085</td>\n",
              "      <td>-0.240583</td>\n",
              "      <td>0.388690</td>\n",
              "      <td>0.129672</td>\n",
              "      <td>0.940015</td>\n",
              "      <td>-0.242024</td>\n",
              "      <td>2015-01-09</td>\n",
              "      <td>1</td>\n",
              "    </tr>\n",
              "    <tr>\n",
              "      <th>4</th>\n",
              "      <td>0.575571</td>\n",
              "      <td>0.538187</td>\n",
              "      <td>-0.294819</td>\n",
              "      <td>-0.916350</td>\n",
              "      <td>-0.239472</td>\n",
              "      <td>0.460166</td>\n",
              "      <td>-1.098354</td>\n",
              "      <td>-0.448023</td>\n",
              "      <td>-0.318136</td>\n",
              "      <td>0.397162</td>\n",
              "      <td>-0.359567</td>\n",
              "      <td>-0.213820</td>\n",
              "      <td>-0.239991</td>\n",
              "      <td>2015-01-12</td>\n",
              "      <td>1</td>\n",
              "    </tr>\n",
              "  </tbody>\n",
              "</table>\n",
              "</div>"
            ],
            "text/plain": [
              "   adj_close  adj_close_lag_1  range_hl_lag_1  ...  volume_lag_3       date  month\n",
              "0   0.394750         0.515862       -1.131000  ...     -0.352623 2015-01-06      1\n",
              "1   0.403201         0.392741        0.125412  ...     -0.340519 2015-01-07      1\n",
              "2   0.464037         0.401198       -0.363428  ...     -0.332442 2015-01-08      1\n",
              "3   0.540083         0.462082       -1.100985  ...     -0.242024 2015-01-09      1\n",
              "4   0.575571         0.538187       -0.294819  ...     -0.239991 2015-01-12      1\n",
              "\n",
              "[5 rows x 15 columns]"
            ]
          },
          "metadata": {
            "tags": []
          },
          "execution_count": 603
        }
      ]
    },
    {
      "cell_type": "code",
      "metadata": {
        "id": "u75ROYyHTJgN",
        "colab_type": "code",
        "outputId": "690ded3b-f3ec-408e-98a8-9de17f4ff9d7",
        "colab": {
          "base_uri": "https://localhost:8080/",
          "height": 489
        }
      },
      "source": [
        "# Do scaling for train+dev set\n",
        "scaler_train_cv = StandardScaler()\n",
        "train_cv_scaled = scaler_train_cv.fit_transform(train_cv[cols_to_scale])\n",
        "print(\"scaler_train_cv.mean_ = \" + str(scaler_train_cv.mean_))\n",
        "print(\"scaler_train_cv.var_ = \" + str(scaler_train_cv.var_))\n",
        "print(\"train_cv_scaled.shape = \" + str(train_cv_scaled.shape))\n",
        "\n",
        "# Convert the numpy array back into pandas dataframe\n",
        "train_cv_scaled = pd.DataFrame(train_cv_scaled, columns=cols_to_scale)\n",
        "train_cv_scaled[['date', 'month']] = train_cv.reset_index()[['date', 'month']]\n",
        "print(\"train_cv_scaled.shape = \" + str(train_cv_scaled.shape))\n",
        "train_cv_scaled.head()"
      ],
      "execution_count": 0,
      "outputs": [
        {
          "output_type": "stream",
          "text": [
            "scaler_train_cv.mean_ = [6.82041754e+02 6.82445728e+02 1.89139842e+01 1.88382646e+00\n",
            " 5.04014642e+06 6.82838436e+02 1.89086781e+01 1.87877546e+00\n",
            " 5.03367471e+06 6.83226169e+02 1.89106169e+01 1.87887748e+00\n",
            " 5.02680965e+06]\n",
            "scaler_train_cv.var_ = [2.31285745e+04 2.30669583e+04 1.19730999e+02 1.64540322e+02\n",
            " 9.53698311e+13 2.30107017e+04 1.19835119e+02 1.64557054e+02\n",
            " 9.53847867e+13 2.29536915e+04 1.19804255e+02 1.64557538e+02\n",
            " 9.53995999e+13]\n",
            "train_cv_scaled.shape = (980, 13)\n",
            "train_cv_scaled.shape = (980, 15)\n"
          ],
          "name": "stdout"
        },
        {
          "output_type": "execute_result",
          "data": {
            "text/html": [
              "<div>\n",
              "<style scoped>\n",
              "    .dataframe tbody tr th:only-of-type {\n",
              "        vertical-align: middle;\n",
              "    }\n",
              "\n",
              "    .dataframe tbody tr th {\n",
              "        vertical-align: top;\n",
              "    }\n",
              "\n",
              "    .dataframe thead th {\n",
              "        text-align: right;\n",
              "    }\n",
              "</style>\n",
              "<table border=\"1\" class=\"dataframe\">\n",
              "  <thead>\n",
              "    <tr style=\"text-align: right;\">\n",
              "      <th></th>\n",
              "      <th>adj_close</th>\n",
              "      <th>adj_close_lag_1</th>\n",
              "      <th>range_hl_lag_1</th>\n",
              "      <th>range_oc_lag_1</th>\n",
              "      <th>volume_lag_1</th>\n",
              "      <th>adj_close_lag_2</th>\n",
              "      <th>range_hl_lag_2</th>\n",
              "      <th>range_oc_lag_2</th>\n",
              "      <th>volume_lag_2</th>\n",
              "      <th>adj_close_lag_3</th>\n",
              "      <th>range_hl_lag_3</th>\n",
              "      <th>range_oc_lag_3</th>\n",
              "      <th>volume_lag_3</th>\n",
              "      <th>date</th>\n",
              "      <th>month</th>\n",
              "    </tr>\n",
              "  </thead>\n",
              "  <tbody>\n",
              "    <tr>\n",
              "      <th>0</th>\n",
              "      <td>0.685089</td>\n",
              "      <td>0.799869</td>\n",
              "      <td>-1.157356</td>\n",
              "      <td>-0.197535</td>\n",
              "      <td>-0.434975</td>\n",
              "      <td>0.795053</td>\n",
              "      <td>-1.133531</td>\n",
              "      <td>-0.321857</td>\n",
              "      <td>-0.442672</td>\n",
              "      <td>0.767487</td>\n",
              "      <td>-0.640499</td>\n",
              "      <td>0.188736</td>\n",
              "      <td>-0.454511</td>\n",
              "      <td>2015-01-06</td>\n",
              "      <td>1</td>\n",
              "    </tr>\n",
              "    <tr>\n",
              "      <th>1</th>\n",
              "      <td>0.693083</td>\n",
              "      <td>0.683344</td>\n",
              "      <td>0.181498</td>\n",
              "      <td>0.979642</td>\n",
              "      <td>-0.341014</td>\n",
              "      <td>0.798258</td>\n",
              "      <td>-1.156369</td>\n",
              "      <td>-0.197132</td>\n",
              "      <td>-0.434279</td>\n",
              "      <td>0.793480</td>\n",
              "      <td>-1.133854</td>\n",
              "      <td>-0.321865</td>\n",
              "      <td>-0.441935</td>\n",
              "      <td>2015-01-07</td>\n",
              "      <td>1</td>\n",
              "    </tr>\n",
              "    <tr>\n",
              "      <th>2</th>\n",
              "      <td>0.750628</td>\n",
              "      <td>0.691348</td>\n",
              "      <td>-0.339418</td>\n",
              "      <td>-0.201432</td>\n",
              "      <td>-0.338902</td>\n",
              "      <td>0.681590</td>\n",
              "      <td>0.181904</td>\n",
              "      <td>0.979986</td>\n",
              "      <td>-0.340325</td>\n",
              "      <td>0.796689</td>\n",
              "      <td>-1.156695</td>\n",
              "      <td>-0.197139</td>\n",
              "      <td>-0.433542</td>\n",
              "      <td>2015-01-08</td>\n",
              "      <td>1</td>\n",
              "    </tr>\n",
              "    <tr>\n",
              "      <th>3</th>\n",
              "      <td>0.822560</td>\n",
              "      <td>0.748970</td>\n",
              "      <td>-1.125372</td>\n",
              "      <td>-0.443102</td>\n",
              "      <td>-0.419488</td>\n",
              "      <td>0.689604</td>\n",
              "      <td>-0.338786</td>\n",
              "      <td>-0.201028</td>\n",
              "      <td>-0.338212</td>\n",
              "      <td>0.679877</td>\n",
              "      <td>0.181750</td>\n",
              "      <td>0.979976</td>\n",
              "      <td>-0.339596</td>\n",
              "      <td>2015-01-09</td>\n",
              "      <td>1</td>\n",
              "    </tr>\n",
              "    <tr>\n",
              "      <th>4</th>\n",
              "      <td>0.856128</td>\n",
              "      <td>0.820998</td>\n",
              "      <td>-0.266308</td>\n",
              "      <td>-0.930343</td>\n",
              "      <td>-0.335179</td>\n",
              "      <td>0.747296</td>\n",
              "      <td>-1.124398</td>\n",
              "      <td>-0.442686</td>\n",
              "      <td>-0.418792</td>\n",
              "      <td>0.687900</td>\n",
              "      <td>-0.339007</td>\n",
              "      <td>-0.201036</td>\n",
              "      <td>-0.337483</td>\n",
              "      <td>2015-01-12</td>\n",
              "      <td>1</td>\n",
              "    </tr>\n",
              "  </tbody>\n",
              "</table>\n",
              "</div>"
            ],
            "text/plain": [
              "   adj_close  adj_close_lag_1  range_hl_lag_1  ...  volume_lag_3       date  month\n",
              "0   0.685089         0.799869       -1.157356  ...     -0.454511 2015-01-06      1\n",
              "1   0.693083         0.683344        0.181498  ...     -0.441935 2015-01-07      1\n",
              "2   0.750628         0.691348       -0.339418  ...     -0.433542 2015-01-08      1\n",
              "3   0.822560         0.748970       -1.125372  ...     -0.339596 2015-01-09      1\n",
              "4   0.856128         0.820998       -0.266308  ...     -0.337483 2015-01-12      1\n",
              "\n",
              "[5 rows x 15 columns]"
            ]
          },
          "metadata": {
            "tags": []
          },
          "execution_count": 604
        }
      ]
    },
    {
      "cell_type": "code",
      "metadata": {
        "scrolled": true,
        "id": "knh0Y_v0TJgX",
        "colab_type": "code",
        "outputId": "b0ed1007-020f-440b-db54-46246e709a59",
        "colab": {
          "base_uri": "https://localhost:8080/",
          "height": 413,
          "referenced_widgets": [
            "c22e144d53914c53bafb900366d6b23d",
            "da1ca9fc9d3e4bb7b39ea7fe10700a4e",
            "d2545d05729b4944986a956c1a5f5673",
            "76840e6654544f1896df1e40b8612b25",
            "d84494c5a8914c10a476b8baeec7c105",
            "c6f9c318a2e04491ae3e4ac056918b63",
            "42fb01ce3c1840a7a3f211968237f8ce",
            "34dc641e999d45b6a4edac2368df0463"
          ]
        }
      },
      "source": [
        "# Do scaling for dev set\n",
        "cv_scaled = cv[['date']]\n",
        "for col in tqdm_notebook(cols_list):\n",
        "    feat_list = [col + '_lag_' + str(shift) for shift in range(1, N+1)]\n",
        "    temp = cv.apply(lambda row: scale_row(row[feat_list], row[col+'_mean'], row[col+'_std']), axis=1)\n",
        "    cv_scaled = pd.concat([cv_scaled, temp], axis=1)\n",
        "    \n",
        "# Now the entire dev set is scaled\n",
        "cv_scaled.head()"
      ],
      "execution_count": 0,
      "outputs": [
        {
          "output_type": "stream",
          "text": [
            "/usr/local/lib/python3.6/dist-packages/ipykernel_launcher.py:2: TqdmDeprecationWarning: This function will be removed in tqdm==5.0.0\n",
            "Please use `tqdm.notebook.tqdm` instead of `tqdm.tqdm_notebook`\n",
            "  \n"
          ],
          "name": "stderr"
        },
        {
          "output_type": "display_data",
          "data": {
            "application/vnd.jupyter.widget-view+json": {
              "model_id": "c22e144d53914c53bafb900366d6b23d",
              "version_minor": 0,
              "version_major": 2
            },
            "text/plain": [
              "HBox(children=(IntProgress(value=0, max=4), HTML(value='')))"
            ]
          },
          "metadata": {
            "tags": []
          }
        },
        {
          "output_type": "stream",
          "text": [
            "\n"
          ],
          "name": "stdout"
        },
        {
          "output_type": "execute_result",
          "data": {
            "text/html": [
              "<div>\n",
              "<style scoped>\n",
              "    .dataframe tbody tr th:only-of-type {\n",
              "        vertical-align: middle;\n",
              "    }\n",
              "\n",
              "    .dataframe tbody tr th {\n",
              "        vertical-align: top;\n",
              "    }\n",
              "\n",
              "    .dataframe thead th {\n",
              "        text-align: right;\n",
              "    }\n",
              "</style>\n",
              "<table border=\"1\" class=\"dataframe\">\n",
              "  <thead>\n",
              "    <tr style=\"text-align: right;\">\n",
              "      <th></th>\n",
              "      <th>date</th>\n",
              "      <th>adj_close_lag_1</th>\n",
              "      <th>adj_close_lag_2</th>\n",
              "      <th>adj_close_lag_3</th>\n",
              "      <th>range_hl_lag_1</th>\n",
              "      <th>range_hl_lag_2</th>\n",
              "      <th>range_hl_lag_3</th>\n",
              "      <th>range_oc_lag_1</th>\n",
              "      <th>range_oc_lag_2</th>\n",
              "      <th>range_oc_lag_3</th>\n",
              "      <th>volume_lag_1</th>\n",
              "      <th>volume_lag_2</th>\n",
              "      <th>volume_lag_3</th>\n",
              "    </tr>\n",
              "  </thead>\n",
              "  <tbody>\n",
              "    <tr>\n",
              "      <th>739</th>\n",
              "      <td>2017-12-29</td>\n",
              "      <td>0.348647</td>\n",
              "      <td>0.779004</td>\n",
              "      <td>-1.127651</td>\n",
              "      <td>-0.415946</td>\n",
              "      <td>1.140841</td>\n",
              "      <td>-0.724894</td>\n",
              "      <td>1.011443</td>\n",
              "      <td>-0.988150</td>\n",
              "      <td>-0.023294</td>\n",
              "      <td>-0.215604</td>\n",
              "      <td>1.090216</td>\n",
              "      <td>-0.874611</td>\n",
              "    </tr>\n",
              "    <tr>\n",
              "      <th>740</th>\n",
              "      <td>2018-01-01</td>\n",
              "      <td>-0.199481</td>\n",
              "      <td>-0.885224</td>\n",
              "      <td>1.084705</td>\n",
              "      <td>-0.847382</td>\n",
              "      <td>-0.255615</td>\n",
              "      <td>1.102998</td>\n",
              "      <td>0.341079</td>\n",
              "      <td>0.784840</td>\n",
              "      <td>-1.125918</td>\n",
              "      <td>-0.864150</td>\n",
              "      <td>-0.231200</td>\n",
              "      <td>1.095350</td>\n",
              "    </tr>\n",
              "    <tr>\n",
              "      <th>741</th>\n",
              "      <td>2018-01-02</td>\n",
              "      <td>1.008728</td>\n",
              "      <td>-0.017690</td>\n",
              "      <td>-0.991038</td>\n",
              "      <td>-0.137086</td>\n",
              "      <td>-0.924385</td>\n",
              "      <td>1.061471</td>\n",
              "      <td>-0.831185</td>\n",
              "      <td>-0.278561</td>\n",
              "      <td>1.109746</td>\n",
              "      <td>-0.559829</td>\n",
              "      <td>-0.594696</td>\n",
              "      <td>1.154525</td>\n",
              "    </tr>\n",
              "    <tr>\n",
              "      <th>742</th>\n",
              "      <td>2018-01-03</td>\n",
              "      <td>-0.203647</td>\n",
              "      <td>1.086148</td>\n",
              "      <td>-0.882502</td>\n",
              "      <td>0.722095</td>\n",
              "      <td>0.419295</td>\n",
              "      <td>-1.141390</td>\n",
              "      <td>0.962092</td>\n",
              "      <td>-1.034024</td>\n",
              "      <td>0.071931</td>\n",
              "      <td>-1.151762</td>\n",
              "      <td>0.647178</td>\n",
              "      <td>0.504584</td>\n",
              "    </tr>\n",
              "    <tr>\n",
              "      <th>743</th>\n",
              "      <td>2018-01-04</td>\n",
              "      <td>-1.069786</td>\n",
              "      <td>0.158503</td>\n",
              "      <td>0.911282</td>\n",
              "      <td>-1.127036</td>\n",
              "      <td>0.781102</td>\n",
              "      <td>0.345933</td>\n",
              "      <td>0.692230</td>\n",
              "      <td>0.454269</td>\n",
              "      <td>-1.146498</td>\n",
              "      <td>-1.018748</td>\n",
              "      <td>0.038615</td>\n",
              "      <td>0.980133</td>\n",
              "    </tr>\n",
              "  </tbody>\n",
              "</table>\n",
              "</div>"
            ],
            "text/plain": [
              "          date  adj_close_lag_1  ...  volume_lag_2  volume_lag_3\n",
              "739 2017-12-29         0.348647  ...      1.090216     -0.874611\n",
              "740 2018-01-01        -0.199481  ...     -0.231200      1.095350\n",
              "741 2018-01-02         1.008728  ...     -0.594696      1.154525\n",
              "742 2018-01-03        -0.203647  ...      0.647178      0.504584\n",
              "743 2018-01-04        -1.069786  ...      0.038615      0.980133\n",
              "\n",
              "[5 rows x 13 columns]"
            ]
          },
          "metadata": {
            "tags": []
          },
          "execution_count": 605
        }
      ]
    },
    {
      "cell_type": "code",
      "metadata": {
        "id": "S_6g4nzXTJgj",
        "colab_type": "code",
        "outputId": "5e501c4a-ab67-478a-e7f5-de0f30c47578",
        "colab": {
          "base_uri": "https://localhost:8080/",
          "height": 413,
          "referenced_widgets": [
            "6f8a28a60a5045359c4523b3bd9d0a4b",
            "74e6e62c78184c97b195183c1f266780",
            "3f0ca183596a44439124e5930170647f",
            "5e4e9a8a26c9437f9463b331947dab05",
            "a7af2c6284aa42898d924124faf25860",
            "8da02a5d31514a13a6ef85e4b277bfc7",
            "7c1f0caf898b4d08b431eba621ae323f",
            "88b26365073246b7a8f44593142f123a"
          ]
        }
      },
      "source": [
        "# Do scaling for test set\n",
        "test_scaled = test[['date']]\n",
        "for col in tqdm_notebook(cols_list):\n",
        "    feat_list = [col + '_lag_' + str(shift) for shift in range(1, N+1)]\n",
        "    temp = test.apply(lambda row: scale_row(row[feat_list], row[col+'_mean'], row[col+'_std']), axis=1)\n",
        "    test_scaled = pd.concat([test_scaled, temp], axis=1)\n",
        "    \n",
        "# Now the entire test set is scaled\n",
        "test_scaled.head()"
      ],
      "execution_count": 0,
      "outputs": [
        {
          "output_type": "stream",
          "text": [
            "/usr/local/lib/python3.6/dist-packages/ipykernel_launcher.py:2: TqdmDeprecationWarning: This function will be removed in tqdm==5.0.0\n",
            "Please use `tqdm.notebook.tqdm` instead of `tqdm.tqdm_notebook`\n",
            "  \n"
          ],
          "name": "stderr"
        },
        {
          "output_type": "display_data",
          "data": {
            "application/vnd.jupyter.widget-view+json": {
              "model_id": "6f8a28a60a5045359c4523b3bd9d0a4b",
              "version_minor": 0,
              "version_major": 2
            },
            "text/plain": [
              "HBox(children=(IntProgress(value=0, max=4), HTML(value='')))"
            ]
          },
          "metadata": {
            "tags": []
          }
        },
        {
          "output_type": "stream",
          "text": [
            "\n"
          ],
          "name": "stdout"
        },
        {
          "output_type": "execute_result",
          "data": {
            "text/html": [
              "<div>\n",
              "<style scoped>\n",
              "    .dataframe tbody tr th:only-of-type {\n",
              "        vertical-align: middle;\n",
              "    }\n",
              "\n",
              "    .dataframe tbody tr th {\n",
              "        vertical-align: top;\n",
              "    }\n",
              "\n",
              "    .dataframe thead th {\n",
              "        text-align: right;\n",
              "    }\n",
              "</style>\n",
              "<table border=\"1\" class=\"dataframe\">\n",
              "  <thead>\n",
              "    <tr style=\"text-align: right;\">\n",
              "      <th></th>\n",
              "      <th>date</th>\n",
              "      <th>adj_close_lag_1</th>\n",
              "      <th>adj_close_lag_2</th>\n",
              "      <th>adj_close_lag_3</th>\n",
              "      <th>range_hl_lag_1</th>\n",
              "      <th>range_hl_lag_2</th>\n",
              "      <th>range_hl_lag_3</th>\n",
              "      <th>range_oc_lag_1</th>\n",
              "      <th>range_oc_lag_2</th>\n",
              "      <th>range_oc_lag_3</th>\n",
              "      <th>volume_lag_1</th>\n",
              "      <th>volume_lag_2</th>\n",
              "      <th>volume_lag_3</th>\n",
              "    </tr>\n",
              "  </thead>\n",
              "  <tbody>\n",
              "    <tr>\n",
              "      <th>983</th>\n",
              "      <td>2018-12-27</td>\n",
              "      <td>-1.151584</td>\n",
              "      <td>0.502369</td>\n",
              "      <td>0.649215</td>\n",
              "      <td>1.004795</td>\n",
              "      <td>-0.009659</td>\n",
              "      <td>-0.995135</td>\n",
              "      <td>1.131270</td>\n",
              "      <td>-0.766061</td>\n",
              "      <td>-0.365210</td>\n",
              "      <td>1.135225</td>\n",
              "      <td>-0.750501</td>\n",
              "      <td>-0.384724</td>\n",
              "    </tr>\n",
              "    <tr>\n",
              "      <th>984</th>\n",
              "      <td>2018-12-28</td>\n",
              "      <td>-0.746375</td>\n",
              "      <td>-0.389829</td>\n",
              "      <td>1.136204</td>\n",
              "      <td>0.498286</td>\n",
              "      <td>0.652956</td>\n",
              "      <td>-1.151242</td>\n",
              "      <td>0.777509</td>\n",
              "      <td>0.350576</td>\n",
              "      <td>-1.128085</td>\n",
              "      <td>1.125447</td>\n",
              "      <td>-0.339058</td>\n",
              "      <td>-0.786390</td>\n",
              "    </tr>\n",
              "    <tr>\n",
              "      <th>985</th>\n",
              "      <td>2018-12-31</td>\n",
              "      <td>1.138529</td>\n",
              "      <td>-0.736039</td>\n",
              "      <td>-0.402490</td>\n",
              "      <td>1.151786</td>\n",
              "      <td>-0.646904</td>\n",
              "      <td>-0.504881</td>\n",
              "      <td>-1.150606</td>\n",
              "      <td>0.659443</td>\n",
              "      <td>0.491163</td>\n",
              "      <td>0.570607</td>\n",
              "      <td>0.584068</td>\n",
              "      <td>-1.154674</td>\n",
              "    </tr>\n",
              "    <tr>\n",
              "      <th>986</th>\n",
              "      <td>2019-01-01</td>\n",
              "      <td>0.821724</td>\n",
              "      <td>0.291688</td>\n",
              "      <td>-1.113412</td>\n",
              "      <td>-1.127526</td>\n",
              "      <td>0.779433</td>\n",
              "      <td>0.348093</td>\n",
              "      <td>-0.192288</td>\n",
              "      <td>-0.889893</td>\n",
              "      <td>1.082181</td>\n",
              "      <td>-1.154688</td>\n",
              "      <td>0.572739</td>\n",
              "      <td>0.581949</td>\n",
              "    </tr>\n",
              "    <tr>\n",
              "      <th>987</th>\n",
              "      <td>2019-01-02</td>\n",
              "      <td>0.899363</td>\n",
              "      <td>0.177503</td>\n",
              "      <td>-1.076866</td>\n",
              "      <td>-0.284592</td>\n",
              "      <td>-0.826856</td>\n",
              "      <td>1.111448</td>\n",
              "      <td>0.708591</td>\n",
              "      <td>0.435277</td>\n",
              "      <td>-1.143868</td>\n",
              "      <td>-0.223548</td>\n",
              "      <td>-0.869307</td>\n",
              "      <td>1.092855</td>\n",
              "    </tr>\n",
              "  </tbody>\n",
              "</table>\n",
              "</div>"
            ],
            "text/plain": [
              "          date  adj_close_lag_1  ...  volume_lag_2  volume_lag_3\n",
              "983 2018-12-27        -1.151584  ...     -0.750501     -0.384724\n",
              "984 2018-12-28        -0.746375  ...     -0.339058     -0.786390\n",
              "985 2018-12-31         1.138529  ...      0.584068     -1.154674\n",
              "986 2019-01-01         0.821724  ...      0.572739      0.581949\n",
              "987 2019-01-02         0.899363  ...     -0.869307      1.092855\n",
              "\n",
              "[5 rows x 13 columns]"
            ]
          },
          "metadata": {
            "tags": []
          },
          "execution_count": 606
        }
      ]
    },
    {
      "cell_type": "markdown",
      "metadata": {
        "id": "05aRHFXfTJgv",
        "colab_type": "text"
      },
      "source": [
        "# Split into X and y"
      ]
    },
    {
      "cell_type": "code",
      "metadata": {
        "id": "jiSPQ3-vTJgy",
        "colab_type": "code",
        "outputId": "f7b90bd8-54a2-46d1-dccc-6304cd06436f",
        "colab": {
          "base_uri": "https://localhost:8080/",
          "height": 161
        }
      },
      "source": [
        "features = []\n",
        "for i in range(1,N+1):\n",
        "    features.append(\"adj_close_lag_\"+str(i))\n",
        "    features.append(\"range_hl_lag_\"+str(i))\n",
        "    features.append(\"range_oc_lag_\"+str(i))\n",
        "    features.append(\"volume_lag_\"+str(i))\n",
        "\n",
        "target = \"adj_close\"\n",
        "\n",
        "\n",
        "# Split into X and y\n",
        "X_train = train[features]\n",
        "y_train = train[target]\n",
        "X_cv = cv[features]\n",
        "y_cv = cv[target]\n",
        "X_train_cv = train_cv[features]\n",
        "y_train_cv = train_cv[target]\n",
        "X_sample = test[features]\n",
        "y_sample = test[target]\n",
        "print(\"X_train.shape = \" + str(X_train.shape))\n",
        "print(\"y_train.shape = \" + str(y_train.shape))\n",
        "print(\"X_cv.shape = \" + str(X_cv.shape))\n",
        "print(\"y_cv.shape = \" + str(y_cv.shape))\n",
        "print(\"X_train_cv.shape = \" + str(X_train_cv.shape))\n",
        "print(\"y_train_cv.shape = \" + str(y_train_cv.shape))\n",
        "print(\"X_sample.shape = \" + str(X_sample.shape))\n",
        "print(\"y_sample.shape = \" + str(y_sample.shape))"
      ],
      "execution_count": 0,
      "outputs": [
        {
          "output_type": "stream",
          "text": [
            "X_train.shape = (736, 12)\n",
            "y_train.shape = (736,)\n",
            "X_cv.shape = (244, 12)\n",
            "y_cv.shape = (244,)\n",
            "X_train_cv.shape = (980, 12)\n",
            "y_train_cv.shape = (980,)\n",
            "X_sample.shape = (244, 12)\n",
            "y_sample.shape = (244,)\n"
          ],
          "name": "stdout"
        }
      ]
    },
    {
      "cell_type": "code",
      "metadata": {
        "id": "t80BtdJHTJg8",
        "colab_type": "code",
        "outputId": "b4dfa6f5-bef4-48c0-f5bc-585582e0d6a6",
        "colab": {
          "base_uri": "https://localhost:8080/",
          "height": 125
        }
      },
      "source": [
        "# Split into X and y\n",
        "X_train_scaled = train_scaled[features]\n",
        "y_train_scaled = train_scaled[target]\n",
        "X_cv_scaled = cv_scaled[features]\n",
        "X_train_cv_scaled = train_cv_scaled[features]\n",
        "y_train_cv_scaled = train_cv_scaled[target]\n",
        "X_sample_scaled = test_scaled[features]\n",
        "print(\"X_train_scaled.shape = \" + str(X_train_scaled.shape))\n",
        "print(\"y_train_scaled.shape = \" + str(y_train_scaled.shape))\n",
        "print(\"X_cv_scaled.shape = \" + str(X_cv_scaled.shape))\n",
        "print(\"X_train_cv_scaled.shape = \" + str(X_train_cv_scaled.shape))\n",
        "print(\"y_train_cv_scaled.shape = \" + str(y_train_cv_scaled.shape))\n",
        "print(\"X_sample_scaled.shape = \" + str(X_sample_scaled.shape))"
      ],
      "execution_count": 0,
      "outputs": [
        {
          "output_type": "stream",
          "text": [
            "X_train_scaled.shape = (736, 12)\n",
            "y_train_scaled.shape = (736,)\n",
            "X_cv_scaled.shape = (244, 12)\n",
            "X_train_cv_scaled.shape = (980, 12)\n",
            "y_train_cv_scaled.shape = (980,)\n",
            "X_sample_scaled.shape = (244, 12)\n"
          ],
          "name": "stdout"
        }
      ]
    },
    {
      "cell_type": "markdown",
      "metadata": {
        "id": "YrKsF_gcTJhF",
        "colab_type": "text"
      },
      "source": [
        "# EDA"
      ]
    },
    {
      "cell_type": "code",
      "metadata": {
        "id": "FeYLFNcATJhG",
        "colab_type": "code",
        "outputId": "65649545-eecc-4965-d8a5-e6da9d381f99",
        "colab": {
          "base_uri": "https://localhost:8080/",
          "height": 481
        }
      },
      "source": [
        "# Plot adjusted close over time\n",
        "rcParams['figure.figsize'] = 10, 8 # width 10, height 8\n",
        "\n",
        "ax = train.plot(x='date', y='adj_close', style='b-', grid=True)\n",
        "ax = cv.plot(x='date', y='adj_close', style='y-', grid=True, ax=ax)\n",
        "ax = test.plot(x='date', y='adj_close', style='g-', grid=True, ax=ax)\n",
        "ax.legend(['train', 'dev', 'test'])\n",
        "ax.set_xlabel(\"date\")\n",
        "ax.set_ylabel(\"INR\")\n",
        "ax.set_title(\"Without scaling\")\n",
        "\n",
        "fig = ax.get_figure()\n",
        "fig.savefig(\"/content/ouput/AdjClosenormal.pdf\",bbox_inches='tight')"
      ],
      "execution_count": 0,
      "outputs": [
        {
          "output_type": "display_data",
          "data": {
            "image/png": "[encoded data removed]",
            "text/plain": [
              "<Figure size 720x576 with 1 Axes>"
            ]
          },
          "metadata": {
            "tags": [],
            "needs_background": "light"
          }
        }
      ]
    },
    {
      "cell_type": "code",
      "metadata": {
        "id": "9czEq64QTJhQ",
        "colab_type": "code",
        "outputId": "10a0bd65-81ea-469a-fe26-9d43637d9b84",
        "colab": {
          "base_uri": "https://localhost:8080/",
          "height": 507
        }
      },
      "source": [
        "# Plot adjusted close over time\n",
        "rcParams['figure.figsize'] = 10, 8 # width 10, height 8\n",
        "\n",
        "ax = train_scaled.plot(x='date', y='adj_close', style='b-', grid=True)\n",
        "ax.legend(['train_scaled'])\n",
        "ax.set_xlabel(\"date\")\n",
        "ax.set_ylabel(\"INR (scaled)\")\n",
        "ax.set_title(\"With scaling\")"
      ],
      "execution_count": 0,
      "outputs": [
        {
          "output_type": "execute_result",
          "data": {
            "text/plain": [
              "Text(0.5, 1.0, 'With scaling')"
            ]
          },
          "metadata": {
            "tags": []
          },
          "execution_count": 610
        },
        {
          "output_type": "display_data",
          "data": {
            "image/png": "[encoded data removed]",
            "text/plain": [
              "<Figure size 720x576 with 1 Axes>"
            ]
          },
          "metadata": {
            "tags": [],
            "needs_background": "light"
          }
        }
      ]
    },
    {
      "cell_type": "markdown",
      "metadata": {
        "collapsed": true,
        "id": "WwOq3gMJTJha",
        "colab_type": "text"
      },
      "source": [
        "# Train the model using XGBoost"
      ]
    },
    {
      "cell_type": "code",
      "metadata": {
        "id": "SMvm8D0vTJhc",
        "colab_type": "code",
        "outputId": "ab5c125c-0b5f-41b0-e597-02d8d124f7b0",
        "colab": {
          "base_uri": "https://localhost:8080/",
          "height": 161
        }
      },
      "source": [
        "# Create the model\n",
        "model = XGBRegressor(seed=model_seed,\n",
        "                     n_estimators=n_estimators,\n",
        "                     max_depth=max_depth,\n",
        "                     learning_rate=learning_rate,\n",
        "                     min_child_weight=min_child_weight,\n",
        "                     subsample=subsample,\n",
        "                     colsample_bytree=colsample_bytree,\n",
        "                     colsample_bylevel=colsample_bylevel,\n",
        "                     gamma=gamma)\n",
        "\n",
        "# Train the regressor\n",
        "model.fit(X_train_scaled, y_train_scaled)"
      ],
      "execution_count": 0,
      "outputs": [
        {
          "output_type": "stream",
          "text": [
            "[17:32:16] WARNING: /workspace/src/objective/regression_obj.cu:152: reg:linear is now deprecated in favor of reg:squarederror.\n"
          ],
          "name": "stdout"
        },
        {
          "output_type": "execute_result",
          "data": {
            "text/plain": [
              "XGBRegressor(base_score=0.5, booster='gbtree', colsample_bylevel=1,\n",
              "             colsample_bynode=1, colsample_bytree=1, gamma=0,\n",
              "             importance_type='gain', learning_rate=0.1, max_delta_step=0,\n",
              "             max_depth=3, min_child_weight=1, missing=None, n_estimators=100,\n",
              "             n_jobs=1, nthread=None, objective='reg:linear', random_state=0,\n",
              "             reg_alpha=0, reg_lambda=1, scale_pos_weight=1, seed=100,\n",
              "             silent=None, subsample=1, verbosity=1)"
            ]
          },
          "metadata": {
            "tags": []
          },
          "execution_count": 611
        }
      ]
    },
    {
      "cell_type": "markdown",
      "metadata": {
        "id": "aeNV-ZC9TJhl",
        "colab_type": "text"
      },
      "source": [
        "# Predict on train set"
      ]
    },
    {
      "cell_type": "code",
      "metadata": {
        "id": "gdnUja1WTJhn",
        "colab_type": "code",
        "outputId": "538810cc-93ca-4bac-f171-916f8d3f5827",
        "colab": {
          "base_uri": "https://localhost:8080/",
          "height": 53
        }
      },
      "source": [
        "# Do prediction on train set\n",
        "est_scaled = model.predict(X_train_scaled)\n",
        "est = est_scaled * math.sqrt(scaler.var_[0]) + scaler.mean_[0]\n",
        "\n",
        "# Calculate RMSE\n",
        "print(\"RMSE on train set = %0.3f\" % math.sqrt(mean_squared_error(y_train, est)))\n",
        "\n",
        "# Calculate MAPE\n",
        "print(\"MAPE on train set = %0.3f%%\" % get_mape(y_train, est))"
      ],
      "execution_count": 0,
      "outputs": [
        {
          "output_type": "stream",
          "text": [
            "RMSE on train set = 9.805\n",
            "MAPE on train set = 0.990%\n"
          ],
          "name": "stdout"
        }
      ]
    },
    {
      "cell_type": "code",
      "metadata": {
        "id": "1CLdWv5PTJhy",
        "colab_type": "code",
        "outputId": "2fe2a711-2f5d-4bd2-8667-44c7bad32eac",
        "colab": {
          "base_uri": "https://localhost:8080/",
          "height": 481
        }
      },
      "source": [
        "# Plot adjusted close over time\n",
        "rcParams['figure.figsize'] = 10, 8 # width 10, height 8\n",
        "\n",
        "est_df = pd.DataFrame({'est': est, \n",
        "                       'date': train['date']})\n",
        "\n",
        "ax = train.plot(x='date', y='adj_close', style='b-', grid=True)\n",
        "ax = cv.plot(x='date', y='adj_close', style='y-', grid=True, ax=ax)\n",
        "ax = test.plot(x='date', y='adj_close', style='g-', grid=True, ax=ax)\n",
        "ax = est_df.plot(x='date', y='est', style='r-', grid=True, ax=ax)\n",
        "ax.legend(['train', 'dev', 'test', 'predictions'])\n",
        "ax.set_xlabel(\"date\")\n",
        "ax.set_ylabel(\"INR\")\n",
        "ax.set_title('Without scaling')\n",
        "fig = ax.get_figure()\n",
        "fig.savefig(\"/content/ouput/AdjClosetrain.pdf\",bbox_inches='tight')"
      ],
      "execution_count": 0,
      "outputs": [
        {
          "output_type": "display_data",
          "data": {
            "image/png": "[encoded data removed]",
            "text/plain": [
              "<Figure size 720x576 with 1 Axes>"
            ]
          },
          "metadata": {
            "tags": [],
            "needs_background": "light"
          }
        }
      ]
    },
    {
      "cell_type": "markdown",
      "metadata": {
        "id": "bcR2Q5JQTJh9",
        "colab_type": "text"
      },
      "source": [
        "# Predict on dev set"
      ]
    },
    {
      "cell_type": "code",
      "metadata": {
        "id": "jBTZrJVQTJh-",
        "colab_type": "code",
        "outputId": "18b047a2-258b-473c-fa8a-427720917ade",
        "colab": {
          "base_uri": "https://localhost:8080/",
          "height": 269
        }
      },
      "source": [
        "# Do prediction on test set\n",
        "est_scaled = model.predict(X_cv_scaled)\n",
        "cv['est_scaled'] = est_scaled\n",
        "cv['est'] = cv['est_scaled'] * cv['adj_close_std'] + cv['adj_close_mean']\n",
        "\n",
        "# Calculate RMSE\n",
        "rmse_bef_tuning = math.sqrt(mean_squared_error(y_cv, cv['est']))\n",
        "print(\"RMSE on dev set = %0.3f\" % rmse_bef_tuning)\n",
        "\n",
        "# Calculate MAPE\n",
        "mape_bef_tuning = get_mape(y_cv, cv['est'])\n",
        "print(\"MAPE on dev set = %0.3f%%\" % mape_bef_tuning)"
      ],
      "execution_count": 0,
      "outputs": [
        {
          "output_type": "stream",
          "text": [
            "RMSE on dev set = 11.822\n",
            "MAPE on dev set = 1.660%\n"
          ],
          "name": "stdout"
        },
        {
          "output_type": "stream",
          "text": [
            "/usr/local/lib/python3.6/dist-packages/ipykernel_launcher.py:2: SettingWithCopyWarning: \n",
            "A value is trying to be set on a copy of a slice from a DataFrame.\n",
            "Try using .loc[row_indexer,col_indexer] = value instead\n",
            "\n",
            "See the caveats in the documentation: https://pandas.pydata.org/pandas-docs/stable/user_guide/indexing.html#returning-a-view-versus-a-copy\n",
            "  \n",
            "/usr/local/lib/python3.6/dist-packages/ipykernel_launcher.py:3: SettingWithCopyWarning: \n",
            "A value is trying to be set on a copy of a slice from a DataFrame.\n",
            "Try using .loc[row_indexer,col_indexer] = value instead\n",
            "\n",
            "See the caveats in the documentation: https://pandas.pydata.org/pandas-docs/stable/user_guide/indexing.html#returning-a-view-versus-a-copy\n",
            "  This is separate from the ipykernel package so we can avoid doing imports until\n"
          ],
          "name": "stderr"
        }
      ]
    },
    {
      "cell_type": "code",
      "metadata": {
        "id": "ElIkzRbUTJiH",
        "colab_type": "code",
        "outputId": "1f685fb5-9c77-4789-af28-7dfc46f3c161",
        "colab": {
          "base_uri": "https://localhost:8080/",
          "height": 465
        }
      },
      "source": [
        "# Plot adjusted close over time\n",
        "rcParams['figure.figsize'] = 10, 8 # width 10, height 8\n",
        "\n",
        "est_df = pd.DataFrame({'est': cv['est'], \n",
        "                       'y_cv': y_cv,\n",
        "                       'date': cv['date']})\n",
        "\n",
        "ax = train.plot(x='date', y='adj_close', style='b-', grid=True)\n",
        "ax = cv.plot(x='date', y='adj_close', style='y-', grid=True, ax=ax)\n",
        "ax = test.plot(x='date', y='adj_close', style='g-', grid=True, ax=ax)\n",
        "ax = est_df.plot(x='date', y='est', style='r-', grid=True, ax=ax)\n",
        "ax.legend(['train', 'dev', 'test', 'predictions'])\n",
        "ax.set_xlabel(\"date\")\n",
        "ax.set_ylabel(\"INR\")\n",
        "fig = ax.get_figure()\n",
        "fig.savefig(\"/content/ouput/AdjClosedev.pdf\",bbox_inches='tight')"
      ],
      "execution_count": 0,
      "outputs": [
        {
          "output_type": "display_data",
          "data": {
            "image/png": "[encoded data removed]",
            "text/plain": [
              "<Figure size 720x576 with 1 Axes>"
            ]
          },
          "metadata": {
            "tags": [],
            "needs_background": "light"
          }
        }
      ]
    },
    {
      "cell_type": "code",
      "metadata": {
        "id": "y5SIqsDfTJiP",
        "colab_type": "code",
        "outputId": "c377974f-be49-4993-9f28-90ff2b7ac04b",
        "colab": {
          "base_uri": "https://localhost:8080/",
          "height": 507
        }
      },
      "source": [
        "# Plot adjusted close over time, for dev set only\n",
        "rcParams['figure.figsize'] = 10, 8 # width 10, height 8\n",
        "ax = train.plot(x='date', y='adj_close', style='b-', grid=True)\n",
        "ax = cv.plot(x='date', y='adj_close', style='y-', grid=True, ax=ax)\n",
        "ax = test.plot(x='date', y='adj_close', style='g-', grid=True, ax=ax)\n",
        "ax = est_df.plot(x='date', y='est', style='r-', grid=True, ax=ax)\n",
        "ax.legend(['train', 'dev', 'test', 'predictions'])\n",
        "ax.set_xlabel(\"date\")\n",
        "ax.set_ylabel(\"INR\")\n",
        "ax.set_xlim([date(2017, 8, 1), date(2018, 5, 31)])\n",
        "ax.set_title(\"Zoom in to dev set\")"
      ],
      "execution_count": 0,
      "outputs": [
        {
          "output_type": "execute_result",
          "data": {
            "text/plain": [
              "Text(0.5, 1.0, 'Zoom in to dev set')"
            ]
          },
          "metadata": {
            "tags": []
          },
          "execution_count": 616
        },
        {
          "output_type": "display_data",
          "data": {
            "image/png": "[encoded data removed]",
            "text/plain": [
              "<Figure size 720x576 with 1 Axes>"
            ]
          },
          "metadata": {
            "tags": [],
            "needs_background": "light"
          }
        }
      ]
    },
    {
      "cell_type": "markdown",
      "metadata": {
        "id": "OM0Y6bK5TJiY",
        "colab_type": "text"
      },
      "source": [
        "The predictions capture the turn in directions with a slight lag"
      ]
    },
    {
      "cell_type": "code",
      "metadata": {
        "scrolled": false,
        "id": "dLPN8JRzTJiZ",
        "colab_type": "code",
        "outputId": "d679def0-872c-4a88-bf72-01368feeee7b",
        "colab": {
          "base_uri": "https://localhost:8080/",
          "height": 197
        }
      },
      "source": [
        "# View a list of the features and their importance scores\n",
        "imp = list(zip(train[features], model.feature_importances_))\n",
        "imp.sort(key=lambda tup: tup[1]) \n",
        "imp[-10:]"
      ],
      "execution_count": 0,
      "outputs": [
        {
          "output_type": "execute_result",
          "data": {
            "text/plain": [
              "[('range_hl_lag_2', 0.0014007973),\n",
              " ('range_hl_lag_3', 0.001426861),\n",
              " ('volume_lag_1', 0.0016701096),\n",
              " ('volume_lag_2', 0.0019562969),\n",
              " ('range_oc_lag_2', 0.0022045893),\n",
              " ('range_oc_lag_1', 0.0028877473),\n",
              " ('range_hl_lag_1', 0.0061227465),\n",
              " ('adj_close_lag_3', 0.061763827),\n",
              " ('adj_close_lag_2', 0.18224554),\n",
              " ('adj_close_lag_1', 0.7358766)]"
            ]
          },
          "metadata": {
            "tags": []
          },
          "execution_count": 617
        }
      ]
    },
    {
      "cell_type": "markdown",
      "metadata": {
        "id": "yRuRs8b5TJin",
        "colab_type": "text"
      },
      "source": [
        "Importance features dominated by adj_close and volume"
      ]
    },
    {
      "cell_type": "markdown",
      "metadata": {
        "id": "cvyJof1JTJio",
        "colab_type": "text"
      },
      "source": [
        "# Tuning N (no. of days to use as features)"
      ]
    },
    {
      "cell_type": "code",
      "metadata": {
        "scrolled": true,
        "id": "OttDeutKTJip",
        "colab_type": "code",
        "outputId": "ed4a71de-af62-4c7e-a267-93869e6f58ef",
        "colab": {
          "base_uri": "https://localhost:8080/",
          "height": 266
        }
      },
      "source": [
        "d = {'N': [2, 3, 4, 5, 6, 7, 14],\n",
        "     'rmse_dev_set': [1.225, 1.214, 1.231, 1.249, 1.254, 1.251, 1.498],\n",
        "     'mape_pct_dev_set': [0.585, 0.581, 0.590, 0.601, 0.609, 0.612, 0.763]}\n",
        "pd.DataFrame(d)"
      ],
      "execution_count": 0,
      "outputs": [
        {
          "output_type": "execute_result",
          "data": {
            "text/html": [
              "<div>\n",
              "<style scoped>\n",
              "    .dataframe tbody tr th:only-of-type {\n",
              "        vertical-align: middle;\n",
              "    }\n",
              "\n",
              "    .dataframe tbody tr th {\n",
              "        vertical-align: top;\n",
              "    }\n",
              "\n",
              "    .dataframe thead th {\n",
              "        text-align: right;\n",
              "    }\n",
              "</style>\n",
              "<table border=\"1\" class=\"dataframe\">\n",
              "  <thead>\n",
              "    <tr style=\"text-align: right;\">\n",
              "      <th></th>\n",
              "      <th>N</th>\n",
              "      <th>rmse_dev_set</th>\n",
              "      <th>mape_pct_dev_set</th>\n",
              "    </tr>\n",
              "  </thead>\n",
              "  <tbody>\n",
              "    <tr>\n",
              "      <th>0</th>\n",
              "      <td>2</td>\n",
              "      <td>1.225</td>\n",
              "      <td>0.585</td>\n",
              "    </tr>\n",
              "    <tr>\n",
              "      <th>1</th>\n",
              "      <td>3</td>\n",
              "      <td>1.214</td>\n",
              "      <td>0.581</td>\n",
              "    </tr>\n",
              "    <tr>\n",
              "      <th>2</th>\n",
              "      <td>4</td>\n",
              "      <td>1.231</td>\n",
              "      <td>0.590</td>\n",
              "    </tr>\n",
              "    <tr>\n",
              "      <th>3</th>\n",
              "      <td>5</td>\n",
              "      <td>1.249</td>\n",
              "      <td>0.601</td>\n",
              "    </tr>\n",
              "    <tr>\n",
              "      <th>4</th>\n",
              "      <td>6</td>\n",
              "      <td>1.254</td>\n",
              "      <td>0.609</td>\n",
              "    </tr>\n",
              "    <tr>\n",
              "      <th>5</th>\n",
              "      <td>7</td>\n",
              "      <td>1.251</td>\n",
              "      <td>0.612</td>\n",
              "    </tr>\n",
              "    <tr>\n",
              "      <th>6</th>\n",
              "      <td>14</td>\n",
              "      <td>1.498</td>\n",
              "      <td>0.763</td>\n",
              "    </tr>\n",
              "  </tbody>\n",
              "</table>\n",
              "</div>"
            ],
            "text/plain": [
              "    N  rmse_dev_set  mape_pct_dev_set\n",
              "0   2         1.225             0.585\n",
              "1   3         1.214             0.581\n",
              "2   4         1.231             0.590\n",
              "3   5         1.249             0.601\n",
              "4   6         1.254             0.609\n",
              "5   7         1.251             0.612\n",
              "6  14         1.498             0.763"
            ]
          },
          "metadata": {
            "tags": []
          },
          "execution_count": 618
        }
      ]
    },
    {
      "cell_type": "markdown",
      "metadata": {
        "id": "7da4i_p3TJi0",
        "colab_type": "text"
      },
      "source": [
        "Use N = 3 for lowest RMSE and MAPE"
      ]
    },
    {
      "cell_type": "markdown",
      "metadata": {
        "id": "HKm50jZVTJi1",
        "colab_type": "text"
      },
      "source": [
        "# Tuning XGBoost - n_estimators (default=100) and max_depth (default=3)"
      ]
    },
    {
      "cell_type": "code",
      "metadata": {
        "id": "YGVe0gzDTJi3",
        "colab_type": "code",
        "outputId": "9f0d49b3-9e03-4cdf-938b-bcacb6a12fbb",
        "colab": {
          "base_uri": "https://localhost:8080/",
          "height": 1000,
          "referenced_widgets": [
            "4820bff4b8be41749c39a075a73ed8d8",
            "48d49d91439740c1b1845283dd8fb994",
            "39d18cb95f8d4581ab7ec6b830698269",
            "03157e9dd0a94c8cb8a707c8ef7bdfa7",
            "c65fd8a1f447475d870faca4e8a15bdc",
            "e27fffe0570f492990605a1e67bbe343",
            "0148dad26bf04e68a806f6930e51c4f6",
            "9ba3dfff90e8490bbf4942067259e5fb"
          ]
        }
      },
      "source": [
        "param_label = 'n_estimators'\n",
        "param_list = range(10, 310, 10)\n",
        "\n",
        "param2_label = 'max_depth'\n",
        "param2_list = [2, 3, 4, 5, 6, 7, 8, 9]\n",
        "\n",
        "error_rate = {param_label: [] , param2_label: [], 'rmse': [], 'mape_pct': []}\n",
        "tic = time.time()\n",
        "for param in tqdm_notebook(param_list):\n",
        "#     print(\"param = \" + str(param))\n",
        "    \n",
        "    for param2 in param2_list:\n",
        "        # Train, predict and eval model\n",
        "        rmse, mape, _ = train_pred_eval_model(X_train_scaled, \n",
        "                                     y_train_scaled, \n",
        "                                     X_cv_scaled, \n",
        "                                     y_cv, \n",
        "                                     cv['adj_close_mean'],\n",
        "                                     cv['adj_close_std'],\n",
        "                                     seed=model_seed,\n",
        "                                     n_estimators=param, \n",
        "                                     max_depth=param2, \n",
        "                                     learning_rate=learning_rate, \n",
        "                                     min_child_weight=min_child_weight, \n",
        "                                     subsample=subsample, \n",
        "                                     colsample_bytree=colsample_bytree, \n",
        "                                     colsample_bylevel=colsample_bylevel, \n",
        "                                     gamma=gamma)\n",
        "    \n",
        "        # Collect results\n",
        "        error_rate[param_label].append(param)\n",
        "        error_rate[param2_label].append(param2)\n",
        "        error_rate['rmse'].append(rmse)\n",
        "        error_rate['mape_pct'].append(mape)\n",
        "    \n",
        "error_rate = pd.DataFrame(error_rate)\n",
        "toc = time.time()\n",
        "print(\"Minutes taken = \" + str((toc-tic)/60.0))\n",
        "error_rate   "
      ],
      "execution_count": 0,
      "outputs": [
        {
          "output_type": "stream",
          "text": [
            "/usr/local/lib/python3.6/dist-packages/ipykernel_launcher.py:9: TqdmDeprecationWarning: This function will be removed in tqdm==5.0.0\n",
            "Please use `tqdm.notebook.tqdm` instead of `tqdm.tqdm_notebook`\n",
            "  if __name__ == '__main__':\n"
          ],
          "name": "stderr"
        },
        {
          "output_type": "display_data",
          "data": {
            "application/vnd.jupyter.widget-view+json": {
              "model_id": "4820bff4b8be41749c39a075a73ed8d8",
              "version_minor": 0,
              "version_major": 2
            },
            "text/plain": [
              "HBox(children=(IntProgress(value=0, max=30), HTML(value='')))"
            ]
          },
          "metadata": {
            "tags": []
          }
        },
        {
          "output_type": "stream",
          "text": [
            "[17:32:18] WARNING: /workspace/src/objective/regression_obj.cu:152: reg:linear is now deprecated in favor of reg:squarederror.\n",
            "[17:32:18] WARNING: /workspace/src/objective/regression_obj.cu:152: reg:linear is now deprecated in favor of reg:squarederror.\n",
            "[17:32:18] WARNING: /workspace/src/objective/regression_obj.cu:152: reg:linear is now deprecated in favor of reg:squarederror.\n",
            "[17:32:18] WARNING: /workspace/src/objective/regression_obj.cu:152: reg:linear is now deprecated in favor of reg:squarederror.\n",
            "[17:32:18] WARNING: /workspace/src/objective/regression_obj.cu:152: reg:linear is now deprecated in favor of reg:squarederror.\n",
            "[17:32:18] WARNING: /workspace/src/objective/regression_obj.cu:152: reg:linear is now deprecated in favor of reg:squarederror.\n",
            "[17:32:18] WARNING: /workspace/src/objective/regression_obj.cu:152: reg:linear is now deprecated in favor of reg:squarederror.\n",
            "[17:32:18] WARNING: /workspace/src/objective/regression_obj.cu:152: reg:linear is now deprecated in favor of reg:squarederror.\n",
            "[17:32:18] WARNING: /workspace/src/objective/regression_obj.cu:152: reg:linear is now deprecated in favor of reg:squarederror.\n",
            "[17:32:18] WARNING: /workspace/src/objective/regression_obj.cu:152: reg:linear is now deprecated in favor of reg:squarederror.\n",
            "[17:32:18] WARNING: /workspace/src/objective/regression_obj.cu:152: reg:linear is now deprecated in favor of reg:squarederror.\n",
            "[17:32:18] WARNING: /workspace/src/objective/regression_obj.cu:152: reg:linear is now deprecated in favor of reg:squarederror.\n",
            "[17:32:18] WARNING: /workspace/src/objective/regression_obj.cu:152: reg:linear is now deprecated in favor of reg:squarederror.\n",
            "[17:32:18] WARNING: /workspace/src/objective/regression_obj.cu:152: reg:linear is now deprecated in favor of reg:squarederror.\n",
            "[17:32:18] WARNING: /workspace/src/objective/regression_obj.cu:152: reg:linear is now deprecated in favor of reg:squarederror.\n",
            "[17:32:18] WARNING: /workspace/src/objective/regression_obj.cu:152: reg:linear is now deprecated in favor of reg:squarederror.\n",
            "[17:32:19] WARNING: /workspace/src/objective/regression_obj.cu:152: reg:linear is now deprecated in favor of reg:squarederror.\n",
            "[17:32:19] WARNING: /workspace/src/objective/regression_obj.cu:152: reg:linear is now deprecated in favor of reg:squarederror.\n",
            "[17:32:19] WARNING: /workspace/src/objective/regression_obj.cu:152: reg:linear is now deprecated in favor of reg:squarederror.\n",
            "[17:32:19] WARNING: /workspace/src/objective/regression_obj.cu:152: reg:linear is now deprecated in favor of reg:squarederror.\n",
            "[17:32:19] WARNING: /workspace/src/objective/regression_obj.cu:152: reg:linear is now deprecated in favor of reg:squarederror.\n",
            "[17:32:19] WARNING: /workspace/src/objective/regression_obj.cu:152: reg:linear is now deprecated in favor of reg:squarederror.\n",
            "[17:32:19] WARNING: /workspace/src/objective/regression_obj.cu:152: reg:linear is now deprecated in favor of reg:squarederror.\n",
            "[17:32:19] WARNING: /workspace/src/objective/regression_obj.cu:152: reg:linear is now deprecated in favor of reg:squarederror.\n",
            "[17:32:19] WARNING: /workspace/src/objective/regression_obj.cu:152: reg:linear is now deprecated in favor of reg:squarederror.\n",
            "[17:32:19] WARNING: /workspace/src/objective/regression_obj.cu:152: reg:linear is now deprecated in favor of reg:squarederror.\n",
            "[17:32:19] WARNING: /workspace/src/objective/regression_obj.cu:152: reg:linear is now deprecated in favor of reg:squarederror.\n",
            "[17:32:19] WARNING: /workspace/src/objective/regression_obj.cu:152: reg:linear is now deprecated in favor of reg:squarederror.\n",
            "[17:32:19] WARNING: /workspace/src/objective/regression_obj.cu:152: reg:linear is now deprecated in favor of reg:squarederror.\n",
            "[17:32:19] WARNING: /workspace/src/objective/regression_obj.cu:152: reg:linear is now deprecated in favor of reg:squarederror.\n",
            "[17:32:19] WARNING: /workspace/src/objective/regression_obj.cu:152: reg:linear is now deprecated in favor of reg:squarederror.\n",
            "[17:32:19] WARNING: /workspace/src/objective/regression_obj.cu:152: reg:linear is now deprecated in favor of reg:squarederror.\n",
            "[17:32:19] WARNING: /workspace/src/objective/regression_obj.cu:152: reg:linear is now deprecated in favor of reg:squarederror.\n",
            "[17:32:20] WARNING: /workspace/src/objective/regression_obj.cu:152: reg:linear is now deprecated in favor of reg:squarederror.\n",
            "[17:32:20] WARNING: /workspace/src/objective/regression_obj.cu:152: reg:linear is now deprecated in favor of reg:squarederror.\n",
            "[17:32:20] WARNING: /workspace/src/objective/regression_obj.cu:152: reg:linear is now deprecated in favor of reg:squarederror.\n",
            "[17:32:20] WARNING: /workspace/src/objective/regression_obj.cu:152: reg:linear is now deprecated in favor of reg:squarederror.\n",
            "[17:32:20] WARNING: /workspace/src/objective/regression_obj.cu:152: reg:linear is now deprecated in favor of reg:squarederror.\n",
            "[17:32:20] WARNING: /workspace/src/objective/regression_obj.cu:152: reg:linear is now deprecated in favor of reg:squarederror.\n",
            "[17:32:20] WARNING: /workspace/src/objective/regression_obj.cu:152: reg:linear is now deprecated in favor of reg:squarederror.\n",
            "[17:32:20] WARNING: /workspace/src/objective/regression_obj.cu:152: reg:linear is now deprecated in favor of reg:squarederror.\n",
            "[17:32:20] WARNING: /workspace/src/objective/regression_obj.cu:152: reg:linear is now deprecated in favor of reg:squarederror.\n",
            "[17:32:20] WARNING: /workspace/src/objective/regression_obj.cu:152: reg:linear is now deprecated in favor of reg:squarederror.\n",
            "[17:32:20] WARNING: /workspace/src/objective/regression_obj.cu:152: reg:linear is now deprecated in favor of reg:squarederror.\n",
            "[17:32:20] WARNING: /workspace/src/objective/regression_obj.cu:152: reg:linear is now deprecated in favor of reg:squarederror.\n",
            "[17:32:21] WARNING: /workspace/src/objective/regression_obj.cu:152: reg:linear is now deprecated in favor of reg:squarederror.\n",
            "[17:32:21] WARNING: /workspace/src/objective/regression_obj.cu:152: reg:linear is now deprecated in favor of reg:squarederror.\n",
            "[17:32:21] WARNING: /workspace/src/objective/regression_obj.cu:152: reg:linear is now deprecated in favor of reg:squarederror.\n",
            "[17:32:21] WARNING: /workspace/src/objective/regression_obj.cu:152: reg:linear is now deprecated in favor of reg:squarederror.\n",
            "[17:32:21] WARNING: /workspace/src/objective/regression_obj.cu:152: reg:linear is now deprecated in favor of reg:squarederror.\n",
            "[17:32:21] WARNING: /workspace/src/objective/regression_obj.cu:152: reg:linear is now deprecated in favor of reg:squarederror.\n",
            "[17:32:21] WARNING: /workspace/src/objective/regression_obj.cu:152: reg:linear is now deprecated in favor of reg:squarederror.\n",
            "[17:32:21] WARNING: /workspace/src/objective/regression_obj.cu:152: reg:linear is now deprecated in favor of reg:squarederror.\n",
            "[17:32:21] WARNING: /workspace/src/objective/regression_obj.cu:152: reg:linear is now deprecated in favor of reg:squarederror.\n",
            "[17:32:21] WARNING: /workspace/src/objective/regression_obj.cu:152: reg:linear is now deprecated in favor of reg:squarederror.\n",
            "[17:32:22] WARNING: /workspace/src/objective/regression_obj.cu:152: reg:linear is now deprecated in favor of reg:squarederror.\n",
            "[17:32:22] WARNING: /workspace/src/objective/regression_obj.cu:152: reg:linear is now deprecated in favor of reg:squarederror.\n",
            "[17:32:22] WARNING: /workspace/src/objective/regression_obj.cu:152: reg:linear is now deprecated in favor of reg:squarederror.\n",
            "[17:32:22] WARNING: /workspace/src/objective/regression_obj.cu:152: reg:linear is now deprecated in favor of reg:squarederror.\n",
            "[17:32:22] WARNING: /workspace/src/objective/regression_obj.cu:152: reg:linear is now deprecated in favor of reg:squarederror.\n",
            "[17:32:22] WARNING: /workspace/src/objective/regression_obj.cu:152: reg:linear is now deprecated in favor of reg:squarederror.\n",
            "[17:32:22] WARNING: /workspace/src/objective/regression_obj.cu:152: reg:linear is now deprecated in favor of reg:squarederror.\n",
            "[17:32:23] WARNING: /workspace/src/objective/regression_obj.cu:152: reg:linear is now deprecated in favor of reg:squarederror.\n",
            "[17:32:23] WARNING: /workspace/src/objective/regression_obj.cu:152: reg:linear is now deprecated in favor of reg:squarederror.\n",
            "[17:32:23] WARNING: /workspace/src/objective/regression_obj.cu:152: reg:linear is now deprecated in favor of reg:squarederror.\n",
            "[17:32:23] WARNING: /workspace/src/objective/regression_obj.cu:152: reg:linear is now deprecated in favor of reg:squarederror.\n",
            "[17:32:23] WARNING: /workspace/src/objective/regression_obj.cu:152: reg:linear is now deprecated in favor of reg:squarederror.\n",
            "[17:32:23] WARNING: /workspace/src/objective/regression_obj.cu:152: reg:linear is now deprecated in favor of reg:squarederror.\n",
            "[17:32:23] WARNING: /workspace/src/objective/regression_obj.cu:152: reg:linear is now deprecated in favor of reg:squarederror.\n",
            "[17:32:23] WARNING: /workspace/src/objective/regression_obj.cu:152: reg:linear is now deprecated in favor of reg:squarederror.\n",
            "[17:32:24] WARNING: /workspace/src/objective/regression_obj.cu:152: reg:linear is now deprecated in favor of reg:squarederror.\n",
            "[17:32:24] WARNING: /workspace/src/objective/regression_obj.cu:152: reg:linear is now deprecated in favor of reg:squarederror.\n",
            "[17:32:24] WARNING: /workspace/src/objective/regression_obj.cu:152: reg:linear is now deprecated in favor of reg:squarederror.\n",
            "[17:32:24] WARNING: /workspace/src/objective/regression_obj.cu:152: reg:linear is now deprecated in favor of reg:squarederror.\n",
            "[17:32:24] WARNING: /workspace/src/objective/regression_obj.cu:152: reg:linear is now deprecated in favor of reg:squarederror.\n",
            "[17:32:24] WARNING: /workspace/src/objective/regression_obj.cu:152: reg:linear is now deprecated in favor of reg:squarederror.\n",
            "[17:32:24] WARNING: /workspace/src/objective/regression_obj.cu:152: reg:linear is now deprecated in favor of reg:squarederror.\n",
            "[17:32:25] WARNING: /workspace/src/objective/regression_obj.cu:152: reg:linear is now deprecated in favor of reg:squarederror.\n",
            "[17:32:25] WARNING: /workspace/src/objective/regression_obj.cu:152: reg:linear is now deprecated in favor of reg:squarederror.\n",
            "[17:32:25] WARNING: /workspace/src/objective/regression_obj.cu:152: reg:linear is now deprecated in favor of reg:squarederror.\n",
            "[17:32:25] WARNING: /workspace/src/objective/regression_obj.cu:152: reg:linear is now deprecated in favor of reg:squarederror.\n",
            "[17:32:25] WARNING: /workspace/src/objective/regression_obj.cu:152: reg:linear is now deprecated in favor of reg:squarederror.\n",
            "[17:32:26] WARNING: /workspace/src/objective/regression_obj.cu:152: reg:linear is now deprecated in favor of reg:squarederror.\n",
            "[17:32:26] WARNING: /workspace/src/objective/regression_obj.cu:152: reg:linear is now deprecated in favor of reg:squarederror.\n",
            "[17:32:26] WARNING: /workspace/src/objective/regression_obj.cu:152: reg:linear is now deprecated in favor of reg:squarederror.\n",
            "[17:32:26] WARNING: /workspace/src/objective/regression_obj.cu:152: reg:linear is now deprecated in favor of reg:squarederror.\n",
            "[17:32:26] WARNING: /workspace/src/objective/regression_obj.cu:152: reg:linear is now deprecated in favor of reg:squarederror.\n",
            "[17:32:27] WARNING: /workspace/src/objective/regression_obj.cu:152: reg:linear is now deprecated in favor of reg:squarederror.\n",
            "[17:32:27] WARNING: /workspace/src/objective/regression_obj.cu:152: reg:linear is now deprecated in favor of reg:squarederror.\n",
            "[17:32:27] WARNING: /workspace/src/objective/regression_obj.cu:152: reg:linear is now deprecated in favor of reg:squarederror.\n",
            "[17:32:27] WARNING: /workspace/src/objective/regression_obj.cu:152: reg:linear is now deprecated in favor of reg:squarederror.\n",
            "[17:32:27] WARNING: /workspace/src/objective/regression_obj.cu:152: reg:linear is now deprecated in favor of reg:squarederror.\n",
            "[17:32:27] WARNING: /workspace/src/objective/regression_obj.cu:152: reg:linear is now deprecated in favor of reg:squarederror.\n",
            "[17:32:28] WARNING: /workspace/src/objective/regression_obj.cu:152: reg:linear is now deprecated in favor of reg:squarederror.\n",
            "[17:32:28] WARNING: /workspace/src/objective/regression_obj.cu:152: reg:linear is now deprecated in favor of reg:squarederror.\n",
            "[17:32:28] WARNING: /workspace/src/objective/regression_obj.cu:152: reg:linear is now deprecated in favor of reg:squarederror.\n",
            "[17:32:28] WARNING: /workspace/src/objective/regression_obj.cu:152: reg:linear is now deprecated in favor of reg:squarederror.\n",
            "[17:32:28] WARNING: /workspace/src/objective/regression_obj.cu:152: reg:linear is now deprecated in favor of reg:squarederror.\n",
            "[17:32:29] WARNING: /workspace/src/objective/regression_obj.cu:152: reg:linear is now deprecated in favor of reg:squarederror.\n",
            "[17:32:29] WARNING: /workspace/src/objective/regression_obj.cu:152: reg:linear is now deprecated in favor of reg:squarederror.\n",
            "[17:32:29] WARNING: /workspace/src/objective/regression_obj.cu:152: reg:linear is now deprecated in favor of reg:squarederror.\n",
            "[17:32:29] WARNING: /workspace/src/objective/regression_obj.cu:152: reg:linear is now deprecated in favor of reg:squarederror.\n",
            "[17:32:29] WARNING: /workspace/src/objective/regression_obj.cu:152: reg:linear is now deprecated in favor of reg:squarederror.\n",
            "[17:32:30] WARNING: /workspace/src/objective/regression_obj.cu:152: reg:linear is now deprecated in favor of reg:squarederror.\n",
            "[17:32:30] WARNING: /workspace/src/objective/regression_obj.cu:152: reg:linear is now deprecated in favor of reg:squarederror.\n",
            "[17:32:30] WARNING: /workspace/src/objective/regression_obj.cu:152: reg:linear is now deprecated in favor of reg:squarederror.\n",
            "[17:32:30] WARNING: /workspace/src/objective/regression_obj.cu:152: reg:linear is now deprecated in favor of reg:squarederror.\n",
            "[17:32:30] WARNING: /workspace/src/objective/regression_obj.cu:152: reg:linear is now deprecated in favor of reg:squarederror.\n",
            "[17:32:31] WARNING: /workspace/src/objective/regression_obj.cu:152: reg:linear is now deprecated in favor of reg:squarederror.\n",
            "[17:32:31] WARNING: /workspace/src/objective/regression_obj.cu:152: reg:linear is now deprecated in favor of reg:squarederror.\n",
            "[17:32:31] WARNING: /workspace/src/objective/regression_obj.cu:152: reg:linear is now deprecated in favor of reg:squarederror.\n",
            "[17:32:31] WARNING: /workspace/src/objective/regression_obj.cu:152: reg:linear is now deprecated in favor of reg:squarederror.\n",
            "[17:32:32] WARNING: /workspace/src/objective/regression_obj.cu:152: reg:linear is now deprecated in favor of reg:squarederror.\n",
            "[17:32:32] WARNING: /workspace/src/objective/regression_obj.cu:152: reg:linear is now deprecated in favor of reg:squarederror.\n",
            "[17:32:32] WARNING: /workspace/src/objective/regression_obj.cu:152: reg:linear is now deprecated in favor of reg:squarederror.\n",
            "[17:32:32] WARNING: /workspace/src/objective/regression_obj.cu:152: reg:linear is now deprecated in favor of reg:squarederror.\n",
            "[17:32:32] WARNING: /workspace/src/objective/regression_obj.cu:152: reg:linear is now deprecated in favor of reg:squarederror.\n",
            "[17:32:33] WARNING: /workspace/src/objective/regression_obj.cu:152: reg:linear is now deprecated in favor of reg:squarederror.\n",
            "[17:32:33] WARNING: /workspace/src/objective/regression_obj.cu:152: reg:linear is now deprecated in favor of reg:squarederror.\n",
            "[17:32:33] WARNING: /workspace/src/objective/regression_obj.cu:152: reg:linear is now deprecated in favor of reg:squarederror.\n",
            "[17:32:34] WARNING: /workspace/src/objective/regression_obj.cu:152: reg:linear is now deprecated in favor of reg:squarederror.\n",
            "[17:32:34] WARNING: /workspace/src/objective/regression_obj.cu:152: reg:linear is now deprecated in favor of reg:squarederror.\n",
            "[17:32:34] WARNING: /workspace/src/objective/regression_obj.cu:152: reg:linear is now deprecated in favor of reg:squarederror.\n",
            "[17:32:34] WARNING: /workspace/src/objective/regression_obj.cu:152: reg:linear is now deprecated in favor of reg:squarederror.\n",
            "[17:32:34] WARNING: /workspace/src/objective/regression_obj.cu:152: reg:linear is now deprecated in favor of reg:squarederror.\n",
            "[17:32:34] WARNING: /workspace/src/objective/regression_obj.cu:152: reg:linear is now deprecated in favor of reg:squarederror.\n",
            "[17:32:35] WARNING: /workspace/src/objective/regression_obj.cu:152: reg:linear is now deprecated in favor of reg:squarederror.\n",
            "[17:32:35] WARNING: /workspace/src/objective/regression_obj.cu:152: reg:linear is now deprecated in favor of reg:squarederror.\n",
            "[17:32:36] WARNING: /workspace/src/objective/regression_obj.cu:152: reg:linear is now deprecated in favor of reg:squarederror.\n",
            "[17:32:36] WARNING: /workspace/src/objective/regression_obj.cu:152: reg:linear is now deprecated in favor of reg:squarederror.\n",
            "[17:32:36] WARNING: /workspace/src/objective/regression_obj.cu:152: reg:linear is now deprecated in favor of reg:squarederror.\n",
            "[17:32:36] WARNING: /workspace/src/objective/regression_obj.cu:152: reg:linear is now deprecated in favor of reg:squarederror.\n",
            "[17:32:36] WARNING: /workspace/src/objective/regression_obj.cu:152: reg:linear is now deprecated in favor of reg:squarederror.\n",
            "[17:32:36] WARNING: /workspace/src/objective/regression_obj.cu:152: reg:linear is now deprecated in favor of reg:squarederror.\n",
            "[17:32:37] WARNING: /workspace/src/objective/regression_obj.cu:152: reg:linear is now deprecated in favor of reg:squarederror.\n",
            "[17:32:37] WARNING: /workspace/src/objective/regression_obj.cu:152: reg:linear is now deprecated in favor of reg:squarederror.\n",
            "[17:32:38] WARNING: /workspace/src/objective/regression_obj.cu:152: reg:linear is now deprecated in favor of reg:squarederror.\n",
            "[17:32:38] WARNING: /workspace/src/objective/regression_obj.cu:152: reg:linear is now deprecated in favor of reg:squarederror.\n",
            "[17:32:38] WARNING: /workspace/src/objective/regression_obj.cu:152: reg:linear is now deprecated in favor of reg:squarederror.\n",
            "[17:32:38] WARNING: /workspace/src/objective/regression_obj.cu:152: reg:linear is now deprecated in favor of reg:squarederror.\n",
            "[17:32:38] WARNING: /workspace/src/objective/regression_obj.cu:152: reg:linear is now deprecated in favor of reg:squarederror.\n",
            "[17:32:39] WARNING: /workspace/src/objective/regression_obj.cu:152: reg:linear is now deprecated in favor of reg:squarederror.\n",
            "[17:32:39] WARNING: /workspace/src/objective/regression_obj.cu:152: reg:linear is now deprecated in favor of reg:squarederror.\n",
            "[17:32:39] WARNING: /workspace/src/objective/regression_obj.cu:152: reg:linear is now deprecated in favor of reg:squarederror.\n",
            "[17:32:40] WARNING: /workspace/src/objective/regression_obj.cu:152: reg:linear is now deprecated in favor of reg:squarederror.\n",
            "[17:32:40] WARNING: /workspace/src/objective/regression_obj.cu:152: reg:linear is now deprecated in favor of reg:squarederror.\n",
            "[17:32:40] WARNING: /workspace/src/objective/regression_obj.cu:152: reg:linear is now deprecated in favor of reg:squarederror.\n",
            "[17:32:40] WARNING: /workspace/src/objective/regression_obj.cu:152: reg:linear is now deprecated in favor of reg:squarederror.\n",
            "[17:32:40] WARNING: /workspace/src/objective/regression_obj.cu:152: reg:linear is now deprecated in favor of reg:squarederror.\n",
            "[17:32:41] WARNING: /workspace/src/objective/regression_obj.cu:152: reg:linear is now deprecated in favor of reg:squarederror.\n",
            "[17:32:41] WARNING: /workspace/src/objective/regression_obj.cu:152: reg:linear is now deprecated in favor of reg:squarederror.\n",
            "[17:32:41] WARNING: /workspace/src/objective/regression_obj.cu:152: reg:linear is now deprecated in favor of reg:squarederror.\n",
            "[17:32:42] WARNING: /workspace/src/objective/regression_obj.cu:152: reg:linear is now deprecated in favor of reg:squarederror.\n",
            "[17:32:42] WARNING: /workspace/src/objective/regression_obj.cu:152: reg:linear is now deprecated in favor of reg:squarederror.\n",
            "[17:32:42] WARNING: /workspace/src/objective/regression_obj.cu:152: reg:linear is now deprecated in favor of reg:squarederror.\n",
            "[17:32:42] WARNING: /workspace/src/objective/regression_obj.cu:152: reg:linear is now deprecated in favor of reg:squarederror.\n",
            "[17:32:43] WARNING: /workspace/src/objective/regression_obj.cu:152: reg:linear is now deprecated in favor of reg:squarederror.\n",
            "[17:32:43] WARNING: /workspace/src/objective/regression_obj.cu:152: reg:linear is now deprecated in favor of reg:squarederror.\n",
            "[17:32:43] WARNING: /workspace/src/objective/regression_obj.cu:152: reg:linear is now deprecated in favor of reg:squarederror.\n",
            "[17:32:44] WARNING: /workspace/src/objective/regression_obj.cu:152: reg:linear is now deprecated in favor of reg:squarederror.\n",
            "[17:32:44] WARNING: /workspace/src/objective/regression_obj.cu:152: reg:linear is now deprecated in favor of reg:squarederror.\n",
            "[17:32:44] WARNING: /workspace/src/objective/regression_obj.cu:152: reg:linear is now deprecated in favor of reg:squarederror.\n",
            "[17:32:44] WARNING: /workspace/src/objective/regression_obj.cu:152: reg:linear is now deprecated in favor of reg:squarederror.\n",
            "[17:32:45] WARNING: /workspace/src/objective/regression_obj.cu:152: reg:linear is now deprecated in favor of reg:squarederror.\n",
            "[17:32:45] WARNING: /workspace/src/objective/regression_obj.cu:152: reg:linear is now deprecated in favor of reg:squarederror.\n",
            "[17:32:45] WARNING: /workspace/src/objective/regression_obj.cu:152: reg:linear is now deprecated in favor of reg:squarederror.\n",
            "[17:32:46] WARNING: /workspace/src/objective/regression_obj.cu:152: reg:linear is now deprecated in favor of reg:squarederror.\n",
            "[17:32:46] WARNING: /workspace/src/objective/regression_obj.cu:152: reg:linear is now deprecated in favor of reg:squarederror.\n",
            "[17:32:46] WARNING: /workspace/src/objective/regression_obj.cu:152: reg:linear is now deprecated in favor of reg:squarederror.\n",
            "[17:32:47] WARNING: /workspace/src/objective/regression_obj.cu:152: reg:linear is now deprecated in favor of reg:squarederror.\n",
            "[17:32:47] WARNING: /workspace/src/objective/regression_obj.cu:152: reg:linear is now deprecated in favor of reg:squarederror.\n",
            "[17:32:47] WARNING: /workspace/src/objective/regression_obj.cu:152: reg:linear is now deprecated in favor of reg:squarederror.\n",
            "[17:32:47] WARNING: /workspace/src/objective/regression_obj.cu:152: reg:linear is now deprecated in favor of reg:squarederror.\n",
            "[17:32:48] WARNING: /workspace/src/objective/regression_obj.cu:152: reg:linear is now deprecated in favor of reg:squarederror.\n",
            "[17:32:48] WARNING: /workspace/src/objective/regression_obj.cu:152: reg:linear is now deprecated in favor of reg:squarederror.\n",
            "[17:32:49] WARNING: /workspace/src/objective/regression_obj.cu:152: reg:linear is now deprecated in favor of reg:squarederror.\n",
            "[17:32:49] WARNING: /workspace/src/objective/regression_obj.cu:152: reg:linear is now deprecated in favor of reg:squarederror.\n",
            "[17:32:49] WARNING: /workspace/src/objective/regression_obj.cu:152: reg:linear is now deprecated in favor of reg:squarederror.\n",
            "[17:32:49] WARNING: /workspace/src/objective/regression_obj.cu:152: reg:linear is now deprecated in favor of reg:squarederror.\n",
            "[17:32:49] WARNING: /workspace/src/objective/regression_obj.cu:152: reg:linear is now deprecated in favor of reg:squarederror.\n",
            "[17:32:50] WARNING: /workspace/src/objective/regression_obj.cu:152: reg:linear is now deprecated in favor of reg:squarederror.\n",
            "[17:32:50] WARNING: /workspace/src/objective/regression_obj.cu:152: reg:linear is now deprecated in favor of reg:squarederror.\n",
            "[17:32:51] WARNING: /workspace/src/objective/regression_obj.cu:152: reg:linear is now deprecated in favor of reg:squarederror.\n",
            "[17:32:51] WARNING: /workspace/src/objective/regression_obj.cu:152: reg:linear is now deprecated in favor of reg:squarederror.\n",
            "[17:32:51] WARNING: /workspace/src/objective/regression_obj.cu:152: reg:linear is now deprecated in favor of reg:squarederror.\n",
            "[17:32:52] WARNING: /workspace/src/objective/regression_obj.cu:152: reg:linear is now deprecated in favor of reg:squarederror.\n",
            "[17:32:52] WARNING: /workspace/src/objective/regression_obj.cu:152: reg:linear is now deprecated in favor of reg:squarederror.\n",
            "[17:32:52] WARNING: /workspace/src/objective/regression_obj.cu:152: reg:linear is now deprecated in favor of reg:squarederror.\n",
            "[17:32:52] WARNING: /workspace/src/objective/regression_obj.cu:152: reg:linear is now deprecated in favor of reg:squarederror.\n",
            "[17:32:53] WARNING: /workspace/src/objective/regression_obj.cu:152: reg:linear is now deprecated in favor of reg:squarederror.\n",
            "[17:32:53] WARNING: /workspace/src/objective/regression_obj.cu:152: reg:linear is now deprecated in favor of reg:squarederror.\n",
            "[17:32:54] WARNING: /workspace/src/objective/regression_obj.cu:152: reg:linear is now deprecated in favor of reg:squarederror.\n",
            "[17:32:54] WARNING: /workspace/src/objective/regression_obj.cu:152: reg:linear is now deprecated in favor of reg:squarederror.\n",
            "[17:32:54] WARNING: /workspace/src/objective/regression_obj.cu:152: reg:linear is now deprecated in favor of reg:squarederror.\n",
            "[17:32:54] WARNING: /workspace/src/objective/regression_obj.cu:152: reg:linear is now deprecated in favor of reg:squarederror.\n",
            "[17:32:55] WARNING: /workspace/src/objective/regression_obj.cu:152: reg:linear is now deprecated in favor of reg:squarederror.\n",
            "[17:32:55] WARNING: /workspace/src/objective/regression_obj.cu:152: reg:linear is now deprecated in favor of reg:squarederror.\n",
            "[17:32:55] WARNING: /workspace/src/objective/regression_obj.cu:152: reg:linear is now deprecated in favor of reg:squarederror.\n",
            "[17:32:56] WARNING: /workspace/src/objective/regression_obj.cu:152: reg:linear is now deprecated in favor of reg:squarederror.\n",
            "[17:32:56] WARNING: /workspace/src/objective/regression_obj.cu:152: reg:linear is now deprecated in favor of reg:squarederror.\n",
            "[17:32:57] WARNING: /workspace/src/objective/regression_obj.cu:152: reg:linear is now deprecated in favor of reg:squarederror.\n",
            "[17:32:57] WARNING: /workspace/src/objective/regression_obj.cu:152: reg:linear is now deprecated in favor of reg:squarederror.\n",
            "[17:32:57] WARNING: /workspace/src/objective/regression_obj.cu:152: reg:linear is now deprecated in favor of reg:squarederror.\n",
            "[17:32:57] WARNING: /workspace/src/objective/regression_obj.cu:152: reg:linear is now deprecated in favor of reg:squarederror.\n",
            "[17:32:58] WARNING: /workspace/src/objective/regression_obj.cu:152: reg:linear is now deprecated in favor of reg:squarederror.\n",
            "[17:32:58] WARNING: /workspace/src/objective/regression_obj.cu:152: reg:linear is now deprecated in favor of reg:squarederror.\n",
            "[17:32:59] WARNING: /workspace/src/objective/regression_obj.cu:152: reg:linear is now deprecated in favor of reg:squarederror.\n",
            "[17:32:59] WARNING: /workspace/src/objective/regression_obj.cu:152: reg:linear is now deprecated in favor of reg:squarederror.\n",
            "[17:32:59] WARNING: /workspace/src/objective/regression_obj.cu:152: reg:linear is now deprecated in favor of reg:squarederror.\n",
            "[17:33:00] WARNING: /workspace/src/objective/regression_obj.cu:152: reg:linear is now deprecated in favor of reg:squarederror.\n",
            "[17:33:00] WARNING: /workspace/src/objective/regression_obj.cu:152: reg:linear is now deprecated in favor of reg:squarederror.\n",
            "[17:33:00] WARNING: /workspace/src/objective/regression_obj.cu:152: reg:linear is now deprecated in favor of reg:squarederror.\n",
            "[17:33:00] WARNING: /workspace/src/objective/regression_obj.cu:152: reg:linear is now deprecated in favor of reg:squarederror.\n",
            "[17:33:01] WARNING: /workspace/src/objective/regression_obj.cu:152: reg:linear is now deprecated in favor of reg:squarederror.\n",
            "[17:33:01] WARNING: /workspace/src/objective/regression_obj.cu:152: reg:linear is now deprecated in favor of reg:squarederror.\n",
            "[17:33:02] WARNING: /workspace/src/objective/regression_obj.cu:152: reg:linear is now deprecated in favor of reg:squarederror.\n",
            "[17:33:02] WARNING: /workspace/src/objective/regression_obj.cu:152: reg:linear is now deprecated in favor of reg:squarederror.\n",
            "[17:33:02] WARNING: /workspace/src/objective/regression_obj.cu:152: reg:linear is now deprecated in favor of reg:squarederror.\n",
            "[17:33:03] WARNING: /workspace/src/objective/regression_obj.cu:152: reg:linear is now deprecated in favor of reg:squarederror.\n",
            "[17:33:03] WARNING: /workspace/src/objective/regression_obj.cu:152: reg:linear is now deprecated in favor of reg:squarederror.\n",
            "[17:33:03] WARNING: /workspace/src/objective/regression_obj.cu:152: reg:linear is now deprecated in favor of reg:squarederror.\n",
            "[17:33:04] WARNING: /workspace/src/objective/regression_obj.cu:152: reg:linear is now deprecated in favor of reg:squarederror.\n",
            "[17:33:04] WARNING: /workspace/src/objective/regression_obj.cu:152: reg:linear is now deprecated in favor of reg:squarederror.\n",
            "[17:33:05] WARNING: /workspace/src/objective/regression_obj.cu:152: reg:linear is now deprecated in favor of reg:squarederror.\n",
            "[17:33:05] WARNING: /workspace/src/objective/regression_obj.cu:152: reg:linear is now deprecated in favor of reg:squarederror.\n",
            "[17:33:05] WARNING: /workspace/src/objective/regression_obj.cu:152: reg:linear is now deprecated in favor of reg:squarederror.\n",
            "[17:33:05] WARNING: /workspace/src/objective/regression_obj.cu:152: reg:linear is now deprecated in favor of reg:squarederror.\n",
            "[17:33:06] WARNING: /workspace/src/objective/regression_obj.cu:152: reg:linear is now deprecated in favor of reg:squarederror.\n",
            "[17:33:06] WARNING: /workspace/src/objective/regression_obj.cu:152: reg:linear is now deprecated in favor of reg:squarederror.\n",
            "[17:33:07] WARNING: /workspace/src/objective/regression_obj.cu:152: reg:linear is now deprecated in favor of reg:squarederror.\n",
            "[17:33:07] WARNING: /workspace/src/objective/regression_obj.cu:152: reg:linear is now deprecated in favor of reg:squarederror.\n",
            "[17:33:08] WARNING: /workspace/src/objective/regression_obj.cu:152: reg:linear is now deprecated in favor of reg:squarederror.\n",
            "[17:33:08] WARNING: /workspace/src/objective/regression_obj.cu:152: reg:linear is now deprecated in favor of reg:squarederror.\n",
            "[17:33:08] WARNING: /workspace/src/objective/regression_obj.cu:152: reg:linear is now deprecated in favor of reg:squarederror.\n",
            "[17:33:08] WARNING: /workspace/src/objective/regression_obj.cu:152: reg:linear is now deprecated in favor of reg:squarederror.\n",
            "[17:33:09] WARNING: /workspace/src/objective/regression_obj.cu:152: reg:linear is now deprecated in favor of reg:squarederror.\n",
            "[17:33:09] WARNING: /workspace/src/objective/regression_obj.cu:152: reg:linear is now deprecated in favor of reg:squarederror.\n",
            "[17:33:10] WARNING: /workspace/src/objective/regression_obj.cu:152: reg:linear is now deprecated in favor of reg:squarederror.\n",
            "[17:33:10] WARNING: /workspace/src/objective/regression_obj.cu:152: reg:linear is now deprecated in favor of reg:squarederror.\n",
            "[17:33:10] WARNING: /workspace/src/objective/regression_obj.cu:152: reg:linear is now deprecated in favor of reg:squarederror.\n",
            "\n",
            "Minutes taken = 0.8810317357381184\n"
          ],
          "name": "stdout"
        },
        {
          "output_type": "execute_result",
          "data": {
            "text/html": [
              "<div>\n",
              "<style scoped>\n",
              "    .dataframe tbody tr th:only-of-type {\n",
              "        vertical-align: middle;\n",
              "    }\n",
              "\n",
              "    .dataframe tbody tr th {\n",
              "        vertical-align: top;\n",
              "    }\n",
              "\n",
              "    .dataframe thead th {\n",
              "        text-align: right;\n",
              "    }\n",
              "</style>\n",
              "<table border=\"1\" class=\"dataframe\">\n",
              "  <thead>\n",
              "    <tr style=\"text-align: right;\">\n",
              "      <th></th>\n",
              "      <th>n_estimators</th>\n",
              "      <th>max_depth</th>\n",
              "      <th>rmse</th>\n",
              "      <th>mape_pct</th>\n",
              "    </tr>\n",
              "  </thead>\n",
              "  <tbody>\n",
              "    <tr>\n",
              "      <th>0</th>\n",
              "      <td>10</td>\n",
              "      <td>2</td>\n",
              "      <td>12.330675</td>\n",
              "      <td>1.738870</td>\n",
              "    </tr>\n",
              "    <tr>\n",
              "      <th>1</th>\n",
              "      <td>10</td>\n",
              "      <td>3</td>\n",
              "      <td>12.498215</td>\n",
              "      <td>1.758068</td>\n",
              "    </tr>\n",
              "    <tr>\n",
              "      <th>2</th>\n",
              "      <td>10</td>\n",
              "      <td>4</td>\n",
              "      <td>12.554686</td>\n",
              "      <td>1.764397</td>\n",
              "    </tr>\n",
              "    <tr>\n",
              "      <th>3</th>\n",
              "      <td>10</td>\n",
              "      <td>5</td>\n",
              "      <td>12.527084</td>\n",
              "      <td>1.758448</td>\n",
              "    </tr>\n",
              "    <tr>\n",
              "      <th>4</th>\n",
              "      <td>10</td>\n",
              "      <td>6</td>\n",
              "      <td>12.607372</td>\n",
              "      <td>1.768426</td>\n",
              "    </tr>\n",
              "    <tr>\n",
              "      <th>...</th>\n",
              "      <td>...</td>\n",
              "      <td>...</td>\n",
              "      <td>...</td>\n",
              "      <td>...</td>\n",
              "    </tr>\n",
              "    <tr>\n",
              "      <th>235</th>\n",
              "      <td>300</td>\n",
              "      <td>5</td>\n",
              "      <td>11.870788</td>\n",
              "      <td>1.671160</td>\n",
              "    </tr>\n",
              "    <tr>\n",
              "      <th>236</th>\n",
              "      <td>300</td>\n",
              "      <td>6</td>\n",
              "      <td>11.924322</td>\n",
              "      <td>1.679810</td>\n",
              "    </tr>\n",
              "    <tr>\n",
              "      <th>237</th>\n",
              "      <td>300</td>\n",
              "      <td>7</td>\n",
              "      <td>12.007212</td>\n",
              "      <td>1.686269</td>\n",
              "    </tr>\n",
              "    <tr>\n",
              "      <th>238</th>\n",
              "      <td>300</td>\n",
              "      <td>8</td>\n",
              "      <td>11.861864</td>\n",
              "      <td>1.673128</td>\n",
              "    </tr>\n",
              "    <tr>\n",
              "      <th>239</th>\n",
              "      <td>300</td>\n",
              "      <td>9</td>\n",
              "      <td>11.864757</td>\n",
              "      <td>1.671610</td>\n",
              "    </tr>\n",
              "  </tbody>\n",
              "</table>\n",
              "<p>240 rows × 4 columns</p>\n",
              "</div>"
            ],
            "text/plain": [
              "     n_estimators  max_depth       rmse  mape_pct\n",
              "0              10          2  12.330675  1.738870\n",
              "1              10          3  12.498215  1.758068\n",
              "2              10          4  12.554686  1.764397\n",
              "3              10          5  12.527084  1.758448\n",
              "4              10          6  12.607372  1.768426\n",
              "..            ...        ...        ...       ...\n",
              "235           300          5  11.870788  1.671160\n",
              "236           300          6  11.924322  1.679810\n",
              "237           300          7  12.007212  1.686269\n",
              "238           300          8  11.861864  1.673128\n",
              "239           300          9  11.864757  1.671610\n",
              "\n",
              "[240 rows x 4 columns]"
            ]
          },
          "metadata": {
            "tags": []
          },
          "execution_count": 619
        }
      ]
    },
    {
      "cell_type": "code",
      "metadata": {
        "scrolled": true,
        "id": "KioyYPMETJi-",
        "colab_type": "code",
        "outputId": "c00fbb80-6320-451e-9433-babaa67ab2cb",
        "colab": {
          "base_uri": "https://localhost:8080/",
          "height": 498
        }
      },
      "source": [
        "# Plot performance versus params\n",
        "rcParams['figure.figsize'] = 10, 8 # width 10, height 8\n",
        "temp = error_rate[error_rate[param2_label]==param2_list[0]]\n",
        "ax = temp.plot(x=param_label, y='rmse', style='bs-', grid=True)\n",
        "legend_list = [param2_label + '_' + str(param2_list[0])]\n",
        "\n",
        "color_list = ['r', 'g', 'k', 'y', 'm', 'c', '0.75']\n",
        "for i in range(1,len(param2_list)):\n",
        "    temp = error_rate[error_rate[param2_label]==param2_list[i]]\n",
        "    ax = temp.plot(x=param_label, y='rmse', color=color_list[i%len(color_list)], marker='s', grid=True, ax=ax)\n",
        "    legend_list.append(param2_label + '_' + str(param2_list[i]))\n",
        "\n",
        "ax.set_xlabel(param_label)\n",
        "ax.set_ylabel(\"RMSE\")\n",
        "matplotlib.rcParams.update({'font.size': 14})\n",
        "plt.legend(legend_list, loc='center left', bbox_to_anchor=(1.0, 0.5)) # positions legend outside figure\n",
        "\n",
        "fig = ax.get_figure()\n",
        "fig.savefig(\"/content/ouput/tuningdepth.pdf\",bbox_inches='tight')"
      ],
      "execution_count": 0,
      "outputs": [
        {
          "output_type": "display_data",
          "data": {
            "image/png": "[encoded data removed]",
            "text/plain": [
              "<Figure size 720x576 with 1 Axes>"
            ]
          },
          "metadata": {
            "tags": [],
            "needs_background": "light"
          }
        }
      ]
    },
    {
      "cell_type": "code",
      "metadata": {
        "id": "Iuw2NG1PTJjI",
        "colab_type": "code",
        "outputId": "aa411c72-0250-4aaf-8c65-6b1514c2567b",
        "colab": {
          "base_uri": "https://localhost:8080/",
          "height": 71
        }
      },
      "source": [
        "# Get optimum value for param and param2\n",
        "temp = error_rate[error_rate['rmse'] == error_rate['rmse'].min()]\n",
        "n_estimators_opt = temp['n_estimators'].values[0]\n",
        "max_depth_opt = temp['max_depth'].values[0]\n",
        "print(\"min RMSE = %0.3f\" % error_rate['rmse'].min())\n",
        "print(\"optimum params = \")\n",
        "n_estimators_opt, max_depth_opt"
      ],
      "execution_count": 0,
      "outputs": [
        {
          "output_type": "stream",
          "text": [
            "min RMSE = 11.800\n",
            "optimum params = \n"
          ],
          "name": "stdout"
        },
        {
          "output_type": "execute_result",
          "data": {
            "text/plain": [
              "(70, 2)"
            ]
          },
          "metadata": {
            "tags": []
          },
          "execution_count": 621
        }
      ]
    },
    {
      "cell_type": "code",
      "metadata": {
        "id": "4bo5G4g9TJjS",
        "colab_type": "code",
        "outputId": "d275282f-f437-4d2b-f6aa-32d666397071",
        "colab": {
          "base_uri": "https://localhost:8080/",
          "height": 71
        }
      },
      "source": [
        "# Get optimum value for param and param2, using MAPE\n",
        "temp = error_rate[error_rate['mape_pct'] == error_rate['mape_pct'].min()]\n",
        "print(\"min MAPE = %0.3f%%\" % error_rate['mape_pct'].min())\n",
        "print(\"optimum params = \")\n",
        "temp['n_estimators'].values[0], temp['max_depth'].values[0]"
      ],
      "execution_count": 0,
      "outputs": [
        {
          "output_type": "stream",
          "text": [
            "min MAPE = 1.659%\n",
            "optimum params = \n"
          ],
          "name": "stdout"
        },
        {
          "output_type": "execute_result",
          "data": {
            "text/plain": [
              "(140, 2)"
            ]
          },
          "metadata": {
            "tags": []
          },
          "execution_count": 622
        }
      ]
    },
    {
      "cell_type": "markdown",
      "metadata": {
        "id": "CngXcz8xTJja",
        "colab_type": "text"
      },
      "source": [
        "# Tuning XGBoost - learning_rate(default=0.1) and min_child_weight(default=1)"
      ]
    },
    {
      "cell_type": "code",
      "metadata": {
        "id": "a5gGagmaTJjc",
        "colab_type": "code",
        "outputId": "e285f6d5-fab0-40ff-8c7a-252a3c886e1a",
        "colab": {
          "base_uri": "https://localhost:8080/",
          "height": 1000,
          "referenced_widgets": [
            "bf212eb2fbbc4fadbd2cd15d6374951a",
            "e5ddc178143347b681375c58d6a53743",
            "781ff917e7c74279a004e63a27460b28",
            "e888b50d9b29426bbdd060bd03b36c84",
            "66f51d7bec1f47aab8fea536f3435df0",
            "859b676f94a8498fa5c0cae8923947c3",
            "1c48b0072a5744f29e7745fbe1d8933a",
            "c58cde16cd8f43e0a5603efa67383b04"
          ]
        }
      },
      "source": [
        "param_label = 'learning_rate'\n",
        "param_list = [0.001, 0.005, 0.01, 0.05, 0.1, 0.2, 0.3]\n",
        "\n",
        "param2_label = 'min_child_weight'\n",
        "param2_list = range(5, 21, 1)\n",
        "\n",
        "error_rate = {param_label: [] , param2_label: [], 'rmse': [], 'mape_pct': []}\n",
        "tic = time.time()\n",
        "for param in tqdm_notebook(param_list):\n",
        "#     print(\"param = \" + str(param))\n",
        "    \n",
        "    for param2 in param2_list:\n",
        "        # Train, predict and eval model\n",
        "        rmse, mape, _ = train_pred_eval_model(X_train_scaled, \n",
        "                                     y_train_scaled, \n",
        "                                     X_cv_scaled, \n",
        "                                     y_cv, \n",
        "                                     cv['adj_close_mean'],\n",
        "                                     cv['adj_close_std'],\n",
        "                                     seed=model_seed,\n",
        "                                     n_estimators=n_estimators_opt, \n",
        "                                     max_depth=max_depth_opt, \n",
        "                                     learning_rate=param, \n",
        "                                     min_child_weight=param2, \n",
        "                                     subsample=subsample, \n",
        "                                     colsample_bytree=colsample_bytree, \n",
        "                                     colsample_bylevel=colsample_bylevel, \n",
        "                                     gamma=gamma)\n",
        "    \n",
        "        # Collect results\n",
        "        error_rate[param_label].append(param)\n",
        "        error_rate[param2_label].append(param2)\n",
        "        error_rate['rmse'].append(rmse)\n",
        "        error_rate['mape_pct'].append(mape)\n",
        "    \n",
        "error_rate = pd.DataFrame(error_rate)\n",
        "toc = time.time()\n",
        "print(\"Minutes taken = \" + str((toc-tic)/60.0))\n",
        "error_rate   "
      ],
      "execution_count": 0,
      "outputs": [
        {
          "output_type": "stream",
          "text": [
            "/usr/local/lib/python3.6/dist-packages/ipykernel_launcher.py:9: TqdmDeprecationWarning: This function will be removed in tqdm==5.0.0\n",
            "Please use `tqdm.notebook.tqdm` instead of `tqdm.tqdm_notebook`\n",
            "  if __name__ == '__main__':\n"
          ],
          "name": "stderr"
        },
        {
          "output_type": "display_data",
          "data": {
            "application/vnd.jupyter.widget-view+json": {
              "model_id": "bf212eb2fbbc4fadbd2cd15d6374951a",
              "version_minor": 0,
              "version_major": 2
            },
            "text/plain": [
              "HBox(children=(IntProgress(value=0, max=7), HTML(value='')))"
            ]
          },
          "metadata": {
            "tags": []
          }
        },
        {
          "output_type": "stream",
          "text": [
            "[17:33:12] WARNING: /workspace/src/objective/regression_obj.cu:152: reg:linear is now deprecated in favor of reg:squarederror.\n",
            "[17:33:12] WARNING: /workspace/src/objective/regression_obj.cu:152: reg:linear is now deprecated in favor of reg:squarederror.\n",
            "[17:33:12] WARNING: /workspace/src/objective/regression_obj.cu:152: reg:linear is now deprecated in favor of reg:squarederror.\n",
            "[17:33:12] WARNING: /workspace/src/objective/regression_obj.cu:152: reg:linear is now deprecated in favor of reg:squarederror.\n",
            "[17:33:12] WARNING: /workspace/src/objective/regression_obj.cu:152: reg:linear is now deprecated in favor of reg:squarederror.\n",
            "[17:33:12] WARNING: /workspace/src/objective/regression_obj.cu:152: reg:linear is now deprecated in favor of reg:squarederror.\n",
            "[17:33:12] WARNING: /workspace/src/objective/regression_obj.cu:152: reg:linear is now deprecated in favor of reg:squarederror.\n",
            "[17:33:12] WARNING: /workspace/src/objective/regression_obj.cu:152: reg:linear is now deprecated in favor of reg:squarederror.\n",
            "[17:33:12] WARNING: /workspace/src/objective/regression_obj.cu:152: reg:linear is now deprecated in favor of reg:squarederror.\n",
            "[17:33:12] WARNING: /workspace/src/objective/regression_obj.cu:152: reg:linear is now deprecated in favor of reg:squarederror.\n",
            "[17:33:12] WARNING: /workspace/src/objective/regression_obj.cu:152: reg:linear is now deprecated in favor of reg:squarederror.\n",
            "[17:33:12] WARNING: /workspace/src/objective/regression_obj.cu:152: reg:linear is now deprecated in favor of reg:squarederror.\n",
            "[17:33:12] WARNING: /workspace/src/objective/regression_obj.cu:152: reg:linear is now deprecated in favor of reg:squarederror.\n",
            "[17:33:12] WARNING: /workspace/src/objective/regression_obj.cu:152: reg:linear is now deprecated in favor of reg:squarederror.\n",
            "[17:33:12] WARNING: /workspace/src/objective/regression_obj.cu:152: reg:linear is now deprecated in favor of reg:squarederror.\n",
            "[17:33:12] WARNING: /workspace/src/objective/regression_obj.cu:152: reg:linear is now deprecated in favor of reg:squarederror.\n",
            "[17:33:12] WARNING: /workspace/src/objective/regression_obj.cu:152: reg:linear is now deprecated in favor of reg:squarederror.\n",
            "[17:33:12] WARNING: /workspace/src/objective/regression_obj.cu:152: reg:linear is now deprecated in favor of reg:squarederror.\n",
            "[17:33:12] WARNING: /workspace/src/objective/regression_obj.cu:152: reg:linear is now deprecated in favor of reg:squarederror.\n",
            "[17:33:12] WARNING: /workspace/src/objective/regression_obj.cu:152: reg:linear is now deprecated in favor of reg:squarederror.\n",
            "[17:33:13] WARNING: /workspace/src/objective/regression_obj.cu:152: reg:linear is now deprecated in favor of reg:squarederror.\n",
            "[17:33:13] WARNING: /workspace/src/objective/regression_obj.cu:152: reg:linear is now deprecated in favor of reg:squarederror.\n",
            "[17:33:13] WARNING: /workspace/src/objective/regression_obj.cu:152: reg:linear is now deprecated in favor of reg:squarederror.\n",
            "[17:33:13] WARNING: /workspace/src/objective/regression_obj.cu:152: reg:linear is now deprecated in favor of reg:squarederror.\n",
            "[17:33:13] WARNING: /workspace/src/objective/regression_obj.cu:152: reg:linear is now deprecated in favor of reg:squarederror.\n",
            "[17:33:13] WARNING: /workspace/src/objective/regression_obj.cu:152: reg:linear is now deprecated in favor of reg:squarederror.\n",
            "[17:33:13] WARNING: /workspace/src/objective/regression_obj.cu:152: reg:linear is now deprecated in favor of reg:squarederror.\n",
            "[17:33:13] WARNING: /workspace/src/objective/regression_obj.cu:152: reg:linear is now deprecated in favor of reg:squarederror.\n",
            "[17:33:13] WARNING: /workspace/src/objective/regression_obj.cu:152: reg:linear is now deprecated in favor of reg:squarederror.\n",
            "[17:33:13] WARNING: /workspace/src/objective/regression_obj.cu:152: reg:linear is now deprecated in favor of reg:squarederror.\n",
            "[17:33:13] WARNING: /workspace/src/objective/regression_obj.cu:152: reg:linear is now deprecated in favor of reg:squarederror.\n",
            "[17:33:13] WARNING: /workspace/src/objective/regression_obj.cu:152: reg:linear is now deprecated in favor of reg:squarederror.\n",
            "[17:33:13] WARNING: /workspace/src/objective/regression_obj.cu:152: reg:linear is now deprecated in favor of reg:squarederror.\n",
            "[17:33:13] WARNING: /workspace/src/objective/regression_obj.cu:152: reg:linear is now deprecated in favor of reg:squarederror.\n",
            "[17:33:13] WARNING: /workspace/src/objective/regression_obj.cu:152: reg:linear is now deprecated in favor of reg:squarederror.\n",
            "[17:33:13] WARNING: /workspace/src/objective/regression_obj.cu:152: reg:linear is now deprecated in favor of reg:squarederror.\n",
            "[17:33:13] WARNING: /workspace/src/objective/regression_obj.cu:152: reg:linear is now deprecated in favor of reg:squarederror.\n",
            "[17:33:13] WARNING: /workspace/src/objective/regression_obj.cu:152: reg:linear is now deprecated in favor of reg:squarederror.\n",
            "[17:33:13] WARNING: /workspace/src/objective/regression_obj.cu:152: reg:linear is now deprecated in favor of reg:squarederror.\n",
            "[17:33:13] WARNING: /workspace/src/objective/regression_obj.cu:152: reg:linear is now deprecated in favor of reg:squarederror.\n",
            "[17:33:13] WARNING: /workspace/src/objective/regression_obj.cu:152: reg:linear is now deprecated in favor of reg:squarederror.\n",
            "[17:33:13] WARNING: /workspace/src/objective/regression_obj.cu:152: reg:linear is now deprecated in favor of reg:squarederror.\n",
            "[17:33:14] WARNING: /workspace/src/objective/regression_obj.cu:152: reg:linear is now deprecated in favor of reg:squarederror.\n",
            "[17:33:14] WARNING: /workspace/src/objective/regression_obj.cu:152: reg:linear is now deprecated in favor of reg:squarederror.\n",
            "[17:33:14] WARNING: /workspace/src/objective/regression_obj.cu:152: reg:linear is now deprecated in favor of reg:squarederror.\n",
            "[17:33:14] WARNING: /workspace/src/objective/regression_obj.cu:152: reg:linear is now deprecated in favor of reg:squarederror.\n",
            "[17:33:14] WARNING: /workspace/src/objective/regression_obj.cu:152: reg:linear is now deprecated in favor of reg:squarederror.\n",
            "[17:33:14] WARNING: /workspace/src/objective/regression_obj.cu:152: reg:linear is now deprecated in favor of reg:squarederror.\n",
            "[17:33:14] WARNING: /workspace/src/objective/regression_obj.cu:152: reg:linear is now deprecated in favor of reg:squarederror.\n",
            "[17:33:14] WARNING: /workspace/src/objective/regression_obj.cu:152: reg:linear is now deprecated in favor of reg:squarederror.\n",
            "[17:33:14] WARNING: /workspace/src/objective/regression_obj.cu:152: reg:linear is now deprecated in favor of reg:squarederror.\n",
            "[17:33:14] WARNING: /workspace/src/objective/regression_obj.cu:152: reg:linear is now deprecated in favor of reg:squarederror.\n",
            "[17:33:14] WARNING: /workspace/src/objective/regression_obj.cu:152: reg:linear is now deprecated in favor of reg:squarederror.\n",
            "[17:33:14] WARNING: /workspace/src/objective/regression_obj.cu:152: reg:linear is now deprecated in favor of reg:squarederror.\n",
            "[17:33:14] WARNING: /workspace/src/objective/regression_obj.cu:152: reg:linear is now deprecated in favor of reg:squarederror.\n",
            "[17:33:14] WARNING: /workspace/src/objective/regression_obj.cu:152: reg:linear is now deprecated in favor of reg:squarederror.\n",
            "[17:33:14] WARNING: /workspace/src/objective/regression_obj.cu:152: reg:linear is now deprecated in favor of reg:squarederror.\n",
            "[17:33:14] WARNING: /workspace/src/objective/regression_obj.cu:152: reg:linear is now deprecated in favor of reg:squarederror.\n",
            "[17:33:14] WARNING: /workspace/src/objective/regression_obj.cu:152: reg:linear is now deprecated in favor of reg:squarederror.\n",
            "[17:33:14] WARNING: /workspace/src/objective/regression_obj.cu:152: reg:linear is now deprecated in favor of reg:squarederror.\n",
            "[17:33:14] WARNING: /workspace/src/objective/regression_obj.cu:152: reg:linear is now deprecated in favor of reg:squarederror.\n",
            "[17:33:14] WARNING: /workspace/src/objective/regression_obj.cu:152: reg:linear is now deprecated in favor of reg:squarederror.\n",
            "[17:33:14] WARNING: /workspace/src/objective/regression_obj.cu:152: reg:linear is now deprecated in favor of reg:squarederror.\n",
            "[17:33:14] WARNING: /workspace/src/objective/regression_obj.cu:152: reg:linear is now deprecated in favor of reg:squarederror.\n",
            "[17:33:15] WARNING: /workspace/src/objective/regression_obj.cu:152: reg:linear is now deprecated in favor of reg:squarederror.\n",
            "[17:33:15] WARNING: /workspace/src/objective/regression_obj.cu:152: reg:linear is now deprecated in favor of reg:squarederror.\n",
            "[17:33:15] WARNING: /workspace/src/objective/regression_obj.cu:152: reg:linear is now deprecated in favor of reg:squarederror.\n",
            "[17:33:15] WARNING: /workspace/src/objective/regression_obj.cu:152: reg:linear is now deprecated in favor of reg:squarederror.\n",
            "[17:33:15] WARNING: /workspace/src/objective/regression_obj.cu:152: reg:linear is now deprecated in favor of reg:squarederror.\n",
            "[17:33:15] WARNING: /workspace/src/objective/regression_obj.cu:152: reg:linear is now deprecated in favor of reg:squarederror.\n",
            "[17:33:15] WARNING: /workspace/src/objective/regression_obj.cu:152: reg:linear is now deprecated in favor of reg:squarederror.\n",
            "[17:33:15] WARNING: /workspace/src/objective/regression_obj.cu:152: reg:linear is now deprecated in favor of reg:squarederror.\n",
            "[17:33:15] WARNING: /workspace/src/objective/regression_obj.cu:152: reg:linear is now deprecated in favor of reg:squarederror.\n",
            "[17:33:15] WARNING: /workspace/src/objective/regression_obj.cu:152: reg:linear is now deprecated in favor of reg:squarederror.\n",
            "[17:33:15] WARNING: /workspace/src/objective/regression_obj.cu:152: reg:linear is now deprecated in favor of reg:squarederror.\n",
            "[17:33:15] WARNING: /workspace/src/objective/regression_obj.cu:152: reg:linear is now deprecated in favor of reg:squarederror.\n",
            "[17:33:15] WARNING: /workspace/src/objective/regression_obj.cu:152: reg:linear is now deprecated in favor of reg:squarederror.\n",
            "[17:33:15] WARNING: /workspace/src/objective/regression_obj.cu:152: reg:linear is now deprecated in favor of reg:squarederror.\n",
            "[17:33:15] WARNING: /workspace/src/objective/regression_obj.cu:152: reg:linear is now deprecated in favor of reg:squarederror.\n",
            "[17:33:15] WARNING: /workspace/src/objective/regression_obj.cu:152: reg:linear is now deprecated in favor of reg:squarederror.\n",
            "[17:33:15] WARNING: /workspace/src/objective/regression_obj.cu:152: reg:linear is now deprecated in favor of reg:squarederror.\n",
            "[17:33:15] WARNING: /workspace/src/objective/regression_obj.cu:152: reg:linear is now deprecated in favor of reg:squarederror.\n",
            "[17:33:15] WARNING: /workspace/src/objective/regression_obj.cu:152: reg:linear is now deprecated in favor of reg:squarederror.\n",
            "[17:33:15] WARNING: /workspace/src/objective/regression_obj.cu:152: reg:linear is now deprecated in favor of reg:squarederror.\n",
            "[17:33:15] WARNING: /workspace/src/objective/regression_obj.cu:152: reg:linear is now deprecated in favor of reg:squarederror.\n",
            "[17:33:16] WARNING: /workspace/src/objective/regression_obj.cu:152: reg:linear is now deprecated in favor of reg:squarederror.\n",
            "[17:33:16] WARNING: /workspace/src/objective/regression_obj.cu:152: reg:linear is now deprecated in favor of reg:squarederror.\n",
            "[17:33:16] WARNING: /workspace/src/objective/regression_obj.cu:152: reg:linear is now deprecated in favor of reg:squarederror.\n",
            "[17:33:16] WARNING: /workspace/src/objective/regression_obj.cu:152: reg:linear is now deprecated in favor of reg:squarederror.\n",
            "[17:33:16] WARNING: /workspace/src/objective/regression_obj.cu:152: reg:linear is now deprecated in favor of reg:squarederror.\n",
            "[17:33:16] WARNING: /workspace/src/objective/regression_obj.cu:152: reg:linear is now deprecated in favor of reg:squarederror.\n",
            "[17:33:16] WARNING: /workspace/src/objective/regression_obj.cu:152: reg:linear is now deprecated in favor of reg:squarederror.\n",
            "[17:33:16] WARNING: /workspace/src/objective/regression_obj.cu:152: reg:linear is now deprecated in favor of reg:squarederror.\n",
            "[17:33:16] WARNING: /workspace/src/objective/regression_obj.cu:152: reg:linear is now deprecated in favor of reg:squarederror.\n",
            "[17:33:16] WARNING: /workspace/src/objective/regression_obj.cu:152: reg:linear is now deprecated in favor of reg:squarederror.\n",
            "[17:33:16] WARNING: /workspace/src/objective/regression_obj.cu:152: reg:linear is now deprecated in favor of reg:squarederror.\n",
            "[17:33:16] WARNING: /workspace/src/objective/regression_obj.cu:152: reg:linear is now deprecated in favor of reg:squarederror.\n",
            "[17:33:16] WARNING: /workspace/src/objective/regression_obj.cu:152: reg:linear is now deprecated in favor of reg:squarederror.\n",
            "[17:33:16] WARNING: /workspace/src/objective/regression_obj.cu:152: reg:linear is now deprecated in favor of reg:squarederror.\n",
            "[17:33:16] WARNING: /workspace/src/objective/regression_obj.cu:152: reg:linear is now deprecated in favor of reg:squarederror.\n",
            "[17:33:16] WARNING: /workspace/src/objective/regression_obj.cu:152: reg:linear is now deprecated in favor of reg:squarederror.\n",
            "[17:33:16] WARNING: /workspace/src/objective/regression_obj.cu:152: reg:linear is now deprecated in favor of reg:squarederror.\n",
            "[17:33:16] WARNING: /workspace/src/objective/regression_obj.cu:152: reg:linear is now deprecated in favor of reg:squarederror.\n",
            "[17:33:16] WARNING: /workspace/src/objective/regression_obj.cu:152: reg:linear is now deprecated in favor of reg:squarederror.\n",
            "[17:33:16] WARNING: /workspace/src/objective/regression_obj.cu:152: reg:linear is now deprecated in favor of reg:squarederror.\n",
            "[17:33:16] WARNING: /workspace/src/objective/regression_obj.cu:152: reg:linear is now deprecated in favor of reg:squarederror.\n",
            "[17:33:16] WARNING: /workspace/src/objective/regression_obj.cu:152: reg:linear is now deprecated in favor of reg:squarederror.\n",
            "[17:33:17] WARNING: /workspace/src/objective/regression_obj.cu:152: reg:linear is now deprecated in favor of reg:squarederror.\n",
            "[17:33:17] WARNING: /workspace/src/objective/regression_obj.cu:152: reg:linear is now deprecated in favor of reg:squarederror.\n",
            "[17:33:17] WARNING: /workspace/src/objective/regression_obj.cu:152: reg:linear is now deprecated in favor of reg:squarederror.\n",
            "[17:33:17] WARNING: /workspace/src/objective/regression_obj.cu:152: reg:linear is now deprecated in favor of reg:squarederror.\n",
            "[17:33:17] WARNING: /workspace/src/objective/regression_obj.cu:152: reg:linear is now deprecated in favor of reg:squarederror.\n",
            "\n",
            "Minutes taken = 0.08694041570027669\n"
          ],
          "name": "stdout"
        },
        {
          "output_type": "execute_result",
          "data": {
            "text/html": [
              "<div>\n",
              "<style scoped>\n",
              "    .dataframe tbody tr th:only-of-type {\n",
              "        vertical-align: middle;\n",
              "    }\n",
              "\n",
              "    .dataframe tbody tr th {\n",
              "        vertical-align: top;\n",
              "    }\n",
              "\n",
              "    .dataframe thead th {\n",
              "        text-align: right;\n",
              "    }\n",
              "</style>\n",
              "<table border=\"1\" class=\"dataframe\">\n",
              "  <thead>\n",
              "    <tr style=\"text-align: right;\">\n",
              "      <th></th>\n",
              "      <th>learning_rate</th>\n",
              "      <th>min_child_weight</th>\n",
              "      <th>rmse</th>\n",
              "      <th>mape_pct</th>\n",
              "    </tr>\n",
              "  </thead>\n",
              "  <tbody>\n",
              "    <tr>\n",
              "      <th>0</th>\n",
              "      <td>0.001</td>\n",
              "      <td>5</td>\n",
              "      <td>15.693433</td>\n",
              "      <td>2.180206</td>\n",
              "    </tr>\n",
              "    <tr>\n",
              "      <th>1</th>\n",
              "      <td>0.001</td>\n",
              "      <td>6</td>\n",
              "      <td>15.693433</td>\n",
              "      <td>2.180206</td>\n",
              "    </tr>\n",
              "    <tr>\n",
              "      <th>2</th>\n",
              "      <td>0.001</td>\n",
              "      <td>7</td>\n",
              "      <td>15.693433</td>\n",
              "      <td>2.180206</td>\n",
              "    </tr>\n",
              "    <tr>\n",
              "      <th>3</th>\n",
              "      <td>0.001</td>\n",
              "      <td>8</td>\n",
              "      <td>15.693433</td>\n",
              "      <td>2.180206</td>\n",
              "    </tr>\n",
              "    <tr>\n",
              "      <th>4</th>\n",
              "      <td>0.001</td>\n",
              "      <td>9</td>\n",
              "      <td>15.693433</td>\n",
              "      <td>2.180206</td>\n",
              "    </tr>\n",
              "    <tr>\n",
              "      <th>...</th>\n",
              "      <td>...</td>\n",
              "      <td>...</td>\n",
              "      <td>...</td>\n",
              "      <td>...</td>\n",
              "    </tr>\n",
              "    <tr>\n",
              "      <th>107</th>\n",
              "      <td>0.300</td>\n",
              "      <td>16</td>\n",
              "      <td>11.733708</td>\n",
              "      <td>1.651907</td>\n",
              "    </tr>\n",
              "    <tr>\n",
              "      <th>108</th>\n",
              "      <td>0.300</td>\n",
              "      <td>17</td>\n",
              "      <td>11.736441</td>\n",
              "      <td>1.654532</td>\n",
              "    </tr>\n",
              "    <tr>\n",
              "      <th>109</th>\n",
              "      <td>0.300</td>\n",
              "      <td>18</td>\n",
              "      <td>11.732253</td>\n",
              "      <td>1.653140</td>\n",
              "    </tr>\n",
              "    <tr>\n",
              "      <th>110</th>\n",
              "      <td>0.300</td>\n",
              "      <td>19</td>\n",
              "      <td>11.710910</td>\n",
              "      <td>1.650677</td>\n",
              "    </tr>\n",
              "    <tr>\n",
              "      <th>111</th>\n",
              "      <td>0.300</td>\n",
              "      <td>20</td>\n",
              "      <td>11.714905</td>\n",
              "      <td>1.652362</td>\n",
              "    </tr>\n",
              "  </tbody>\n",
              "</table>\n",
              "<p>112 rows × 4 columns</p>\n",
              "</div>"
            ],
            "text/plain": [
              "     learning_rate  min_child_weight       rmse  mape_pct\n",
              "0            0.001                 5  15.693433  2.180206\n",
              "1            0.001                 6  15.693433  2.180206\n",
              "2            0.001                 7  15.693433  2.180206\n",
              "3            0.001                 8  15.693433  2.180206\n",
              "4            0.001                 9  15.693433  2.180206\n",
              "..             ...               ...        ...       ...\n",
              "107          0.300                16  11.733708  1.651907\n",
              "108          0.300                17  11.736441  1.654532\n",
              "109          0.300                18  11.732253  1.653140\n",
              "110          0.300                19  11.710910  1.650677\n",
              "111          0.300                20  11.714905  1.652362\n",
              "\n",
              "[112 rows x 4 columns]"
            ]
          },
          "metadata": {
            "tags": []
          },
          "execution_count": 623
        }
      ]
    },
    {
      "cell_type": "code",
      "metadata": {
        "id": "CnFNHTsNTJji",
        "colab_type": "code",
        "outputId": "3eaddf83-5f03-4ef0-e24a-db7b491e9d6f",
        "colab": {
          "base_uri": "https://localhost:8080/",
          "height": 505
        }
      },
      "source": [
        "# Plot performance versus params\n",
        "rcParams['figure.figsize'] = 10, 8 # width 10, height 8\n",
        "temp = error_rate[error_rate[param2_label]==param2_list[0]]\n",
        "ax = temp.plot(x=param_label, y='rmse', style='bs-', grid=True)\n",
        "legend_list = [param2_label + '_' + str(param2_list[0])]\n",
        "\n",
        "color_list = ['r', 'g', 'k', 'y', 'm', 'c', '0.75']\n",
        "for i in range(1,len(param2_list)):\n",
        "    temp = error_rate[error_rate[param2_label]==param2_list[i]]\n",
        "    ax = temp.plot(x=param_label, y='rmse', color=color_list[i%len(color_list)], marker='s', grid=True, ax=ax)\n",
        "    legend_list.append(param2_label + '_' + str(param2_list[i]))\n",
        "\n",
        "ax.set_xlabel(param_label)\n",
        "ax.set_ylabel(\"RMSE\")\n",
        "matplotlib.rcParams.update({'font.size': 14})\n",
        "plt.legend(legend_list, loc='center left', bbox_to_anchor=(1.0, 0.5)) # positions legend outside figure\n",
        "\n",
        "fig = ax.get_figure()\n",
        "fig.savefig(\"/content/ouput/tuningminchildweight.pdf\",bbox_inches='tight')"
      ],
      "execution_count": 0,
      "outputs": [
        {
          "output_type": "display_data",
          "data": {
            "image/png": "[encoded data removed]",
            "text/plain": [
              "<Figure size 720x576 with 1 Axes>"
            ]
          },
          "metadata": {
            "tags": [],
            "needs_background": "light"
          }
        }
      ]
    },
    {
      "cell_type": "code",
      "metadata": {
        "id": "kWPxPQLnTJjr",
        "colab_type": "code",
        "outputId": "ef303b9a-47dd-4243-d0b7-82a48856d0e2",
        "colab": {
          "base_uri": "https://localhost:8080/",
          "height": 71
        }
      },
      "source": [
        "# Get optimum value for param and param2\n",
        "temp = error_rate[error_rate['rmse'] == error_rate['rmse'].min()]\n",
        "learning_rate_opt = temp['learning_rate'].values[0]\n",
        "min_child_weight_opt = temp['min_child_weight'].values[0]\n",
        "print(\"min RMSE = %0.3f\" % error_rate['rmse'].min())\n",
        "print(\"optimum params = \")\n",
        "learning_rate_opt, min_child_weight_opt"
      ],
      "execution_count": 0,
      "outputs": [
        {
          "output_type": "stream",
          "text": [
            "min RMSE = 11.706\n",
            "optimum params = \n"
          ],
          "name": "stdout"
        },
        {
          "output_type": "execute_result",
          "data": {
            "text/plain": [
              "(0.3, 12)"
            ]
          },
          "metadata": {
            "tags": []
          },
          "execution_count": 625
        }
      ]
    },
    {
      "cell_type": "code",
      "metadata": {
        "id": "FUPdstZvTJj1",
        "colab_type": "code",
        "outputId": "265e1dbd-1bc8-4a51-e8f1-873a43ec2751",
        "colab": {
          "base_uri": "https://localhost:8080/",
          "height": 71
        }
      },
      "source": [
        "# Get optimum value for param and param2, using MAPE\n",
        "# We will use RMSE to decide the final optimum params to use\n",
        "temp = error_rate[error_rate['mape_pct'] == error_rate['mape_pct'].min()]\n",
        "print(\"min MAPE = %0.3f%%\" % error_rate['mape_pct'].min())\n",
        "print(\"optimum params = \")\n",
        "temp['learning_rate'].values[0], temp['min_child_weight'].values[0]"
      ],
      "execution_count": 0,
      "outputs": [
        {
          "output_type": "stream",
          "text": [
            "min MAPE = 1.647%\n",
            "optimum params = \n"
          ],
          "name": "stdout"
        },
        {
          "output_type": "execute_result",
          "data": {
            "text/plain": [
              "(0.3, 15)"
            ]
          },
          "metadata": {
            "tags": []
          },
          "execution_count": 626
        }
      ]
    },
    {
      "cell_type": "markdown",
      "metadata": {
        "id": "Ir51fTNkTJkA",
        "colab_type": "text"
      },
      "source": [
        "# Tuning XGBoost - subsample(default=1) and gamma(default=0)"
      ]
    },
    {
      "cell_type": "code",
      "metadata": {
        "id": "kUt8DGoxTJkD",
        "colab_type": "code",
        "outputId": "fe54d071-bc07-4a21-f947-8c33ffbc3744",
        "colab": {
          "base_uri": "https://localhost:8080/",
          "height": 1000,
          "referenced_widgets": [
            "2432a0578f51475eba7e6682b0951220",
            "fddfb1d3d7c94ccdbe1cc8d642c5e190",
            "3455b617075e4158ad9b83755b11e3b9",
            "04512cd53a30418aad41e3a2bcc8b13a",
            "3d56c0608f3649acb343af4e462f60ec",
            "58f910f51f7e49dab49d501713bc0ed3",
            "903815978ef940ce87a4273a8c4124ca",
            "20bb8c0cca6a4a749bc6921d00e06b90"
          ]
        }
      },
      "source": [
        "param_label = 'subsample'\n",
        "param_list = [0.1, 0.2, 0.3, 0.4, 0.5, 0.6, 0.7, 0.8, 0.9, 1]\n",
        "\n",
        "param2_label = 'gamma'\n",
        "param2_list = [0.1, 0.2, 0.3, 0.4, 0.5, 0.6, 0.7, 0.8, 0.9, 1]\n",
        "\n",
        "error_rate = {param_label: [] , param2_label: [], 'rmse': [], 'mape_pct': []}\n",
        "tic = time.time()\n",
        "for param in tqdm_notebook(param_list):\n",
        "#     print(\"param = \" + str(param))\n",
        "    \n",
        "    for param2 in param2_list:\n",
        "        # Train, predict and eval model\n",
        "        rmse, mape, _ = train_pred_eval_model(X_train_scaled, \n",
        "                                     y_train_scaled, \n",
        "                                     X_cv_scaled, \n",
        "                                     y_cv, \n",
        "                                     cv['adj_close_mean'],\n",
        "                                     cv['adj_close_std'],\n",
        "                                     seed=model_seed,\n",
        "                                     n_estimators=n_estimators_opt, \n",
        "                                     max_depth=max_depth_opt, \n",
        "                                     learning_rate=learning_rate_opt, \n",
        "                                     min_child_weight=min_child_weight_opt, \n",
        "                                     subsample=param, \n",
        "                                     colsample_bytree=colsample_bytree, \n",
        "                                     colsample_bylevel=colsample_bylevel, \n",
        "                                     gamma=param2)\n",
        "    \n",
        "        # Collect results\n",
        "        error_rate[param_label].append(param)\n",
        "        error_rate[param2_label].append(param2)\n",
        "        error_rate['rmse'].append(rmse)\n",
        "        error_rate['mape_pct'].append(mape)\n",
        "    \n",
        "error_rate = pd.DataFrame(error_rate)\n",
        "toc = time.time()\n",
        "print(\"Minutes taken = \" + str((toc-tic)/60.0))\n",
        "error_rate   "
      ],
      "execution_count": 0,
      "outputs": [
        {
          "output_type": "stream",
          "text": [
            "/usr/local/lib/python3.6/dist-packages/ipykernel_launcher.py:9: TqdmDeprecationWarning: This function will be removed in tqdm==5.0.0\n",
            "Please use `tqdm.notebook.tqdm` instead of `tqdm.tqdm_notebook`\n",
            "  if __name__ == '__main__':\n"
          ],
          "name": "stderr"
        },
        {
          "output_type": "display_data",
          "data": {
            "application/vnd.jupyter.widget-view+json": {
              "model_id": "2432a0578f51475eba7e6682b0951220",
              "version_minor": 0,
              "version_major": 2
            },
            "text/plain": [
              "HBox(children=(IntProgress(value=0, max=10), HTML(value='')))"
            ]
          },
          "metadata": {
            "tags": []
          }
        },
        {
          "output_type": "stream",
          "text": [
            "[17:33:18] WARNING: /workspace/src/objective/regression_obj.cu:152: reg:linear is now deprecated in favor of reg:squarederror.\n",
            "[17:33:18] WARNING: /workspace/src/objective/regression_obj.cu:152: reg:linear is now deprecated in favor of reg:squarederror.\n",
            "[17:33:18] WARNING: /workspace/src/objective/regression_obj.cu:152: reg:linear is now deprecated in favor of reg:squarederror.\n",
            "[17:33:18] WARNING: /workspace/src/objective/regression_obj.cu:152: reg:linear is now deprecated in favor of reg:squarederror.\n",
            "[17:33:18] WARNING: /workspace/src/objective/regression_obj.cu:152: reg:linear is now deprecated in favor of reg:squarederror.\n",
            "[17:33:18] WARNING: /workspace/src/objective/regression_obj.cu:152: reg:linear is now deprecated in favor of reg:squarederror.\n",
            "[17:33:18] WARNING: /workspace/src/objective/regression_obj.cu:152: reg:linear is now deprecated in favor of reg:squarederror.\n",
            "[17:33:18] WARNING: /workspace/src/objective/regression_obj.cu:152: reg:linear is now deprecated in favor of reg:squarederror.\n",
            "[17:33:18] WARNING: /workspace/src/objective/regression_obj.cu:152: reg:linear is now deprecated in favor of reg:squarederror.\n",
            "[17:33:18] WARNING: /workspace/src/objective/regression_obj.cu:152: reg:linear is now deprecated in favor of reg:squarederror.\n",
            "[17:33:18] WARNING: /workspace/src/objective/regression_obj.cu:152: reg:linear is now deprecated in favor of reg:squarederror.\n",
            "[17:33:18] WARNING: /workspace/src/objective/regression_obj.cu:152: reg:linear is now deprecated in favor of reg:squarederror.\n",
            "[17:33:18] WARNING: /workspace/src/objective/regression_obj.cu:152: reg:linear is now deprecated in favor of reg:squarederror.\n",
            "[17:33:18] WARNING: /workspace/src/objective/regression_obj.cu:152: reg:linear is now deprecated in favor of reg:squarederror.\n",
            "[17:33:18] WARNING: /workspace/src/objective/regression_obj.cu:152: reg:linear is now deprecated in favor of reg:squarederror.\n",
            "[17:33:18] WARNING: /workspace/src/objective/regression_obj.cu:152: reg:linear is now deprecated in favor of reg:squarederror.\n",
            "[17:33:18] WARNING: /workspace/src/objective/regression_obj.cu:152: reg:linear is now deprecated in favor of reg:squarederror.\n",
            "[17:33:18] WARNING: /workspace/src/objective/regression_obj.cu:152: reg:linear is now deprecated in favor of reg:squarederror.\n",
            "[17:33:18] WARNING: /workspace/src/objective/regression_obj.cu:152: reg:linear is now deprecated in favor of reg:squarederror.\n",
            "[17:33:18] WARNING: /workspace/src/objective/regression_obj.cu:152: reg:linear is now deprecated in favor of reg:squarederror.\n",
            "[17:33:18] WARNING: /workspace/src/objective/regression_obj.cu:152: reg:linear is now deprecated in favor of reg:squarederror.\n",
            "[17:33:18] WARNING: /workspace/src/objective/regression_obj.cu:152: reg:linear is now deprecated in favor of reg:squarederror.\n",
            "[17:33:18] WARNING: /workspace/src/objective/regression_obj.cu:152: reg:linear is now deprecated in favor of reg:squarederror.\n",
            "[17:33:19] WARNING: /workspace/src/objective/regression_obj.cu:152: reg:linear is now deprecated in favor of reg:squarederror.\n",
            "[17:33:19] WARNING: /workspace/src/objective/regression_obj.cu:152: reg:linear is now deprecated in favor of reg:squarederror.\n",
            "[17:33:19] WARNING: /workspace/src/objective/regression_obj.cu:152: reg:linear is now deprecated in favor of reg:squarederror.\n",
            "[17:33:19] WARNING: /workspace/src/objective/regression_obj.cu:152: reg:linear is now deprecated in favor of reg:squarederror.\n",
            "[17:33:19] WARNING: /workspace/src/objective/regression_obj.cu:152: reg:linear is now deprecated in favor of reg:squarederror.\n",
            "[17:33:19] WARNING: /workspace/src/objective/regression_obj.cu:152: reg:linear is now deprecated in favor of reg:squarederror.\n",
            "[17:33:19] WARNING: /workspace/src/objective/regression_obj.cu:152: reg:linear is now deprecated in favor of reg:squarederror.\n",
            "[17:33:19] WARNING: /workspace/src/objective/regression_obj.cu:152: reg:linear is now deprecated in favor of reg:squarederror.\n",
            "[17:33:19] WARNING: /workspace/src/objective/regression_obj.cu:152: reg:linear is now deprecated in favor of reg:squarederror.\n",
            "[17:33:19] WARNING: /workspace/src/objective/regression_obj.cu:152: reg:linear is now deprecated in favor of reg:squarederror.\n",
            "[17:33:19] WARNING: /workspace/src/objective/regression_obj.cu:152: reg:linear is now deprecated in favor of reg:squarederror.\n",
            "[17:33:19] WARNING: /workspace/src/objective/regression_obj.cu:152: reg:linear is now deprecated in favor of reg:squarederror.\n",
            "[17:33:19] WARNING: /workspace/src/objective/regression_obj.cu:152: reg:linear is now deprecated in favor of reg:squarederror.\n",
            "[17:33:19] WARNING: /workspace/src/objective/regression_obj.cu:152: reg:linear is now deprecated in favor of reg:squarederror.\n",
            "[17:33:19] WARNING: /workspace/src/objective/regression_obj.cu:152: reg:linear is now deprecated in favor of reg:squarederror.\n",
            "[17:33:19] WARNING: /workspace/src/objective/regression_obj.cu:152: reg:linear is now deprecated in favor of reg:squarederror.\n",
            "[17:33:19] WARNING: /workspace/src/objective/regression_obj.cu:152: reg:linear is now deprecated in favor of reg:squarederror.\n",
            "[17:33:19] WARNING: /workspace/src/objective/regression_obj.cu:152: reg:linear is now deprecated in favor of reg:squarederror.\n",
            "[17:33:19] WARNING: /workspace/src/objective/regression_obj.cu:152: reg:linear is now deprecated in favor of reg:squarederror.\n",
            "[17:33:19] WARNING: /workspace/src/objective/regression_obj.cu:152: reg:linear is now deprecated in favor of reg:squarederror.\n",
            "[17:33:19] WARNING: /workspace/src/objective/regression_obj.cu:152: reg:linear is now deprecated in favor of reg:squarederror.\n",
            "[17:33:19] WARNING: /workspace/src/objective/regression_obj.cu:152: reg:linear is now deprecated in favor of reg:squarederror.\n",
            "[17:33:19] WARNING: /workspace/src/objective/regression_obj.cu:152: reg:linear is now deprecated in favor of reg:squarederror.\n",
            "[17:33:19] WARNING: /workspace/src/objective/regression_obj.cu:152: reg:linear is now deprecated in favor of reg:squarederror.\n",
            "[17:33:19] WARNING: /workspace/src/objective/regression_obj.cu:152: reg:linear is now deprecated in favor of reg:squarederror.\n",
            "[17:33:20] WARNING: /workspace/src/objective/regression_obj.cu:152: reg:linear is now deprecated in favor of reg:squarederror.\n",
            "[17:33:20] WARNING: /workspace/src/objective/regression_obj.cu:152: reg:linear is now deprecated in favor of reg:squarederror.\n",
            "[17:33:20] WARNING: /workspace/src/objective/regression_obj.cu:152: reg:linear is now deprecated in favor of reg:squarederror.\n",
            "[17:33:20] WARNING: /workspace/src/objective/regression_obj.cu:152: reg:linear is now deprecated in favor of reg:squarederror.\n",
            "[17:33:20] WARNING: /workspace/src/objective/regression_obj.cu:152: reg:linear is now deprecated in favor of reg:squarederror.\n",
            "[17:33:20] WARNING: /workspace/src/objective/regression_obj.cu:152: reg:linear is now deprecated in favor of reg:squarederror.\n",
            "[17:33:20] WARNING: /workspace/src/objective/regression_obj.cu:152: reg:linear is now deprecated in favor of reg:squarederror.\n",
            "[17:33:20] WARNING: /workspace/src/objective/regression_obj.cu:152: reg:linear is now deprecated in favor of reg:squarederror.\n",
            "[17:33:20] WARNING: /workspace/src/objective/regression_obj.cu:152: reg:linear is now deprecated in favor of reg:squarederror.\n",
            "[17:33:20] WARNING: /workspace/src/objective/regression_obj.cu:152: reg:linear is now deprecated in favor of reg:squarederror.\n",
            "[17:33:20] WARNING: /workspace/src/objective/regression_obj.cu:152: reg:linear is now deprecated in favor of reg:squarederror.\n",
            "[17:33:20] WARNING: /workspace/src/objective/regression_obj.cu:152: reg:linear is now deprecated in favor of reg:squarederror.\n",
            "[17:33:20] WARNING: /workspace/src/objective/regression_obj.cu:152: reg:linear is now deprecated in favor of reg:squarederror.\n",
            "[17:33:20] WARNING: /workspace/src/objective/regression_obj.cu:152: reg:linear is now deprecated in favor of reg:squarederror.\n",
            "[17:33:20] WARNING: /workspace/src/objective/regression_obj.cu:152: reg:linear is now deprecated in favor of reg:squarederror.\n",
            "[17:33:20] WARNING: /workspace/src/objective/regression_obj.cu:152: reg:linear is now deprecated in favor of reg:squarederror.\n",
            "[17:33:20] WARNING: /workspace/src/objective/regression_obj.cu:152: reg:linear is now deprecated in favor of reg:squarederror.\n",
            "[17:33:20] WARNING: /workspace/src/objective/regression_obj.cu:152: reg:linear is now deprecated in favor of reg:squarederror.\n",
            "[17:33:20] WARNING: /workspace/src/objective/regression_obj.cu:152: reg:linear is now deprecated in favor of reg:squarederror.\n",
            "[17:33:20] WARNING: /workspace/src/objective/regression_obj.cu:152: reg:linear is now deprecated in favor of reg:squarederror.\n",
            "[17:33:20] WARNING: /workspace/src/objective/regression_obj.cu:152: reg:linear is now deprecated in favor of reg:squarederror.\n",
            "[17:33:20] WARNING: /workspace/src/objective/regression_obj.cu:152: reg:linear is now deprecated in favor of reg:squarederror.\n",
            "[17:33:21] WARNING: /workspace/src/objective/regression_obj.cu:152: reg:linear is now deprecated in favor of reg:squarederror.\n",
            "[17:33:21] WARNING: /workspace/src/objective/regression_obj.cu:152: reg:linear is now deprecated in favor of reg:squarederror.\n",
            "[17:33:21] WARNING: /workspace/src/objective/regression_obj.cu:152: reg:linear is now deprecated in favor of reg:squarederror.\n",
            "[17:33:21] WARNING: /workspace/src/objective/regression_obj.cu:152: reg:linear is now deprecated in favor of reg:squarederror.\n",
            "[17:33:21] WARNING: /workspace/src/objective/regression_obj.cu:152: reg:linear is now deprecated in favor of reg:squarederror.\n",
            "[17:33:21] WARNING: /workspace/src/objective/regression_obj.cu:152: reg:linear is now deprecated in favor of reg:squarederror.\n",
            "[17:33:21] WARNING: /workspace/src/objective/regression_obj.cu:152: reg:linear is now deprecated in favor of reg:squarederror.\n",
            "[17:33:21] WARNING: /workspace/src/objective/regression_obj.cu:152: reg:linear is now deprecated in favor of reg:squarederror.\n",
            "[17:33:21] WARNING: /workspace/src/objective/regression_obj.cu:152: reg:linear is now deprecated in favor of reg:squarederror.\n",
            "[17:33:21] WARNING: /workspace/src/objective/regression_obj.cu:152: reg:linear is now deprecated in favor of reg:squarederror.\n",
            "[17:33:21] WARNING: /workspace/src/objective/regression_obj.cu:152: reg:linear is now deprecated in favor of reg:squarederror.\n",
            "[17:33:21] WARNING: /workspace/src/objective/regression_obj.cu:152: reg:linear is now deprecated in favor of reg:squarederror.\n",
            "[17:33:21] WARNING: /workspace/src/objective/regression_obj.cu:152: reg:linear is now deprecated in favor of reg:squarederror.\n",
            "[17:33:21] WARNING: /workspace/src/objective/regression_obj.cu:152: reg:linear is now deprecated in favor of reg:squarederror.\n",
            "[17:33:21] WARNING: /workspace/src/objective/regression_obj.cu:152: reg:linear is now deprecated in favor of reg:squarederror.\n",
            "[17:33:21] WARNING: /workspace/src/objective/regression_obj.cu:152: reg:linear is now deprecated in favor of reg:squarederror.\n",
            "[17:33:21] WARNING: /workspace/src/objective/regression_obj.cu:152: reg:linear is now deprecated in favor of reg:squarederror.\n",
            "[17:33:21] WARNING: /workspace/src/objective/regression_obj.cu:152: reg:linear is now deprecated in favor of reg:squarederror.\n",
            "[17:33:21] WARNING: /workspace/src/objective/regression_obj.cu:152: reg:linear is now deprecated in favor of reg:squarederror.\n",
            "[17:33:21] WARNING: /workspace/src/objective/regression_obj.cu:152: reg:linear is now deprecated in favor of reg:squarederror.\n",
            "[17:33:21] WARNING: /workspace/src/objective/regression_obj.cu:152: reg:linear is now deprecated in favor of reg:squarederror.\n",
            "[17:33:22] WARNING: /workspace/src/objective/regression_obj.cu:152: reg:linear is now deprecated in favor of reg:squarederror.\n",
            "[17:33:22] WARNING: /workspace/src/objective/regression_obj.cu:152: reg:linear is now deprecated in favor of reg:squarederror.\n",
            "[17:33:22] WARNING: /workspace/src/objective/regression_obj.cu:152: reg:linear is now deprecated in favor of reg:squarederror.\n",
            "[17:33:22] WARNING: /workspace/src/objective/regression_obj.cu:152: reg:linear is now deprecated in favor of reg:squarederror.\n",
            "[17:33:22] WARNING: /workspace/src/objective/regression_obj.cu:152: reg:linear is now deprecated in favor of reg:squarederror.\n",
            "[17:33:22] WARNING: /workspace/src/objective/regression_obj.cu:152: reg:linear is now deprecated in favor of reg:squarederror.\n",
            "[17:33:22] WARNING: /workspace/src/objective/regression_obj.cu:152: reg:linear is now deprecated in favor of reg:squarederror.\n",
            "[17:33:22] WARNING: /workspace/src/objective/regression_obj.cu:152: reg:linear is now deprecated in favor of reg:squarederror.\n",
            "[17:33:22] WARNING: /workspace/src/objective/regression_obj.cu:152: reg:linear is now deprecated in favor of reg:squarederror.\n",
            "\n",
            "Minutes taken = 0.07002365589141846\n"
          ],
          "name": "stdout"
        },
        {
          "output_type": "execute_result",
          "data": {
            "text/html": [
              "<div>\n",
              "<style scoped>\n",
              "    .dataframe tbody tr th:only-of-type {\n",
              "        vertical-align: middle;\n",
              "    }\n",
              "\n",
              "    .dataframe tbody tr th {\n",
              "        vertical-align: top;\n",
              "    }\n",
              "\n",
              "    .dataframe thead th {\n",
              "        text-align: right;\n",
              "    }\n",
              "</style>\n",
              "<table border=\"1\" class=\"dataframe\">\n",
              "  <thead>\n",
              "    <tr style=\"text-align: right;\">\n",
              "      <th></th>\n",
              "      <th>subsample</th>\n",
              "      <th>gamma</th>\n",
              "      <th>rmse</th>\n",
              "      <th>mape_pct</th>\n",
              "    </tr>\n",
              "  </thead>\n",
              "  <tbody>\n",
              "    <tr>\n",
              "      <th>0</th>\n",
              "      <td>0.1</td>\n",
              "      <td>0.1</td>\n",
              "      <td>12.343649</td>\n",
              "      <td>1.741451</td>\n",
              "    </tr>\n",
              "    <tr>\n",
              "      <th>1</th>\n",
              "      <td>0.1</td>\n",
              "      <td>0.2</td>\n",
              "      <td>12.304884</td>\n",
              "      <td>1.737218</td>\n",
              "    </tr>\n",
              "    <tr>\n",
              "      <th>2</th>\n",
              "      <td>0.1</td>\n",
              "      <td>0.3</td>\n",
              "      <td>12.515492</td>\n",
              "      <td>1.758165</td>\n",
              "    </tr>\n",
              "    <tr>\n",
              "      <th>3</th>\n",
              "      <td>0.1</td>\n",
              "      <td>0.4</td>\n",
              "      <td>12.469599</td>\n",
              "      <td>1.755522</td>\n",
              "    </tr>\n",
              "    <tr>\n",
              "      <th>4</th>\n",
              "      <td>0.1</td>\n",
              "      <td>0.5</td>\n",
              "      <td>12.468985</td>\n",
              "      <td>1.756487</td>\n",
              "    </tr>\n",
              "    <tr>\n",
              "      <th>...</th>\n",
              "      <td>...</td>\n",
              "      <td>...</td>\n",
              "      <td>...</td>\n",
              "      <td>...</td>\n",
              "    </tr>\n",
              "    <tr>\n",
              "      <th>95</th>\n",
              "      <td>1.0</td>\n",
              "      <td>0.6</td>\n",
              "      <td>11.723742</td>\n",
              "      <td>1.650149</td>\n",
              "    </tr>\n",
              "    <tr>\n",
              "      <th>96</th>\n",
              "      <td>1.0</td>\n",
              "      <td>0.7</td>\n",
              "      <td>11.721897</td>\n",
              "      <td>1.648881</td>\n",
              "    </tr>\n",
              "    <tr>\n",
              "      <th>97</th>\n",
              "      <td>1.0</td>\n",
              "      <td>0.8</td>\n",
              "      <td>11.720519</td>\n",
              "      <td>1.648748</td>\n",
              "    </tr>\n",
              "    <tr>\n",
              "      <th>98</th>\n",
              "      <td>1.0</td>\n",
              "      <td>0.9</td>\n",
              "      <td>11.721665</td>\n",
              "      <td>1.649035</td>\n",
              "    </tr>\n",
              "    <tr>\n",
              "      <th>99</th>\n",
              "      <td>1.0</td>\n",
              "      <td>1.0</td>\n",
              "      <td>11.726681</td>\n",
              "      <td>1.648608</td>\n",
              "    </tr>\n",
              "  </tbody>\n",
              "</table>\n",
              "<p>100 rows × 4 columns</p>\n",
              "</div>"
            ],
            "text/plain": [
              "    subsample  gamma       rmse  mape_pct\n",
              "0         0.1    0.1  12.343649  1.741451\n",
              "1         0.1    0.2  12.304884  1.737218\n",
              "2         0.1    0.3  12.515492  1.758165\n",
              "3         0.1    0.4  12.469599  1.755522\n",
              "4         0.1    0.5  12.468985  1.756487\n",
              "..        ...    ...        ...       ...\n",
              "95        1.0    0.6  11.723742  1.650149\n",
              "96        1.0    0.7  11.721897  1.648881\n",
              "97        1.0    0.8  11.720519  1.648748\n",
              "98        1.0    0.9  11.721665  1.649035\n",
              "99        1.0    1.0  11.726681  1.648608\n",
              "\n",
              "[100 rows x 4 columns]"
            ]
          },
          "metadata": {
            "tags": []
          },
          "execution_count": 627
        }
      ]
    },
    {
      "cell_type": "code",
      "metadata": {
        "scrolled": true,
        "id": "s_OHgTwETJkP",
        "colab_type": "code",
        "outputId": "2358381e-0455-4289-ebdc-cb049dcfdf00",
        "colab": {
          "base_uri": "https://localhost:8080/",
          "height": 505
        }
      },
      "source": [
        "# Plot performance versus params\n",
        "rcParams['figure.figsize'] = 10, 8 # width 10, height 8\n",
        "temp = error_rate[error_rate[param2_label]==param2_list[0]]\n",
        "ax = temp.plot(x=param_label, y='rmse', style='bs-', grid=True)\n",
        "legend_list = [param2_label + '_' + str(param2_list[0])]\n",
        "\n",
        "color_list = ['r', 'g', 'k', 'y', 'm', 'c', '0.75']\n",
        "for i in range(1,len(param2_list)):\n",
        "    temp = error_rate[error_rate[param2_label]==param2_list[i]]\n",
        "    ax = temp.plot(x=param_label, y='rmse', color=color_list[i%len(color_list)], marker='s', grid=True, ax=ax)\n",
        "    legend_list.append(param2_label + '_' + str(param2_list[i]))\n",
        "\n",
        "ax.set_xlabel(param_label)\n",
        "ax.set_ylabel(\"RMSE\")\n",
        "matplotlib.rcParams.update({'font.size': 14})\n",
        "plt.legend(legend_list, loc='center left', bbox_to_anchor=(1.0, 0.5)) # positions legend outside figure\n",
        "\n",
        "fig = ax.get_figure()\n",
        "fig.savefig(\"/content/ouput/tuninggamma.pdf\",bbox_inches='tight')"
      ],
      "execution_count": 0,
      "outputs": [
        {
          "output_type": "display_data",
          "data": {
            "image/png": "[encoded data removed]",
            "text/plain": [
              "<Figure size 720x576 with 1 Axes>"
            ]
          },
          "metadata": {
            "tags": [],
            "needs_background": "light"
          }
        }
      ]
    },
    {
      "cell_type": "code",
      "metadata": {
        "id": "cWDAzPBgTJkZ",
        "colab_type": "code",
        "outputId": "03182990-8d12-46e4-fbb8-45c9c489137f",
        "colab": {
          "base_uri": "https://localhost:8080/",
          "height": 71
        }
      },
      "source": [
        "# Get optimum value for param and param2\n",
        "temp = error_rate[error_rate['rmse'] == error_rate['rmse'].min()]\n",
        "subsample_opt = temp['subsample'].values[0]\n",
        "gamma_opt = temp['gamma'].values[0]\n",
        "print(\"min RMSE = %0.3f\" % error_rate['rmse'].min())\n",
        "print(\"optimum params = \")\n",
        "subsample_opt, gamma_opt"
      ],
      "execution_count": 0,
      "outputs": [
        {
          "output_type": "stream",
          "text": [
            "min RMSE = 11.630\n",
            "optimum params = \n"
          ],
          "name": "stdout"
        },
        {
          "output_type": "execute_result",
          "data": {
            "text/plain": [
              "(0.2, 0.1)"
            ]
          },
          "metadata": {
            "tags": []
          },
          "execution_count": 629
        }
      ]
    },
    {
      "cell_type": "code",
      "metadata": {
        "id": "87ay_AeQTJko",
        "colab_type": "code",
        "outputId": "a2f5b276-b3a4-45ce-92c8-40d942597347",
        "colab": {
          "base_uri": "https://localhost:8080/",
          "height": 71
        }
      },
      "source": [
        "# Get optimum value for param and param2, using MAPE\n",
        "# We will use RMSE to decide the final optimum params to use\n",
        "temp = error_rate[error_rate['mape_pct'] == error_rate['mape_pct'].min()]\n",
        "print(\"min MAPE = %0.3f%%\" % error_rate['mape_pct'].min())\n",
        "print(\"optimum params = \")\n",
        "temp['subsample'].values[0], temp['gamma'].values[0]"
      ],
      "execution_count": 0,
      "outputs": [
        {
          "output_type": "stream",
          "text": [
            "min MAPE = 1.639%\n",
            "optimum params = \n"
          ],
          "name": "stdout"
        },
        {
          "output_type": "execute_result",
          "data": {
            "text/plain": [
              "(0.2, 0.1)"
            ]
          },
          "metadata": {
            "tags": []
          },
          "execution_count": 630
        }
      ]
    },
    {
      "cell_type": "markdown",
      "metadata": {
        "id": "d9e3MsvDTJkx",
        "colab_type": "text"
      },
      "source": [
        "# Tuning XGBoost - colsample_bytree(default=1) and colsample_bylevel(default=1)"
      ]
    },
    {
      "cell_type": "code",
      "metadata": {
        "id": "sAYxPnuBTJk0",
        "colab_type": "code",
        "outputId": "4433031c-fb99-48cd-c23b-1a704571fa70",
        "colab": {
          "base_uri": "https://localhost:8080/",
          "height": 1000,
          "referenced_widgets": [
            "0ca158c84dcb4d6abde283fdb0b9917c",
            "d9acfbf9cc3a4833a3865872887e9724",
            "1b3b974390864c2b983c1d87a2f4ade8",
            "ed66b4dbb4544d0188d566ac35d733db",
            "5c822b0ea12e4302a0490571416384c1",
            "05d48292243f4ed79402f3b7ce7e0231",
            "ec963bd31e2c457393885549b7928c2a",
            "f41363dc1f054cfa9a53d5263a5d75cb"
          ]
        }
      },
      "source": [
        "param_label = 'colsample_bytree'\n",
        "param_list = [0.5, 0.6, 0.7, 0.8, 0.9, 1]\n",
        "\n",
        "param2_label = 'colsample_bylevel'\n",
        "param2_list = [0.5, 0.6, 0.7, 0.8, 0.9, 1]\n",
        "\n",
        "error_rate = {param_label: [] , param2_label: [], 'rmse': [], 'mape_pct': []}\n",
        "tic = time.time()\n",
        "for param in tqdm_notebook(param_list):\n",
        "#     print(\"param = \" + str(param))\n",
        "    \n",
        "    for param2 in param2_list:\n",
        "        # Train, predict and eval model\n",
        "        rmse, mape, _ = train_pred_eval_model(X_train_scaled, \n",
        "                                     y_train_scaled, \n",
        "                                     X_cv_scaled, \n",
        "                                     y_cv, \n",
        "                                     cv['adj_close_mean'],\n",
        "                                     cv['adj_close_std'],\n",
        "                                     seed=model_seed,\n",
        "                                     n_estimators=n_estimators_opt, \n",
        "                                     max_depth=max_depth_opt, \n",
        "                                     learning_rate=learning_rate_opt, \n",
        "                                     min_child_weight=min_child_weight_opt, \n",
        "                                     subsample=subsample_opt, \n",
        "                                     colsample_bytree=param, \n",
        "                                     colsample_bylevel=param2, \n",
        "                                     gamma=gamma_opt)\n",
        "    \n",
        "        # Collect results\n",
        "        error_rate[param_label].append(param)\n",
        "        error_rate[param2_label].append(param2)\n",
        "        error_rate['rmse'].append(rmse)\n",
        "        error_rate['mape_pct'].append(mape)\n",
        "    \n",
        "error_rate = pd.DataFrame(error_rate)\n",
        "toc = time.time()\n",
        "print(\"Minutes taken = \" + str((toc-tic)/60.0))\n",
        "error_rate   "
      ],
      "execution_count": 0,
      "outputs": [
        {
          "output_type": "stream",
          "text": [
            "/usr/local/lib/python3.6/dist-packages/ipykernel_launcher.py:9: TqdmDeprecationWarning: This function will be removed in tqdm==5.0.0\n",
            "Please use `tqdm.notebook.tqdm` instead of `tqdm.tqdm_notebook`\n",
            "  if __name__ == '__main__':\n"
          ],
          "name": "stderr"
        },
        {
          "output_type": "display_data",
          "data": {
            "application/vnd.jupyter.widget-view+json": {
              "model_id": "0ca158c84dcb4d6abde283fdb0b9917c",
              "version_minor": 0,
              "version_major": 2
            },
            "text/plain": [
              "HBox(children=(IntProgress(value=0, max=6), HTML(value='')))"
            ]
          },
          "metadata": {
            "tags": []
          }
        },
        {
          "output_type": "stream",
          "text": [
            "[17:33:23] WARNING: /workspace/src/objective/regression_obj.cu:152: reg:linear is now deprecated in favor of reg:squarederror.\n",
            "[17:33:23] WARNING: /workspace/src/objective/regression_obj.cu:152: reg:linear is now deprecated in favor of reg:squarederror.\n",
            "[17:33:23] WARNING: /workspace/src/objective/regression_obj.cu:152: reg:linear is now deprecated in favor of reg:squarederror.\n",
            "[17:33:23] WARNING: /workspace/src/objective/regression_obj.cu:152: reg:linear is now deprecated in favor of reg:squarederror.\n",
            "[17:33:23] WARNING: /workspace/src/objective/regression_obj.cu:152: reg:linear is now deprecated in favor of reg:squarederror.\n",
            "[17:33:23] WARNING: /workspace/src/objective/regression_obj.cu:152: reg:linear is now deprecated in favor of reg:squarederror.\n",
            "[17:33:23] WARNING: /workspace/src/objective/regression_obj.cu:152: reg:linear is now deprecated in favor of reg:squarederror.\n",
            "[17:33:23] WARNING: /workspace/src/objective/regression_obj.cu:152: reg:linear is now deprecated in favor of reg:squarederror.\n",
            "[17:33:23] WARNING: /workspace/src/objective/regression_obj.cu:152: reg:linear is now deprecated in favor of reg:squarederror.\n",
            "[17:33:23] WARNING: /workspace/src/objective/regression_obj.cu:152: reg:linear is now deprecated in favor of reg:squarederror.\n",
            "[17:33:23] WARNING: /workspace/src/objective/regression_obj.cu:152: reg:linear is now deprecated in favor of reg:squarederror.\n",
            "[17:33:23] WARNING: /workspace/src/objective/regression_obj.cu:152: reg:linear is now deprecated in favor of reg:squarederror.\n",
            "[17:33:23] WARNING: /workspace/src/objective/regression_obj.cu:152: reg:linear is now deprecated in favor of reg:squarederror.\n",
            "[17:33:23] WARNING: /workspace/src/objective/regression_obj.cu:152: reg:linear is now deprecated in favor of reg:squarederror.\n",
            "[17:33:23] WARNING: /workspace/src/objective/regression_obj.cu:152: reg:linear is now deprecated in favor of reg:squarederror.\n",
            "[17:33:23] WARNING: /workspace/src/objective/regression_obj.cu:152: reg:linear is now deprecated in favor of reg:squarederror.\n",
            "[17:33:23] WARNING: /workspace/src/objective/regression_obj.cu:152: reg:linear is now deprecated in favor of reg:squarederror.\n",
            "[17:33:23] WARNING: /workspace/src/objective/regression_obj.cu:152: reg:linear is now deprecated in favor of reg:squarederror.\n",
            "[17:33:23] WARNING: /workspace/src/objective/regression_obj.cu:152: reg:linear is now deprecated in favor of reg:squarederror.\n",
            "[17:33:23] WARNING: /workspace/src/objective/regression_obj.cu:152: reg:linear is now deprecated in favor of reg:squarederror.\n",
            "[17:33:23] WARNING: /workspace/src/objective/regression_obj.cu:152: reg:linear is now deprecated in favor of reg:squarederror.\n",
            "[17:33:23] WARNING: /workspace/src/objective/regression_obj.cu:152: reg:linear is now deprecated in favor of reg:squarederror.\n",
            "[17:33:23] WARNING: /workspace/src/objective/regression_obj.cu:152: reg:linear is now deprecated in favor of reg:squarederror.\n",
            "[17:33:23] WARNING: /workspace/src/objective/regression_obj.cu:152: reg:linear is now deprecated in favor of reg:squarederror.\n",
            "[17:33:23] WARNING: /workspace/src/objective/regression_obj.cu:152: reg:linear is now deprecated in favor of reg:squarederror.\n",
            "[17:33:23] WARNING: /workspace/src/objective/regression_obj.cu:152: reg:linear is now deprecated in favor of reg:squarederror.\n",
            "[17:33:23] WARNING: /workspace/src/objective/regression_obj.cu:152: reg:linear is now deprecated in favor of reg:squarederror.\n",
            "[17:33:23] WARNING: /workspace/src/objective/regression_obj.cu:152: reg:linear is now deprecated in favor of reg:squarederror.\n",
            "[17:33:23] WARNING: /workspace/src/objective/regression_obj.cu:152: reg:linear is now deprecated in favor of reg:squarederror.\n",
            "[17:33:23] WARNING: /workspace/src/objective/regression_obj.cu:152: reg:linear is now deprecated in favor of reg:squarederror.\n",
            "[17:33:24] WARNING: /workspace/src/objective/regression_obj.cu:152: reg:linear is now deprecated in favor of reg:squarederror.\n",
            "[17:33:24] WARNING: /workspace/src/objective/regression_obj.cu:152: reg:linear is now deprecated in favor of reg:squarederror.\n",
            "[17:33:24] WARNING: /workspace/src/objective/regression_obj.cu:152: reg:linear is now deprecated in favor of reg:squarederror.\n",
            "[17:33:24] WARNING: /workspace/src/objective/regression_obj.cu:152: reg:linear is now deprecated in favor of reg:squarederror.\n",
            "[17:33:24] WARNING: /workspace/src/objective/regression_obj.cu:152: reg:linear is now deprecated in favor of reg:squarederror.\n",
            "[17:33:24] WARNING: /workspace/src/objective/regression_obj.cu:152: reg:linear is now deprecated in favor of reg:squarederror.\n",
            "\n",
            "Minutes taken = 0.018747178713480632\n"
          ],
          "name": "stdout"
        },
        {
          "output_type": "execute_result",
          "data": {
            "text/html": [
              "<div>\n",
              "<style scoped>\n",
              "    .dataframe tbody tr th:only-of-type {\n",
              "        vertical-align: middle;\n",
              "    }\n",
              "\n",
              "    .dataframe tbody tr th {\n",
              "        vertical-align: top;\n",
              "    }\n",
              "\n",
              "    .dataframe thead th {\n",
              "        text-align: right;\n",
              "    }\n",
              "</style>\n",
              "<table border=\"1\" class=\"dataframe\">\n",
              "  <thead>\n",
              "    <tr style=\"text-align: right;\">\n",
              "      <th></th>\n",
              "      <th>colsample_bytree</th>\n",
              "      <th>colsample_bylevel</th>\n",
              "      <th>rmse</th>\n",
              "      <th>mape_pct</th>\n",
              "    </tr>\n",
              "  </thead>\n",
              "  <tbody>\n",
              "    <tr>\n",
              "      <th>0</th>\n",
              "      <td>0.5</td>\n",
              "      <td>0.5</td>\n",
              "      <td>13.130398</td>\n",
              "      <td>1.825515</td>\n",
              "    </tr>\n",
              "    <tr>\n",
              "      <th>1</th>\n",
              "      <td>0.5</td>\n",
              "      <td>0.6</td>\n",
              "      <td>13.130398</td>\n",
              "      <td>1.825515</td>\n",
              "    </tr>\n",
              "    <tr>\n",
              "      <th>2</th>\n",
              "      <td>0.5</td>\n",
              "      <td>0.7</td>\n",
              "      <td>15.185068</td>\n",
              "      <td>2.096224</td>\n",
              "    </tr>\n",
              "    <tr>\n",
              "      <th>3</th>\n",
              "      <td>0.5</td>\n",
              "      <td>0.8</td>\n",
              "      <td>15.185068</td>\n",
              "      <td>2.096224</td>\n",
              "    </tr>\n",
              "    <tr>\n",
              "      <th>4</th>\n",
              "      <td>0.5</td>\n",
              "      <td>0.9</td>\n",
              "      <td>13.309938</td>\n",
              "      <td>1.854472</td>\n",
              "    </tr>\n",
              "    <tr>\n",
              "      <th>5</th>\n",
              "      <td>0.5</td>\n",
              "      <td>1.0</td>\n",
              "      <td>12.607434</td>\n",
              "      <td>1.759574</td>\n",
              "    </tr>\n",
              "    <tr>\n",
              "      <th>6</th>\n",
              "      <td>0.6</td>\n",
              "      <td>0.5</td>\n",
              "      <td>15.306701</td>\n",
              "      <td>2.125229</td>\n",
              "    </tr>\n",
              "    <tr>\n",
              "      <th>7</th>\n",
              "      <td>0.6</td>\n",
              "      <td>0.6</td>\n",
              "      <td>14.867586</td>\n",
              "      <td>2.065943</td>\n",
              "    </tr>\n",
              "    <tr>\n",
              "      <th>8</th>\n",
              "      <td>0.6</td>\n",
              "      <td>0.7</td>\n",
              "      <td>14.867586</td>\n",
              "      <td>2.065943</td>\n",
              "    </tr>\n",
              "    <tr>\n",
              "      <th>9</th>\n",
              "      <td>0.6</td>\n",
              "      <td>0.8</td>\n",
              "      <td>13.065184</td>\n",
              "      <td>1.814640</td>\n",
              "    </tr>\n",
              "    <tr>\n",
              "      <th>10</th>\n",
              "      <td>0.6</td>\n",
              "      <td>0.9</td>\n",
              "      <td>12.987722</td>\n",
              "      <td>1.805117</td>\n",
              "    </tr>\n",
              "    <tr>\n",
              "      <th>11</th>\n",
              "      <td>0.6</td>\n",
              "      <td>1.0</td>\n",
              "      <td>12.608874</td>\n",
              "      <td>1.758364</td>\n",
              "    </tr>\n",
              "    <tr>\n",
              "      <th>12</th>\n",
              "      <td>0.7</td>\n",
              "      <td>0.5</td>\n",
              "      <td>13.421062</td>\n",
              "      <td>1.877885</td>\n",
              "    </tr>\n",
              "    <tr>\n",
              "      <th>13</th>\n",
              "      <td>0.7</td>\n",
              "      <td>0.6</td>\n",
              "      <td>13.421062</td>\n",
              "      <td>1.877885</td>\n",
              "    </tr>\n",
              "    <tr>\n",
              "      <th>14</th>\n",
              "      <td>0.7</td>\n",
              "      <td>0.7</td>\n",
              "      <td>12.920828</td>\n",
              "      <td>1.795305</td>\n",
              "    </tr>\n",
              "    <tr>\n",
              "      <th>15</th>\n",
              "      <td>0.7</td>\n",
              "      <td>0.8</td>\n",
              "      <td>12.160904</td>\n",
              "      <td>1.710342</td>\n",
              "    </tr>\n",
              "    <tr>\n",
              "      <th>16</th>\n",
              "      <td>0.7</td>\n",
              "      <td>0.9</td>\n",
              "      <td>12.003487</td>\n",
              "      <td>1.691354</td>\n",
              "    </tr>\n",
              "    <tr>\n",
              "      <th>17</th>\n",
              "      <td>0.7</td>\n",
              "      <td>1.0</td>\n",
              "      <td>12.056212</td>\n",
              "      <td>1.699992</td>\n",
              "    </tr>\n",
              "    <tr>\n",
              "      <th>18</th>\n",
              "      <td>0.8</td>\n",
              "      <td>0.5</td>\n",
              "      <td>16.530987</td>\n",
              "      <td>2.286569</td>\n",
              "    </tr>\n",
              "    <tr>\n",
              "      <th>19</th>\n",
              "      <td>0.8</td>\n",
              "      <td>0.6</td>\n",
              "      <td>13.478237</td>\n",
              "      <td>1.863726</td>\n",
              "    </tr>\n",
              "    <tr>\n",
              "      <th>20</th>\n",
              "      <td>0.8</td>\n",
              "      <td>0.7</td>\n",
              "      <td>12.693816</td>\n",
              "      <td>1.771522</td>\n",
              "    </tr>\n",
              "    <tr>\n",
              "      <th>21</th>\n",
              "      <td>0.8</td>\n",
              "      <td>0.8</td>\n",
              "      <td>12.146151</td>\n",
              "      <td>1.700654</td>\n",
              "    </tr>\n",
              "    <tr>\n",
              "      <th>22</th>\n",
              "      <td>0.8</td>\n",
              "      <td>0.9</td>\n",
              "      <td>12.062551</td>\n",
              "      <td>1.691581</td>\n",
              "    </tr>\n",
              "    <tr>\n",
              "      <th>23</th>\n",
              "      <td>0.8</td>\n",
              "      <td>1.0</td>\n",
              "      <td>11.971025</td>\n",
              "      <td>1.682997</td>\n",
              "    </tr>\n",
              "    <tr>\n",
              "      <th>24</th>\n",
              "      <td>0.9</td>\n",
              "      <td>0.5</td>\n",
              "      <td>14.078184</td>\n",
              "      <td>1.960644</td>\n",
              "    </tr>\n",
              "    <tr>\n",
              "      <th>25</th>\n",
              "      <td>0.9</td>\n",
              "      <td>0.6</td>\n",
              "      <td>13.551272</td>\n",
              "      <td>1.887781</td>\n",
              "    </tr>\n",
              "    <tr>\n",
              "      <th>26</th>\n",
              "      <td>0.9</td>\n",
              "      <td>0.7</td>\n",
              "      <td>13.127811</td>\n",
              "      <td>1.824711</td>\n",
              "    </tr>\n",
              "    <tr>\n",
              "      <th>27</th>\n",
              "      <td>0.9</td>\n",
              "      <td>0.8</td>\n",
              "      <td>13.043102</td>\n",
              "      <td>1.810107</td>\n",
              "    </tr>\n",
              "    <tr>\n",
              "      <th>28</th>\n",
              "      <td>0.9</td>\n",
              "      <td>0.9</td>\n",
              "      <td>12.960451</td>\n",
              "      <td>1.806826</td>\n",
              "    </tr>\n",
              "    <tr>\n",
              "      <th>29</th>\n",
              "      <td>0.9</td>\n",
              "      <td>1.0</td>\n",
              "      <td>11.887642</td>\n",
              "      <td>1.675716</td>\n",
              "    </tr>\n",
              "    <tr>\n",
              "      <th>30</th>\n",
              "      <td>1.0</td>\n",
              "      <td>0.5</td>\n",
              "      <td>13.387772</td>\n",
              "      <td>1.860144</td>\n",
              "    </tr>\n",
              "    <tr>\n",
              "      <th>31</th>\n",
              "      <td>1.0</td>\n",
              "      <td>0.6</td>\n",
              "      <td>12.486356</td>\n",
              "      <td>1.745985</td>\n",
              "    </tr>\n",
              "    <tr>\n",
              "      <th>32</th>\n",
              "      <td>1.0</td>\n",
              "      <td>0.7</td>\n",
              "      <td>12.451495</td>\n",
              "      <td>1.740875</td>\n",
              "    </tr>\n",
              "    <tr>\n",
              "      <th>33</th>\n",
              "      <td>1.0</td>\n",
              "      <td>0.8</td>\n",
              "      <td>12.597565</td>\n",
              "      <td>1.750319</td>\n",
              "    </tr>\n",
              "    <tr>\n",
              "      <th>34</th>\n",
              "      <td>1.0</td>\n",
              "      <td>0.9</td>\n",
              "      <td>12.458787</td>\n",
              "      <td>1.744595</td>\n",
              "    </tr>\n",
              "    <tr>\n",
              "      <th>35</th>\n",
              "      <td>1.0</td>\n",
              "      <td>1.0</td>\n",
              "      <td>11.629642</td>\n",
              "      <td>1.639066</td>\n",
              "    </tr>\n",
              "  </tbody>\n",
              "</table>\n",
              "</div>"
            ],
            "text/plain": [
              "    colsample_bytree  colsample_bylevel       rmse  mape_pct\n",
              "0                0.5                0.5  13.130398  1.825515\n",
              "1                0.5                0.6  13.130398  1.825515\n",
              "2                0.5                0.7  15.185068  2.096224\n",
              "3                0.5                0.8  15.185068  2.096224\n",
              "4                0.5                0.9  13.309938  1.854472\n",
              "5                0.5                1.0  12.607434  1.759574\n",
              "6                0.6                0.5  15.306701  2.125229\n",
              "7                0.6                0.6  14.867586  2.065943\n",
              "8                0.6                0.7  14.867586  2.065943\n",
              "9                0.6                0.8  13.065184  1.814640\n",
              "10               0.6                0.9  12.987722  1.805117\n",
              "11               0.6                1.0  12.608874  1.758364\n",
              "12               0.7                0.5  13.421062  1.877885\n",
              "13               0.7                0.6  13.421062  1.877885\n",
              "14               0.7                0.7  12.920828  1.795305\n",
              "15               0.7                0.8  12.160904  1.710342\n",
              "16               0.7                0.9  12.003487  1.691354\n",
              "17               0.7                1.0  12.056212  1.699992\n",
              "18               0.8                0.5  16.530987  2.286569\n",
              "19               0.8                0.6  13.478237  1.863726\n",
              "20               0.8                0.7  12.693816  1.771522\n",
              "21               0.8                0.8  12.146151  1.700654\n",
              "22               0.8                0.9  12.062551  1.691581\n",
              "23               0.8                1.0  11.971025  1.682997\n",
              "24               0.9                0.5  14.078184  1.960644\n",
              "25               0.9                0.6  13.551272  1.887781\n",
              "26               0.9                0.7  13.127811  1.824711\n",
              "27               0.9                0.8  13.043102  1.810107\n",
              "28               0.9                0.9  12.960451  1.806826\n",
              "29               0.9                1.0  11.887642  1.675716\n",
              "30               1.0                0.5  13.387772  1.860144\n",
              "31               1.0                0.6  12.486356  1.745985\n",
              "32               1.0                0.7  12.451495  1.740875\n",
              "33               1.0                0.8  12.597565  1.750319\n",
              "34               1.0                0.9  12.458787  1.744595\n",
              "35               1.0                1.0  11.629642  1.639066"
            ]
          },
          "metadata": {
            "tags": []
          },
          "execution_count": 631
        }
      ]
    },
    {
      "cell_type": "code",
      "metadata": {
        "id": "rM1EYco3TJk9",
        "colab_type": "code",
        "outputId": "2a09b477-cfec-4ba5-cbda-c1ed22178a93",
        "colab": {
          "base_uri": "https://localhost:8080/",
          "height": 523
        }
      },
      "source": [
        "# Plot performance versus params\n",
        "rcParams['figure.figsize'] = 10, 8 # width 10, height 8\n",
        "temp = error_rate[error_rate[param2_label]==param2_list[0]]\n",
        "ax = temp.plot(x=param_label, y='rmse', style='bs-', grid=True)\n",
        "legend_list = [param2_label + '_' + str(param2_list[0])]\n",
        "\n",
        "color_list = ['r', 'g', 'k', 'y', 'm', 'c', '0.75']\n",
        "for i in range(1,len(param2_list)):\n",
        "    temp = error_rate[error_rate[param2_label]==param2_list[i]]\n",
        "    ax = temp.plot(x=param_label, y='rmse', color=color_list[i%len(color_list)], marker='s', grid=True, ax=ax)\n",
        "    legend_list.append(param2_label + '_' + str(param2_list[i]))\n",
        "\n",
        "ax.set_xlabel(param_label)\n",
        "ax.set_ylabel(\"RMSE\")\n",
        "matplotlib.rcParams.update({'font.size': 14})\n",
        "plt.legend(legend_list, loc='center left', bbox_to_anchor=(1.0, 0.5)) # positions legend outside figure"
      ],
      "execution_count": 0,
      "outputs": [
        {
          "output_type": "execute_result",
          "data": {
            "text/plain": [
              "<matplotlib.legend.Legend at 0x7fc94c43bb70>"
            ]
          },
          "metadata": {
            "tags": []
          },
          "execution_count": 632
        },
        {
          "output_type": "display_data",
          "data": {
            "image/png": "[encoded data removed]",
            "text/plain": [
              "<Figure size 720x576 with 1 Axes>"
            ]
          },
          "metadata": {
            "tags": [],
            "needs_background": "light"
          }
        }
      ]
    },
    {
      "cell_type": "code",
      "metadata": {
        "id": "2qAgxFUDTJlO",
        "colab_type": "code",
        "outputId": "1dab2008-1974-470c-d8fd-f3c02802fedc",
        "colab": {
          "base_uri": "https://localhost:8080/",
          "height": 71
        }
      },
      "source": [
        "# Get optimum value for param and param2\n",
        "temp = error_rate[error_rate['rmse'] == error_rate['rmse'].min()]\n",
        "colsample_bytree_opt = temp['colsample_bytree'].values[0]\n",
        "colsample_bylevel_opt = temp['colsample_bylevel'].values[0]\n",
        "print(\"min RMSE = %0.3f\" % error_rate['rmse'].min())\n",
        "print(\"optimum params = \")\n",
        "colsample_bytree_opt, colsample_bylevel_opt"
      ],
      "execution_count": 0,
      "outputs": [
        {
          "output_type": "stream",
          "text": [
            "min RMSE = 11.630\n",
            "optimum params = \n"
          ],
          "name": "stdout"
        },
        {
          "output_type": "execute_result",
          "data": {
            "text/plain": [
              "(1.0, 1.0)"
            ]
          },
          "metadata": {
            "tags": []
          },
          "execution_count": 633
        }
      ]
    },
    {
      "cell_type": "code",
      "metadata": {
        "id": "DDvURunsTJlW",
        "colab_type": "code",
        "outputId": "aa69a2b4-77ba-4ac3-8ba2-3c7cf5356c3b",
        "colab": {
          "base_uri": "https://localhost:8080/",
          "height": 71
        }
      },
      "source": [
        "# Get optimum value for param and param2, using MAPE\n",
        "# We will use RMSE to decide the final optimum params to use\n",
        "temp = error_rate[error_rate['mape_pct'] == error_rate['mape_pct'].min()]\n",
        "print(\"min MAPE = %0.3f%%\" % error_rate['mape_pct'].min())\n",
        "print(\"optimum params = \")\n",
        "temp['colsample_bytree'].values[0], temp['colsample_bylevel'].values[0]"
      ],
      "execution_count": 0,
      "outputs": [
        {
          "output_type": "stream",
          "text": [
            "min MAPE = 1.639%\n",
            "optimum params = \n"
          ],
          "name": "stdout"
        },
        {
          "output_type": "execute_result",
          "data": {
            "text/plain": [
              "(1.0, 1.0)"
            ]
          },
          "metadata": {
            "tags": []
          },
          "execution_count": 634
        }
      ]
    },
    {
      "cell_type": "markdown",
      "metadata": {
        "id": "nRBURtUhTJlf",
        "colab_type": "text"
      },
      "source": [
        "# Tuned params"
      ]
    },
    {
      "cell_type": "code",
      "metadata": {
        "id": "owwQU1i5TJlg",
        "colab_type": "code",
        "outputId": "a306325c-7c38-4ae4-c8e7-668935192ce3",
        "colab": {
          "base_uri": "https://localhost:8080/",
          "height": 359
        }
      },
      "source": [
        "d = {'param': ['n_estimators', 'max_depth', 'learning_rate', 'min_child_weight', 'subsample', 'colsample_bytree', 'colsample_bylevel', 'gamma', 'rmse', 'mape_pct'],\n",
        "     'original': [n_estimators, max_depth, learning_rate, min_child_weight, subsample, colsample_bytree, colsample_bylevel, gamma, rmse_bef_tuning, mape_bef_tuning],\n",
        "     'after_tuning': [n_estimators_opt, max_depth_opt, learning_rate_opt, min_child_weight_opt, subsample_opt, colsample_bytree_opt, colsample_bylevel_opt, gamma_opt, error_rate['rmse'].min(), error_rate['mape_pct'].min()]}\n",
        "tuned_params = pd.DataFrame(d)\n",
        "tuned_params = tuned_params.round(3)\n",
        "tuned_params"
      ],
      "execution_count": 0,
      "outputs": [
        {
          "output_type": "execute_result",
          "data": {
            "text/html": [
              "<div>\n",
              "<style scoped>\n",
              "    .dataframe tbody tr th:only-of-type {\n",
              "        vertical-align: middle;\n",
              "    }\n",
              "\n",
              "    .dataframe tbody tr th {\n",
              "        vertical-align: top;\n",
              "    }\n",
              "\n",
              "    .dataframe thead th {\n",
              "        text-align: right;\n",
              "    }\n",
              "</style>\n",
              "<table border=\"1\" class=\"dataframe\">\n",
              "  <thead>\n",
              "    <tr style=\"text-align: right;\">\n",
              "      <th></th>\n",
              "      <th>param</th>\n",
              "      <th>original</th>\n",
              "      <th>after_tuning</th>\n",
              "    </tr>\n",
              "  </thead>\n",
              "  <tbody>\n",
              "    <tr>\n",
              "      <th>0</th>\n",
              "      <td>n_estimators</td>\n",
              "      <td>100.000</td>\n",
              "      <td>70.000</td>\n",
              "    </tr>\n",
              "    <tr>\n",
              "      <th>1</th>\n",
              "      <td>max_depth</td>\n",
              "      <td>3.000</td>\n",
              "      <td>2.000</td>\n",
              "    </tr>\n",
              "    <tr>\n",
              "      <th>2</th>\n",
              "      <td>learning_rate</td>\n",
              "      <td>0.100</td>\n",
              "      <td>0.300</td>\n",
              "    </tr>\n",
              "    <tr>\n",
              "      <th>3</th>\n",
              "      <td>min_child_weight</td>\n",
              "      <td>1.000</td>\n",
              "      <td>12.000</td>\n",
              "    </tr>\n",
              "    <tr>\n",
              "      <th>4</th>\n",
              "      <td>subsample</td>\n",
              "      <td>1.000</td>\n",
              "      <td>0.200</td>\n",
              "    </tr>\n",
              "    <tr>\n",
              "      <th>5</th>\n",
              "      <td>colsample_bytree</td>\n",
              "      <td>1.000</td>\n",
              "      <td>1.000</td>\n",
              "    </tr>\n",
              "    <tr>\n",
              "      <th>6</th>\n",
              "      <td>colsample_bylevel</td>\n",
              "      <td>1.000</td>\n",
              "      <td>1.000</td>\n",
              "    </tr>\n",
              "    <tr>\n",
              "      <th>7</th>\n",
              "      <td>gamma</td>\n",
              "      <td>0.000</td>\n",
              "      <td>0.100</td>\n",
              "    </tr>\n",
              "    <tr>\n",
              "      <th>8</th>\n",
              "      <td>rmse</td>\n",
              "      <td>11.822</td>\n",
              "      <td>11.630</td>\n",
              "    </tr>\n",
              "    <tr>\n",
              "      <th>9</th>\n",
              "      <td>mape_pct</td>\n",
              "      <td>1.660</td>\n",
              "      <td>1.639</td>\n",
              "    </tr>\n",
              "  </tbody>\n",
              "</table>\n",
              "</div>"
            ],
            "text/plain": [
              "               param  original  after_tuning\n",
              "0       n_estimators   100.000        70.000\n",
              "1          max_depth     3.000         2.000\n",
              "2      learning_rate     0.100         0.300\n",
              "3   min_child_weight     1.000        12.000\n",
              "4          subsample     1.000         0.200\n",
              "5   colsample_bytree     1.000         1.000\n",
              "6  colsample_bylevel     1.000         1.000\n",
              "7              gamma     0.000         0.100\n",
              "8               rmse    11.822        11.630\n",
              "9           mape_pct     1.660         1.639"
            ]
          },
          "metadata": {
            "tags": []
          },
          "execution_count": 635
        }
      ]
    },
    {
      "cell_type": "markdown",
      "metadata": {
        "id": "8hd2fr3lTJlq",
        "colab_type": "text"
      },
      "source": [
        "# Final model"
      ]
    },
    {
      "cell_type": "code",
      "metadata": {
        "id": "IxLEasdNTJlt",
        "colab_type": "code",
        "outputId": "9f0a37af-ffa9-484a-e117-39732757c5f2",
        "colab": {
          "base_uri": "https://localhost:8080/",
          "height": 71
        }
      },
      "source": [
        "rmse, mape, est = train_pred_eval_model(X_train_cv_scaled, \n",
        "                             y_train_cv_scaled, \n",
        "                             X_sample_scaled, \n",
        "                             y_sample, \n",
        "                             test['adj_close_mean'],\n",
        "                             test['adj_close_std'],\n",
        "                             seed=model_seed,\n",
        "                             n_estimators=n_estimators_opt, \n",
        "                             max_depth=max_depth_opt, \n",
        "                             learning_rate=learning_rate_opt, \n",
        "                             min_child_weight=min_child_weight_opt, \n",
        "                             subsample=subsample_opt, \n",
        "                             colsample_bytree=colsample_bytree_opt, \n",
        "                             colsample_bylevel=colsample_bylevel_opt, \n",
        "                             gamma=gamma_opt)\n",
        "\n",
        "# Calculate RMSE\n",
        "print(\"RMSE on test set = %0.3f\" % rmse)\n",
        "\n",
        "# Calculate MAPE\n",
        "print(\"MAPE on test set = %0.3f%%\" % mape)"
      ],
      "execution_count": 0,
      "outputs": [
        {
          "output_type": "stream",
          "text": [
            "[17:33:24] WARNING: /workspace/src/objective/regression_obj.cu:152: reg:linear is now deprecated in favor of reg:squarederror.\n",
            "RMSE on test set = 8.464\n",
            "MAPE on test set = 1.515%\n"
          ],
          "name": "stdout"
        }
      ]
    },
    {
      "cell_type": "code",
      "metadata": {
        "scrolled": true,
        "id": "bJa998T-TJl4",
        "colab_type": "code",
        "outputId": "f074250c-dc5b-48c5-fe81-6845e206551d",
        "colab": {
          "base_uri": "https://localhost:8080/",
          "height": 477
        }
      },
      "source": [
        "# Plot adjusted close over time\n",
        "rcParams['figure.figsize'] = 10, 8 # width 10, height 8\n",
        "\n",
        "est_df = pd.DataFrame({'est': est, \n",
        "                       'y_sample': y_sample,\n",
        "                       'date': test['date']})\n",
        "\n",
        "ax = train.plot(x='date', y='adj_close', style='b-', grid=True)\n",
        "ax = cv.plot(x='date', y='adj_close', style='y-', grid=True, ax=ax)\n",
        "ax = test.plot(x='date', y='adj_close', style='g-', grid=True, ax=ax)\n",
        "ax = est_df.plot(x='date', y='est', style='r-', grid=True, ax=ax)\n",
        "ax.legend(['train', 'dev', 'test', 'predictions'])\n",
        "ax.set_xlabel(\"date\")\n",
        "ax.set_ylabel(\"INR\")\n",
        "fig = ax.get_figure()\n",
        "fig.savefig(\"/content/ouput/AdjClosetest.pdf\",bbox_inches='tight')"
      ],
      "execution_count": 0,
      "outputs": [
        {
          "output_type": "display_data",
          "data": {
            "image/png": "[encoded data removed]",
            "text/plain": [
              "<Figure size 720x576 with 1 Axes>"
            ]
          },
          "metadata": {
            "tags": [],
            "needs_background": "light"
          }
        }
      ]
    },
    {
      "cell_type": "code",
      "metadata": {
        "id": "UHqdbssvTJmF",
        "colab_type": "code",
        "outputId": "a4e9d252-7766-481e-b86e-646996d0d5c1",
        "colab": {
          "base_uri": "https://localhost:8080/",
          "height": 527
        }
      },
      "source": [
        "# Plot adjusted close over time, for test set only\n",
        "rcParams['figure.figsize'] = 10, 8 # width 10, height 8\n",
        "ax = train.plot(x='date', y='adj_close', style='b-', grid=True)\n",
        "ax = cv.plot(x='date', y='adj_close', style='y-', grid=True, ax=ax)\n",
        "ax = test.plot(x='date', y='adj_close', style='g-', grid=True, ax=ax)\n",
        "ax = est_df.plot(x='date', y='est', style='r-', grid=True, ax=ax)\n",
        "ax.legend(['train', 'dev', 'test', 'predictions'])\n",
        "ax.set_xlabel(\"date\")\n",
        "ax.set_ylabel(\"USD\")\n",
        "ax.set_xlim([date(2018, 4, 1), date(2018, 11, 30)])\n",
        "ax.set_ylim([130, 155])\n",
        "ax.set_title(\"Zoom in to test set\")"
      ],
      "execution_count": 0,
      "outputs": [
        {
          "output_type": "execute_result",
          "data": {
            "text/plain": [
              "Text(0.5, 1.0, 'Zoom in to test set')"
            ]
          },
          "metadata": {
            "tags": []
          },
          "execution_count": 638
        },
        {
          "output_type": "display_data",
          "data": {
            "image/png": "[encoded data removed]",
            "text/plain": [
              "<Figure size 720x576 with 1 Axes>"
            ]
          },
          "metadata": {
            "tags": [],
            "needs_background": "light"
          }
        }
      ]
    },
    {
      "cell_type": "markdown",
      "metadata": {
        "id": "ofS5kmLxTJmR",
        "colab_type": "text"
      },
      "source": [
        "Similar to dev set, the predictions capture turns in direction with a slight lag"
      ]
    },
    {
      "cell_type": "code",
      "metadata": {
        "id": "x2kDQTdsTJmT",
        "colab_type": "code",
        "outputId": "51af514f-372c-4d32-afde-aa39f4442964",
        "colab": {
          "base_uri": "https://localhost:8080/",
          "height": 512
        }
      },
      "source": [
        "# Plot adjusted close over time, only for test set\n",
        "rcParams['figure.figsize'] = 10, 8 # width 10, height 8\n",
        "matplotlib.rcParams.update({'font.size': 14})\n",
        "\n",
        "ax = test.plot(x='date', y='adj_close', style='gx-', grid=True)\n",
        "ax = est_df.plot(x='date', y='est', style='rx-', grid=True, ax=ax)\n",
        "ax.legend(['test', 'predictions using xgboost'], loc='upper left')\n",
        "ax.set_xlabel(\"date\")\n",
        "ax.set_ylabel(\"USD\")\n",
        "ax.set_xlim([date(2018, 4, 23), date(2018, 11, 23)])\n",
        "ax.set_ylim([130, 155])"
      ],
      "execution_count": 0,
      "outputs": [
        {
          "output_type": "execute_result",
          "data": {
            "text/plain": [
              "(130.0, 155.0)"
            ]
          },
          "metadata": {
            "tags": []
          },
          "execution_count": 639
        },
        {
          "output_type": "display_data",
          "data": {
            "image/png": "[encoded data removed]",
            "text/plain": [
              "<Figure size 720x576 with 1 Axes>"
            ]
          },
          "metadata": {
            "tags": [],
            "needs_background": "light"
          }
        }
      ]
    },
    {
      "cell_type": "code",
      "metadata": {
        "id": "Ry8bWTg4TJmc",
        "colab_type": "code",
        "colab": {}
      },
      "source": [
        "# Save as csv\n",
        "test_xgboost = est_df\n",
        "test_xgboost.to_csv(\"/content/ouput/test_xgboost.csv\")\n"
      ],
      "execution_count": 0,
      "outputs": []
    },
    {
      "cell_type": "code",
      "metadata": {
        "id": "bbVRGHv0Z1vr",
        "colab_type": "code",
        "outputId": "660d38ee-cbb2-4e5b-ebf9-5fc6dfa36010",
        "colab": {
          "base_uri": "https://localhost:8080/",
          "height": 197
        }
      },
      "source": [
        "!zip -r model5.zip /content/ouput"
      ],
      "execution_count": 0,
      "outputs": [
        {
          "output_type": "stream",
          "text": [
            "updating: content/ouput/ (stored 0%)\n",
            "updating: content/ouput/test_xgboost.csv (deflated 57%)\n",
            "updating: content/ouput/tuningminchildweight.pdf (deflated 38%)\n",
            "updating: content/ouput/AdjClosetrain.pdf (deflated 13%)\n",
            "updating: content/ouput/AdjClosenormal.pdf (deflated 16%)\n",
            "updating: content/ouput/AdjClosedev.pdf (deflated 13%)\n",
            "updating: content/ouput/tuningdepth.pdf (deflated 28%)\n",
            "updating: content/ouput/AdjClose.pdf (deflated 15%)\n",
            "updating: content/ouput/tuninggamma.pdf (deflated 33%)\n",
            "updating: content/ouput/AdjClosetest.pdf (deflated 13%)\n"
          ],
          "name": "stdout"
        }
      ]
    },
    {
      "cell_type": "markdown",
      "metadata": {
        "collapsed": true,
        "id": "_3yV_YSITJmo",
        "colab_type": "text"
      },
      "source": [
        "# Findings\n",
        "* By scaling the features properly, we can get good results for our predictions\n",
        "* RMSE and MAPE changed very little with hyperparameter tuning\n",
        "* The final RMSE and MAPE for test set are 1.162 and 0.58% respectively"
      ]
    },
    {
      "cell_type": "code",
      "metadata": {
        "id": "R9cxCR53TJmp",
        "colab_type": "code",
        "colab": {}
      },
      "source": [
        ""
      ],
      "execution_count": 0,
      "outputs": []
    }
  ]
}