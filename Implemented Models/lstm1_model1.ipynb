{
  "nbformat": 4,
  "nbformat_minor": 0,
  "metadata": {
    "colab": {
      "name": "lstm1_changed.ipynb",
      "provenance": []
    },
    "kernelspec": {
      "name": "python3",
      "display_name": "Python 3"
    }
  },
  "cells": [
    {
      "cell_type": "code",
      "metadata": {
        "id": "bwhoo4vKvuyP",
        "colab_type": "code",
        "colab": {}
      },
      "source": [
        "import numpy as np\n",
        "import matplotlib.pyplot as plt\n",
        "import pandas as pd"
      ],
      "execution_count": 0,
      "outputs": []
    },
    {
      "cell_type": "code",
      "metadata": {
        "id": "2unhYLPCvw6L",
        "colab_type": "code",
        "colab": {}
      },
      "source": [
        "url = 'HDFC_train.csv'\n",
        "dataset_train = pd.read_csv(url)\n",
        "x_training_set = dataset_train.iloc[:, 3:7].values\n",
        "y_training_set = dataset_train.iloc[:,8:9].values\n"
      ],
      "execution_count": 0,
      "outputs": []
    },
    {
      "cell_type": "code",
      "metadata": {
        "id": "Vm8A1tc0v4KR",
        "colab_type": "code",
        "outputId": "95952c4c-6e1d-4cd8-f763-985d4b9bd8ce",
        "colab": {
          "base_uri": "https://localhost:8080/",
          "height": 401
        }
      },
      "source": [
        "dataset_train.head()"
      ],
      "execution_count": 4,
      "outputs": [
        {
          "output_type": "execute_result",
          "data": {
            "text/html": [
              "<div>\n",
              "<style scoped>\n",
              "    .dataframe tbody tr th:only-of-type {\n",
              "        vertical-align: middle;\n",
              "    }\n",
              "\n",
              "    .dataframe tbody tr th {\n",
              "        vertical-align: top;\n",
              "    }\n",
              "\n",
              "    .dataframe thead th {\n",
              "        text-align: right;\n",
              "    }\n",
              "</style>\n",
              "<table border=\"1\" class=\"dataframe\">\n",
              "  <thead>\n",
              "    <tr style=\"text-align: right;\">\n",
              "      <th></th>\n",
              "      <th>Unnamed: 0</th>\n",
              "      <th>ID</th>\n",
              "      <th>Date</th>\n",
              "      <th>&lt;HIGH&gt;</th>\n",
              "      <th>&lt;LOW&gt;</th>\n",
              "      <th>&lt;OPEN&gt;</th>\n",
              "      <th>&lt;CLOSE&gt;</th>\n",
              "      <th>&lt;VOL&gt;</th>\n",
              "      <th>Adj Close</th>\n",
              "      <th>emv</th>\n",
              "      <th>emv_ema_14</th>\n",
              "      <th>acc_dist</th>\n",
              "      <th>acc_dist_ema21</th>\n",
              "      <th>obv</th>\n",
              "      <th>obv_ema21</th>\n",
              "      <th>pvt</th>\n",
              "      <th>pvt_ema21</th>\n",
              "      <th>atr</th>\n",
              "      <th>bol_bands_middle</th>\n",
              "      <th>bol_bands_upper</th>\n",
              "      <th>bol_bands_lower</th>\n",
              "      <th>google news</th>\n",
              "      <th>Wikki hits</th>\n",
              "      <th>Sector</th>\n",
              "    </tr>\n",
              "  </thead>\n",
              "  <tbody>\n",
              "    <tr>\n",
              "      <th>0</th>\n",
              "      <td>37905</td>\n",
              "      <td>HDFC</td>\n",
              "      <td>2010-01-04 00:00:00</td>\n",
              "      <td>112.559998</td>\n",
              "      <td>110.699997</td>\n",
              "      <td>111.000000</td>\n",
              "      <td>111.349998</td>\n",
              "      <td>1079040</td>\n",
              "      <td>102.461502</td>\n",
              "      <td>-23976.571893</td>\n",
              "      <td>-2703.155459</td>\n",
              "      <td>-3.248707e+05</td>\n",
              "      <td>107326.043051</td>\n",
              "      <td>6355276860</td>\n",
              "      <td>6.355898e+09</td>\n",
              "      <td>2.860018e+08</td>\n",
              "      <td>2.866656e+08</td>\n",
              "      <td>27.551806</td>\n",
              "      <td>290.422343</td>\n",
              "      <td>371.346227</td>\n",
              "      <td>209.498459</td>\n",
              "      <td>2</td>\n",
              "      <td>NaN</td>\n",
              "      <td>Bank</td>\n",
              "    </tr>\n",
              "    <tr>\n",
              "      <th>1</th>\n",
              "      <td>37906</td>\n",
              "      <td>HDFC</td>\n",
              "      <td>2010-01-05 00:00:00</td>\n",
              "      <td>116.699997</td>\n",
              "      <td>111.800003</td>\n",
              "      <td>111.959999</td>\n",
              "      <td>115.190002</td>\n",
              "      <td>2112500</td>\n",
              "      <td>105.994957</td>\n",
              "      <td>607.715856</td>\n",
              "      <td>-2482.430705</td>\n",
              "      <td>8.105133e+05</td>\n",
              "      <td>139289.101038</td>\n",
              "      <td>6357389360</td>\n",
              "      <td>6.355965e+09</td>\n",
              "      <td>2.860747e+08</td>\n",
              "      <td>2.866387e+08</td>\n",
              "      <td>26.071685</td>\n",
              "      <td>282.077946</td>\n",
              "      <td>383.397157</td>\n",
              "      <td>180.758734</td>\n",
              "      <td>0</td>\n",
              "      <td>NaN</td>\n",
              "      <td>Bank</td>\n",
              "    </tr>\n",
              "    <tr>\n",
              "      <th>2</th>\n",
              "      <td>37907</td>\n",
              "      <td>HDFC</td>\n",
              "      <td>2010-01-06 00:00:00</td>\n",
              "      <td>122.000000</td>\n",
              "      <td>113.070000</td>\n",
              "      <td>115.800003</td>\n",
              "      <td>120.900002</td>\n",
              "      <td>5761450</td>\n",
              "      <td>111.249168</td>\n",
              "      <td>509.160882</td>\n",
              "      <td>-2282.991266</td>\n",
              "      <td>4.342058e+06</td>\n",
              "      <td>330324.043741</td>\n",
              "      <td>6363150810</td>\n",
              "      <td>6.356292e+09</td>\n",
              "      <td>2.863603e+08</td>\n",
              "      <td>2.866261e+08</td>\n",
              "      <td>24.928906</td>\n",
              "      <td>274.402806</td>\n",
              "      <td>390.047919</td>\n",
              "      <td>158.757692</td>\n",
              "      <td>1</td>\n",
              "      <td>NaN</td>\n",
              "      <td>Bank</td>\n",
              "    </tr>\n",
              "    <tr>\n",
              "      <th>3</th>\n",
              "      <td>37908</td>\n",
              "      <td>HDFC</td>\n",
              "      <td>2010-01-07 00:00:00</td>\n",
              "      <td>123.209999</td>\n",
              "      <td>119.000000</td>\n",
              "      <td>121.489998</td>\n",
              "      <td>119.470001</td>\n",
              "      <td>3174260</td>\n",
              "      <td>109.933304</td>\n",
              "      <td>473.486590</td>\n",
              "      <td>-2099.226075</td>\n",
              "      <td>-2.465516e+06</td>\n",
              "      <td>203240.411420</td>\n",
              "      <td>6359976550</td>\n",
              "      <td>6.356460e+09</td>\n",
              "      <td>2.863227e+08</td>\n",
              "      <td>2.866123e+08</td>\n",
              "      <td>23.547646</td>\n",
              "      <td>267.025053</td>\n",
              "      <td>391.368009</td>\n",
              "      <td>142.682097</td>\n",
              "      <td>16</td>\n",
              "      <td>NaN</td>\n",
              "      <td>Bank</td>\n",
              "    </tr>\n",
              "    <tr>\n",
              "      <th>4</th>\n",
              "      <td>37909</td>\n",
              "      <td>HDFC</td>\n",
              "      <td>2010-01-08 00:00:00</td>\n",
              "      <td>121.699997</td>\n",
              "      <td>118.639999</td>\n",
              "      <td>119.400002</td>\n",
              "      <td>119.330002</td>\n",
              "      <td>1220560</td>\n",
              "      <td>109.804497</td>\n",
              "      <td>-234.408953</td>\n",
              "      <td>-1974.904934</td>\n",
              "      <td>-6.701090e+05</td>\n",
              "      <td>163542.711549</td>\n",
              "      <td>6358755990</td>\n",
              "      <td>6.356564e+09</td>\n",
              "      <td>2.863213e+08</td>\n",
              "      <td>2.865991e+08</td>\n",
              "      <td>22.181803</td>\n",
              "      <td>259.991955</td>\n",
              "      <td>392.506670</td>\n",
              "      <td>127.477241</td>\n",
              "      <td>13</td>\n",
              "      <td>NaN</td>\n",
              "      <td>Bank</td>\n",
              "    </tr>\n",
              "  </tbody>\n",
              "</table>\n",
              "</div>"
            ],
            "text/plain": [
              "   Unnamed: 0    ID                 Date  ...  google news  Wikki hits  Sector\n",
              "0       37905  HDFC  2010-01-04 00:00:00  ...            2         NaN    Bank\n",
              "1       37906  HDFC  2010-01-05 00:00:00  ...            0         NaN    Bank\n",
              "2       37907  HDFC  2010-01-06 00:00:00  ...            1         NaN    Bank\n",
              "3       37908  HDFC  2010-01-07 00:00:00  ...           16         NaN    Bank\n",
              "4       37909  HDFC  2010-01-08 00:00:00  ...           13         NaN    Bank\n",
              "\n",
              "[5 rows x 24 columns]"
            ]
          },
          "metadata": {
            "tags": []
          },
          "execution_count": 4
        }
      ]
    },
    {
      "cell_type": "code",
      "metadata": {
        "id": "zIuD2AY9v9yF",
        "colab_type": "code",
        "colab": {}
      },
      "source": [
        "from sklearn.preprocessing import MinMaxScaler\n",
        "sc = MinMaxScaler(feature_range=(0,1))\n",
        "x_training_set_scaled = sc.fit_transform(x_training_set)\n",
        "y_training_set_scaled = sc.fit_transform(y_training_set)"
      ],
      "execution_count": 0,
      "outputs": []
    },
    {
      "cell_type": "code",
      "metadata": {
        "id": "ANlZhTxk7hup",
        "colab_type": "code",
        "colab": {}
      },
      "source": [
        ""
      ],
      "execution_count": 0,
      "outputs": []
    },
    {
      "cell_type": "code",
      "metadata": {
        "id": "uor7rabHq9lU",
        "colab_type": "code",
        "colab": {}
      },
      "source": [
        "# selecting Feature Columns\n",
        "feature_columns = ['Close']"
      ],
      "execution_count": 0,
      "outputs": []
    },
    {
      "cell_type": "code",
      "metadata": {
        "id": "VuQ0gVlorB-t",
        "colab_type": "code",
        "colab": {}
      },
      "source": [
        "X_training_set_scaled = training_set_scaled"
      ],
      "execution_count": 0,
      "outputs": []
    },
    {
      "cell_type": "code",
      "metadata": {
        "id": "QZs1TFUwwByi",
        "colab_type": "code",
        "colab": {}
      },
      "source": [
        "# X_train = []\n",
        "# y_train = []\n",
        "# for i in range(60, 1995):\n",
        "#   X_train.append(training_set_scaled[i-60:i, 0])\n",
        "#   y_train.append(training_set_scaled[i, 0])\n",
        "X_train, Y_train = np.array(x_training_set_scaled), np.array(y_training_set_scaled)\n",
        "X_tr_t = X_train.reshape(X_train.shape[0], 1, X_train.shape[1])"
      ],
      "execution_count": 0,
      "outputs": []
    },
    {
      "cell_type": "code",
      "metadata": {
        "id": "RHATWbahwUd2",
        "colab_type": "code",
        "colab": {}
      },
      "source": [
        "from keras.models import Sequential\n",
        "from keras.layers import LSTM\n",
        "from keras.layers import Dropout\n",
        "from keras.layers import Dense"
      ],
      "execution_count": 0,
      "outputs": []
    },
    {
      "cell_type": "code",
      "metadata": {
        "id": "4InKB6yA31tL",
        "colab_type": "code",
        "colab": {}
      },
      "source": [
        ""
      ],
      "execution_count": 0,
      "outputs": []
    },
    {
      "cell_type": "code",
      "metadata": {
        "id": "IhYrjLgUwXH2",
        "colab_type": "code",
        "outputId": "3081f793-38a4-4a29-d19a-4cad945d832c",
        "colab": {
          "base_uri": "https://localhost:8080/",
          "height": 212
        }
      },
      "source": [
        "model = Sequential()\n",
        "model.add(LSTM(units=50,return_sequences=True,input_shape=(1, X_train.shape[1])))\n",
        "model.add(Dropout(0.2))\n",
        "model.add(LSTM(units=50,return_sequences=True))\n",
        "model.add(Dropout(0.2))\n",
        "model.add(LSTM(units=50,return_sequences=True))\n",
        "model.add(Dropout(0.2))\n",
        "model.add(LSTM(units=50))\n",
        "model.add(Dropout(0.2))\n",
        "model.add(Dense(units=1))\n",
        "model.compile(optimizer='adam',loss='mean_squared_error')\n",
        "model.fit(X_tr_t,y_train,epochs=5,batch_size=32)"
      ],
      "execution_count": 13,
      "outputs": [
        {
          "output_type": "stream",
          "text": [
            "Epoch 1/5\n",
            "1999/1999 [==============================] - 2s 882us/step - loss: 0.0842\n",
            "Epoch 2/5\n",
            "1999/1999 [==============================] - 0s 153us/step - loss: 0.0089\n",
            "Epoch 3/5\n",
            "1999/1999 [==============================] - 0s 166us/step - loss: 0.0049\n",
            "Epoch 4/5\n",
            "1999/1999 [==============================] - 0s 152us/step - loss: 0.0040\n",
            "Epoch 5/5\n",
            "1999/1999 [==============================] - 0s 155us/step - loss: 0.0030\n"
          ],
          "name": "stdout"
        },
        {
          "output_type": "execute_result",
          "data": {
            "text/plain": [
              "<keras.callbacks.callbacks.History at 0x7ff71c9ae7b8>"
            ]
          },
          "metadata": {
            "tags": []
          },
          "execution_count": 13
        }
      ]
    },
    {
      "cell_type": "code",
      "metadata": {
        "id": "mq4I2mUEwwqI",
        "colab_type": "code",
        "colab": {}
      },
      "source": [
        "url = 'HDFC_test.csv'\n",
        "dataset_test = pd.read_csv(url)\n",
        "real_stock_price = dataset_test.iloc[:, 8:9].values"
      ],
      "execution_count": 0,
      "outputs": []
    },
    {
      "cell_type": "code",
      "metadata": {
        "id": "_KNFfLpj6T97",
        "colab_type": "code",
        "colab": {}
      },
      "source": [
        "x_testing_set = dataset_test.iloc[:, 3:7].values\n",
        "y_testing_set = dataset_test.iloc[:,8:9].values"
      ],
      "execution_count": 0,
      "outputs": []
    },
    {
      "cell_type": "code",
      "metadata": {
        "id": "PHWJRnuU7a7u",
        "colab_type": "code",
        "colab": {
          "base_uri": "https://localhost:8080/",
          "height": 167
        },
        "outputId": "d360562d-60e7-4768-d9e2-fd9b99cf553d"
      },
      "source": [
        "x_testing_set.values"
      ],
      "execution_count": 20,
      "outputs": [
        {
          "output_type": "error",
          "ename": "AttributeError",
          "evalue": "ignored",
          "traceback": [
            "\u001b[0;31m---------------------------------------------------------------------------\u001b[0m",
            "\u001b[0;31mAttributeError\u001b[0m                            Traceback (most recent call last)",
            "\u001b[0;32m<ipython-input-20-6be4c2963359>\u001b[0m in \u001b[0;36m<module>\u001b[0;34m()\u001b[0m\n\u001b[0;32m----> 1\u001b[0;31m \u001b[0mx_testing_set\u001b[0m\u001b[0;34m.\u001b[0m\u001b[0mvalues\u001b[0m\u001b[0;34m\u001b[0m\u001b[0;34m\u001b[0m\u001b[0m\n\u001b[0m",
            "\u001b[0;31mAttributeError\u001b[0m: 'numpy.ndarray' object has no attribute 'values'"
          ]
        }
      ]
    },
    {
      "cell_type": "code",
      "metadata": {
        "id": "hUbCvWy56xzB",
        "colab_type": "code",
        "colab": {}
      },
      "source": [
        "x_testing_set_scaled = sc.fit_transform(x_testing_set)\n",
        "y_testing_set_scaled = sc.fit_transform(y_testing_set)"
      ],
      "execution_count": 0,
      "outputs": []
    },
    {
      "cell_type": "code",
      "metadata": {
        "id": "vNxehqMV7Bpw",
        "colab_type": "code",
        "colab": {}
      },
      "source": [
        "X_test = np.array(x_testing_set_scaled)\n",
        "X_ts_t = X_test.reshape(X_test.shape[0], 1, X_test.shape[1])"
      ],
      "execution_count": 0,
      "outputs": []
    },
    {
      "cell_type": "code",
      "metadata": {
        "id": "WQksSWZ9wyE1",
        "colab_type": "code",
        "colab": {}
      },
      "source": [
        "# dataset_total = pd.concat((dataset_train['<OPEN>'], dataset_test['<OPEN>']), axis = 0)\n",
        "# inputs = dataset_total[len(dataset_total) - len(dataset_test) - 60:].values\n",
        "# inputs = inputs.reshape(-1,1)\n",
        "# inputs = sc.transform(inputs)\n",
        "# X_test = []\n",
        "# for i in range(60, 476):\n",
        "  # X_test.append(inputs[i-60:i, 0])\n",
        "# X_test = np.array(X_test)\n",
        "# X_test = np.reshape(X_test, (X_test.shape[0], X_test.shape[1], 1))\n",
        "predicted_stock_price = model.predict(X_ts_t)\n",
        "predicted_stock_price = sc.inverse_transform(predicted_stock_price)"
      ],
      "execution_count": 0,
      "outputs": []
    },
    {
      "cell_type": "code",
      "metadata": {
        "id": "F9ij_NOuw7us",
        "colab_type": "code",
        "outputId": "9dce8e27-b2e6-4a37-9577-a4477a1fd330",
        "colab": {
          "base_uri": "https://localhost:8080/",
          "height": 294
        }
      },
      "source": [
        "plt.plot(real_stock_price, color = 'black', label = 'HDFC Stock Price')\n",
        "plt.plot(predicted_stock_price, color = 'green', label = 'Predicted HDFC Stock Price')\n",
        "plt.title('HDFC Stock Price Prediction')\n",
        "plt.xlabel('Time')\n",
        "plt.ylabel('HDFC Stock Price')\n",
        "plt.legend()\n",
        "plt.show()"
      ],
      "execution_count": 24,
      "outputs": [
        {
          "output_type": "display_data",
          "data": {
            "image/png": "[encoded data removed]",
            "text/plain": [
              "<Figure size 432x288 with 1 Axes>"
            ]
          },
          "metadata": {
            "tags": [],
            "needs_background": "light"
          }
        }
      ]
    },
    {
      "cell_type": "code",
      "metadata": {
        "id": "YBKucB1o7x48",
        "colab_type": "code",
        "colab": {}
      },
      "source": [
        ""
      ],
      "execution_count": 0,
      "outputs": []
    }
  ]
}